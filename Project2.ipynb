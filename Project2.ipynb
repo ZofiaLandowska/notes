{
  "nbformat": 4,
  "nbformat_minor": 0,
  "metadata": {
    "colab": {
      "provenance": [],
      "gpuType": "T4",
      "include_colab_link": true
    },
    "kernelspec": {
      "name": "python3",
      "display_name": "Python 3"
    },
    "language_info": {
      "name": "python"
    },
    "accelerator": "GPU",
    "gpuClass": "standard"
  },
  "cells": [
    {
      "cell_type": "markdown",
      "metadata": {
        "id": "view-in-github",
        "colab_type": "text"
      },
      "source": [
        "<a href=\"https://colab.research.google.com/github/ZofiaLandowska/notes/blob/main/Project2.ipynb\" target=\"_parent\"><img src=\"https://colab.research.google.com/assets/colab-badge.svg\" alt=\"Open In Colab\"/></a>"
      ]
    },
    {
      "cell_type": "markdown",
      "source": [
        "# Project #2\n",
        "##Name: Zofia Landowska \n",
        "\n",
        "Proposed Points (out of 25):"
      ],
      "metadata": {
        "id": "rIepkBIuT_Pl"
      }
    },
    {
      "cell_type": "markdown",
      "source": [
        "# 1. Problem\n",
        "State the problem you are trying to solve with this machine learning experiment. Include a description of the data, where you got the data, and what you're trying to predict.."
      ],
      "metadata": {
        "id": "HbwKLNhzP8YO"
      }
    },
    {
      "cell_type": "markdown",
      "source": [
        "I trained a Neural Network on \"Netflix Stock Price Prediction\" dataset which \n",
        "I downloaded from Kaggle to predict the price at which stock will close. The dataset that I used contains data for 5 years ie. from 5th Feb 2018 to 5th Feb 2022. It has 7 columns: \n",
        "\n",
        "1. \"Date\" \n",
        "2. \"Open\" - price at which stock opened \n",
        "3. \"High\" - today's high \n",
        "4. \"Low\" - today's low\n",
        "5. \"Close\" - close price adjusted for splits\n",
        "6. \"Adj Close\" - adjusted close price adjusted for splits and dividend and/or capital gain distributions\n",
        "7. \"Volume\" - volume of stocks"
      ],
      "metadata": {
        "id": "LwseoUsMmCz2"
      }
    },
    {
      "cell_type": "markdown",
      "source": [
        "# 2. Data Preparation\n",
        "Explain your data preparation. What did you have to do to get your data in shape for your experiments? Why are you certain that you data is clean and prepared for use in your algorithms?"
      ],
      "metadata": {
        "id": "qR_foVOeQVL7"
      }
    },
    {
      "cell_type": "markdown",
      "source": [
        "First I dropped the \"Adj Close\" column since I will not be using it in my predictions. Then, I added a new column that contains the day of the week for each date in the \"Date\" column. This can be useful for analyzing trends or patterns that may be specific to certain days of the week. I also checked for any missing values and there were none. Finally, I split the dataset into input features and target variable."
      ],
      "metadata": {
        "id": "aMDJDnW_mOWu"
      }
    },
    {
      "cell_type": "code",
      "source": [
        "from google.colab import drive\n",
        "drive.mount('/content/drive')"
      ],
      "metadata": {
        "id": "2wiB_mhn1G0O",
        "outputId": "590a3721-1129-4b20-d2d8-b721dea50aa1",
        "colab": {
          "base_uri": "https://localhost:8080/"
        }
      },
      "execution_count": 29,
      "outputs": [
        {
          "output_type": "stream",
          "name": "stdout",
          "text": [
            "Drive already mounted at /content/drive; to attempt to forcibly remount, call drive.mount(\"/content/drive\", force_remount=True).\n"
          ]
        }
      ]
    },
    {
      "cell_type": "code",
      "source": [
        "# load and prepare your data here\n",
        "import pandas as pd\n",
        "\n",
        "path = '/content/drive/MyDrive/NFLX.csv'\n",
        "data = pd.read_csv(path)\n",
        "df = pd.read_csv(path, parse_dates=['Date'])\n",
        "\n",
        "df.drop(['Adj Close'], axis=1, inplace=True)\n",
        "\n",
        "for i, row in df.iterrows():\n",
        "    dt = row['Date']\n",
        "    df.at[i, 'Day of the week'] = dt.weekday()\n",
        "\n",
        "df.drop(['Date'], axis=1, inplace=True)\n",
        "\n",
        "print(data.isnull().sum())\n",
        "\n",
        "x = df.drop('Close', axis=1)\n",
        "y = df['Close']\n",
        "\n",
        "df.head()"
      ],
      "metadata": {
        "id": "9dUdBChRmKxR",
        "outputId": "1814a439-5adc-49f7-f608-c56e54af3fa0",
        "colab": {
          "base_uri": "https://localhost:8080/",
          "height": 340
        }
      },
      "execution_count": 30,
      "outputs": [
        {
          "output_type": "stream",
          "name": "stdout",
          "text": [
            "Date         0\n",
            "Open         0\n",
            "High         0\n",
            "Low          0\n",
            "Close        0\n",
            "Adj Close    0\n",
            "Volume       0\n",
            "dtype: int64\n"
          ]
        },
        {
          "output_type": "execute_result",
          "data": {
            "text/plain": [
              "         Open        High         Low       Close    Volume  Day of the week\n",
              "0  262.000000  267.899994  250.029999  254.259995  11896100              0.0\n",
              "1  247.699997  266.700012  245.000000  265.720001  12595800              1.0\n",
              "2  266.579987  272.450012  264.329987  264.559998   8981500              2.0\n",
              "3  267.079987  267.619995  250.000000  250.100006   9306700              3.0\n",
              "4  253.850006  255.800003  236.110001  249.470001  16906900              4.0"
            ],
            "text/html": [
              "\n",
              "  <div id=\"df-964335bb-1645-4b45-9702-3d30e841ea2a\">\n",
              "    <div class=\"colab-df-container\">\n",
              "      <div>\n",
              "<style scoped>\n",
              "    .dataframe tbody tr th:only-of-type {\n",
              "        vertical-align: middle;\n",
              "    }\n",
              "\n",
              "    .dataframe tbody tr th {\n",
              "        vertical-align: top;\n",
              "    }\n",
              "\n",
              "    .dataframe thead th {\n",
              "        text-align: right;\n",
              "    }\n",
              "</style>\n",
              "<table border=\"1\" class=\"dataframe\">\n",
              "  <thead>\n",
              "    <tr style=\"text-align: right;\">\n",
              "      <th></th>\n",
              "      <th>Open</th>\n",
              "      <th>High</th>\n",
              "      <th>Low</th>\n",
              "      <th>Close</th>\n",
              "      <th>Volume</th>\n",
              "      <th>Day of the week</th>\n",
              "    </tr>\n",
              "  </thead>\n",
              "  <tbody>\n",
              "    <tr>\n",
              "      <th>0</th>\n",
              "      <td>262.000000</td>\n",
              "      <td>267.899994</td>\n",
              "      <td>250.029999</td>\n",
              "      <td>254.259995</td>\n",
              "      <td>11896100</td>\n",
              "      <td>0.0</td>\n",
              "    </tr>\n",
              "    <tr>\n",
              "      <th>1</th>\n",
              "      <td>247.699997</td>\n",
              "      <td>266.700012</td>\n",
              "      <td>245.000000</td>\n",
              "      <td>265.720001</td>\n",
              "      <td>12595800</td>\n",
              "      <td>1.0</td>\n",
              "    </tr>\n",
              "    <tr>\n",
              "      <th>2</th>\n",
              "      <td>266.579987</td>\n",
              "      <td>272.450012</td>\n",
              "      <td>264.329987</td>\n",
              "      <td>264.559998</td>\n",
              "      <td>8981500</td>\n",
              "      <td>2.0</td>\n",
              "    </tr>\n",
              "    <tr>\n",
              "      <th>3</th>\n",
              "      <td>267.079987</td>\n",
              "      <td>267.619995</td>\n",
              "      <td>250.000000</td>\n",
              "      <td>250.100006</td>\n",
              "      <td>9306700</td>\n",
              "      <td>3.0</td>\n",
              "    </tr>\n",
              "    <tr>\n",
              "      <th>4</th>\n",
              "      <td>253.850006</td>\n",
              "      <td>255.800003</td>\n",
              "      <td>236.110001</td>\n",
              "      <td>249.470001</td>\n",
              "      <td>16906900</td>\n",
              "      <td>4.0</td>\n",
              "    </tr>\n",
              "  </tbody>\n",
              "</table>\n",
              "</div>\n",
              "      <button class=\"colab-df-convert\" onclick=\"convertToInteractive('df-964335bb-1645-4b45-9702-3d30e841ea2a')\"\n",
              "              title=\"Convert this dataframe to an interactive table.\"\n",
              "              style=\"display:none;\">\n",
              "        \n",
              "  <svg xmlns=\"http://www.w3.org/2000/svg\" height=\"24px\"viewBox=\"0 0 24 24\"\n",
              "       width=\"24px\">\n",
              "    <path d=\"M0 0h24v24H0V0z\" fill=\"none\"/>\n",
              "    <path d=\"M18.56 5.44l.94 2.06.94-2.06 2.06-.94-2.06-.94-.94-2.06-.94 2.06-2.06.94zm-11 1L8.5 8.5l.94-2.06 2.06-.94-2.06-.94L8.5 2.5l-.94 2.06-2.06.94zm10 10l.94 2.06.94-2.06 2.06-.94-2.06-.94-.94-2.06-.94 2.06-2.06.94z\"/><path d=\"M17.41 7.96l-1.37-1.37c-.4-.4-.92-.59-1.43-.59-.52 0-1.04.2-1.43.59L10.3 9.45l-7.72 7.72c-.78.78-.78 2.05 0 2.83L4 21.41c.39.39.9.59 1.41.59.51 0 1.02-.2 1.41-.59l7.78-7.78 2.81-2.81c.8-.78.8-2.07 0-2.86zM5.41 20L4 18.59l7.72-7.72 1.47 1.35L5.41 20z\"/>\n",
              "  </svg>\n",
              "      </button>\n",
              "      \n",
              "  <style>\n",
              "    .colab-df-container {\n",
              "      display:flex;\n",
              "      flex-wrap:wrap;\n",
              "      gap: 12px;\n",
              "    }\n",
              "\n",
              "    .colab-df-convert {\n",
              "      background-color: #E8F0FE;\n",
              "      border: none;\n",
              "      border-radius: 50%;\n",
              "      cursor: pointer;\n",
              "      display: none;\n",
              "      fill: #1967D2;\n",
              "      height: 32px;\n",
              "      padding: 0 0 0 0;\n",
              "      width: 32px;\n",
              "    }\n",
              "\n",
              "    .colab-df-convert:hover {\n",
              "      background-color: #E2EBFA;\n",
              "      box-shadow: 0px 1px 2px rgba(60, 64, 67, 0.3), 0px 1px 3px 1px rgba(60, 64, 67, 0.15);\n",
              "      fill: #174EA6;\n",
              "    }\n",
              "\n",
              "    [theme=dark] .colab-df-convert {\n",
              "      background-color: #3B4455;\n",
              "      fill: #D2E3FC;\n",
              "    }\n",
              "\n",
              "    [theme=dark] .colab-df-convert:hover {\n",
              "      background-color: #434B5C;\n",
              "      box-shadow: 0px 1px 3px 1px rgba(0, 0, 0, 0.15);\n",
              "      filter: drop-shadow(0px 1px 2px rgba(0, 0, 0, 0.3));\n",
              "      fill: #FFFFFF;\n",
              "    }\n",
              "  </style>\n",
              "\n",
              "      <script>\n",
              "        const buttonEl =\n",
              "          document.querySelector('#df-964335bb-1645-4b45-9702-3d30e841ea2a button.colab-df-convert');\n",
              "        buttonEl.style.display =\n",
              "          google.colab.kernel.accessAllowed ? 'block' : 'none';\n",
              "\n",
              "        async function convertToInteractive(key) {\n",
              "          const element = document.querySelector('#df-964335bb-1645-4b45-9702-3d30e841ea2a');\n",
              "          const dataTable =\n",
              "            await google.colab.kernel.invokeFunction('convertToInteractive',\n",
              "                                                     [key], {});\n",
              "          if (!dataTable) return;\n",
              "\n",
              "          const docLinkHtml = 'Like what you see? Visit the ' +\n",
              "            '<a target=\"_blank\" href=https://colab.research.google.com/notebooks/data_table.ipynb>data table notebook</a>'\n",
              "            + ' to learn more about interactive tables.';\n",
              "          element.innerHTML = '';\n",
              "          dataTable['output_type'] = 'display_data';\n",
              "          await google.colab.output.renderOutput(dataTable, element);\n",
              "          const docLink = document.createElement('div');\n",
              "          docLink.innerHTML = docLinkHtml;\n",
              "          element.appendChild(docLink);\n",
              "        }\n",
              "      </script>\n",
              "    </div>\n",
              "  </div>\n",
              "  "
            ]
          },
          "metadata": {},
          "execution_count": 30
        }
      ]
    },
    {
      "cell_type": "markdown",
      "source": [
        "# 3. Research\n",
        "\n",
        "Put your code and your experiments here."
      ],
      "metadata": {
        "id": "Hc7HMmNPR10W"
      }
    },
    {
      "cell_type": "code",
      "source": [
        "# code goes here... don't forget to include graphs. Professor Urness loves graphs.\n",
        "from tensorflow.keras.models import Sequential\n",
        "from tensorflow.keras.layers import Dense\n",
        " \n",
        "model = Sequential()\n",
        "model.add(Dense(64, activation='relu', input_dim=5))\n",
        "model.add(Dense(32, activation='relu'))\n",
        "model.add(Dense(1))\n",
        "model.compile(optimizer='adam', loss='mae', metrics=['mae'])\n",
        "model.summary()"
      ],
      "metadata": {
        "id": "XfaACsEOR4U5",
        "colab": {
          "base_uri": "https://localhost:8080/"
        },
        "outputId": "476f876e-6213-4dea-8fbe-585c66ff7c20"
      },
      "execution_count": 31,
      "outputs": [
        {
          "output_type": "stream",
          "name": "stdout",
          "text": [
            "Model: \"sequential_4\"\n",
            "_________________________________________________________________\n",
            " Layer (type)                Output Shape              Param #   \n",
            "=================================================================\n",
            " dense_12 (Dense)            (None, 64)                384       \n",
            "                                                                 \n",
            " dense_13 (Dense)            (None, 32)                2080      \n",
            "                                                                 \n",
            " dense_14 (Dense)            (None, 1)                 33        \n",
            "                                                                 \n",
            "=================================================================\n",
            "Total params: 2,497\n",
            "Trainable params: 2,497\n",
            "Non-trainable params: 0\n",
            "_________________________________________________________________\n"
          ]
        }
      ]
    },
    {
      "cell_type": "code",
      "source": [
        "hist = model.fit(x, y, validation_split=0.2, epochs=50, batch_size=32)"
      ],
      "metadata": {
        "id": "Lch7XpjdXzDS",
        "colab": {
          "base_uri": "https://localhost:8080/"
        },
        "outputId": "ecd579f8-904c-47f4-b408-c0774b0e71ed"
      },
      "execution_count": 32,
      "outputs": [
        {
          "output_type": "stream",
          "name": "stdout",
          "text": [
            "Epoch 1/50\n",
            "26/26 [==============================] - 1s 10ms/step - loss: 324552.5312 - mae: 324552.5312 - val_loss: 16783.2031 - val_mae: 16783.2031\n",
            "Epoch 2/50\n",
            "26/26 [==============================] - 0s 6ms/step - loss: 15326.3398 - mae: 15326.3398 - val_loss: 2859.8579 - val_mae: 2859.8579\n",
            "Epoch 3/50\n",
            "26/26 [==============================] - 0s 5ms/step - loss: 10687.9941 - mae: 10687.9941 - val_loss: 6627.0293 - val_mae: 6627.0293\n",
            "Epoch 4/50\n",
            "26/26 [==============================] - 0s 6ms/step - loss: 11246.3486 - mae: 11246.3486 - val_loss: 4625.7041 - val_mae: 4625.7041\n",
            "Epoch 5/50\n",
            "26/26 [==============================] - 0s 5ms/step - loss: 11122.1182 - mae: 11122.1182 - val_loss: 4554.0679 - val_mae: 4554.0679\n",
            "Epoch 6/50\n",
            "26/26 [==============================] - 0s 5ms/step - loss: 7567.9741 - mae: 7567.9741 - val_loss: 6810.4268 - val_mae: 6810.4263\n",
            "Epoch 7/50\n",
            "26/26 [==============================] - 0s 5ms/step - loss: 19048.0488 - mae: 19048.0488 - val_loss: 544.0376 - val_mae: 544.0376\n",
            "Epoch 8/50\n",
            "26/26 [==============================] - 0s 5ms/step - loss: 14684.1338 - mae: 14684.1338 - val_loss: 2345.9446 - val_mae: 2345.9446\n",
            "Epoch 9/50\n",
            "26/26 [==============================] - 0s 5ms/step - loss: 8614.0723 - mae: 8614.0723 - val_loss: 4700.6040 - val_mae: 4700.6040\n",
            "Epoch 10/50\n",
            "26/26 [==============================] - 0s 5ms/step - loss: 9215.3809 - mae: 9215.3809 - val_loss: 4600.5801 - val_mae: 4600.5801\n",
            "Epoch 11/50\n",
            "26/26 [==============================] - 0s 5ms/step - loss: 7445.5615 - mae: 7445.5615 - val_loss: 8090.0361 - val_mae: 8090.0361\n",
            "Epoch 12/50\n",
            "26/26 [==============================] - 0s 6ms/step - loss: 8979.0977 - mae: 8979.0977 - val_loss: 13168.3242 - val_mae: 13168.3242\n",
            "Epoch 13/50\n",
            "26/26 [==============================] - 0s 5ms/step - loss: 26614.0859 - mae: 26614.0859 - val_loss: 12042.1152 - val_mae: 12042.1152\n",
            "Epoch 14/50\n",
            "26/26 [==============================] - 0s 5ms/step - loss: 15629.0645 - mae: 15629.0645 - val_loss: 5944.2808 - val_mae: 5944.2808\n",
            "Epoch 15/50\n",
            "26/26 [==============================] - 0s 6ms/step - loss: 12022.4736 - mae: 12022.4736 - val_loss: 12075.1533 - val_mae: 12075.1533\n",
            "Epoch 16/50\n",
            "26/26 [==============================] - 0s 5ms/step - loss: 11412.4277 - mae: 11412.4277 - val_loss: 11874.0566 - val_mae: 11874.0566\n",
            "Epoch 17/50\n",
            "26/26 [==============================] - 0s 5ms/step - loss: 13402.4326 - mae: 13402.4326 - val_loss: 1414.9692 - val_mae: 1414.9692\n",
            "Epoch 18/50\n",
            "26/26 [==============================] - 0s 5ms/step - loss: 22144.5098 - mae: 22144.5098 - val_loss: 15800.4863 - val_mae: 15800.4863\n",
            "Epoch 19/50\n",
            "26/26 [==============================] - 0s 5ms/step - loss: 11649.5801 - mae: 11649.5801 - val_loss: 15460.4121 - val_mae: 15460.4121\n",
            "Epoch 20/50\n",
            "26/26 [==============================] - 0s 5ms/step - loss: 15204.1787 - mae: 15204.1787 - val_loss: 16063.1035 - val_mae: 16063.1035\n",
            "Epoch 21/50\n",
            "26/26 [==============================] - 0s 5ms/step - loss: 15301.0752 - mae: 15301.0752 - val_loss: 14334.4531 - val_mae: 14334.4531\n",
            "Epoch 22/50\n",
            "26/26 [==============================] - 0s 5ms/step - loss: 19060.9570 - mae: 19060.9570 - val_loss: 6063.2764 - val_mae: 6063.2764\n",
            "Epoch 23/50\n",
            "26/26 [==============================] - 0s 5ms/step - loss: 13725.3857 - mae: 13725.3857 - val_loss: 16702.3086 - val_mae: 16702.3086\n",
            "Epoch 24/50\n",
            "26/26 [==============================] - 0s 5ms/step - loss: 22674.0488 - mae: 22674.0488 - val_loss: 3300.4900 - val_mae: 3300.4900\n",
            "Epoch 25/50\n",
            "26/26 [==============================] - 0s 5ms/step - loss: 16150.4971 - mae: 16150.4971 - val_loss: 8061.3154 - val_mae: 8061.3154\n",
            "Epoch 26/50\n",
            "26/26 [==============================] - 0s 6ms/step - loss: 9841.7539 - mae: 9841.7539 - val_loss: 13593.3799 - val_mae: 13593.3799\n",
            "Epoch 27/50\n",
            "26/26 [==============================] - 0s 5ms/step - loss: 18162.5508 - mae: 18162.5508 - val_loss: 10694.1846 - val_mae: 10694.1846\n",
            "Epoch 28/50\n",
            "26/26 [==============================] - 0s 5ms/step - loss: 10627.3535 - mae: 10627.3535 - val_loss: 7521.8418 - val_mae: 7521.8418\n",
            "Epoch 29/50\n",
            "26/26 [==============================] - 0s 5ms/step - loss: 7282.0322 - mae: 7282.0322 - val_loss: 4851.5073 - val_mae: 4851.5073\n",
            "Epoch 30/50\n",
            "26/26 [==============================] - 0s 5ms/step - loss: 8185.2964 - mae: 8185.2964 - val_loss: 3674.1919 - val_mae: 3674.1919\n",
            "Epoch 31/50\n",
            "26/26 [==============================] - 0s 6ms/step - loss: 8214.7930 - mae: 8214.7930 - val_loss: 10163.7168 - val_mae: 10163.7168\n",
            "Epoch 32/50\n",
            "26/26 [==============================] - 0s 5ms/step - loss: 8745.0107 - mae: 8745.0107 - val_loss: 1325.6604 - val_mae: 1325.6604\n",
            "Epoch 33/50\n",
            "26/26 [==============================] - 0s 6ms/step - loss: 18463.7051 - mae: 18463.7051 - val_loss: 10785.1895 - val_mae: 10785.1895\n",
            "Epoch 34/50\n",
            "26/26 [==============================] - 0s 5ms/step - loss: 13231.3359 - mae: 13231.3359 - val_loss: 6734.1128 - val_mae: 6734.1128\n",
            "Epoch 35/50\n",
            "26/26 [==============================] - 0s 6ms/step - loss: 8869.1504 - mae: 8869.1504 - val_loss: 6341.2412 - val_mae: 6341.2412\n",
            "Epoch 36/50\n",
            "26/26 [==============================] - 0s 5ms/step - loss: 6186.6904 - mae: 6186.6904 - val_loss: 498.2228 - val_mae: 498.2228\n",
            "Epoch 37/50\n",
            "26/26 [==============================] - 0s 5ms/step - loss: 15282.6777 - mae: 15282.6777 - val_loss: 7121.5273 - val_mae: 7121.5273\n",
            "Epoch 38/50\n",
            "26/26 [==============================] - 0s 5ms/step - loss: 11272.4453 - mae: 11272.4453 - val_loss: 5544.4858 - val_mae: 5544.4858\n",
            "Epoch 39/50\n",
            "26/26 [==============================] - 0s 5ms/step - loss: 13409.8848 - mae: 13409.8848 - val_loss: 5456.2925 - val_mae: 5456.2925\n",
            "Epoch 40/50\n",
            "26/26 [==============================] - 0s 7ms/step - loss: 13627.4150 - mae: 13627.4150 - val_loss: 8330.3086 - val_mae: 8330.3086\n",
            "Epoch 41/50\n",
            "26/26 [==============================] - 0s 5ms/step - loss: 19256.0449 - mae: 19256.0449 - val_loss: 7477.6597 - val_mae: 7477.6597\n",
            "Epoch 42/50\n",
            "26/26 [==============================] - 0s 5ms/step - loss: 14878.5420 - mae: 14878.5420 - val_loss: 11882.7188 - val_mae: 11882.7188\n",
            "Epoch 43/50\n",
            "26/26 [==============================] - 0s 5ms/step - loss: 17805.3809 - mae: 17805.3809 - val_loss: 8182.9492 - val_mae: 8182.9492\n",
            "Epoch 44/50\n",
            "26/26 [==============================] - 0s 5ms/step - loss: 11284.1787 - mae: 11284.1787 - val_loss: 2600.1838 - val_mae: 2600.1838\n",
            "Epoch 45/50\n",
            "26/26 [==============================] - 0s 5ms/step - loss: 16592.4941 - mae: 16592.4941 - val_loss: 4869.9585 - val_mae: 4869.9585\n",
            "Epoch 46/50\n",
            "26/26 [==============================] - 0s 5ms/step - loss: 7464.4570 - mae: 7464.4570 - val_loss: 9927.8750 - val_mae: 9927.8750\n",
            "Epoch 47/50\n",
            "26/26 [==============================] - 0s 6ms/step - loss: 10697.5449 - mae: 10697.5449 - val_loss: 19830.2559 - val_mae: 19830.2559\n",
            "Epoch 48/50\n",
            "26/26 [==============================] - 0s 5ms/step - loss: 14368.7246 - mae: 14368.7246 - val_loss: 2588.7341 - val_mae: 2588.7341\n",
            "Epoch 49/50\n",
            "26/26 [==============================] - 0s 8ms/step - loss: 11751.5703 - mae: 11751.5703 - val_loss: 14449.7373 - val_mae: 14449.7373\n",
            "Epoch 50/50\n",
            "26/26 [==============================] - 0s 7ms/step - loss: 13986.3809 - mae: 13986.3809 - val_loss: 2584.1938 - val_mae: 2584.1938\n"
          ]
        }
      ]
    },
    {
      "cell_type": "code",
      "source": [
        "%matplotlib inline\n",
        "import matplotlib.pyplot as plt\n",
        "import seaborn as sns\n",
        "sns.set()\n",
        "\n",
        "err = hist.history['mae']\n",
        "val_err = hist.history['val_mae']\n",
        "epochs = range(1, len(err) + 1)\n",
        "\n",
        "plt.plot(epochs, err, '-', label='Training MAE')\n",
        "plt.plot(epochs, val_err, ':', label='Validation MAE')\n",
        "plt.title('Training and Validation Accuracy')\n",
        "plt.xlabel('Epoch')\n",
        "plt.ylabel('Mean Absolute Error')\n",
        "plt.legend(loc='upper right')\n",
        "plt.plot()"
      ],
      "metadata": {
        "id": "76ys3JRDX1VX",
        "colab": {
          "base_uri": "https://localhost:8080/",
          "height": 497
        },
        "outputId": "76fbc4e5-8606-436b-857e-0927470ab8ba"
      },
      "execution_count": 33,
      "outputs": [
        {
          "output_type": "execute_result",
          "data": {
            "text/plain": [
              "[]"
            ]
          },
          "metadata": {},
          "execution_count": 33
        },
        {
          "output_type": "display_data",
          "data": {
            "text/plain": [
              "<Figure size 640x480 with 1 Axes>"
            ],
            "image/png": "[encoded data removed]"
          },
          "metadata": {}
        }
      ]
    },
    {
      "cell_type": "code",
      "source": [
        "from sklearn.metrics import r2_score\n",
        "\n",
        "r2_score(y, model.predict(x)) "
      ],
      "metadata": {
        "id": "7GnFlmZSX4KW",
        "colab": {
          "base_uri": "https://localhost:8080/"
        },
        "outputId": "72de65ad-93af-4a22-cea5-e06f20a427fe"
      },
      "execution_count": 34,
      "outputs": [
        {
          "output_type": "stream",
          "name": "stdout",
          "text": [
            "32/32 [==============================] - 0s 2ms/step\n"
          ]
        },
        {
          "output_type": "execute_result",
          "data": {
            "text/plain": [
              "-2982.1135219126995"
            ]
          },
          "metadata": {},
          "execution_count": 34
        }
      ]
    },
    {
      "cell_type": "code",
      "source": [
        "import numpy as np\n",
        "\n",
        "#price at which stock opened, today's high, today's low, volume, day of the week\n",
        "model.predict(np.array([[255, 267, 244, 11896100, 3]]))"
      ],
      "metadata": {
        "id": "NBWIv8H1X61d",
        "colab": {
          "base_uri": "https://localhost:8080/"
        },
        "outputId": "4dff31c1-45c3-438d-ac2a-af26e319b3e9"
      },
      "execution_count": 35,
      "outputs": [
        {
          "output_type": "stream",
          "name": "stdout",
          "text": [
            "1/1 [==============================] - 0s 54ms/step\n"
          ]
        },
        {
          "output_type": "execute_result",
          "data": {
            "text/plain": [
              "array([[7908.881]], dtype=float32)"
            ]
          },
          "metadata": {},
          "execution_count": 35
        }
      ]
    },
    {
      "cell_type": "markdown",
      "source": [
        "#4. Analysis\n",
        "\n",
        "What did you discover? What insights/recommendations do you have? What did you find that was interesting? Which model was your best model, which models didn't work well? Why do you think this is? In general, I want a discussion of your experiment, the results, and what they mean."
      ],
      "metadata": {
        "id": "2Qu9bYPLmiv_"
      }
    },
    {
      "cell_type": "markdown",
      "source": [
        "*your answer here*"
      ],
      "metadata": {
        "id": "k17sKBZUmqIH"
      }
    },
    {
      "cell_type": "markdown",
      "source": [
        "# 5. Bumps in the Road\n",
        "What challenges did you encounter? How did you overcome these challenges?"
      ],
      "metadata": {
        "id": "TemAuKxlm6dQ"
      }
    },
    {
      "cell_type": "markdown",
      "source": [
        "*your answer here*"
      ],
      "metadata": {
        "id": "zXEVEG9FnHgQ"
      }
    }
  ]
}