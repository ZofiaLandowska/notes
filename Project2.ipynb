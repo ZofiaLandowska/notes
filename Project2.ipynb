{
  "nbformat": 4,
  "nbformat_minor": 0,
  "metadata": {
    "colab": {
      "provenance": [],
      "gpuType": "T4",
      "include_colab_link": true
    },
    "kernelspec": {
      "name": "python3",
      "display_name": "Python 3"
    },
    "language_info": {
      "name": "python"
    },
    "accelerator": "GPU",
    "gpuClass": "standard"
  },
  "cells": [
    {
      "cell_type": "markdown",
      "metadata": {
        "id": "view-in-github",
        "colab_type": "text"
      },
      "source": [
        "<a href=\"https://colab.research.google.com/github/ZofiaLandowska/notes/blob/main/Project2.ipynb\" target=\"_parent\"><img src=\"https://colab.research.google.com/assets/colab-badge.svg\" alt=\"Open In Colab\"/></a>"
      ]
    },
    {
      "cell_type": "markdown",
      "source": [
        "# Project #2\n",
        "##Name: Zofia Landowska \n",
        "\n",
        "Proposed Points (out of 25):"
      ],
      "metadata": {
        "id": "rIepkBIuT_Pl"
      }
    },
    {
      "cell_type": "markdown",
      "source": [
        "# 1. Problem\n",
        "State the problem you are trying to solve with this machine learning experiment. Include a description of the data, where you got the data, and what you're trying to predict.."
      ],
      "metadata": {
        "id": "HbwKLNhzP8YO"
      }
    },
    {
      "cell_type": "markdown",
      "source": [
        "I trained a Neural Network on \"Netflix Stock Price Prediction\" dataset which \n",
        "I downloaded from Kaggle to predict the price at which stock will close. The dataset that I used contains data for 5 years ie. from 5th Feb 2018 to 5th Feb 2022. It has 7 columns: \n",
        "\n",
        "1. \"Date\" \n",
        "2. \"Open\" - price at which stock opened \n",
        "3. \"High\" - today's high \n",
        "4. \"Low\" - today's low\n",
        "5. \"Close\" - close price adjusted for splits\n",
        "6. \"Adj Close\" - adjusted close price adjusted for splits and dividend and/or capital gain distributions\n",
        "7. \"Volume\" - volume of stocks"
      ],
      "metadata": {
        "id": "LwseoUsMmCz2"
      }
    },
    {
      "cell_type": "markdown",
      "source": [
        "# 2. Data Preparation\n",
        "Explain your data preparation. What did you have to do to get your data in shape for your experiments? Why are you certain that you data is clean and prepared for use in your algorithms?"
      ],
      "metadata": {
        "id": "qR_foVOeQVL7"
      }
    },
    {
      "cell_type": "markdown",
      "source": [
        "First I dropped the \"Adj Close\" column since I will not be using it in my predictions. Then, I added a new column that contains the day of the week for each date in the \"Date\" column. This can be useful for analyzing trends or patterns that may be specific to certain days of the week. I also checked for any missing values and there were none. Finally, I split the dataset into input features and target variable."
      ],
      "metadata": {
        "id": "aMDJDnW_mOWu"
      }
    },
    {
      "cell_type": "code",
      "source": [
        "from google.colab import drive\n",
        "drive.mount('/content/drive')"
      ],
      "metadata": {
        "id": "2wiB_mhn1G0O",
        "outputId": "2d2c038b-9335-41ea-f532-4f67c0fa378a",
        "colab": {
          "base_uri": "https://localhost:8080/"
        }
      },
      "execution_count": 2,
      "outputs": [
        {
          "output_type": "stream",
          "name": "stdout",
          "text": [
            "Drive already mounted at /content/drive; to attempt to forcibly remount, call drive.mount(\"/content/drive\", force_remount=True).\n"
          ]
        }
      ]
    },
    {
      "cell_type": "code",
      "source": [
        "# load and prepare your data here\n",
        "import pandas as pd\n",
        "\n",
        "path = '/content/drive/MyDrive/NFLX.csv'\n",
        "data = pd.read_csv(path)\n",
        "df = pd.read_csv(path, parse_dates=['Date'])\n",
        "\n",
        "df.drop(['Adj Close'], axis=1, inplace=True)\n",
        "\n",
        "for i, row in df.iterrows():\n",
        "    dt = row['Date']\n",
        "    df.at[i, 'Day of the week'] = dt.weekday()\n",
        "\n",
        "df.drop(['Date'], axis=1, inplace=True)\n",
        "\n",
        "print(data.isnull().sum())\n",
        "\n",
        "x = df.drop('Close', axis=1)\n",
        "y = df['Close']\n",
        "\n",
        "df.head()"
      ],
      "metadata": {
        "id": "9dUdBChRmKxR",
        "outputId": "45ef521f-8989-4bbe-c6bf-26d77d8d9e87",
        "colab": {
          "base_uri": "https://localhost:8080/",
          "height": 340
        }
      },
      "execution_count": 3,
      "outputs": [
        {
          "output_type": "stream",
          "name": "stdout",
          "text": [
            "Date         0\n",
            "Open         0\n",
            "High         0\n",
            "Low          0\n",
            "Close        0\n",
            "Adj Close    0\n",
            "Volume       0\n",
            "dtype: int64\n"
          ]
        },
        {
          "output_type": "execute_result",
          "data": {
            "text/plain": [
              "         Open        High         Low       Close    Volume  Day of the week\n",
              "0  262.000000  267.899994  250.029999  254.259995  11896100              0.0\n",
              "1  247.699997  266.700012  245.000000  265.720001  12595800              1.0\n",
              "2  266.579987  272.450012  264.329987  264.559998   8981500              2.0\n",
              "3  267.079987  267.619995  250.000000  250.100006   9306700              3.0\n",
              "4  253.850006  255.800003  236.110001  249.470001  16906900              4.0"
            ],
            "text/html": [
              "\n",
              "  <div id=\"df-a7efa45f-4e48-41dc-91e7-fe52f3a42fd7\">\n",
              "    <div class=\"colab-df-container\">\n",
              "      <div>\n",
              "<style scoped>\n",
              "    .dataframe tbody tr th:only-of-type {\n",
              "        vertical-align: middle;\n",
              "    }\n",
              "\n",
              "    .dataframe tbody tr th {\n",
              "        vertical-align: top;\n",
              "    }\n",
              "\n",
              "    .dataframe thead th {\n",
              "        text-align: right;\n",
              "    }\n",
              "</style>\n",
              "<table border=\"1\" class=\"dataframe\">\n",
              "  <thead>\n",
              "    <tr style=\"text-align: right;\">\n",
              "      <th></th>\n",
              "      <th>Open</th>\n",
              "      <th>High</th>\n",
              "      <th>Low</th>\n",
              "      <th>Close</th>\n",
              "      <th>Volume</th>\n",
              "      <th>Day of the week</th>\n",
              "    </tr>\n",
              "  </thead>\n",
              "  <tbody>\n",
              "    <tr>\n",
              "      <th>0</th>\n",
              "      <td>262.000000</td>\n",
              "      <td>267.899994</td>\n",
              "      <td>250.029999</td>\n",
              "      <td>254.259995</td>\n",
              "      <td>11896100</td>\n",
              "      <td>0.0</td>\n",
              "    </tr>\n",
              "    <tr>\n",
              "      <th>1</th>\n",
              "      <td>247.699997</td>\n",
              "      <td>266.700012</td>\n",
              "      <td>245.000000</td>\n",
              "      <td>265.720001</td>\n",
              "      <td>12595800</td>\n",
              "      <td>1.0</td>\n",
              "    </tr>\n",
              "    <tr>\n",
              "      <th>2</th>\n",
              "      <td>266.579987</td>\n",
              "      <td>272.450012</td>\n",
              "      <td>264.329987</td>\n",
              "      <td>264.559998</td>\n",
              "      <td>8981500</td>\n",
              "      <td>2.0</td>\n",
              "    </tr>\n",
              "    <tr>\n",
              "      <th>3</th>\n",
              "      <td>267.079987</td>\n",
              "      <td>267.619995</td>\n",
              "      <td>250.000000</td>\n",
              "      <td>250.100006</td>\n",
              "      <td>9306700</td>\n",
              "      <td>3.0</td>\n",
              "    </tr>\n",
              "    <tr>\n",
              "      <th>4</th>\n",
              "      <td>253.850006</td>\n",
              "      <td>255.800003</td>\n",
              "      <td>236.110001</td>\n",
              "      <td>249.470001</td>\n",
              "      <td>16906900</td>\n",
              "      <td>4.0</td>\n",
              "    </tr>\n",
              "  </tbody>\n",
              "</table>\n",
              "</div>\n",
              "      <button class=\"colab-df-convert\" onclick=\"convertToInteractive('df-a7efa45f-4e48-41dc-91e7-fe52f3a42fd7')\"\n",
              "              title=\"Convert this dataframe to an interactive table.\"\n",
              "              style=\"display:none;\">\n",
              "        \n",
              "  <svg xmlns=\"http://www.w3.org/2000/svg\" height=\"24px\"viewBox=\"0 0 24 24\"\n",
              "       width=\"24px\">\n",
              "    <path d=\"M0 0h24v24H0V0z\" fill=\"none\"/>\n",
              "    <path d=\"M18.56 5.44l.94 2.06.94-2.06 2.06-.94-2.06-.94-.94-2.06-.94 2.06-2.06.94zm-11 1L8.5 8.5l.94-2.06 2.06-.94-2.06-.94L8.5 2.5l-.94 2.06-2.06.94zm10 10l.94 2.06.94-2.06 2.06-.94-2.06-.94-.94-2.06-.94 2.06-2.06.94z\"/><path d=\"M17.41 7.96l-1.37-1.37c-.4-.4-.92-.59-1.43-.59-.52 0-1.04.2-1.43.59L10.3 9.45l-7.72 7.72c-.78.78-.78 2.05 0 2.83L4 21.41c.39.39.9.59 1.41.59.51 0 1.02-.2 1.41-.59l7.78-7.78 2.81-2.81c.8-.78.8-2.07 0-2.86zM5.41 20L4 18.59l7.72-7.72 1.47 1.35L5.41 20z\"/>\n",
              "  </svg>\n",
              "      </button>\n",
              "      \n",
              "  <style>\n",
              "    .colab-df-container {\n",
              "      display:flex;\n",
              "      flex-wrap:wrap;\n",
              "      gap: 12px;\n",
              "    }\n",
              "\n",
              "    .colab-df-convert {\n",
              "      background-color: #E8F0FE;\n",
              "      border: none;\n",
              "      border-radius: 50%;\n",
              "      cursor: pointer;\n",
              "      display: none;\n",
              "      fill: #1967D2;\n",
              "      height: 32px;\n",
              "      padding: 0 0 0 0;\n",
              "      width: 32px;\n",
              "    }\n",
              "\n",
              "    .colab-df-convert:hover {\n",
              "      background-color: #E2EBFA;\n",
              "      box-shadow: 0px 1px 2px rgba(60, 64, 67, 0.3), 0px 1px 3px 1px rgba(60, 64, 67, 0.15);\n",
              "      fill: #174EA6;\n",
              "    }\n",
              "\n",
              "    [theme=dark] .colab-df-convert {\n",
              "      background-color: #3B4455;\n",
              "      fill: #D2E3FC;\n",
              "    }\n",
              "\n",
              "    [theme=dark] .colab-df-convert:hover {\n",
              "      background-color: #434B5C;\n",
              "      box-shadow: 0px 1px 3px 1px rgba(0, 0, 0, 0.15);\n",
              "      filter: drop-shadow(0px 1px 2px rgba(0, 0, 0, 0.3));\n",
              "      fill: #FFFFFF;\n",
              "    }\n",
              "  </style>\n",
              "\n",
              "      <script>\n",
              "        const buttonEl =\n",
              "          document.querySelector('#df-a7efa45f-4e48-41dc-91e7-fe52f3a42fd7 button.colab-df-convert');\n",
              "        buttonEl.style.display =\n",
              "          google.colab.kernel.accessAllowed ? 'block' : 'none';\n",
              "\n",
              "        async function convertToInteractive(key) {\n",
              "          const element = document.querySelector('#df-a7efa45f-4e48-41dc-91e7-fe52f3a42fd7');\n",
              "          const dataTable =\n",
              "            await google.colab.kernel.invokeFunction('convertToInteractive',\n",
              "                                                     [key], {});\n",
              "          if (!dataTable) return;\n",
              "\n",
              "          const docLinkHtml = 'Like what you see? Visit the ' +\n",
              "            '<a target=\"_blank\" href=https://colab.research.google.com/notebooks/data_table.ipynb>data table notebook</a>'\n",
              "            + ' to learn more about interactive tables.';\n",
              "          element.innerHTML = '';\n",
              "          dataTable['output_type'] = 'display_data';\n",
              "          await google.colab.output.renderOutput(dataTable, element);\n",
              "          const docLink = document.createElement('div');\n",
              "          docLink.innerHTML = docLinkHtml;\n",
              "          element.appendChild(docLink);\n",
              "        }\n",
              "      </script>\n",
              "    </div>\n",
              "  </div>\n",
              "  "
            ]
          },
          "metadata": {},
          "execution_count": 3
        }
      ]
    },
    {
      "cell_type": "markdown",
      "source": [
        "# 3. Research\n",
        "\n",
        "Put your code and your experiments here."
      ],
      "metadata": {
        "id": "Hc7HMmNPR10W"
      }
    },
    {
      "cell_type": "code",
      "source": [
        "# code goes here... don't forget to include graphs. Professor Urness loves graphs.\n",
        "from tensorflow.keras.models import Sequential\n",
        "from tensorflow.keras.layers import Dense\n",
        " \n",
        "model = Sequential()\n",
        "model.add(Dense(64, activation='relu', input_dim=5))\n",
        "model.add(Dense(64, activation='relu'))\n",
        "model.add(Dense(1))\n",
        "model.compile(optimizer='adam', loss='mae', metrics=['mae'])\n",
        "model.summary()"
      ],
      "metadata": {
        "id": "XfaACsEOR4U5",
        "outputId": "0f3037d3-6848-43b7-c1d9-776d02a243dd",
        "colab": {
          "base_uri": "https://localhost:8080/"
        }
      },
      "execution_count": 9,
      "outputs": [
        {
          "output_type": "stream",
          "name": "stdout",
          "text": [
            "Model: \"sequential_1\"\n",
            "_________________________________________________________________\n",
            " Layer (type)                Output Shape              Param #   \n",
            "=================================================================\n",
            " dense_3 (Dense)             (None, 64)                384       \n",
            "                                                                 \n",
            " dense_4 (Dense)             (None, 64)                4160      \n",
            "                                                                 \n",
            " dense_5 (Dense)             (None, 1)                 65        \n",
            "                                                                 \n",
            "=================================================================\n",
            "Total params: 4,609\n",
            "Trainable params: 4,609\n",
            "Non-trainable params: 0\n",
            "_________________________________________________________________\n"
          ]
        }
      ]
    },
    {
      "cell_type": "code",
      "source": [
        "hist = model.fit(x, y, validation_split=0.2, epochs=50, batch_size=32)"
      ],
      "metadata": {
        "id": "Lch7XpjdXzDS",
        "outputId": "895ec2b4-abf3-4604-f641-4c407fb51bff",
        "colab": {
          "base_uri": "https://localhost:8080/"
        }
      },
      "execution_count": 10,
      "outputs": [
        {
          "output_type": "stream",
          "name": "stdout",
          "text": [
            "Epoch 1/50\n",
            "26/26 [==============================] - 2s 13ms/step - loss: 217164.6719 - mae: 217164.6719 - val_loss: 20760.2500 - val_mae: 20760.2500\n",
            "Epoch 2/50\n",
            "26/26 [==============================] - 0s 5ms/step - loss: 43977.1992 - mae: 43977.1992 - val_loss: 23298.2930 - val_mae: 23298.2930\n",
            "Epoch 3/50\n",
            "26/26 [==============================] - 0s 5ms/step - loss: 22965.2266 - mae: 22965.2266 - val_loss: 7104.0723 - val_mae: 7104.0723\n",
            "Epoch 4/50\n",
            "26/26 [==============================] - 0s 5ms/step - loss: 27206.1777 - mae: 27206.1777 - val_loss: 33094.6875 - val_mae: 33094.6875\n",
            "Epoch 5/50\n",
            "26/26 [==============================] - 0s 5ms/step - loss: 42032.1992 - mae: 42032.1992 - val_loss: 31624.5078 - val_mae: 31624.5078\n",
            "Epoch 6/50\n",
            "26/26 [==============================] - 0s 5ms/step - loss: 36584.8555 - mae: 36584.8555 - val_loss: 16990.5176 - val_mae: 16990.5176\n",
            "Epoch 7/50\n",
            "26/26 [==============================] - 0s 5ms/step - loss: 39529.0234 - mae: 39529.0234 - val_loss: 21940.6914 - val_mae: 21940.6914\n",
            "Epoch 8/50\n",
            "26/26 [==============================] - 0s 5ms/step - loss: 42252.2891 - mae: 42252.2891 - val_loss: 1623.1935 - val_mae: 1623.1935\n",
            "Epoch 9/50\n",
            "26/26 [==============================] - 0s 5ms/step - loss: 23407.8906 - mae: 23407.8906 - val_loss: 485.1155 - val_mae: 485.1155\n",
            "Epoch 10/50\n",
            "26/26 [==============================] - 0s 5ms/step - loss: 42684.3516 - mae: 42684.3516 - val_loss: 25585.8164 - val_mae: 25585.8164\n",
            "Epoch 11/50\n",
            "26/26 [==============================] - 0s 5ms/step - loss: 56589.5078 - mae: 56589.5078 - val_loss: 29738.9180 - val_mae: 29738.9180\n",
            "Epoch 12/50\n",
            "26/26 [==============================] - 0s 5ms/step - loss: 19898.2598 - mae: 19898.2598 - val_loss: 15773.5693 - val_mae: 15773.5693\n",
            "Epoch 13/50\n",
            "26/26 [==============================] - 0s 5ms/step - loss: 13574.8027 - mae: 13574.8027 - val_loss: 18511.4180 - val_mae: 18511.4180\n",
            "Epoch 14/50\n",
            "26/26 [==============================] - 0s 6ms/step - loss: 23026.8867 - mae: 23026.8867 - val_loss: 17362.9434 - val_mae: 17362.9434\n",
            "Epoch 15/50\n",
            "26/26 [==============================] - 0s 5ms/step - loss: 19436.2637 - mae: 19436.2637 - val_loss: 4021.7905 - val_mae: 4021.7905\n",
            "Epoch 16/50\n",
            "26/26 [==============================] - 0s 7ms/step - loss: 20260.9746 - mae: 20260.9746 - val_loss: 8999.0107 - val_mae: 8999.0107\n",
            "Epoch 17/50\n",
            "26/26 [==============================] - 0s 5ms/step - loss: 26362.2031 - mae: 26362.2031 - val_loss: 15661.9775 - val_mae: 15661.9775\n",
            "Epoch 18/50\n",
            "26/26 [==============================] - 0s 5ms/step - loss: 35045.7656 - mae: 35045.7656 - val_loss: 15027.2842 - val_mae: 15027.2842\n",
            "Epoch 19/50\n",
            "26/26 [==============================] - 0s 5ms/step - loss: 21512.1113 - mae: 21512.1113 - val_loss: 631.6985 - val_mae: 631.6985\n",
            "Epoch 20/50\n",
            "26/26 [==============================] - 0s 5ms/step - loss: 30178.4805 - mae: 30178.4805 - val_loss: 1486.8019 - val_mae: 1486.8019\n",
            "Epoch 21/50\n",
            "26/26 [==============================] - 0s 5ms/step - loss: 24483.8828 - mae: 24483.8828 - val_loss: 6203.8608 - val_mae: 6203.8608\n",
            "Epoch 22/50\n",
            "26/26 [==============================] - 0s 5ms/step - loss: 9701.9990 - mae: 9701.9990 - val_loss: 22726.3398 - val_mae: 22726.3398\n",
            "Epoch 23/50\n",
            "26/26 [==============================] - 0s 5ms/step - loss: 26715.1953 - mae: 26715.1953 - val_loss: 2562.7258 - val_mae: 2562.7258\n",
            "Epoch 24/50\n",
            "26/26 [==============================] - 0s 5ms/step - loss: 14507.0322 - mae: 14507.0322 - val_loss: 23838.6777 - val_mae: 23838.6777\n",
            "Epoch 25/50\n",
            "26/26 [==============================] - 0s 5ms/step - loss: 18819.6914 - mae: 18819.6914 - val_loss: 678.2694 - val_mae: 678.2694\n",
            "Epoch 26/50\n",
            "26/26 [==============================] - 0s 5ms/step - loss: 14418.6816 - mae: 14418.6816 - val_loss: 2203.9072 - val_mae: 2203.9072\n",
            "Epoch 27/50\n",
            "26/26 [==============================] - 0s 5ms/step - loss: 19486.0137 - mae: 19486.0137 - val_loss: 392.1923 - val_mae: 392.1923\n",
            "Epoch 28/50\n",
            "26/26 [==============================] - 0s 6ms/step - loss: 13684.0039 - mae: 13684.0039 - val_loss: 8805.3340 - val_mae: 8805.3340\n",
            "Epoch 29/50\n",
            "26/26 [==============================] - 0s 5ms/step - loss: 23184.6719 - mae: 23184.6719 - val_loss: 2330.6177 - val_mae: 2330.6177\n",
            "Epoch 30/50\n",
            "26/26 [==============================] - 0s 6ms/step - loss: 14559.1143 - mae: 14559.1143 - val_loss: 29954.8809 - val_mae: 29954.8809\n",
            "Epoch 31/50\n",
            "26/26 [==============================] - 0s 5ms/step - loss: 17980.6055 - mae: 17980.6055 - val_loss: 6579.4058 - val_mae: 6579.4058\n",
            "Epoch 32/50\n",
            "26/26 [==============================] - 0s 5ms/step - loss: 10030.8584 - mae: 10030.8584 - val_loss: 4207.3291 - val_mae: 4207.3291\n",
            "Epoch 33/50\n",
            "26/26 [==============================] - 0s 5ms/step - loss: 24795.2051 - mae: 24795.2051 - val_loss: 19867.8145 - val_mae: 19867.8145\n",
            "Epoch 34/50\n",
            "26/26 [==============================] - 0s 5ms/step - loss: 11485.6172 - mae: 11485.6172 - val_loss: 11776.9570 - val_mae: 11776.9570\n",
            "Epoch 35/50\n",
            "26/26 [==============================] - 0s 6ms/step - loss: 14198.9570 - mae: 14198.9570 - val_loss: 21979.1035 - val_mae: 21979.1035\n",
            "Epoch 36/50\n",
            "26/26 [==============================] - 0s 5ms/step - loss: 21065.6758 - mae: 21065.6758 - val_loss: 4004.6038 - val_mae: 4004.6038\n",
            "Epoch 37/50\n",
            "26/26 [==============================] - 0s 5ms/step - loss: 24531.6895 - mae: 24531.6895 - val_loss: 34149.9570 - val_mae: 34149.9570\n",
            "Epoch 38/50\n",
            "26/26 [==============================] - 0s 5ms/step - loss: 19741.9473 - mae: 19741.9473 - val_loss: 2253.3557 - val_mae: 2253.3557\n",
            "Epoch 39/50\n",
            "26/26 [==============================] - 0s 5ms/step - loss: 9496.5410 - mae: 9496.5410 - val_loss: 5128.3535 - val_mae: 5128.3535\n",
            "Epoch 40/50\n",
            "26/26 [==============================] - 0s 5ms/step - loss: 12666.5312 - mae: 12666.5312 - val_loss: 14962.6201 - val_mae: 14962.6201\n",
            "Epoch 41/50\n",
            "26/26 [==============================] - 0s 5ms/step - loss: 12792.8057 - mae: 12792.8057 - val_loss: 11198.2949 - val_mae: 11198.2949\n",
            "Epoch 42/50\n",
            "26/26 [==============================] - 0s 6ms/step - loss: 28129.3984 - mae: 28129.3984 - val_loss: 17483.3828 - val_mae: 17483.3828\n",
            "Epoch 43/50\n",
            "26/26 [==============================] - 0s 5ms/step - loss: 17597.4961 - mae: 17597.4961 - val_loss: 4457.6636 - val_mae: 4457.6636\n",
            "Epoch 44/50\n",
            "26/26 [==============================] - 0s 5ms/step - loss: 10928.8926 - mae: 10928.8926 - val_loss: 3093.4094 - val_mae: 3093.4094\n",
            "Epoch 45/50\n",
            "26/26 [==============================] - 0s 5ms/step - loss: 13087.8340 - mae: 13087.8340 - val_loss: 21765.0801 - val_mae: 21765.0801\n",
            "Epoch 46/50\n",
            "26/26 [==============================] - 0s 7ms/step - loss: 13087.0029 - mae: 13087.0029 - val_loss: 20811.8164 - val_mae: 20811.8164\n",
            "Epoch 47/50\n",
            "26/26 [==============================] - 0s 5ms/step - loss: 33092.9766 - mae: 33092.9766 - val_loss: 3725.3218 - val_mae: 3725.3218\n",
            "Epoch 48/50\n",
            "26/26 [==============================] - 0s 6ms/step - loss: 11398.2119 - mae: 11398.2119 - val_loss: 17654.7930 - val_mae: 17654.7930\n",
            "Epoch 49/50\n",
            "26/26 [==============================] - 0s 5ms/step - loss: 28124.1602 - mae: 28124.1602 - val_loss: 15535.2207 - val_mae: 15535.2207\n",
            "Epoch 50/50\n",
            "26/26 [==============================] - 0s 5ms/step - loss: 17268.9004 - mae: 17268.9004 - val_loss: 14050.1094 - val_mae: 14050.1094\n"
          ]
        }
      ]
    },
    {
      "cell_type": "code",
      "source": [
        "%matplotlib inline\n",
        "import matplotlib.pyplot as plt\n",
        "import seaborn as sns\n",
        "sns.set()\n",
        "\n",
        "err = hist.history['mae']\n",
        "val_err = hist.history['val_mae']\n",
        "epochs = range(1, len(err) + 1)\n",
        "\n",
        "plt.plot(epochs, err, '-', label='Training MAE')\n",
        "plt.plot(epochs, val_err, ':', label='Validation MAE')\n",
        "plt.title('Training and Validation Accuracy')\n",
        "plt.xlabel('Epoch')\n",
        "plt.ylabel('Mean Absolute Error')\n",
        "plt.legend(loc='upper right')\n",
        "plt.plot()"
      ],
      "metadata": {
        "id": "76ys3JRDX1VX",
        "outputId": "d89e2ec0-76c7-4f1f-e9d3-f6499d4d7c68",
        "colab": {
          "base_uri": "https://localhost:8080/",
          "height": 497
        }
      },
      "execution_count": 11,
      "outputs": [
        {
          "output_type": "execute_result",
          "data": {
            "text/plain": [
              "[]"
            ]
          },
          "metadata": {},
          "execution_count": 11
        },
        {
          "output_type": "display_data",
          "data": {
            "text/plain": [
              "<Figure size 640x480 with 1 Axes>"
            ],
            "image/png": "[encoded data removed]"
          },
          "metadata": {}
        }
      ]
    },
    {
      "cell_type": "code",
      "source": [
        "from sklearn.metrics import r2_score\n",
        "\n",
        "r2_score(y, model.predict(x)) "
      ],
      "metadata": {
        "id": "7GnFlmZSX4KW",
        "outputId": "cd499e18-21f8-4558-8603-03a7e5e780bb",
        "colab": {
          "base_uri": "https://localhost:8080/"
        }
      },
      "execution_count": 15,
      "outputs": [
        {
          "output_type": "stream",
          "name": "stdout",
          "text": [
            "32/32 [==============================] - 0s 2ms/step\n"
          ]
        },
        {
          "output_type": "execute_result",
          "data": {
            "text/plain": [
              "-63797.791256430624"
            ]
          },
          "metadata": {},
          "execution_count": 15
        }
      ]
    },
    {
      "cell_type": "code",
      "source": [
        "import numpy as np\n",
        "\n",
        "#price at which stock opened, today's high, today's low, volume, day of the week\n",
        "model.predict(np.array([[255, 267, 244, 11896100, 3]]))"
      ],
      "metadata": {
        "id": "NBWIv8H1X61d",
        "outputId": "246ce140-b782-4cfb-86bd-3757da930286",
        "colab": {
          "base_uri": "https://localhost:8080/"
        }
      },
      "execution_count": 16,
      "outputs": [
        {
          "output_type": "stream",
          "name": "stdout",
          "text": [
            "1/1 [==============================] - 0s 20ms/step\n"
          ]
        },
        {
          "output_type": "execute_result",
          "data": {
            "text/plain": [
              "array([[-34421.15]], dtype=float32)"
            ]
          },
          "metadata": {},
          "execution_count": 16
        }
      ]
    },
    {
      "cell_type": "markdown",
      "source": [
        "#4. Analysis\n",
        "\n",
        "What did you discover? What insights/recommendations do you have? What did you find that was interesting? Which model was your best model, which models didn't work well? Why do you think this is? In general, I want a discussion of your experiment, the results, and what they mean."
      ],
      "metadata": {
        "id": "2Qu9bYPLmiv_"
      }
    },
    {
      "cell_type": "markdown",
      "source": [
        "*your answer here*"
      ],
      "metadata": {
        "id": "k17sKBZUmqIH"
      }
    },
    {
      "cell_type": "markdown",
      "source": [
        "# 5. Bumps in the Road\n",
        "What challenges did you encounter? How did you overcome these challenges?"
      ],
      "metadata": {
        "id": "TemAuKxlm6dQ"
      }
    },
    {
      "cell_type": "markdown",
      "source": [
        "*your answer here*"
      ],
      "metadata": {
        "id": "zXEVEG9FnHgQ"
      }
    }
  ]
}