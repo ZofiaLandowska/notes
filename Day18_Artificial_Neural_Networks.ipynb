{
  "cells": [
    {
      "cell_type": "markdown",
      "metadata": {
        "id": "view-in-github",
        "colab_type": "text"
      },
      "source": [
        "<a href=\"https://colab.research.google.com/github/ZofiaLandowska/notes/blob/main/Day18_Artificial_Neural_Networks.ipynb\" target=\"_parent\"><img src=\"https://colab.research.google.com/assets/colab-badge.svg\" alt=\"Open In Colab\"/></a>"
      ]
    },
    {
      "cell_type": "markdown",
      "metadata": {
        "id": "HHJrUI0I4uVJ"
      },
      "source": [
        "# CS167: Day18\n",
        "## Artificial Neural Networks\n",
        "\n",
        "#### CS167: Machine Learning, Spring 2023\n",
        "\n",
        "Tuesday, April 4th, 2023\n",
        "\n",
        "📆 [Course Schedule](https://docs.google.com/spreadsheets/d/e/2PACX-1vSvFV5Mz0_YZE1d5r3gQ8IMktE4cBAsJIlP30cl2GhEpSO0J-YWV62QokSDz-OcOCsEmxMuKpY0kVlR/pubhtml?gid=0&single=true) | 🙋[PollEverywhere](https://pollev.com/meredithmoore011) | 📜 [Syllabus](https://analytics.drake.edu/~moore/cs167_s23_syllabus.html) | 📬 [CodePost Login](https://codepost.io/login)"
      ]
    },
    {
      "cell_type": "markdown",
      "metadata": {
        "id": "KMy3XtYh4uVN"
      },
      "source": [
        "# Admin Stuff"
      ]
    },
    {
      "cell_type": "markdown",
      "metadata": {
        "id": "PheuPuLM4uVN"
      },
      "source": [
        "You should be working on:\n",
        "- Quiz #2--now due Thursday, April 6th by 11:59pm.\n",
        "- [Notebook #5](https://classroom.github.com/a/fwi3w_xb) is released today, due Thursday April 6th, by 11:59pm.\n"
      ]
    },
    {
      "cell_type": "markdown",
      "metadata": {
        "id": "Wx6sp9Jt4uVO"
      },
      "source": [
        "## Load your data:"
      ]
    },
    {
      "cell_type": "code",
      "execution_count": 1,
      "metadata": {
        "id": "uEuP4Gpd4uVO",
        "outputId": "69bd40d6-2f9e-41cc-c9d1-29a01035369c",
        "colab": {
          "base_uri": "https://localhost:8080/"
        }
      },
      "outputs": [
        {
          "output_type": "stream",
          "name": "stdout",
          "text": [
            "Mounted at /content/drive\n"
          ]
        }
      ],
      "source": [
        "from google.colab import drive\n",
        "drive.mount('/content/drive')"
      ]
    },
    {
      "cell_type": "code",
      "execution_count": 2,
      "metadata": {
        "id": "Fi7RKclh4uVQ"
      },
      "outputs": [],
      "source": [
        "import pandas\n",
        "#path = 'datasets/irisData.csv'\n",
        "path ='/content/drive/MyDrive/irisData.csv'\n",
        "data = pandas.read_csv(path)"
      ]
    },
    {
      "cell_type": "markdown",
      "metadata": {
        "id": "SKgVLh2d4uVQ"
      },
      "source": [
        "## Quick Review:"
      ]
    },
    {
      "cell_type": "markdown",
      "metadata": {
        "id": "iuSugedY4uVR"
      },
      "source": [
        "## Optimization Techniques:\n",
        "\n",
        "Gradient Descent is an __optimization technique__. Mathematical optimization is the process of selecting the \"best element\" with regard to some criterion from some set of available alternatives. \n",
        "- Genearlly speaking, optimization problems come in two flavors:\n",
        "    - __mimimzazations__: trying to find the subset of values for attributes that gives you the minimum value in the objective function\n",
        "    - __maximizations__: trying to find the subset of values for attributes that gives you the maximum value in the objective function\n",
        "<div>\n",
        "<img src=\"https://github.com/merriekay/S23-CS167-Notes/blob/main/images/day17_wiki_max.png?raw=1\" width=700/>\n",
        "</div>"
      ]
    },
    {
      "cell_type": "markdown",
      "metadata": {
        "id": "wO_EpEO24uVU"
      },
      "source": [
        "# Another Training Algorithm: Gradient Descent\n",
        "\n",
        "__Gradient Descent__ is an optimization technique (a tool that is used to find solutions that maximize or minimize certain parameters). \n",
        "- in machine learning models, we often want to __maximize the accuracy__ of our models\n",
        "- But... often times we choose to minimize a __loss function__ instead. "
      ]
    },
    {
      "cell_type": "markdown",
      "metadata": {
        "id": "rMTLyfvg4uVV"
      },
      "source": [
        "## 🚨🚨 Terminology Alert 🚨🚨\n",
        "- the terms __loss function__, __error function__ or __cost function__ imply that this function is something we're trying to __minimize__. \n",
        "- __objective function__ leaves room for the function to be something that we want to either __minimize__ or __maximize__. This term is one of the most general."
      ]
    },
    {
      "cell_type": "markdown",
      "metadata": {
        "id": "ckZ5Tyac4uVV"
      },
      "source": [
        "# Gradient Descent\n",
        "\n",
        "The __gradient descent__ trainig rule is guaranteed to converge to the model with minimum squared error (proven using calculus)\n",
        "- given sufficiently small learning rate\n",
        "- even when training data contains noise\n",
        "- even when training data is not linearly separable."
      ]
    },
    {
      "cell_type": "markdown",
      "metadata": {
        "id": "xPIEBzKl4uVW"
      },
      "source": [
        "<div>\n",
        "<img src=\"https://github.com/merriekay/S23-CS167-Notes/blob/main/images/day17_grad_v_perceptron.png?raw=1\" width=1000/>\n",
        "</div>"
      ]
    },
    {
      "cell_type": "markdown",
      "metadata": {
        "id": "qDe51lzY4uVW"
      },
      "source": [
        "<div>\n",
        "<img src=\"https://github.com/merriekay/S23-CS167-Notes/blob/main/images/day17_gd5.png?raw=1\" width=1000/>\n",
        "</div>"
      ]
    },
    {
      "cell_type": "markdown",
      "metadata": {
        "id": "_ZUnkq7H4uVW"
      },
      "source": [
        "## 🙋 PollEverywhere "
      ]
    },
    {
      "cell_type": "markdown",
      "metadata": {
        "id": "z3Ll9PuN4uVX"
      },
      "source": [
        "# ✨ New Material"
      ]
    },
    {
      "cell_type": "markdown",
      "metadata": {
        "id": "3FRni4DX4uVX"
      },
      "source": [
        "# Deep Learning\n",
        "\n",
        "Up until this point, every model that we've talked about (knn, decision trees, random forests, support vector machines, principal component analysis, etc) are often referred to as _traditional_ machine learning modles. \n",
        "\n",
        "__Deep Learning__: is a subset of machine learning that relies primarily on neural networks, and most of what is considered AI today is accomplished with deep learning. Examples:\n",
        "- recognizing objects\n",
        "- speech transaltion\n",
        "- generating art and music\n",
        "- recommendation algorithms\n",
        "- and many many more"
      ]
    },
    {
      "cell_type": "markdown",
      "metadata": {
        "id": "LYn2pjRz4uVY"
      },
      "source": [
        "# 💬 Goup Exercise:\n",
        "\n",
        "Challenge: Devise an algorihtmic means for determining whether a photo contains a dog. \n",
        "\n",
        "<div>\n",
        "<img src=\"https://github.com/merriekay/S23-CS167-Notes/blob/main/images/day18_griff.png?raw=1\" width=700/>\n",
        "</div>"
      ]
    },
    {
      "cell_type": "markdown",
      "metadata": {
        "id": "I9sCfONR4uVY"
      },
      "source": [
        "## Multilayer Perceptrons\n",
        "\n",
        "Neural networks come in many varieties:\n",
        "- __Convolutional Neural Networks (CNNs)__ are particularly good at computer-vision tasks such as the one we just talked about\n",
        "- __Recurrent Neural Networks (RNNS)__ are great at working with time-series data--speech recognition, natural language processing, etc.\n",
        "- __Generative Adversarial Networks (GANs)__ are great at generating new things--art, music, etc. \n",
        "\n",
        "The first step in understading these awesome neural networks is understanding the simplest neural network, a __multilayer perceptron__."
      ]
    },
    {
      "cell_type": "markdown",
      "metadata": {
        "id": "N2YN_uAY4uVZ"
      },
      "source": [
        "# A Simple Neural Network:\n",
        "\n",
        "A __multilayer perceptron__ is ethe simplest type of neural network. It consists of perceptrons (aka nodes, neurons) arranged in layers. \n",
        "\n",
        "State of the art neural networks often contain >100 layers, hence, the term __deep learning__.\n",
        "\n",
        "<div>\n",
        "<img src=\"https://github.com/merriekay/S23-CS167-Notes/blob/main/images/day18_mlp1.png?raw=1\" width=500/>\n",
        "</div>\n",
        "\n",
        "[image source](https://github.com/jeffprosise/Applied-Machine-Learning/blob/main/Chapter%208/Multilayer%20Perceptron.ipynb)"
      ]
    },
    {
      "cell_type": "markdown",
      "metadata": {
        "id": "hNP93F0P4uVZ"
      },
      "source": [
        "## 🚨🚨Terminology Alert 🚨🚨\n",
        "- the __depth__ of the network is the number of layers\n",
        "- the __width__ of the network is the number of neurons in each layer, which can be different for every layer.\n",
        "- the first layer is the __input layer__\n",
        "- the last layer is the __output layer__\n",
        "- all the layers in between are called the __hidden layers__\n",
        "\n",
        "<div>\n",
        "<img src=\"https://github.com/merriekay/S23-CS167-Notes/blob/main/images/day18_mlp1.png?raw=1\" width=500/>\n",
        "</div>"
      ]
    },
    {
      "cell_type": "markdown",
      "metadata": {
        "id": "L14GH1qX4uVZ"
      },
      "source": [
        "# An Example: \n",
        "\n",
        "Let's go through an example together of how to do a __forward step__ (get predictions from an input) in a neural network. \n",
        "<div>\n",
        "<img src=\"https://github.com/merriekay/S23-CS167-Notes/blob/main/images/day18_mlp_ex.png?raw=1\" width=1000/>\n",
        "</div>\n"
      ]
    },
    {
      "cell_type": "markdown",
      "metadata": {
        "id": "aCNSzBwx4uVa"
      },
      "source": [
        "# Activation Functions\n",
        "\n",
        "If we have an MLP network, but use the step function (aka, a squashing function), you cannot represent complicated (non-linear) functions\n",
        "- we also cannot take the derivative of it, which is a big deal\n",
        "- we need a _non-linear_ __activation function__ to make the network more powerful.\n",
        "\n",
        "<div>\n",
        "<img src=\"https://github.com/merriekay/S23-CS167-Notes/blob/main/images/day16_perceptron.png?raw=1\" width=500/>\n",
        "</div>"
      ]
    },
    {
      "cell_type": "markdown",
      "metadata": {
        "id": "0NcYPMu14uVa"
      },
      "source": [
        "# Activation Functions: Sigmoid\n",
        "\n",
        "The most important things about __activation functions__ are:\n",
        "- what are the floor and ceiling numbers? \n",
        "    - For __sigmoid__ the output will be bounded between 0 and 1. \n",
        "- can you take the derivative of it? (Is it differentiable?)\n",
        "\n",
        "<div>\n",
        "<img src=\"https://github.com/merriekay/S23-CS167-Notes/blob/main/images/day18_sigmoid.png?raw=1\" width=1000/>\n",
        "</div>"
      ]
    },
    {
      "cell_type": "markdown",
      "metadata": {
        "id": "uYJQ_1p04uVa"
      },
      "source": [
        "## Other Activation Functions:\n",
        "\n",
        "<div>\n",
        "<img src=\"https://github.com/merriekay/S23-CS167-Notes/blob/main/images/day18_other_activations.png?raw=1\" width=500/>\n",
        "</div>"
      ]
    },
    {
      "cell_type": "markdown",
      "metadata": {
        "id": "qtFb8BTs4uVb"
      },
      "source": [
        "# Neural Network Parameters: Network Structure\n",
        "\n",
        "Each of these questions need to be answered before you set up your neural network:\n",
        "- how many hidden layers should I have? (depth)\n",
        "- how many neurons should be in each layer? (width)\n",
        "- what should your activation be at each of the layers?\n",
        "\n",
        "In general, the complexity of your network should match the complexity of your problem. \n",
        "\n",
        "The final node shoudl be related to what kind of problem you are solving."
      ]
    },
    {
      "cell_type": "markdown",
      "metadata": {
        "id": "v1TKwXYh4uVb"
      },
      "source": [
        "## Final output node: \n",
        "\n",
        "| **Activation Function** | **Function**                                       | **Lower bound** | **Upper bound** | **Type of Machine Learning**               |\n",
        "|-------------------------|----------------------------------------------------|-----------------|-----------------|--------------------------------------------|\n",
        "| Linear                  | $f(z) = az$                                        | $-\\infty$       | $\\infty$        | regression where results can be negative   |\n",
        "| Rectified Linear Unit (ReLU)  | $relu(z) = max(0,z)$                               | 0               | $\\infty$        | regression where results can't be negative |\n",
        "| Sigmoid                 | $sigmoid(z) = \\frac{1}{1 + e^{-z}}$                | 0               | 1               | binary classification                      |\n",
        "| Softmax                 | $softmax(z_i) = \\frac{exp(z_i)}{\\sum_{j} exp(z_j)}$ | 0               | 1               | multiclass classification                  |"
      ]
    },
    {
      "cell_type": "markdown",
      "metadata": {
        "id": "Yq-rmuck4uVc"
      },
      "source": [
        "# Demo:\n",
        "http://playground.tensorflow.org/ "
      ]
    },
    {
      "cell_type": "markdown",
      "metadata": {
        "id": "O9Hv0Byj4uVc"
      },
      "source": [
        "# 💬 Goup Exercise:\n",
        "\n",
        "See if you can build a model to learn the spiral training data from the Tensorflow Playground.\n",
        "- what parameters might be helpful to change?\n",
        "- how complex do you think you need to make your network?\n",
        "\n",
        "<div>\n",
        "<img src=\"https://github.com/merriekay/S23-CS167-Notes/blob/main/images/day18_spiral.png?raw=1\" width=500/>\n",
        "</div>"
      ]
    },
    {
      "cell_type": "markdown",
      "metadata": {
        "id": "jv-iWFiW4uVd"
      },
      "source": [
        "## 🚨🚨Terminology Alert 🚨🚨\n",
        "The process of computing the outputs of training examples is called __forward propagation__ (aka the forward step).\n",
        "\n",
        "The process of refining the weights of a neural network over the course of many epochs is called __backpropagation__."
      ]
    },
    {
      "cell_type": "markdown",
      "metadata": {
        "id": "QiJyD1604uVd"
      },
      "source": [
        "# How are Neural Networks Trained?\n",
        "\n",
        "__Weights__ $(w_0, w_1, ... w_n)$\n",
        "- trainable parameters\n",
        "- learned from the training data\n",
        "\n",
        "The goal is to __minimize the error__ predicted by the model. "
      ]
    },
    {
      "cell_type": "markdown",
      "metadata": {
        "id": "DOR1wVDV4uVe"
      },
      "source": [
        "After given an initial set of weights, how can we update the weights in the 'right direction'?\n",
        "- take the _derivative_ of the error function and use the derivative in the update rule to update the set of weights in the next epoch."
      ]
    },
    {
      "cell_type": "markdown",
      "metadata": {
        "id": "k5DW0Zlq4uVe"
      },
      "source": [
        "Recall: \n",
        "- Perceptron training rule:\n",
        "\n",
        "<div>\n",
        "<img src=\"https://github.com/merriekay/S23-CS167-Notes/blob/main/images/day16_updaterule.png?raw=1\" width=400/>\n",
        "</div>\n",
        "\n",
        "For multilayer peceptrons, our update rule becomes:\n",
        "$$w \\leftarrow w - \\eta \\frac{\\partial E}{\\partial w}$$\n",
        "\n",
        "Where $\\eta$ is the learning rate, $E$ is the Error function, and $w$ is the weights."
      ]
    },
    {
      "cell_type": "markdown",
      "metadata": {
        "id": "Kvs1ZQOw4uVf"
      },
      "source": [
        "# Backpropagation:\n",
        "\n",
        "__backpropagation__ tunes the weights over a neural network using __gradient descent__ to iteratively reduce the error in the network.\n",
        "\n",
        "![backprop gif](https://thumbs.gfycat.com/BitesizedWeeBlacklemur-max-1mb.gif)\n",
        "\n",
        "[image source](https://gfycat.com/gifs/search/backpropagation)"
      ]
    },
    {
      "cell_type": "markdown",
      "metadata": {
        "id": "c2AKqU9V4uVf"
      },
      "source": [
        "![backprop gif2](https://miro.medium.com/proxy/1*mTTmfdMcFlPtyu8__vRHOQ.gif)\n",
        "\n",
        "[image source](https://www.kdnuggets.com/2019/10/introduction-artificial-neural-networks.html)"
      ]
    },
    {
      "cell_type": "markdown",
      "metadata": {
        "id": "pu2DGkEl4uVf"
      },
      "source": [
        "## Overfitting\n",
        "\n",
        "Neural networks, like many machine learning models, are suceptible to __overfitting__.\n",
        "\n",
        "How can we recognize overfitting?\n",
        "\n",
        "Given the graph below, at what point do you think our model started overfitting?\n",
        "\n",
        "<div>\n",
        "<img src=\"https://github.com/merriekay/S23-CS167-Notes/blob/main/images/day18_overfit.png?raw=1\" width=800/>\n",
        "</div>\n"
      ]
    },
    {
      "cell_type": "markdown",
      "metadata": {
        "id": "Efqc8kYv4uVf"
      },
      "source": [
        "## Overfitting\n",
        "\n",
        "__overfitting__ happens when the _training set error_ continues to improve, but the _validation (testing) set error_ starts to worsen (increase). \n",
        "\n",
        "So... how do we know when to stop training our model to avoid overfitting?"
      ]
    },
    {
      "cell_type": "markdown",
      "metadata": {
        "id": "0B3nmwrT4uVf"
      },
      "source": [
        "## Overfitting\n",
        "\n",
        "<div>\n",
        "<img src=\"https://github.com/merriekay/S23-CS167-Notes/blob/main/images/day18_overfit2.png?raw=1\" width=800/>\n",
        "</div>\n"
      ]
    },
    {
      "cell_type": "markdown",
      "metadata": {
        "id": "bhcJIiFd4uVg"
      },
      "source": [
        "# Neural Network Summary\n",
        "\n",
        "Neural Networks are effective in __finding non-linear patterns__ in the training data.\n",
        "- can be applied to __regression__ or __classification__.\n",
        "- __backpropagation__ tunes the weights over a neural network using __gradient descent__ to iteratively reduce the error in the network. \n",
        "- __Overfitting__ the training data is common and is important to avoid.\n",
        "- The following parameters shoudl be tuned when using neural networks:\n",
        "    - number of epochs\n",
        "    - structure of the network (depth, width)\n",
        "    - activation function\n",
        "    - eta (learning rate)\n"
      ]
    },
    {
      "cell_type": "markdown",
      "metadata": {
        "id": "1XC7VEFe4uVh"
      },
      "source": [
        "## MLP Code\n",
        "\n",
        "Last thing we'll use from `sklearn`. "
      ]
    },
    {
      "cell_type": "code",
      "execution_count": 3,
      "metadata": {
        "id": "guGnJRAT4uVh",
        "outputId": "5c873f8a-d665-49c5-83c4-9231df7eba06",
        "colab": {
          "base_uri": "https://localhost:8080/"
        }
      },
      "outputs": [
        {
          "output_type": "stream",
          "name": "stdout",
          "text": [
            "Drive already mounted at /content/drive; to attempt to forcibly remount, call drive.mount(\"/content/drive\", force_remount=True).\n"
          ]
        }
      ],
      "source": [
        "from google.colab import drive\n",
        "import pandas\n",
        "drive.mount('/content/drive')"
      ]
    },
    {
      "cell_type": "code",
      "execution_count": 4,
      "metadata": {
        "id": "6IlFz-w04uVi",
        "outputId": "f31eeff5-6003-41dd-f7bf-a3285272eeb7",
        "colab": {
          "base_uri": "https://localhost:8080/",
          "height": 204
        }
      },
      "outputs": [
        {
          "output_type": "execute_result",
          "data": {
            "text/plain": [
              "   sepal length  sepal width  petal length  petal width      species\n",
              "0           5.1          3.5           1.4          0.2  Iris-setosa\n",
              "1           4.9          3.0           1.4          0.2  Iris-setosa\n",
              "2           4.7          3.2           1.3          0.2  Iris-setosa\n",
              "3           4.6          3.1           1.5          0.2  Iris-setosa\n",
              "4           5.0          3.6           1.4          0.2  Iris-setosa"
            ],
            "text/html": [
              "\n",
              "  <div id=\"df-920a6a53-118f-4492-8902-3daa1670d3a6\">\n",
              "    <div class=\"colab-df-container\">\n",
              "      <div>\n",
              "<style scoped>\n",
              "    .dataframe tbody tr th:only-of-type {\n",
              "        vertical-align: middle;\n",
              "    }\n",
              "\n",
              "    .dataframe tbody tr th {\n",
              "        vertical-align: top;\n",
              "    }\n",
              "\n",
              "    .dataframe thead th {\n",
              "        text-align: right;\n",
              "    }\n",
              "</style>\n",
              "<table border=\"1\" class=\"dataframe\">\n",
              "  <thead>\n",
              "    <tr style=\"text-align: right;\">\n",
              "      <th></th>\n",
              "      <th>sepal length</th>\n",
              "      <th>sepal width</th>\n",
              "      <th>petal length</th>\n",
              "      <th>petal width</th>\n",
              "      <th>species</th>\n",
              "    </tr>\n",
              "  </thead>\n",
              "  <tbody>\n",
              "    <tr>\n",
              "      <th>0</th>\n",
              "      <td>5.1</td>\n",
              "      <td>3.5</td>\n",
              "      <td>1.4</td>\n",
              "      <td>0.2</td>\n",
              "      <td>Iris-setosa</td>\n",
              "    </tr>\n",
              "    <tr>\n",
              "      <th>1</th>\n",
              "      <td>4.9</td>\n",
              "      <td>3.0</td>\n",
              "      <td>1.4</td>\n",
              "      <td>0.2</td>\n",
              "      <td>Iris-setosa</td>\n",
              "    </tr>\n",
              "    <tr>\n",
              "      <th>2</th>\n",
              "      <td>4.7</td>\n",
              "      <td>3.2</td>\n",
              "      <td>1.3</td>\n",
              "      <td>0.2</td>\n",
              "      <td>Iris-setosa</td>\n",
              "    </tr>\n",
              "    <tr>\n",
              "      <th>3</th>\n",
              "      <td>4.6</td>\n",
              "      <td>3.1</td>\n",
              "      <td>1.5</td>\n",
              "      <td>0.2</td>\n",
              "      <td>Iris-setosa</td>\n",
              "    </tr>\n",
              "    <tr>\n",
              "      <th>4</th>\n",
              "      <td>5.0</td>\n",
              "      <td>3.6</td>\n",
              "      <td>1.4</td>\n",
              "      <td>0.2</td>\n",
              "      <td>Iris-setosa</td>\n",
              "    </tr>\n",
              "  </tbody>\n",
              "</table>\n",
              "</div>\n",
              "      <button class=\"colab-df-convert\" onclick=\"convertToInteractive('df-920a6a53-118f-4492-8902-3daa1670d3a6')\"\n",
              "              title=\"Convert this dataframe to an interactive table.\"\n",
              "              style=\"display:none;\">\n",
              "        \n",
              "  <svg xmlns=\"http://www.w3.org/2000/svg\" height=\"24px\"viewBox=\"0 0 24 24\"\n",
              "       width=\"24px\">\n",
              "    <path d=\"M0 0h24v24H0V0z\" fill=\"none\"/>\n",
              "    <path d=\"M18.56 5.44l.94 2.06.94-2.06 2.06-.94-2.06-.94-.94-2.06-.94 2.06-2.06.94zm-11 1L8.5 8.5l.94-2.06 2.06-.94-2.06-.94L8.5 2.5l-.94 2.06-2.06.94zm10 10l.94 2.06.94-2.06 2.06-.94-2.06-.94-.94-2.06-.94 2.06-2.06.94z\"/><path d=\"M17.41 7.96l-1.37-1.37c-.4-.4-.92-.59-1.43-.59-.52 0-1.04.2-1.43.59L10.3 9.45l-7.72 7.72c-.78.78-.78 2.05 0 2.83L4 21.41c.39.39.9.59 1.41.59.51 0 1.02-.2 1.41-.59l7.78-7.78 2.81-2.81c.8-.78.8-2.07 0-2.86zM5.41 20L4 18.59l7.72-7.72 1.47 1.35L5.41 20z\"/>\n",
              "  </svg>\n",
              "      </button>\n",
              "      \n",
              "  <style>\n",
              "    .colab-df-container {\n",
              "      display:flex;\n",
              "      flex-wrap:wrap;\n",
              "      gap: 12px;\n",
              "    }\n",
              "\n",
              "    .colab-df-convert {\n",
              "      background-color: #E8F0FE;\n",
              "      border: none;\n",
              "      border-radius: 50%;\n",
              "      cursor: pointer;\n",
              "      display: none;\n",
              "      fill: #1967D2;\n",
              "      height: 32px;\n",
              "      padding: 0 0 0 0;\n",
              "      width: 32px;\n",
              "    }\n",
              "\n",
              "    .colab-df-convert:hover {\n",
              "      background-color: #E2EBFA;\n",
              "      box-shadow: 0px 1px 2px rgba(60, 64, 67, 0.3), 0px 1px 3px 1px rgba(60, 64, 67, 0.15);\n",
              "      fill: #174EA6;\n",
              "    }\n",
              "\n",
              "    [theme=dark] .colab-df-convert {\n",
              "      background-color: #3B4455;\n",
              "      fill: #D2E3FC;\n",
              "    }\n",
              "\n",
              "    [theme=dark] .colab-df-convert:hover {\n",
              "      background-color: #434B5C;\n",
              "      box-shadow: 0px 1px 3px 1px rgba(0, 0, 0, 0.15);\n",
              "      filter: drop-shadow(0px 1px 2px rgba(0, 0, 0, 0.3));\n",
              "      fill: #FFFFFF;\n",
              "    }\n",
              "  </style>\n",
              "\n",
              "      <script>\n",
              "        const buttonEl =\n",
              "          document.querySelector('#df-920a6a53-118f-4492-8902-3daa1670d3a6 button.colab-df-convert');\n",
              "        buttonEl.style.display =\n",
              "          google.colab.kernel.accessAllowed ? 'block' : 'none';\n",
              "\n",
              "        async function convertToInteractive(key) {\n",
              "          const element = document.querySelector('#df-920a6a53-118f-4492-8902-3daa1670d3a6');\n",
              "          const dataTable =\n",
              "            await google.colab.kernel.invokeFunction('convertToInteractive',\n",
              "                                                     [key], {});\n",
              "          if (!dataTable) return;\n",
              "\n",
              "          const docLinkHtml = 'Like what you see? Visit the ' +\n",
              "            '<a target=\"_blank\" href=https://colab.research.google.com/notebooks/data_table.ipynb>data table notebook</a>'\n",
              "            + ' to learn more about interactive tables.';\n",
              "          element.innerHTML = '';\n",
              "          dataTable['output_type'] = 'display_data';\n",
              "          await google.colab.output.renderOutput(dataTable, element);\n",
              "          const docLink = document.createElement('div');\n",
              "          docLink.innerHTML = docLinkHtml;\n",
              "          element.appendChild(docLink);\n",
              "        }\n",
              "      </script>\n",
              "    </div>\n",
              "  </div>\n",
              "  "
            ]
          },
          "metadata": {},
          "execution_count": 4
        }
      ],
      "source": [
        "import pandas\n",
        "#path = 'datasets/irisData.csv'\n",
        "path = '/content/drive/MyDrive/irisData.csv'\n",
        "data = pandas.read_csv(path)\n",
        "data.head()"
      ]
    },
    {
      "cell_type": "code",
      "execution_count": 5,
      "metadata": {
        "id": "Fv-sG1_S4uVk"
      },
      "outputs": [],
      "source": [
        "import pandas\n",
        "import numpy\n",
        "from sklearn.model_selection import train_test_split\n",
        "\n",
        "#Split the dataset\n",
        "predictors = data.columns.drop('species')\n",
        "target = \"species\"\n",
        "train_data, test_data, train_sln, test_sln = train_test_split(data[predictors], data[target], test_size = 0.2, random_state=41)\n",
        "\n",
        "#Normalize Data\n",
        "from sklearn.preprocessing import StandardScaler\n",
        "scaler = StandardScaler()\n",
        "scaler.fit(train_data)\n",
        "train_data_norm = scaler.transform(train_data)\n",
        "test_data_norm = scaler.transform(test_data)"
      ]
    },
    {
      "cell_type": "markdown",
      "metadata": {
        "id": "Zup9Z_9x4uVl"
      },
      "source": [
        "## Build a MLP using `sklearn`"
      ]
    },
    {
      "cell_type": "code",
      "execution_count": 6,
      "metadata": {
        "id": "0CY7n5QW4uVl",
        "outputId": "f005f6e7-0ad7-4212-c7ae-7cd8f5a3714b",
        "colab": {
          "base_uri": "https://localhost:8080/",
          "height": 472
        }
      },
      "outputs": [
        {
          "output_type": "stream",
          "name": "stdout",
          "text": [
            "Accuracy:  0.9\n"
          ]
        },
        {
          "output_type": "display_data",
          "data": {
            "text/plain": [
              "<Figure size 640x480 with 2 Axes>"
            ],
            "image/png": "[encoded data removed]"
          },
          "metadata": {}
        }
      ],
      "source": [
        "# Set up MLP\n",
        "from sklearn.neural_network import MLPClassifier\n",
        "from sklearn import metrics\n",
        "from sklearn.metrics import confusion_matrix, ConfusionMatrixDisplay\n",
        "import matplotlib.pyplot as plt\n",
        "\n",
        "mlp = MLPClassifier(random_state=0,hidden_layer_sizes = (100,), max_iter = 800)\n",
        "mlp.fit(train_data_norm,train_sln)\n",
        "predictions = mlp.predict(test_data_norm)\n",
        "\n",
        "print(\"Accuracy: \", metrics.accuracy_score(test_sln,predictions))\n",
        "\n",
        "# Confusion Matrix\n",
        "vals = data[target].unique() ## possible classification values (species)\n",
        "conf_mat = metrics.confusion_matrix(test_sln, predictions, labels=vals)\n",
        "\n",
        "#print(pandas.DataFrame(conf_mat, index = \"True \" + vals, columns = \"Pre \" + vals))\n",
        "\n",
        "disp = ConfusionMatrixDisplay(confusion_matrix=conf_mat,display_labels=mlp.classes_)\n",
        "disp.plot()\n",
        "plt.show()"
      ]
    },
    {
      "cell_type": "markdown",
      "metadata": {
        "id": "XqAsWBrI4uVm"
      },
      "source": [
        "# 💬 Goup Exercise:\n",
        "## In-Class Exercise #1:\n",
        "\n",
        "1. Read in the Boston Housing dataset\n",
        "2. Normalize your data\n",
        "3. Use a [`MLPRegressor`](https://scikit-learn.org/stable/modules/generated/sklearn.neural_network.MLPRegressor.html) to predict the price of a house 'MEDV'\n",
        "4. Play around with changing the parameters, see what the best R2 score you can get is. \n"
      ]
    },
    {
      "cell_type": "code",
      "execution_count": 7,
      "metadata": {
        "id": "xs0FJWbJ4uVm"
      },
      "outputs": [],
      "source": [
        "# Your code goes here for the In-Class Exercise\n",
        "# 1. Read in the Boston Housing dataset\n",
        "import pandas\n",
        "housing_data = pandas.read_csv('/content/drive/MyDrive/boston_housing.csv') \n",
        "\n",
        "# clean the data\n",
        "housing_data['CRIM'].fillna(housing_data['CRIM'].mean(),inplace=True)\n",
        "housing_data['ZN'].fillna(housing_data['ZN'].mean(),inplace=True)\n",
        "housing_data['INDUS'].fillna(housing_data['INDUS'].mean(),inplace=True)\n",
        "housing_data['CHAS'].fillna(housing_data['CHAS'].mean(),inplace=True)\n",
        "housing_data['AGE'].fillna(housing_data['AGE'].mean(),inplace=True)\n",
        "housing_data['LSTAT'].fillna(housing_data['LSTAT'].mean(),inplace=True)\n",
        "\n",
        "#Split the dataset\n",
        "predictors = housing_data.columns.drop('MEDV')\n",
        "target = \"MEDV\"\n",
        "train_data, test_data, train_sln, test_sln = train_test_split(housing_data[predictors], housing_data[target], test_size = 0.2, random_state=0)\n"
      ]
    },
    {
      "cell_type": "code",
      "execution_count": 8,
      "metadata": {
        "id": "_3O7fSmj4uVn"
      },
      "outputs": [],
      "source": [
        "#2. Normalize the data\n",
        "from sklearn.preprocessing import StandardScaler\n"
      ]
    },
    {
      "cell_type": "code",
      "execution_count": 9,
      "metadata": {
        "id": "Q_eSwJLZ4uVn"
      },
      "outputs": [],
      "source": [
        "#3. Use a MLPRegressor to predict the price of a house 'MEDV'\n",
        "from sklearn.neural_network import MLPRegressor\n",
        "from sklearn import metrics\n",
        "\n"
      ]
    },
    {
      "cell_type": "code",
      "execution_count": 10,
      "metadata": {
        "id": "1IpwZoNk4uVn"
      },
      "outputs": [],
      "source": [
        "#4. Play around with the parameters"
      ]
    }
  ],
  "metadata": {
    "celltoolbar": "Slideshow",
    "kernelspec": {
      "display_name": "Python 3",
      "language": "python",
      "name": "python3"
    },
    "language_info": {
      "codemirror_mode": {
        "name": "ipython",
        "version": 3
      },
      "file_extension": ".py",
      "mimetype": "text/x-python",
      "name": "python",
      "nbconvert_exporter": "python",
      "pygments_lexer": "ipython3",
      "version": "3.8.3"
    },
    "colab": {
      "provenance": [],
      "include_colab_link": true
    }
  },
  "nbformat": 4,
  "nbformat_minor": 0
}