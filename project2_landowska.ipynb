{
  "nbformat": 4,
  "nbformat_minor": 0,
  "metadata": {
    "colab": {
      "provenance": [],
      "gpuType": "T4",
      "include_colab_link": true
    },
    "kernelspec": {
      "name": "python3",
      "display_name": "Python 3"
    },
    "language_info": {
      "name": "python"
    },
    "accelerator": "GPU",
    "gpuClass": "standard"
  },
  "cells": [
    {
      "cell_type": "markdown",
      "metadata": {
        "id": "view-in-github",
        "colab_type": "text"
      },
      "source": [
        "<a href=\"https://colab.research.google.com/github/ZofiaLandowska/notes/blob/main/project2_landowska.ipynb\" target=\"_parent\"><img src=\"https://colab.research.google.com/assets/colab-badge.svg\" alt=\"Open In Colab\"/></a>"
      ]
    },
    {
      "cell_type": "markdown",
      "source": [
        "# Project #2\n",
        "##Name: Zofia Landowska \n",
        "\n",
        "Proposed Points (out of 25): 20"
      ],
      "metadata": {
        "id": "rIepkBIuT_Pl"
      }
    },
    {
      "cell_type": "markdown",
      "source": [
        "# 1. Problem\n",
        "State the problem you are trying to solve with this machine learning experiment. Include a description of the data, where you got the data, and what you're trying to predict.."
      ],
      "metadata": {
        "id": "HbwKLNhzP8YO"
      }
    },
    {
      "cell_type": "markdown",
      "source": [
        "I trained a Neural Network on \"Netflix Stock Price Prediction\" dataset which \n",
        "I downloaded from Kaggle. The goal of my model is to predict the price at which the stock will close. The dataset I used contains data for 5 years ie. from 5th Feb 2018 to 5th Feb 2022. It includes 7 columns: \n",
        "\n",
        "1. \"Date\" \n",
        "2. \"Open\" - price at which stock opened \n",
        "3. \"High\" - today's high \n",
        "4. \"Low\" - today's low\n",
        "5. \"Close\" - close price adjusted for splits\n",
        "6. \"Adj Close\" - adjusted close price adjusted for splits and dividend and/or capital gain distributions\n",
        "7. \"Volume\" - volume of stocks"
      ],
      "metadata": {
        "id": "LwseoUsMmCz2"
      }
    },
    {
      "cell_type": "markdown",
      "source": [
        "# 2. Data Preparation\n",
        "Explain your data preparation. What did you have to do to get your data in shape for your experiments? Why are you certain that you data is clean and prepared for use in your algorithms?"
      ],
      "metadata": {
        "id": "qR_foVOeQVL7"
      }
    },
    {
      "cell_type": "markdown",
      "source": [
        "First I dropped the \"Adj Close\" column since I will not be using it in my predictions. Then, I added a new column that contains the day of the week for each date in the \"Date\" column. This can be useful for analyzing trends or patterns that may be specific to certain days of the week. I also checked for any missing values and there were none. Finally, I split the dataset into input features and target variable."
      ],
      "metadata": {
        "id": "aMDJDnW_mOWu"
      }
    },
    {
      "cell_type": "code",
      "source": [
        "from google.colab import drive\n",
        "drive.mount('/content/drive')"
      ],
      "metadata": {
        "id": "2wiB_mhn1G0O",
        "outputId": "372f7d38-0134-40e4-9b49-9e0db71a7d6a",
        "colab": {
          "base_uri": "https://localhost:8080/"
        }
      },
      "execution_count": null,
      "outputs": [
        {
          "output_type": "stream",
          "name": "stdout",
          "text": [
            "Drive already mounted at /content/drive; to attempt to forcibly remount, call drive.mount(\"/content/drive\", force_remount=True).\n"
          ]
        }
      ]
    },
    {
      "cell_type": "code",
      "source": [
        "# load and prepare your data here\n",
        "import pandas as pd\n",
        "\n",
        "path = '/content/drive/MyDrive/NFLX.csv'\n",
        "data = pd.read_csv(path)\n",
        "df = pd.read_csv(path, parse_dates=['Date'])\n",
        "\n",
        "df.drop(['Adj Close'], axis=1, inplace=True)\n",
        "\n",
        "for i, row in df.iterrows():\n",
        "    dt = row['Date']\n",
        "    df.at[i, 'Day of the week'] = dt.weekday()\n",
        "\n",
        "df.drop(['Date'], axis=1, inplace=True)\n",
        "\n",
        "print(data.isnull().sum())\n",
        "\n",
        "x = df.drop('Close', axis=1)\n",
        "y = df['Close']\n",
        "\n",
        "df.head()"
      ],
      "metadata": {
        "id": "9dUdBChRmKxR",
        "outputId": "b595012a-6db9-44dd-a5ce-3918bff5ebb9",
        "colab": {
          "base_uri": "https://localhost:8080/",
          "height": 340
        }
      },
      "execution_count": null,
      "outputs": [
        {
          "output_type": "stream",
          "name": "stdout",
          "text": [
            "Date         0\n",
            "Open         0\n",
            "High         0\n",
            "Low          0\n",
            "Close        0\n",
            "Adj Close    0\n",
            "Volume       0\n",
            "dtype: int64\n"
          ]
        },
        {
          "output_type": "execute_result",
          "data": {
            "text/plain": [
              "         Open        High         Low       Close    Volume  Day of the week\n",
              "0  262.000000  267.899994  250.029999  254.259995  11896100              0.0\n",
              "1  247.699997  266.700012  245.000000  265.720001  12595800              1.0\n",
              "2  266.579987  272.450012  264.329987  264.559998   8981500              2.0\n",
              "3  267.079987  267.619995  250.000000  250.100006   9306700              3.0\n",
              "4  253.850006  255.800003  236.110001  249.470001  16906900              4.0"
            ],
            "text/html": [
              "\n",
              "  <div id=\"df-9daa0500-4642-4b39-a2c7-a11a2bf88d73\">\n",
              "    <div class=\"colab-df-container\">\n",
              "      <div>\n",
              "<style scoped>\n",
              "    .dataframe tbody tr th:only-of-type {\n",
              "        vertical-align: middle;\n",
              "    }\n",
              "\n",
              "    .dataframe tbody tr th {\n",
              "        vertical-align: top;\n",
              "    }\n",
              "\n",
              "    .dataframe thead th {\n",
              "        text-align: right;\n",
              "    }\n",
              "</style>\n",
              "<table border=\"1\" class=\"dataframe\">\n",
              "  <thead>\n",
              "    <tr style=\"text-align: right;\">\n",
              "      <th></th>\n",
              "      <th>Open</th>\n",
              "      <th>High</th>\n",
              "      <th>Low</th>\n",
              "      <th>Close</th>\n",
              "      <th>Volume</th>\n",
              "      <th>Day of the week</th>\n",
              "    </tr>\n",
              "  </thead>\n",
              "  <tbody>\n",
              "    <tr>\n",
              "      <th>0</th>\n",
              "      <td>262.000000</td>\n",
              "      <td>267.899994</td>\n",
              "      <td>250.029999</td>\n",
              "      <td>254.259995</td>\n",
              "      <td>11896100</td>\n",
              "      <td>0.0</td>\n",
              "    </tr>\n",
              "    <tr>\n",
              "      <th>1</th>\n",
              "      <td>247.699997</td>\n",
              "      <td>266.700012</td>\n",
              "      <td>245.000000</td>\n",
              "      <td>265.720001</td>\n",
              "      <td>12595800</td>\n",
              "      <td>1.0</td>\n",
              "    </tr>\n",
              "    <tr>\n",
              "      <th>2</th>\n",
              "      <td>266.579987</td>\n",
              "      <td>272.450012</td>\n",
              "      <td>264.329987</td>\n",
              "      <td>264.559998</td>\n",
              "      <td>8981500</td>\n",
              "      <td>2.0</td>\n",
              "    </tr>\n",
              "    <tr>\n",
              "      <th>3</th>\n",
              "      <td>267.079987</td>\n",
              "      <td>267.619995</td>\n",
              "      <td>250.000000</td>\n",
              "      <td>250.100006</td>\n",
              "      <td>9306700</td>\n",
              "      <td>3.0</td>\n",
              "    </tr>\n",
              "    <tr>\n",
              "      <th>4</th>\n",
              "      <td>253.850006</td>\n",
              "      <td>255.800003</td>\n",
              "      <td>236.110001</td>\n",
              "      <td>249.470001</td>\n",
              "      <td>16906900</td>\n",
              "      <td>4.0</td>\n",
              "    </tr>\n",
              "  </tbody>\n",
              "</table>\n",
              "</div>\n",
              "      <button class=\"colab-df-convert\" onclick=\"convertToInteractive('df-9daa0500-4642-4b39-a2c7-a11a2bf88d73')\"\n",
              "              title=\"Convert this dataframe to an interactive table.\"\n",
              "              style=\"display:none;\">\n",
              "        \n",
              "  <svg xmlns=\"http://www.w3.org/2000/svg\" height=\"24px\"viewBox=\"0 0 24 24\"\n",
              "       width=\"24px\">\n",
              "    <path d=\"M0 0h24v24H0V0z\" fill=\"none\"/>\n",
              "    <path d=\"M18.56 5.44l.94 2.06.94-2.06 2.06-.94-2.06-.94-.94-2.06-.94 2.06-2.06.94zm-11 1L8.5 8.5l.94-2.06 2.06-.94-2.06-.94L8.5 2.5l-.94 2.06-2.06.94zm10 10l.94 2.06.94-2.06 2.06-.94-2.06-.94-.94-2.06-.94 2.06-2.06.94z\"/><path d=\"M17.41 7.96l-1.37-1.37c-.4-.4-.92-.59-1.43-.59-.52 0-1.04.2-1.43.59L10.3 9.45l-7.72 7.72c-.78.78-.78 2.05 0 2.83L4 21.41c.39.39.9.59 1.41.59.51 0 1.02-.2 1.41-.59l7.78-7.78 2.81-2.81c.8-.78.8-2.07 0-2.86zM5.41 20L4 18.59l7.72-7.72 1.47 1.35L5.41 20z\"/>\n",
              "  </svg>\n",
              "      </button>\n",
              "      \n",
              "  <style>\n",
              "    .colab-df-container {\n",
              "      display:flex;\n",
              "      flex-wrap:wrap;\n",
              "      gap: 12px;\n",
              "    }\n",
              "\n",
              "    .colab-df-convert {\n",
              "      background-color: #E8F0FE;\n",
              "      border: none;\n",
              "      border-radius: 50%;\n",
              "      cursor: pointer;\n",
              "      display: none;\n",
              "      fill: #1967D2;\n",
              "      height: 32px;\n",
              "      padding: 0 0 0 0;\n",
              "      width: 32px;\n",
              "    }\n",
              "\n",
              "    .colab-df-convert:hover {\n",
              "      background-color: #E2EBFA;\n",
              "      box-shadow: 0px 1px 2px rgba(60, 64, 67, 0.3), 0px 1px 3px 1px rgba(60, 64, 67, 0.15);\n",
              "      fill: #174EA6;\n",
              "    }\n",
              "\n",
              "    [theme=dark] .colab-df-convert {\n",
              "      background-color: #3B4455;\n",
              "      fill: #D2E3FC;\n",
              "    }\n",
              "\n",
              "    [theme=dark] .colab-df-convert:hover {\n",
              "      background-color: #434B5C;\n",
              "      box-shadow: 0px 1px 3px 1px rgba(0, 0, 0, 0.15);\n",
              "      filter: drop-shadow(0px 1px 2px rgba(0, 0, 0, 0.3));\n",
              "      fill: #FFFFFF;\n",
              "    }\n",
              "  </style>\n",
              "\n",
              "      <script>\n",
              "        const buttonEl =\n",
              "          document.querySelector('#df-9daa0500-4642-4b39-a2c7-a11a2bf88d73 button.colab-df-convert');\n",
              "        buttonEl.style.display =\n",
              "          google.colab.kernel.accessAllowed ? 'block' : 'none';\n",
              "\n",
              "        async function convertToInteractive(key) {\n",
              "          const element = document.querySelector('#df-9daa0500-4642-4b39-a2c7-a11a2bf88d73');\n",
              "          const dataTable =\n",
              "            await google.colab.kernel.invokeFunction('convertToInteractive',\n",
              "                                                     [key], {});\n",
              "          if (!dataTable) return;\n",
              "\n",
              "          const docLinkHtml = 'Like what you see? Visit the ' +\n",
              "            '<a target=\"_blank\" href=https://colab.research.google.com/notebooks/data_table.ipynb>data table notebook</a>'\n",
              "            + ' to learn more about interactive tables.';\n",
              "          element.innerHTML = '';\n",
              "          dataTable['output_type'] = 'display_data';\n",
              "          await google.colab.output.renderOutput(dataTable, element);\n",
              "          const docLink = document.createElement('div');\n",
              "          docLink.innerHTML = docLinkHtml;\n",
              "          element.appendChild(docLink);\n",
              "        }\n",
              "      </script>\n",
              "    </div>\n",
              "  </div>\n",
              "  "
            ]
          },
          "metadata": {},
          "execution_count": 51
        }
      ]
    },
    {
      "cell_type": "markdown",
      "source": [
        "# 3. Research\n",
        "\n",
        "Put your code and your experiments here."
      ],
      "metadata": {
        "id": "Hc7HMmNPR10W"
      }
    },
    {
      "cell_type": "code",
      "source": [
        "# code goes here... don't forget to include graphs. Professor Urness loves graphs.\n",
        "from tensorflow.keras.models import Sequential\n",
        "from tensorflow.keras.layers import Dense\n",
        " \n",
        "model = Sequential()\n",
        "model.add(Dense(64, activation='relu', input_dim=5))\n",
        "model.add(Dense(32, activation='relu'))\n",
        "model.add(Dense(1))\n",
        "model.compile(optimizer='adam', loss='mae', metrics=['mae'])\n",
        "model.summary()"
      ],
      "metadata": {
        "id": "XfaACsEOR4U5",
        "colab": {
          "base_uri": "https://localhost:8080/"
        },
        "outputId": "4c9fd465-f490-4e2b-e98d-ec75c4fe6ae4"
      },
      "execution_count": null,
      "outputs": [
        {
          "output_type": "stream",
          "name": "stdout",
          "text": [
            "Model: \"sequential_10\"\n",
            "_________________________________________________________________\n",
            " Layer (type)                Output Shape              Param #   \n",
            "=================================================================\n",
            " dense_30 (Dense)            (None, 64)                384       \n",
            "                                                                 \n",
            " dense_31 (Dense)            (None, 32)                2080      \n",
            "                                                                 \n",
            " dense_32 (Dense)            (None, 1)                 33        \n",
            "                                                                 \n",
            "=================================================================\n",
            "Total params: 2,497\n",
            "Trainable params: 2,497\n",
            "Non-trainable params: 0\n",
            "_________________________________________________________________\n"
          ]
        }
      ]
    },
    {
      "cell_type": "code",
      "source": [
        "hist = model.fit(x, y, validation_split=0.2, epochs=50, batch_size=32)"
      ],
      "metadata": {
        "id": "Lch7XpjdXzDS",
        "colab": {
          "base_uri": "https://localhost:8080/"
        },
        "outputId": "29c93bd3-b73a-47d1-8495-bbae94f5a640"
      },
      "execution_count": null,
      "outputs": [
        {
          "output_type": "stream",
          "name": "stdout",
          "text": [
            "Epoch 1/50\n",
            "26/26 [==============================] - 1s 9ms/step - loss: 587564.1250 - mae: 587564.1250 - val_loss: 88134.0469 - val_mae: 88134.0469\n",
            "Epoch 2/50\n",
            "26/26 [==============================] - 0s 4ms/step - loss: 66670.1328 - mae: 66670.1328 - val_loss: 27539.9531 - val_mae: 27539.9531\n",
            "Epoch 3/50\n",
            "26/26 [==============================] - 0s 4ms/step - loss: 11532.0459 - mae: 11532.0459 - val_loss: 7972.5576 - val_mae: 7972.5576\n",
            "Epoch 4/50\n",
            "26/26 [==============================] - 0s 5ms/step - loss: 6551.0327 - mae: 6551.0327 - val_loss: 4630.6187 - val_mae: 4630.6187\n",
            "Epoch 5/50\n",
            "26/26 [==============================] - 0s 5ms/step - loss: 6849.8555 - mae: 6849.8555 - val_loss: 6880.4546 - val_mae: 6880.4546\n",
            "Epoch 6/50\n",
            "26/26 [==============================] - 0s 6ms/step - loss: 11155.3008 - mae: 11155.3008 - val_loss: 9066.6572 - val_mae: 9066.6572\n",
            "Epoch 7/50\n",
            "26/26 [==============================] - 0s 4ms/step - loss: 6284.3501 - mae: 6284.3501 - val_loss: 2058.7695 - val_mae: 2058.7695\n",
            "Epoch 8/50\n",
            "26/26 [==============================] - 0s 4ms/step - loss: 6860.1709 - mae: 6860.1709 - val_loss: 13731.3662 - val_mae: 13731.3662\n",
            "Epoch 9/50\n",
            "26/26 [==============================] - 0s 4ms/step - loss: 10653.3721 - mae: 10653.3721 - val_loss: 476.3709 - val_mae: 476.3709\n",
            "Epoch 10/50\n",
            "26/26 [==============================] - 0s 4ms/step - loss: 11868.0752 - mae: 11868.0752 - val_loss: 4074.3804 - val_mae: 4074.3804\n",
            "Epoch 11/50\n",
            "26/26 [==============================] - 0s 5ms/step - loss: 8708.4502 - mae: 8708.4502 - val_loss: 3991.2651 - val_mae: 3991.2651\n",
            "Epoch 12/50\n",
            "26/26 [==============================] - 0s 5ms/step - loss: 5728.4648 - mae: 5728.4648 - val_loss: 2405.7754 - val_mae: 2405.7754\n",
            "Epoch 13/50\n",
            "26/26 [==============================] - 0s 5ms/step - loss: 11456.5342 - mae: 11456.5342 - val_loss: 2752.5195 - val_mae: 2752.5195\n",
            "Epoch 14/50\n",
            "26/26 [==============================] - 0s 5ms/step - loss: 10030.2109 - mae: 10030.2109 - val_loss: 8219.8994 - val_mae: 8219.8994\n",
            "Epoch 15/50\n",
            "26/26 [==============================] - 0s 4ms/step - loss: 13102.4209 - mae: 13102.4209 - val_loss: 1264.4548 - val_mae: 1264.4548\n",
            "Epoch 16/50\n",
            "26/26 [==============================] - 0s 5ms/step - loss: 7178.3682 - mae: 7178.3682 - val_loss: 5199.2402 - val_mae: 5199.2402\n",
            "Epoch 17/50\n",
            "26/26 [==============================] - 0s 5ms/step - loss: 5097.4316 - mae: 5097.4316 - val_loss: 5542.4185 - val_mae: 5542.4185\n",
            "Epoch 18/50\n",
            "26/26 [==============================] - 0s 9ms/step - loss: 16794.7812 - mae: 16794.7812 - val_loss: 7731.4336 - val_mae: 7731.4336\n",
            "Epoch 19/50\n",
            "26/26 [==============================] - 0s 6ms/step - loss: 9418.7549 - mae: 9418.7549 - val_loss: 12432.8018 - val_mae: 12432.8018\n",
            "Epoch 20/50\n",
            "26/26 [==============================] - 0s 7ms/step - loss: 11327.8838 - mae: 11327.8838 - val_loss: 12372.3643 - val_mae: 12372.3643\n",
            "Epoch 21/50\n",
            "26/26 [==============================] - 0s 6ms/step - loss: 6009.5991 - mae: 6009.5991 - val_loss: 318.1562 - val_mae: 318.1561\n",
            "Epoch 22/50\n",
            "26/26 [==============================] - 0s 6ms/step - loss: 14221.7568 - mae: 14221.7568 - val_loss: 6872.5415 - val_mae: 6872.5415\n",
            "Epoch 23/50\n",
            "26/26 [==============================] - 0s 7ms/step - loss: 15116.8047 - mae: 15116.8047 - val_loss: 1423.6177 - val_mae: 1423.6177\n",
            "Epoch 24/50\n",
            "26/26 [==============================] - 0s 6ms/step - loss: 6508.5830 - mae: 6508.5830 - val_loss: 6074.3052 - val_mae: 6074.3052\n",
            "Epoch 25/50\n",
            "26/26 [==============================] - 0s 6ms/step - loss: 15460.7012 - mae: 15460.7012 - val_loss: 1370.0565 - val_mae: 1370.0565\n",
            "Epoch 26/50\n",
            "26/26 [==============================] - 0s 7ms/step - loss: 4221.0171 - mae: 4221.0171 - val_loss: 5000.5850 - val_mae: 5000.5850\n",
            "Epoch 27/50\n",
            "26/26 [==============================] - 0s 7ms/step - loss: 15573.8262 - mae: 15573.8262 - val_loss: 19662.3770 - val_mae: 19662.3770\n",
            "Epoch 28/50\n",
            "26/26 [==============================] - 0s 6ms/step - loss: 25166.6523 - mae: 25166.6523 - val_loss: 13878.3389 - val_mae: 13878.3389\n",
            "Epoch 29/50\n",
            "26/26 [==============================] - 0s 8ms/step - loss: 6925.9980 - mae: 6925.9980 - val_loss: 5386.9351 - val_mae: 5386.9351\n",
            "Epoch 30/50\n",
            "26/26 [==============================] - 0s 8ms/step - loss: 9813.2939 - mae: 9813.2939 - val_loss: 1608.0922 - val_mae: 1608.0922\n",
            "Epoch 31/50\n",
            "26/26 [==============================] - 0s 7ms/step - loss: 9193.7637 - mae: 9193.7637 - val_loss: 1306.6121 - val_mae: 1306.6121\n",
            "Epoch 32/50\n",
            "26/26 [==============================] - 0s 6ms/step - loss: 9262.3760 - mae: 9262.3760 - val_loss: 6572.9590 - val_mae: 6572.9590\n",
            "Epoch 33/50\n",
            "26/26 [==============================] - 0s 7ms/step - loss: 13900.3994 - mae: 13900.3994 - val_loss: 13280.0938 - val_mae: 13280.0938\n",
            "Epoch 34/50\n",
            "26/26 [==============================] - 0s 7ms/step - loss: 11700.3467 - mae: 11700.3467 - val_loss: 2992.4153 - val_mae: 2992.4153\n",
            "Epoch 35/50\n",
            "26/26 [==============================] - 0s 8ms/step - loss: 10289.1514 - mae: 10289.1514 - val_loss: 23633.9004 - val_mae: 23633.9004\n",
            "Epoch 36/50\n",
            "26/26 [==============================] - 0s 9ms/step - loss: 19269.7852 - mae: 19269.7852 - val_loss: 8067.2085 - val_mae: 8067.2085\n",
            "Epoch 37/50\n",
            "26/26 [==============================] - 0s 7ms/step - loss: 24035.7910 - mae: 24035.7910 - val_loss: 5898.5464 - val_mae: 5898.5464\n",
            "Epoch 38/50\n",
            "26/26 [==============================] - 0s 4ms/step - loss: 11218.3955 - mae: 11218.3955 - val_loss: 10407.2920 - val_mae: 10407.2920\n",
            "Epoch 39/50\n",
            "26/26 [==============================] - 0s 5ms/step - loss: 17110.7676 - mae: 17110.7676 - val_loss: 11413.8096 - val_mae: 11413.8096\n",
            "Epoch 40/50\n",
            "26/26 [==============================] - 0s 4ms/step - loss: 10027.4756 - mae: 10027.4756 - val_loss: 4877.0840 - val_mae: 4877.0840\n",
            "Epoch 41/50\n",
            "26/26 [==============================] - 0s 4ms/step - loss: 4376.3955 - mae: 4376.3955 - val_loss: 1173.6532 - val_mae: 1173.6532\n",
            "Epoch 42/50\n",
            "26/26 [==============================] - 0s 5ms/step - loss: 6187.8198 - mae: 6187.8198 - val_loss: 3383.8743 - val_mae: 3383.8743\n",
            "Epoch 43/50\n",
            "26/26 [==============================] - 0s 4ms/step - loss: 6888.2075 - mae: 6888.2075 - val_loss: 1358.2362 - val_mae: 1358.2362\n",
            "Epoch 44/50\n",
            "26/26 [==============================] - 0s 5ms/step - loss: 4229.4341 - mae: 4229.4341 - val_loss: 2368.5278 - val_mae: 2368.5278\n",
            "Epoch 45/50\n",
            "26/26 [==============================] - 0s 5ms/step - loss: 4376.8022 - mae: 4376.8022 - val_loss: 624.0936 - val_mae: 624.0936\n",
            "Epoch 46/50\n",
            "26/26 [==============================] - 0s 4ms/step - loss: 12766.7598 - mae: 12766.7598 - val_loss: 5541.9863 - val_mae: 5541.9863\n",
            "Epoch 47/50\n",
            "26/26 [==============================] - 0s 5ms/step - loss: 11352.5859 - mae: 11352.5859 - val_loss: 342.3617 - val_mae: 342.3617\n",
            "Epoch 48/50\n",
            "26/26 [==============================] - 0s 4ms/step - loss: 6741.5273 - mae: 6741.5273 - val_loss: 10547.7314 - val_mae: 10547.7314\n",
            "Epoch 49/50\n",
            "26/26 [==============================] - 0s 5ms/step - loss: 7369.4819 - mae: 7369.4819 - val_loss: 1878.4292 - val_mae: 1878.4292\n",
            "Epoch 50/50\n",
            "26/26 [==============================] - 0s 5ms/step - loss: 5888.6401 - mae: 5888.6401 - val_loss: 7652.6235 - val_mae: 7652.6235\n"
          ]
        }
      ]
    },
    {
      "cell_type": "code",
      "source": [
        "%matplotlib inline\n",
        "import matplotlib.pyplot as plt\n",
        "import seaborn as sns\n",
        "sns.set()\n",
        "\n",
        "err = hist.history['mae']\n",
        "val_err = hist.history['val_mae']\n",
        "epochs = range(1, len(err) + 1)\n",
        "\n",
        "plt.plot(epochs, err, '-', label='Training MAE')\n",
        "plt.plot(epochs, val_err, ':', label='Validation MAE')\n",
        "plt.title('Training and Validation Accuracy')\n",
        "plt.xlabel('Epoch')\n",
        "plt.ylabel('Mean Absolute Error')\n",
        "plt.legend(loc='upper right')\n",
        "plt.plot()"
      ],
      "metadata": {
        "id": "76ys3JRDX1VX",
        "colab": {
          "base_uri": "https://localhost:8080/",
          "height": 497
        },
        "outputId": "34c06224-fddf-4e27-cfc8-31b4c0bd3712"
      },
      "execution_count": null,
      "outputs": [
        {
          "output_type": "execute_result",
          "data": {
            "text/plain": [
              "[]"
            ]
          },
          "metadata": {},
          "execution_count": 54
        },
        {
          "output_type": "display_data",
          "data": {
            "text/plain": [
              "<Figure size 640x480 with 1 Axes>"
            ],
            "image/png": "[encoded data removed]"
          },
          "metadata": {}
        }
      ]
    },
    {
      "cell_type": "code",
      "source": [
        "from sklearn.metrics import r2_score\n",
        "\n",
        "r2_score(y, model.predict(x)) "
      ],
      "metadata": {
        "id": "7GnFlmZSX4KW",
        "colab": {
          "base_uri": "https://localhost:8080/"
        },
        "outputId": "978c2a13-bc16-4f17-e0fb-7913b97059dc"
      },
      "execution_count": null,
      "outputs": [
        {
          "output_type": "stream",
          "name": "stdout",
          "text": [
            "32/32 [==============================] - 0s 1ms/step\n"
          ]
        },
        {
          "output_type": "execute_result",
          "data": {
            "text/plain": [
              "-21684.22233530261"
            ]
          },
          "metadata": {},
          "execution_count": 55
        }
      ]
    },
    {
      "cell_type": "code",
      "source": [
        "import numpy as np\n",
        "\n",
        "#price at which stock opened, today's high, today's low, volume, day of the week\n",
        "model.predict(np.array([[255, 267, 244, 11896100, 3]]))"
      ],
      "metadata": {
        "id": "NBWIv8H1X61d",
        "colab": {
          "base_uri": "https://localhost:8080/"
        },
        "outputId": "5ceabb6a-a355-43d5-8310-7bf2f4952b04"
      },
      "execution_count": null,
      "outputs": [
        {
          "output_type": "stream",
          "name": "stdout",
          "text": [
            "1/1 [==============================] - 0s 46ms/step\n"
          ]
        },
        {
          "output_type": "execute_result",
          "data": {
            "text/plain": [
              "array([[20664.781]], dtype=float32)"
            ]
          },
          "metadata": {},
          "execution_count": 56
        }
      ]
    },
    {
      "cell_type": "markdown",
      "source": [
        "#4. Analysis\n",
        "\n",
        "What did you discover? What insights/recommendations do you have? What did you find that was interesting? Which model was your best model, which models didn't work well? Why do you think this is? In general, I want a discussion of your experiment, the results, and what they mean."
      ],
      "metadata": {
        "id": "2Qu9bYPLmiv_"
      }
    },
    {
      "cell_type": "markdown",
      "source": [
        "Considering the R2 value, the model performed poorly. This might be due to an issue with the input data, the model architecture, or the parameters used to train the model. "
      ],
      "metadata": {
        "id": "k17sKBZUmqIH"
      }
    },
    {
      "cell_type": "markdown",
      "source": [
        "# 5. Bumps in the Road\n",
        "What challenges did you encounter? How did you overcome these challenges?"
      ],
      "metadata": {
        "id": "TemAuKxlm6dQ"
      }
    },
    {
      "cell_type": "markdown",
      "source": [
        "The most challenging part of this project was model selection. It was difficult to determine which model would perform best. To overcome this challenge, I used Day 20 notes which deal with a similar problem. "
      ],
      "metadata": {
        "id": "zXEVEG9FnHgQ"
      }
    }
  ]
}