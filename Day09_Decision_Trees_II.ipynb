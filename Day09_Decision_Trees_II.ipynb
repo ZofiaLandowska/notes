{
  "cells": [
    {
      "cell_type": "markdown",
      "metadata": {
        "id": "view-in-github",
        "colab_type": "text"
      },
      "source": [
        "<a href=\"https://colab.research.google.com/github/ZofiaLandowska/notes/blob/main/Day09_Decision_Trees_II.ipynb\" target=\"_parent\"><img src=\"https://colab.research.google.com/assets/colab-badge.svg\" alt=\"Open In Colab\"/></a>"
      ]
    },
    {
      "cell_type": "markdown",
      "metadata": {
        "id": "IPtUztopHw-v"
      },
      "source": [
        "# CS167: Day08\n",
        "## Decision Trees\n",
        "\n",
        "#### CS167: Machine Learning, Spring 2023\n",
        "\n",
        "Thursday, February 23rd, 2023\n",
        "\n",
        "📆 [Course Schedule](https://docs.google.com/spreadsheets/d/e/2PACX-1vSvFV5Mz0_YZE1d5r3gQ8IMktE4cBAsJIlP30cl2GhEpSO0J-YWV62QokSDz-OcOCsEmxMuKpY0kVlR/pubhtml?gid=0&single=true) | 🙋[PollEverywhere](https://pollev.com/meredithmoore011) | 📜 [Syllabus](https://analytics.drake.edu/~moore/cs167_s23_syllabus.html) | 📬 [CodePost Login](https://codepost.io/login)"
      ]
    },
    {
      "cell_type": "markdown",
      "metadata": {
        "id": "6yg9RON4Hw-y"
      },
      "source": [
        "# Admin Stuff\n",
        "\n",
        "You should be working on:\n",
        "- [Notebook #3](https://classroom.github.com/a/2Jc4k7Pe) **Extension**: now due Tuesday 2/28 by 11:59pm."
      ]
    },
    {
      "cell_type": "markdown",
      "metadata": {
        "id": "cJ-OC-KoHw-z"
      },
      "source": [
        "# load in our data:"
      ]
    },
    {
      "cell_type": "code",
      "execution_count": 16,
      "metadata": {
        "id": "MQNDEe9SHw-z",
        "outputId": "0df95f34-2948-4f83-fd9b-d42312006416",
        "colab": {
          "base_uri": "https://localhost:8080/"
        }
      },
      "outputs": [
        {
          "output_type": "stream",
          "name": "stdout",
          "text": [
            "Drive already mounted at /content/drive; to attempt to forcibly remount, call drive.mount(\"/content/drive\", force_remount=True).\n"
          ]
        }
      ],
      "source": [
        "from google.colab import drive\n",
        "drive.mount('/content/drive')"
      ]
    },
    {
      "cell_type": "code",
      "execution_count": 17,
      "metadata": {
        "id": "ifxjI9A0Hw-3",
        "outputId": "fc5eac51-360c-4c58-cdf0-1950ab6c1ef4",
        "colab": {
          "base_uri": "https://localhost:8080/",
          "height": 204
        }
      },
      "outputs": [
        {
          "output_type": "execute_result",
          "data": {
            "text/plain": [
              "   alt  bar  fri  hun   pat price rain  res    type    est target\n",
              "0  Yes   No   No  Yes  Some   $$$   No  Yes  French   0-10    Yes\n",
              "1  Yes   No   No  Yes  Full     $   No   No    Thai  30-60     No\n",
              "2   No  Yes   No   No  Some     $   No   No  Burger   0-10    Yes\n",
              "3  Yes   No  Yes  Yes  Full     $   No   No    Thai  10-30    Yes\n",
              "4  Yes   No  Yes   No  Full   $$$   No  Yes  French    >60     No"
            ],
            "text/html": [
              "\n",
              "  <div id=\"df-cde73a37-6bb9-4c93-8bed-b11535aed219\">\n",
              "    <div class=\"colab-df-container\">\n",
              "      <div>\n",
              "<style scoped>\n",
              "    .dataframe tbody tr th:only-of-type {\n",
              "        vertical-align: middle;\n",
              "    }\n",
              "\n",
              "    .dataframe tbody tr th {\n",
              "        vertical-align: top;\n",
              "    }\n",
              "\n",
              "    .dataframe thead th {\n",
              "        text-align: right;\n",
              "    }\n",
              "</style>\n",
              "<table border=\"1\" class=\"dataframe\">\n",
              "  <thead>\n",
              "    <tr style=\"text-align: right;\">\n",
              "      <th></th>\n",
              "      <th>alt</th>\n",
              "      <th>bar</th>\n",
              "      <th>fri</th>\n",
              "      <th>hun</th>\n",
              "      <th>pat</th>\n",
              "      <th>price</th>\n",
              "      <th>rain</th>\n",
              "      <th>res</th>\n",
              "      <th>type</th>\n",
              "      <th>est</th>\n",
              "      <th>target</th>\n",
              "    </tr>\n",
              "  </thead>\n",
              "  <tbody>\n",
              "    <tr>\n",
              "      <th>0</th>\n",
              "      <td>Yes</td>\n",
              "      <td>No</td>\n",
              "      <td>No</td>\n",
              "      <td>Yes</td>\n",
              "      <td>Some</td>\n",
              "      <td>$$$</td>\n",
              "      <td>No</td>\n",
              "      <td>Yes</td>\n",
              "      <td>French</td>\n",
              "      <td>0-10</td>\n",
              "      <td>Yes</td>\n",
              "    </tr>\n",
              "    <tr>\n",
              "      <th>1</th>\n",
              "      <td>Yes</td>\n",
              "      <td>No</td>\n",
              "      <td>No</td>\n",
              "      <td>Yes</td>\n",
              "      <td>Full</td>\n",
              "      <td>$</td>\n",
              "      <td>No</td>\n",
              "      <td>No</td>\n",
              "      <td>Thai</td>\n",
              "      <td>30-60</td>\n",
              "      <td>No</td>\n",
              "    </tr>\n",
              "    <tr>\n",
              "      <th>2</th>\n",
              "      <td>No</td>\n",
              "      <td>Yes</td>\n",
              "      <td>No</td>\n",
              "      <td>No</td>\n",
              "      <td>Some</td>\n",
              "      <td>$</td>\n",
              "      <td>No</td>\n",
              "      <td>No</td>\n",
              "      <td>Burger</td>\n",
              "      <td>0-10</td>\n",
              "      <td>Yes</td>\n",
              "    </tr>\n",
              "    <tr>\n",
              "      <th>3</th>\n",
              "      <td>Yes</td>\n",
              "      <td>No</td>\n",
              "      <td>Yes</td>\n",
              "      <td>Yes</td>\n",
              "      <td>Full</td>\n",
              "      <td>$</td>\n",
              "      <td>No</td>\n",
              "      <td>No</td>\n",
              "      <td>Thai</td>\n",
              "      <td>10-30</td>\n",
              "      <td>Yes</td>\n",
              "    </tr>\n",
              "    <tr>\n",
              "      <th>4</th>\n",
              "      <td>Yes</td>\n",
              "      <td>No</td>\n",
              "      <td>Yes</td>\n",
              "      <td>No</td>\n",
              "      <td>Full</td>\n",
              "      <td>$$$</td>\n",
              "      <td>No</td>\n",
              "      <td>Yes</td>\n",
              "      <td>French</td>\n",
              "      <td>&gt;60</td>\n",
              "      <td>No</td>\n",
              "    </tr>\n",
              "  </tbody>\n",
              "</table>\n",
              "</div>\n",
              "      <button class=\"colab-df-convert\" onclick=\"convertToInteractive('df-cde73a37-6bb9-4c93-8bed-b11535aed219')\"\n",
              "              title=\"Convert this dataframe to an interactive table.\"\n",
              "              style=\"display:none;\">\n",
              "        \n",
              "  <svg xmlns=\"http://www.w3.org/2000/svg\" height=\"24px\"viewBox=\"0 0 24 24\"\n",
              "       width=\"24px\">\n",
              "    <path d=\"M0 0h24v24H0V0z\" fill=\"none\"/>\n",
              "    <path d=\"M18.56 5.44l.94 2.06.94-2.06 2.06-.94-2.06-.94-.94-2.06-.94 2.06-2.06.94zm-11 1L8.5 8.5l.94-2.06 2.06-.94-2.06-.94L8.5 2.5l-.94 2.06-2.06.94zm10 10l.94 2.06.94-2.06 2.06-.94-2.06-.94-.94-2.06-.94 2.06-2.06.94z\"/><path d=\"M17.41 7.96l-1.37-1.37c-.4-.4-.92-.59-1.43-.59-.52 0-1.04.2-1.43.59L10.3 9.45l-7.72 7.72c-.78.78-.78 2.05 0 2.83L4 21.41c.39.39.9.59 1.41.59.51 0 1.02-.2 1.41-.59l7.78-7.78 2.81-2.81c.8-.78.8-2.07 0-2.86zM5.41 20L4 18.59l7.72-7.72 1.47 1.35L5.41 20z\"/>\n",
              "  </svg>\n",
              "      </button>\n",
              "      \n",
              "  <style>\n",
              "    .colab-df-container {\n",
              "      display:flex;\n",
              "      flex-wrap:wrap;\n",
              "      gap: 12px;\n",
              "    }\n",
              "\n",
              "    .colab-df-convert {\n",
              "      background-color: #E8F0FE;\n",
              "      border: none;\n",
              "      border-radius: 50%;\n",
              "      cursor: pointer;\n",
              "      display: none;\n",
              "      fill: #1967D2;\n",
              "      height: 32px;\n",
              "      padding: 0 0 0 0;\n",
              "      width: 32px;\n",
              "    }\n",
              "\n",
              "    .colab-df-convert:hover {\n",
              "      background-color: #E2EBFA;\n",
              "      box-shadow: 0px 1px 2px rgba(60, 64, 67, 0.3), 0px 1px 3px 1px rgba(60, 64, 67, 0.15);\n",
              "      fill: #174EA6;\n",
              "    }\n",
              "\n",
              "    [theme=dark] .colab-df-convert {\n",
              "      background-color: #3B4455;\n",
              "      fill: #D2E3FC;\n",
              "    }\n",
              "\n",
              "    [theme=dark] .colab-df-convert:hover {\n",
              "      background-color: #434B5C;\n",
              "      box-shadow: 0px 1px 3px 1px rgba(0, 0, 0, 0.15);\n",
              "      filter: drop-shadow(0px 1px 2px rgba(0, 0, 0, 0.3));\n",
              "      fill: #FFFFFF;\n",
              "    }\n",
              "  </style>\n",
              "\n",
              "      <script>\n",
              "        const buttonEl =\n",
              "          document.querySelector('#df-cde73a37-6bb9-4c93-8bed-b11535aed219 button.colab-df-convert');\n",
              "        buttonEl.style.display =\n",
              "          google.colab.kernel.accessAllowed ? 'block' : 'none';\n",
              "\n",
              "        async function convertToInteractive(key) {\n",
              "          const element = document.querySelector('#df-cde73a37-6bb9-4c93-8bed-b11535aed219');\n",
              "          const dataTable =\n",
              "            await google.colab.kernel.invokeFunction('convertToInteractive',\n",
              "                                                     [key], {});\n",
              "          if (!dataTable) return;\n",
              "\n",
              "          const docLinkHtml = 'Like what you see? Visit the ' +\n",
              "            '<a target=\"_blank\" href=https://colab.research.google.com/notebooks/data_table.ipynb>data table notebook</a>'\n",
              "            + ' to learn more about interactive tables.';\n",
              "          element.innerHTML = '';\n",
              "          dataTable['output_type'] = 'display_data';\n",
              "          await google.colab.output.renderOutput(dataTable, element);\n",
              "          const docLink = document.createElement('div');\n",
              "          docLink.innerHTML = docLinkHtml;\n",
              "          element.appendChild(docLink);\n",
              "        }\n",
              "      </script>\n",
              "    </div>\n",
              "  </div>\n",
              "  "
            ]
          },
          "metadata": {},
          "execution_count": 17
        }
      ],
      "source": [
        "import pandas as pd\n",
        "import numpy as np\n",
        "#path = 'datasets/restaurant.csv'\n",
        "path = '/content/drive/MyDrive/restaurant.csv'\n",
        "restaurant = pd.read_csv(path)\n",
        "\n",
        "restaurant.head()"
      ]
    },
    {
      "cell_type": "markdown",
      "metadata": {
        "id": "oQNfHOmDHw-6"
      },
      "source": [
        "# Quick Review:"
      ]
    },
    {
      "cell_type": "markdown",
      "metadata": {
        "id": "8dabfT2HHw-7"
      },
      "source": [
        "## What is a decision tree?\n",
        "<div>\n",
        "<img src=\"https://github.com/merriekay/S23-CS167-Notes/blob/main/images/day05_dt_ex1.png?raw=1\" width=800/>\n",
        "</div>\n",
        "\n",
        "[Decision Tree Example Slides](https://docs.google.com/presentation/d/1mQxycmE2gjC5i-Iwphpd_KAsaFxVDzJXkg_C2EBFGUQ/edit?usp=sharing)"
      ]
    },
    {
      "cell_type": "markdown",
      "metadata": {
        "id": "qvbdFZYeHw-8"
      },
      "source": [
        "## Decision Tree Example:\n",
        "<div>\n",
        "<img src=\"https://github.com/merriekay/S23-CS167-Notes/blob/main/images/day08_dc_characters.png?raw=1\" width=1000/>\n",
        "</div>\n",
        "\n",
        "|           | mask | cape | tie | ears | smokes | height | class |\n",
        "|-----------|:----:|:----:|:---:|:----:|:------:|:------:|:-----:|\n",
        "|   Batman  |   1  |   1  |  0  |   1  |    0   |   180  |  good |\n",
        "|   Robin   |   1  |   1  |  0  |   0  |    0   |   176  |  good |\n",
        "|   Alfred  |   0  |   0  |  1  |   0  |    0   |   185  |  good |\n",
        "|  Penguin  |   0  |   0  |  1  |   0  |    1   |   140  |  evil |\n",
        "|  Catwoman |   1  |   0  |  0  |   1  |    0   |   170  |  evil |\n",
        "|   Joker   |   0  |   0  |  0  |   0  |    0   |   179  |  evil |\n",
        "|  Batgirl  |   1  |   1  |  0  |   1  |    0   |   165  |   ?   |\n",
        "|  Riddler  |   1  |   0  |  0  |   0  |    0   |   182  |   ?   |\n",
        "| Your Date |   0  |   1  |  1  |   1  |    1   |   181  |   ?   |"
      ]
    },
    {
      "cell_type": "markdown",
      "metadata": {
        "id": "_gE_NWOsHw--"
      },
      "source": [
        "## 🚨 Terminology Alert 🚨: `consistent` and `generalize`\n",
        "\n",
        "Is this tree __consistent__ with the training examples?\n",
        "- do all of the training examples get categorized appropriately?\n",
        "\n",
        "Will this tree __generalize__ well to new examples?\n",
        "- how well will new examples (test set) perform?"
      ]
    },
    {
      "cell_type": "markdown",
      "metadata": {
        "id": "WWkt34SXHw--"
      },
      "source": [
        "## Great, now how do I build (grow) a tree?\n",
        "\n",
        "One algorithm that builds a decision tree is called the __ID3 Decision Tree Learning Algorithm__."
      ]
    },
    {
      "cell_type": "markdown",
      "metadata": {
        "id": "ywtzgvR-Hw-_"
      },
      "source": [
        "It goes like this: \n",
        "    \n",
        "__Main ID3 Loop__:\n",
        "1. Assign A to be the _best_ decision feature for the next node.\n",
        "2. Assign A as decision feature for the node\n",
        "3. For each possible attribute of A, create a new descendant of node\n",
        "4. Sort training examples to leaf nodes\n",
        "5. If Training examples are perfectly classified, the STOP, Else, iterate over new leaf nodes."
      ]
    },
    {
      "cell_type": "markdown",
      "metadata": {
        "id": "NafsnjegHw-_"
      },
      "source": [
        "### What does 'best' mean? How can we tell which node is *best*?"
      ]
    },
    {
      "cell_type": "markdown",
      "metadata": {
        "id": "yWQYYLXSHw_A"
      },
      "source": [
        "## Selecting a feature: \n",
        "\n",
        "<div>\n",
        "<img src=\"https://github.com/merriekay/S23-CS167-Notes/blob/main/images/day05_selecting_feature.png?raw=1\" width=600/>\n",
        "</div>"
      ]
    },
    {
      "cell_type": "markdown",
      "metadata": {
        "id": "Sb_h39i-Hw_A"
      },
      "source": [
        "## Selecting a feature:\n",
        "__idea__: a good feature splits the examples into __subsets that are as pure as possible__ (ideally) 'all positive' or 'all negative'\n",
        "\n",
        "> patrons is a better choice--it gives more information about the classification."
      ]
    },
    {
      "cell_type": "markdown",
      "metadata": {
        "id": "xuANdY9LHw_G"
      },
      "source": [
        "## Information Gain:\n",
        "To select which feature to put at the **root** of the decision tree, we will calculate the **information gain** for each feature, and select the feature with the **largest information gain**.\n",
        "\n",
        "To calculate information gain, we need to be comfortable with a few concepts:\n",
        "- Prior Probabilities\n",
        "- Entropy"
      ]
    },
    {
      "cell_type": "markdown",
      "metadata": {
        "id": "YzjGrk5oHw_G"
      },
      "source": [
        "## 🚨 Terminology Alert 🚨 `entropy`\n",
        "\n",
        "__Entropy__: measure of impurity/randomness\n",
        "- __high entropy__: more evenly split classes - highly unpredictable\n",
        "- __low entropy__: mostly one class - highly predictable\n",
        "\n",
        "<div>\n",
        "<img src=\"https://github.com/merriekay/S23-CS167-Notes/blob/main/images/day05_entropy.png?raw=1\" width=600/>\n",
        "</div>"
      ]
    },
    {
      "cell_type": "markdown",
      "metadata": {
        "id": "dF02K8IlHw_H"
      },
      "source": [
        "## Calculating Entropy Prior\n",
        "\n",
        "__Prior Probability__: aka the 'prior'\n",
        "- the split of the examples into the respective target values.\n",
        "- if I have 9 positive examples and 5 negative examples, my prior is:\n",
        "\n",
        "$\\langle 9/14, 5/14 \\rangle \\approx \\langle 0.64, 0.36 \\rangle$\n",
        "> the prior probabilities must sum to 1"
      ]
    },
    {
      "cell_type": "markdown",
      "metadata": {
        "id": "rWGXB-qOHw_I"
      },
      "source": [
        "## Calculating Entropy:\n",
        "\n",
        "Calculating the entropy when prior is $\\langle P_1, ..., P_c\\rangle$\n",
        "\n",
        "<div>\n",
        "<img src=\"https://github.com/merriekay/S23-CS167-Notes/blob/main/images/day05_entropy_calc.png?raw=1\" width=600/>\n",
        "</div>"
      ]
    },
    {
      "cell_type": "markdown",
      "metadata": {
        "id": "AwP52UJ7Hw_I"
      },
      "source": [
        "- entropy of prior $\\langle 0.5, 0.5 \\rangle$ is $-0.5 \\log_{2}(0.5) -0.5 \\log_{2}(0.5)  = 1$"
      ]
    },
    {
      "cell_type": "markdown",
      "metadata": {
        "id": "ftBQ-5vFHw_I"
      },
      "source": [
        "- entropy of prior $\\langle 0.9, 0.1 \\rangle$ is $-0.9 \\log_{2}(0.9)-0.1 \\log_{2}(0.1) \\approx 0.47$"
      ]
    },
    {
      "cell_type": "markdown",
      "metadata": {
        "id": "BolYvnPZHw_J"
      },
      "source": [
        "- entropy of prior $\\langle 0.64, 0.36 \\rangle$ is $-0.64 \\log_{2}(0.64)-0.36 \\log_{2}(0.36) \\approx 0.94$"
      ]
    },
    {
      "cell_type": "markdown",
      "metadata": {
        "id": "RKg5Rh9bHw_J"
      },
      "source": [
        "- entropy of prior $\\langle 0.25, 0.25, 0.5 \\rangle$ is $-0.25 \\log_{2}(0.25)-0.25 \\log_{2}(0.25)-0.5 \\log_{2}(0.5) \\approx 1.5 $\n",
        "\n",
        "> The maximum entropy is $\\log_{2}(k)$ where $k$ is the number of categories. It is not always bounded by 0 and 1"
      ]
    },
    {
      "cell_type": "code",
      "execution_count": 18,
      "metadata": {
        "id": "zl6uVDB_Hw_K",
        "outputId": "f57d756e-3d89-4c1e-886a-77e039f3839f",
        "colab": {
          "base_uri": "https://localhost:8080/"
        }
      },
      "outputs": [
        {
          "output_type": "execute_result",
          "data": {
            "text/plain": [
              "1.584962500721156"
            ]
          },
          "metadata": {},
          "execution_count": 18
        }
      ],
      "source": [
        "import math\n",
        "math.log2(3) # log base 2 of 3 "
      ]
    },
    {
      "cell_type": "markdown",
      "metadata": {
        "id": "ivzuKAjMHw_K"
      },
      "source": [
        "## Code for Entropy:"
      ]
    },
    {
      "cell_type": "code",
      "execution_count": 19,
      "metadata": {
        "id": "BZ6UMuqzHw_L",
        "outputId": "ecc21e9e-0df3-4e66-9f21-a9da1b10c143",
        "colab": {
          "base_uri": "https://localhost:8080/"
        }
      },
      "outputs": [
        {
          "output_type": "stream",
          "name": "stdout",
          "text": [
            "log base 2 of 0.5 is -1.0\n",
            "log base 2 of 1 is 0.0\n",
            "log base 2 of 2 is 1.0\n",
            "log base 2 of 4 is 2.0\n",
            "log base 2 of 8 is 3.0\n",
            "log base 2 of 16 is 4.0\n",
            "log base 2 of 32 is 5.0\n",
            "log base 2 of 64 is 6.0\n"
          ]
        }
      ],
      "source": [
        "import math\n",
        "# here's the syntax for a log(Base 2)\n",
        "for i in [.5,1,2,4,8,16,32,64]:\n",
        "    print(\"log base 2 of\", i, \"is\", math.log2(i))"
      ]
    },
    {
      "cell_type": "code",
      "execution_count": 20,
      "metadata": {
        "id": "xdv3t3VGHw_L"
      },
      "outputs": [],
      "source": [
        "import math\n",
        "def entropy(percentage_list):\n",
        "    #input: percentage_list consists of float values that sum to 1.0 \n",
        "    #return: calculation of entropy for input percentages\n",
        "    result = 0\n",
        "    for percentage in percentage_list:\n",
        "        if percentage != 0:\n",
        "            result += -percentage*math.log2(percentage)\n",
        "    return result"
      ]
    },
    {
      "cell_type": "code",
      "execution_count": 21,
      "metadata": {
        "id": "3VV2vwxYHw_M",
        "outputId": "746e1bcb-bffd-4975-87e3-b9bb199100c3",
        "colab": {
          "base_uri": "https://localhost:8080/"
        }
      },
      "outputs": [
        {
          "output_type": "execute_result",
          "data": {
            "text/plain": [
              "0.9182958340544896"
            ]
          },
          "metadata": {},
          "execution_count": 21
        }
      ],
      "source": [
        "#example of a calculation of entropy\n",
        "entropy([2/6,4/6])"
      ]
    },
    {
      "cell_type": "code",
      "execution_count": 34,
      "metadata": {
        "id": "zHVp8VtjHw_M",
        "outputId": "a4b98a57-a2bc-4120-f76d-9b7bee176d5d",
        "colab": {
          "base_uri": "https://localhost:8080/"
        }
      },
      "outputs": [
        {
          "output_type": "execute_result",
          "data": {
            "text/plain": [
              "0.041391147733641054"
            ]
          },
          "metadata": {},
          "execution_count": 34
        }
      ],
      "source": [
        "entropy([1/4, 1/4, 2/4])\n",
        "\n",
        "7/13*entropy([4/7,3/7])+6/13*entropy([2/6,4/6])\n",
        "\n",
        "entropy([7/13,6/13]) - (7/13*entropy([4/7,3/7])+6/13*entropy([2/6,4/6]))"
      ]
    },
    {
      "cell_type": "markdown",
      "metadata": {
        "id": "kqMooAyDHw_N"
      },
      "source": [
        "## Calculating Information Gain: \n",
        "\n",
        "### Step 1: Entropy *Before*\n",
        "\n",
        "Start by calculating the entropy of the example __before__ picking a feature:\n",
        "- $\\langle 0.5, 0.5 \\rangle = 1$\n",
        "<div>\n",
        "<img src=\"https://github.com/merriekay/S23-CS167-Notes/blob/main/images/day05_patrons_entropy.png?raw=1\" width=600/>\n",
        "</div>"
      ]
    },
    {
      "cell_type": "code",
      "execution_count": 23,
      "metadata": {
        "id": "WO-paWxzHw_N",
        "outputId": "9aa18c57-7a6d-40c3-d584-614635301204",
        "colab": {
          "base_uri": "https://localhost:8080/",
          "height": 421
        }
      },
      "outputs": [
        {
          "output_type": "execute_result",
          "data": {
            "text/plain": [
              "     pat target\n",
              "1   Full     No\n",
              "4   Full     No\n",
              "8   Full     No\n",
              "9   Full     No\n",
              "3   Full    Yes\n",
              "11  Full    Yes\n",
              "6   None     No\n",
              "10  None     No\n",
              "0   Some    Yes\n",
              "2   Some    Yes\n",
              "5   Some    Yes\n",
              "7   Some    Yes"
            ],
            "text/html": [
              "\n",
              "  <div id=\"df-26d00922-f93a-40fc-95aa-d645f395e0a0\">\n",
              "    <div class=\"colab-df-container\">\n",
              "      <div>\n",
              "<style scoped>\n",
              "    .dataframe tbody tr th:only-of-type {\n",
              "        vertical-align: middle;\n",
              "    }\n",
              "\n",
              "    .dataframe tbody tr th {\n",
              "        vertical-align: top;\n",
              "    }\n",
              "\n",
              "    .dataframe thead th {\n",
              "        text-align: right;\n",
              "    }\n",
              "</style>\n",
              "<table border=\"1\" class=\"dataframe\">\n",
              "  <thead>\n",
              "    <tr style=\"text-align: right;\">\n",
              "      <th></th>\n",
              "      <th>pat</th>\n",
              "      <th>target</th>\n",
              "    </tr>\n",
              "  </thead>\n",
              "  <tbody>\n",
              "    <tr>\n",
              "      <th>1</th>\n",
              "      <td>Full</td>\n",
              "      <td>No</td>\n",
              "    </tr>\n",
              "    <tr>\n",
              "      <th>4</th>\n",
              "      <td>Full</td>\n",
              "      <td>No</td>\n",
              "    </tr>\n",
              "    <tr>\n",
              "      <th>8</th>\n",
              "      <td>Full</td>\n",
              "      <td>No</td>\n",
              "    </tr>\n",
              "    <tr>\n",
              "      <th>9</th>\n",
              "      <td>Full</td>\n",
              "      <td>No</td>\n",
              "    </tr>\n",
              "    <tr>\n",
              "      <th>3</th>\n",
              "      <td>Full</td>\n",
              "      <td>Yes</td>\n",
              "    </tr>\n",
              "    <tr>\n",
              "      <th>11</th>\n",
              "      <td>Full</td>\n",
              "      <td>Yes</td>\n",
              "    </tr>\n",
              "    <tr>\n",
              "      <th>6</th>\n",
              "      <td>None</td>\n",
              "      <td>No</td>\n",
              "    </tr>\n",
              "    <tr>\n",
              "      <th>10</th>\n",
              "      <td>None</td>\n",
              "      <td>No</td>\n",
              "    </tr>\n",
              "    <tr>\n",
              "      <th>0</th>\n",
              "      <td>Some</td>\n",
              "      <td>Yes</td>\n",
              "    </tr>\n",
              "    <tr>\n",
              "      <th>2</th>\n",
              "      <td>Some</td>\n",
              "      <td>Yes</td>\n",
              "    </tr>\n",
              "    <tr>\n",
              "      <th>5</th>\n",
              "      <td>Some</td>\n",
              "      <td>Yes</td>\n",
              "    </tr>\n",
              "    <tr>\n",
              "      <th>7</th>\n",
              "      <td>Some</td>\n",
              "      <td>Yes</td>\n",
              "    </tr>\n",
              "  </tbody>\n",
              "</table>\n",
              "</div>\n",
              "      <button class=\"colab-df-convert\" onclick=\"convertToInteractive('df-26d00922-f93a-40fc-95aa-d645f395e0a0')\"\n",
              "              title=\"Convert this dataframe to an interactive table.\"\n",
              "              style=\"display:none;\">\n",
              "        \n",
              "  <svg xmlns=\"http://www.w3.org/2000/svg\" height=\"24px\"viewBox=\"0 0 24 24\"\n",
              "       width=\"24px\">\n",
              "    <path d=\"M0 0h24v24H0V0z\" fill=\"none\"/>\n",
              "    <path d=\"M18.56 5.44l.94 2.06.94-2.06 2.06-.94-2.06-.94-.94-2.06-.94 2.06-2.06.94zm-11 1L8.5 8.5l.94-2.06 2.06-.94-2.06-.94L8.5 2.5l-.94 2.06-2.06.94zm10 10l.94 2.06.94-2.06 2.06-.94-2.06-.94-.94-2.06-.94 2.06-2.06.94z\"/><path d=\"M17.41 7.96l-1.37-1.37c-.4-.4-.92-.59-1.43-.59-.52 0-1.04.2-1.43.59L10.3 9.45l-7.72 7.72c-.78.78-.78 2.05 0 2.83L4 21.41c.39.39.9.59 1.41.59.51 0 1.02-.2 1.41-.59l7.78-7.78 2.81-2.81c.8-.78.8-2.07 0-2.86zM5.41 20L4 18.59l7.72-7.72 1.47 1.35L5.41 20z\"/>\n",
              "  </svg>\n",
              "      </button>\n",
              "      \n",
              "  <style>\n",
              "    .colab-df-container {\n",
              "      display:flex;\n",
              "      flex-wrap:wrap;\n",
              "      gap: 12px;\n",
              "    }\n",
              "\n",
              "    .colab-df-convert {\n",
              "      background-color: #E8F0FE;\n",
              "      border: none;\n",
              "      border-radius: 50%;\n",
              "      cursor: pointer;\n",
              "      display: none;\n",
              "      fill: #1967D2;\n",
              "      height: 32px;\n",
              "      padding: 0 0 0 0;\n",
              "      width: 32px;\n",
              "    }\n",
              "\n",
              "    .colab-df-convert:hover {\n",
              "      background-color: #E2EBFA;\n",
              "      box-shadow: 0px 1px 2px rgba(60, 64, 67, 0.3), 0px 1px 3px 1px rgba(60, 64, 67, 0.15);\n",
              "      fill: #174EA6;\n",
              "    }\n",
              "\n",
              "    [theme=dark] .colab-df-convert {\n",
              "      background-color: #3B4455;\n",
              "      fill: #D2E3FC;\n",
              "    }\n",
              "\n",
              "    [theme=dark] .colab-df-convert:hover {\n",
              "      background-color: #434B5C;\n",
              "      box-shadow: 0px 1px 3px 1px rgba(0, 0, 0, 0.15);\n",
              "      filter: drop-shadow(0px 1px 2px rgba(0, 0, 0, 0.3));\n",
              "      fill: #FFFFFF;\n",
              "    }\n",
              "  </style>\n",
              "\n",
              "      <script>\n",
              "        const buttonEl =\n",
              "          document.querySelector('#df-26d00922-f93a-40fc-95aa-d645f395e0a0 button.colab-df-convert');\n",
              "        buttonEl.style.display =\n",
              "          google.colab.kernel.accessAllowed ? 'block' : 'none';\n",
              "\n",
              "        async function convertToInteractive(key) {\n",
              "          const element = document.querySelector('#df-26d00922-f93a-40fc-95aa-d645f395e0a0');\n",
              "          const dataTable =\n",
              "            await google.colab.kernel.invokeFunction('convertToInteractive',\n",
              "                                                     [key], {});\n",
              "          if (!dataTable) return;\n",
              "\n",
              "          const docLinkHtml = 'Like what you see? Visit the ' +\n",
              "            '<a target=\"_blank\" href=https://colab.research.google.com/notebooks/data_table.ipynb>data table notebook</a>'\n",
              "            + ' to learn more about interactive tables.';\n",
              "          element.innerHTML = '';\n",
              "          dataTable['output_type'] = 'display_data';\n",
              "          await google.colab.output.renderOutput(dataTable, element);\n",
              "          const docLink = document.createElement('div');\n",
              "          docLink.innerHTML = docLinkHtml;\n",
              "          element.appendChild(docLink);\n",
              "        }\n",
              "      </script>\n",
              "    </div>\n",
              "  </div>\n",
              "  "
            ]
          },
          "metadata": {},
          "execution_count": 23
        }
      ],
      "source": [
        "#Patrons expected entropy\n",
        "restaurant[['pat', 'target']].sort_values(['pat', 'target'])"
      ]
    },
    {
      "cell_type": "markdown",
      "metadata": {
        "id": "eGnT2F1HHw_O"
      },
      "source": [
        "### Step 2: Calculate the Expected Entropy\n",
        "\n",
        "The __expected entropy__ for a feature is defined as the weighted sum of the entropies multiplied by the fraction of samples that belong to each set:\n",
        "\n",
        "Example:\n",
        "\n",
        "<div>\n",
        "<img src=\"https://github.com/merriekay/S23-CS167-Notes/blob/main/images/day05_expected_entropy.png?raw=1\" width=1000/>\n",
        "</div>"
      ]
    },
    {
      "cell_type": "markdown",
      "metadata": {
        "id": "NNyFuPagHw_O"
      },
      "source": [
        "### Step 2: Calculate the Expected Entropy\n",
        "\n",
        "The **expected entropy** is the amount of entropy we expect after we split our data based on the values of a specific attribute/column in the dataset. \n",
        "\n",
        "**Expected Entropy** is calculated as the *weighted sum of the entropies of each partition of the data*.\n",
        "\n",
        "\n",
        "<div>\n",
        "<img src=\"https://github.com/merriekay/S23-CS167-Notes/blob/main/images/day05_patrons_entropy2.png?raw=1\" width=600/>\n",
        "</div>"
      ]
    },
    {
      "cell_type": "code",
      "execution_count": 24,
      "metadata": {
        "id": "ec3KzpL7Hw_O",
        "outputId": "56fec09f-1e7f-472c-a702-4bdb094ccc57",
        "colab": {
          "base_uri": "https://localhost:8080/"
        }
      },
      "outputs": [
        {
          "output_type": "stream",
          "name": "stdout",
          "text": [
            "0.9182958340544896 0.0 0.0\n"
          ]
        }
      ],
      "source": [
        "#calculate entropy\n",
        "entropy_patrons_full = entropy([4/6,2/6]) # 4/6 was No; 2/6 was Yes\n",
        "entropy_patrons_none = entropy([2/2,0/2])\n",
        "entropy_patrons_some = entropy([0/4,4/4])\n",
        "print(entropy_patrons_full, entropy_patrons_none, entropy_patrons_some)"
      ]
    },
    {
      "cell_type": "code",
      "execution_count": 25,
      "metadata": {
        "id": "RpKEYOfXHw_P",
        "outputId": "dd08d622-28d0-4450-dae3-7e711385ee47",
        "colab": {
          "base_uri": "https://localhost:8080/"
        }
      },
      "outputs": [
        {
          "output_type": "execute_result",
          "data": {
            "text/plain": [
              "0.4591479170272448"
            ]
          },
          "metadata": {},
          "execution_count": 25
        }
      ],
      "source": [
        "# calculate expected_entropy (weighted average)\n",
        "expected_entropy_patrons = 6/12*entropy_patrons_full + 2/12*entropy_patrons_none + 4/12*entropy_patrons_some\n",
        "expected_entropy_patrons"
      ]
    },
    {
      "cell_type": "markdown",
      "metadata": {
        "id": "XzCGyYARHw_x"
      },
      "source": [
        "## Information Gain:\n",
        "\n",
        "The __information gain__ is *difference* between the entropy before the test and the expected entropy after the test. \n",
        "\n",
        "$Gain() = Entropy(before) - Expected Entropy (after)$\n",
        "\n",
        "<div>\n",
        "<img src=\"https://github.com/merriekay/S23-CS167-Notes/blob/main/images/day05_IG_calc.png?raw=1\" width=600/>\n",
        "</div>"
      ]
    },
    {
      "cell_type": "code",
      "execution_count": 26,
      "metadata": {
        "id": "tW7fQhB8Hw_y",
        "outputId": "723a77f9-06d1-41dd-fe9f-78a5bf55a2a3",
        "colab": {
          "base_uri": "https://localhost:8080/"
        }
      },
      "outputs": [
        {
          "output_type": "execute_result",
          "data": {
            "text/plain": [
              "0.5408520829727552"
            ]
          },
          "metadata": {},
          "execution_count": 26
        }
      ],
      "source": [
        "#calculate information gain (prior entropy - expected entropy)\n",
        "information_gain_patrons = 1.0 - expected_entropy_patrons\n",
        "information_gain_patrons"
      ]
    },
    {
      "cell_type": "markdown",
      "metadata": {
        "id": "gkUn5W9EHw_y"
      },
      "source": [
        "# 💬 Exercise:\n",
        "\n",
        "Calculate the __Information Gain__ for `hun` and `est`:"
      ]
    },
    {
      "cell_type": "code",
      "execution_count": 27,
      "metadata": {
        "id": "vOvVT87_Hw_y",
        "outputId": "6b6cde65-0d9a-4562-ace7-b3a68b4928bd",
        "colab": {
          "base_uri": "https://localhost:8080/",
          "height": 421
        }
      },
      "outputs": [
        {
          "output_type": "execute_result",
          "data": {
            "text/plain": [
              "    hun target\n",
              "4    No     No\n",
              "6    No     No\n",
              "8    No     No\n",
              "10   No     No\n",
              "2    No    Yes\n",
              "1   Yes     No\n",
              "9   Yes     No\n",
              "0   Yes    Yes\n",
              "3   Yes    Yes\n",
              "5   Yes    Yes\n",
              "7   Yes    Yes\n",
              "11  Yes    Yes"
            ],
            "text/html": [
              "\n",
              "  <div id=\"df-7d9de753-4804-466a-8a36-67d9d3dc5bd1\">\n",
              "    <div class=\"colab-df-container\">\n",
              "      <div>\n",
              "<style scoped>\n",
              "    .dataframe tbody tr th:only-of-type {\n",
              "        vertical-align: middle;\n",
              "    }\n",
              "\n",
              "    .dataframe tbody tr th {\n",
              "        vertical-align: top;\n",
              "    }\n",
              "\n",
              "    .dataframe thead th {\n",
              "        text-align: right;\n",
              "    }\n",
              "</style>\n",
              "<table border=\"1\" class=\"dataframe\">\n",
              "  <thead>\n",
              "    <tr style=\"text-align: right;\">\n",
              "      <th></th>\n",
              "      <th>hun</th>\n",
              "      <th>target</th>\n",
              "    </tr>\n",
              "  </thead>\n",
              "  <tbody>\n",
              "    <tr>\n",
              "      <th>4</th>\n",
              "      <td>No</td>\n",
              "      <td>No</td>\n",
              "    </tr>\n",
              "    <tr>\n",
              "      <th>6</th>\n",
              "      <td>No</td>\n",
              "      <td>No</td>\n",
              "    </tr>\n",
              "    <tr>\n",
              "      <th>8</th>\n",
              "      <td>No</td>\n",
              "      <td>No</td>\n",
              "    </tr>\n",
              "    <tr>\n",
              "      <th>10</th>\n",
              "      <td>No</td>\n",
              "      <td>No</td>\n",
              "    </tr>\n",
              "    <tr>\n",
              "      <th>2</th>\n",
              "      <td>No</td>\n",
              "      <td>Yes</td>\n",
              "    </tr>\n",
              "    <tr>\n",
              "      <th>1</th>\n",
              "      <td>Yes</td>\n",
              "      <td>No</td>\n",
              "    </tr>\n",
              "    <tr>\n",
              "      <th>9</th>\n",
              "      <td>Yes</td>\n",
              "      <td>No</td>\n",
              "    </tr>\n",
              "    <tr>\n",
              "      <th>0</th>\n",
              "      <td>Yes</td>\n",
              "      <td>Yes</td>\n",
              "    </tr>\n",
              "    <tr>\n",
              "      <th>3</th>\n",
              "      <td>Yes</td>\n",
              "      <td>Yes</td>\n",
              "    </tr>\n",
              "    <tr>\n",
              "      <th>5</th>\n",
              "      <td>Yes</td>\n",
              "      <td>Yes</td>\n",
              "    </tr>\n",
              "    <tr>\n",
              "      <th>7</th>\n",
              "      <td>Yes</td>\n",
              "      <td>Yes</td>\n",
              "    </tr>\n",
              "    <tr>\n",
              "      <th>11</th>\n",
              "      <td>Yes</td>\n",
              "      <td>Yes</td>\n",
              "    </tr>\n",
              "  </tbody>\n",
              "</table>\n",
              "</div>\n",
              "      <button class=\"colab-df-convert\" onclick=\"convertToInteractive('df-7d9de753-4804-466a-8a36-67d9d3dc5bd1')\"\n",
              "              title=\"Convert this dataframe to an interactive table.\"\n",
              "              style=\"display:none;\">\n",
              "        \n",
              "  <svg xmlns=\"http://www.w3.org/2000/svg\" height=\"24px\"viewBox=\"0 0 24 24\"\n",
              "       width=\"24px\">\n",
              "    <path d=\"M0 0h24v24H0V0z\" fill=\"none\"/>\n",
              "    <path d=\"M18.56 5.44l.94 2.06.94-2.06 2.06-.94-2.06-.94-.94-2.06-.94 2.06-2.06.94zm-11 1L8.5 8.5l.94-2.06 2.06-.94-2.06-.94L8.5 2.5l-.94 2.06-2.06.94zm10 10l.94 2.06.94-2.06 2.06-.94-2.06-.94-.94-2.06-.94 2.06-2.06.94z\"/><path d=\"M17.41 7.96l-1.37-1.37c-.4-.4-.92-.59-1.43-.59-.52 0-1.04.2-1.43.59L10.3 9.45l-7.72 7.72c-.78.78-.78 2.05 0 2.83L4 21.41c.39.39.9.59 1.41.59.51 0 1.02-.2 1.41-.59l7.78-7.78 2.81-2.81c.8-.78.8-2.07 0-2.86zM5.41 20L4 18.59l7.72-7.72 1.47 1.35L5.41 20z\"/>\n",
              "  </svg>\n",
              "      </button>\n",
              "      \n",
              "  <style>\n",
              "    .colab-df-container {\n",
              "      display:flex;\n",
              "      flex-wrap:wrap;\n",
              "      gap: 12px;\n",
              "    }\n",
              "\n",
              "    .colab-df-convert {\n",
              "      background-color: #E8F0FE;\n",
              "      border: none;\n",
              "      border-radius: 50%;\n",
              "      cursor: pointer;\n",
              "      display: none;\n",
              "      fill: #1967D2;\n",
              "      height: 32px;\n",
              "      padding: 0 0 0 0;\n",
              "      width: 32px;\n",
              "    }\n",
              "\n",
              "    .colab-df-convert:hover {\n",
              "      background-color: #E2EBFA;\n",
              "      box-shadow: 0px 1px 2px rgba(60, 64, 67, 0.3), 0px 1px 3px 1px rgba(60, 64, 67, 0.15);\n",
              "      fill: #174EA6;\n",
              "    }\n",
              "\n",
              "    [theme=dark] .colab-df-convert {\n",
              "      background-color: #3B4455;\n",
              "      fill: #D2E3FC;\n",
              "    }\n",
              "\n",
              "    [theme=dark] .colab-df-convert:hover {\n",
              "      background-color: #434B5C;\n",
              "      box-shadow: 0px 1px 3px 1px rgba(0, 0, 0, 0.15);\n",
              "      filter: drop-shadow(0px 1px 2px rgba(0, 0, 0, 0.3));\n",
              "      fill: #FFFFFF;\n",
              "    }\n",
              "  </style>\n",
              "\n",
              "      <script>\n",
              "        const buttonEl =\n",
              "          document.querySelector('#df-7d9de753-4804-466a-8a36-67d9d3dc5bd1 button.colab-df-convert');\n",
              "        buttonEl.style.display =\n",
              "          google.colab.kernel.accessAllowed ? 'block' : 'none';\n",
              "\n",
              "        async function convertToInteractive(key) {\n",
              "          const element = document.querySelector('#df-7d9de753-4804-466a-8a36-67d9d3dc5bd1');\n",
              "          const dataTable =\n",
              "            await google.colab.kernel.invokeFunction('convertToInteractive',\n",
              "                                                     [key], {});\n",
              "          if (!dataTable) return;\n",
              "\n",
              "          const docLinkHtml = 'Like what you see? Visit the ' +\n",
              "            '<a target=\"_blank\" href=https://colab.research.google.com/notebooks/data_table.ipynb>data table notebook</a>'\n",
              "            + ' to learn more about interactive tables.';\n",
              "          element.innerHTML = '';\n",
              "          dataTable['output_type'] = 'display_data';\n",
              "          await google.colab.output.renderOutput(dataTable, element);\n",
              "          const docLink = document.createElement('div');\n",
              "          docLink.innerHTML = docLinkHtml;\n",
              "          element.appendChild(docLink);\n",
              "        }\n",
              "      </script>\n",
              "    </div>\n",
              "  </div>\n",
              "  "
            ]
          },
          "metadata": {},
          "execution_count": 27
        }
      ],
      "source": [
        "restaurant[['hun', 'target']].sort_values(['hun','target'])"
      ]
    },
    {
      "cell_type": "markdown",
      "metadata": {
        "id": "Q79U2B4UHw_y"
      },
      "source": [
        "# Another Example:\n",
        "\n",
        "Information Gain Steps:\n",
        "1. Calculate the entropy before\n",
        "2. Calculte the expected entropy after\n",
        "3. Information Gain = Entropy Before - expected entropy after\n",
        "\n",
        "\n",
        "<div>\n",
        "<img src=\"https://github.com/merriekay/S23-CS167-Notes/blob/main/images/entropy_calc.png?raw=1\" width=500/>\n",
        "</div>"
      ]
    },
    {
      "cell_type": "markdown",
      "metadata": {
        "id": "03D4q6K7Hw_z"
      },
      "source": [
        "# Decision Tree Considerations\n",
        "\n",
        "What do we do if we have numeric (even continuous-valued) features like age from teh titanic dataset or petal length from the iris dataset?\n",
        "\n",
        "- **Idea**: Decision Tree thresholds--`if age > 70`\n",
        "\n",
        "> Unfortunate Annoying thing: Scikit Learn Decision Tree doesn't work well with categorical data, all predictor variables must be numbers. "
      ]
    },
    {
      "cell_type": "markdown",
      "metadata": {
        "id": "BRLBQ4ggHw_z"
      },
      "source": [
        "# Does Size Matter? Tree Size Discussion\n",
        "\n",
        "Both of these trees were made from just 12 examples. Is one better than the other?\n",
        "<div>\n",
        "<img src=\"https://github.com/merriekay/S23-CS167-Notes/blob/main/images/day09_tree_size.png?raw=1\" width=1000/>\n",
        "</div>"
      ]
    },
    {
      "cell_type": "markdown",
      "metadata": {
        "id": "GK46FjBgHw_z"
      },
      "source": [
        "## Tree Size:\n",
        "\n",
        "There are many different consistent trees possible. \n",
        "- Which qualities are preferable? more nodes v fewer nodes\n",
        "- What are the consequences of having a deep tree with many nodes? \n",
        "\n",
        "<div>\n",
        "<img src=\"https://github.com/merriekay/S23-CS167-Notes/blob/main/images/bias_variance_tradeoff.png?raw=1\" width=600/>\n",
        "</div>"
      ]
    },
    {
      "cell_type": "markdown",
      "metadata": {
        "id": "UYU2cw7CHw_0"
      },
      "source": [
        "## Inductive Bias of ID3\n",
        "\n",
        "**Shorter trees are preferred in ID3**, trees with **high-information features closer to the root** are preferred.\n",
        "\n",
        "Baises allow us to learn, but you should understand what your algorithm's bias is. "
      ]
    },
    {
      "cell_type": "markdown",
      "metadata": {
        "id": "ja0ZGfUsHw_0"
      },
      "source": [
        "## Leaf Nodes (Terminal Nodes)\n",
        "\n",
        "We don't always have to create a tree that is consistent with the training data. \n",
        "\n",
        "Maybe a leaf node that classifies a **majority** of the cases accurately will **generalize** better than a very deep tree. "
      ]
    },
    {
      "cell_type": "markdown",
      "metadata": {
        "id": "gMMivulyHw_0"
      },
      "source": [
        "Can we **always** make a consistent tree? <- no, if we have noise in our dataset, we won't be able to make a consistent tree "
      ]
    },
    {
      "cell_type": "markdown",
      "metadata": {
        "id": "AYDKFt_CHw_0"
      },
      "source": [
        "<div>\n",
        "<img src=\"https://github.com/merriekay/S23-CS167-Notes/blob/main/images/day09_noisy_data.png?raw=1\" width=600/>\n",
        "</div>"
      ]
    },
    {
      "cell_type": "markdown",
      "metadata": {
        "id": "wZ43c5PwHw_0"
      },
      "source": [
        "## Regression with Decision Trees:\n",
        "\n",
        "How might we go about doing **regression with decision trees**?\n",
        "- Will Information Gain work for *continuous target variables*? <- naur\n",
        "\n",
        "<div>\n",
        "<img src=\"https://github.com/merriekay/S23-CS167-Notes/blob/main/images/day05_selecting_feature.png?raw=1\" width=600/>\n",
        "</div>"
      ]
    },
    {
      "cell_type": "markdown",
      "metadata": {
        "id": "FGp_fiFIHw_1"
      },
      "source": [
        "## Regression Example:\n",
        "<div>\n",
        "<img src=\"https://github.com/merriekay/S23-CS167-Notes/blob/main/images/day09_regression.png?raw=1\" width=300/>\n",
        "</div>\n",
        "If you had to make a prediction at a leaf node with these groups what would you predict? \n",
        "- can't calculate entropy without categorical values"
      ]
    },
    {
      "cell_type": "markdown",
      "metadata": {
        "id": "GHgEhkZoHw_1"
      },
      "source": [
        "## Example: MPG target values\n",
        "\n",
        "Which group of examples is more \"pure\"?\n",
        "- Group A: 20, 19, 17, 19, 18 <- this one because the standard deviation is smaller \n",
        "- Group B: 14, 17, 24, 7, 30\n",
        "> Hint: Is there some statistic that we've already talked about that can evaluate the purity of a group of numeric target values?"
      ]
    },
    {
      "cell_type": "markdown",
      "metadata": {
        "id": "0qQi5Gy5Hw_1"
      },
      "source": [
        "Regression: Standard Deviation.\n",
        "\n",
        "Classification: Entropy. "
      ]
    },
    {
      "cell_type": "markdown",
      "metadata": {
        "id": "7IFzYsQyHw_1"
      },
      "source": [
        "## Overfitting:\n",
        "\n",
        "**Big idea:** You **overfit** if you do well on the training set, but not so well on the testing set. "
      ]
    },
    {
      "cell_type": "markdown",
      "metadata": {
        "id": "Fr0itmmmHw_1"
      },
      "source": [
        "At what point did this tree 'overfit'? <- about 20 nodes \n",
        "<div>\n",
        "<img src=\"https://github.com/merriekay/S23-CS167-Notes/blob/main/images/day09_overfit.png?raw=1\" width=600/>\n",
        "</div>"
      ]
    },
    {
      "cell_type": "markdown",
      "metadata": {
        "id": "HLOsTBWqHw_2"
      },
      "source": [
        "## Avoiding Overfitting:\n",
        "\n",
        "In general, **big trees overfit the data**. To avoid overfitting, **make the tree smaller**.\n",
        "\n",
        "Some ideas on avoiding overly complex trees:\n",
        "- stop growing when data split is not statistically significant\n",
        "- grow the full tree, the post-prune\n",
        "- use parameters like `max_depth`, and `num_leaf_nodes` to help"
      ]
    },
    {
      "cell_type": "markdown",
      "metadata": {
        "id": "TLanrvgNHw_2"
      },
      "source": [
        "# Decision Trees v kNN:\n",
        "What are the benefits of deicion trees compared to kNN?\n",
        "- disadvantages?\n",
        "\n",
        "When would you use one over the other?\n",
        "\n",
        "- *If one column highly predicts the target variable:*\n",
        "\n",
        "- *If lots of predictors have similar weight in the decision:*\n",
        "\n",
        "- *If you must be albe to interpret the data clearly:*"
      ]
    },
    {
      "cell_type": "markdown",
      "metadata": {
        "id": "wFV7HGL7Hw_2"
      },
      "source": [
        "# Decision Trees v kNN:\n",
        "What are the benefits of deicion trees compared to kNN?\n",
        "- disadvantages?\n",
        "\n",
        "When would you use one over the other?\n",
        "\n",
        "- *If one column highly predicts the target variable:* **decision tree**\n",
        "\n",
        "- *If lots of predictors have similar weight in the decision:* **kNN**\n",
        "\n",
        "- *If you must be albe to interpret the data clearly:* **decision tree**"
      ]
    }
  ],
  "metadata": {
    "celltoolbar": "Slideshow",
    "kernelspec": {
      "display_name": "Python 3",
      "language": "python",
      "name": "python3"
    },
    "language_info": {
      "codemirror_mode": {
        "name": "ipython",
        "version": 3
      },
      "file_extension": ".py",
      "mimetype": "text/x-python",
      "name": "python",
      "nbconvert_exporter": "python",
      "pygments_lexer": "ipython3",
      "version": "3.8.3"
    },
    "colab": {
      "provenance": [],
      "include_colab_link": true
    }
  },
  "nbformat": 4,
  "nbformat_minor": 0
}