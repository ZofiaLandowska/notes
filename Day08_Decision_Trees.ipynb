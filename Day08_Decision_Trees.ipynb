{
  "cells": [
    {
      "cell_type": "markdown",
      "metadata": {
        "id": "view-in-github",
        "colab_type": "text"
      },
      "source": [
        "<a href=\"https://colab.research.google.com/github/ZofiaLandowska/notes/blob/main/Day08_Decision_Trees.ipynb\" target=\"_parent\"><img src=\"https://colab.research.google.com/assets/colab-badge.svg\" alt=\"Open In Colab\"/></a>"
      ]
    },
    {
      "cell_type": "markdown",
      "metadata": {
        "id": "Aq9VmvC2paRT"
      },
      "source": [
        "# CS167: Day08\n",
        "## Decision Trees\n",
        "\n",
        "#### CS167: Machine Learning, Spring 2023\n",
        "\n",
        "Tuesday, February 21st, 2023\n",
        "\n",
        "📆 [Course Schedule](https://docs.google.com/spreadsheets/d/e/2PACX-1vSvFV5Mz0_YZE1d5r3gQ8IMktE4cBAsJIlP30cl2GhEpSO0J-YWV62QokSDz-OcOCsEmxMuKpY0kVlR/pubhtml?gid=0&single=true) | 🙋[PollEverywhere](https://pollev.com/meredithmoore011) | 📜 [Syllabus](https://analytics.drake.edu/~moore/cs167_s23_syllabus.html) | 📬 [CodePost Login](https://codepost.io/login)"
      ]
    },
    {
      "cell_type": "markdown",
      "metadata": {
        "id": "kZ3c19DcpaRW"
      },
      "source": [
        "# Admin Stuff\n",
        "\n",
        "You should be working on:\n",
        "- Heads up that **Quiz #1 is due tonight, Tuesday 2/21 by 11:59pm**.\n",
        "    - To be completed individually\n",
        "    - Only one chance to hit 'submit'\n",
        "    - Cite any materials that you use outside of class\n",
        "- [Notebook #3](https://classroom.github.com/a/2Jc4k7Pe) is due Thursday 2/23/23 by 11:59pm."
      ]
    },
    {
      "cell_type": "markdown",
      "metadata": {
        "id": "_55cU4bIpaRX"
      },
      "source": [
        "# This week overview:\n",
        "\n",
        "**Today**: Introduction to Decision Trees:\n",
        "- Office hours added today from 2:00 - 3:00.\n",
        "\n",
        "**Thursday**: Decision Trees Part II (asynchronous)\n",
        "- lecture will be posted by class time, please watch it and take the associated Blackboard quiz for participation points."
      ]
    },
    {
      "cell_type": "markdown",
      "metadata": {
        "id": "lxoVHz_rpaRX"
      },
      "source": [
        "# Disclaimer ⚠️"
      ]
    },
    {
      "cell_type": "markdown",
      "metadata": {
        "id": "deR2PtlMpaRY"
      },
      "source": [
        "# Can't forget to add our data/libraries:"
      ]
    },
    {
      "cell_type": "code",
      "execution_count": 3,
      "metadata": {
        "id": "p1wdtnCjpaRY",
        "outputId": "4516c028-14e4-4ac4-e840-81c0a0166c2f",
        "colab": {
          "base_uri": "https://localhost:8080/"
        }
      },
      "outputs": [
        {
          "output_type": "stream",
          "name": "stdout",
          "text": [
            "Drive already mounted at /content/drive; to attempt to forcibly remount, call drive.mount(\"/content/drive\", force_remount=True).\n"
          ]
        }
      ],
      "source": [
        "#run this cell if you're using Colab:\n",
        "from google.colab import drive\n",
        "drive.mount('/content/drive')"
      ]
    },
    {
      "cell_type": "code",
      "execution_count": 4,
      "metadata": {
        "id": "NL8NzIWzpaRZ",
        "outputId": "21381e21-3e1a-41a1-ba72-7b99b55543e9",
        "colab": {
          "base_uri": "https://localhost:8080/",
          "height": 204
        }
      },
      "outputs": [
        {
          "output_type": "execute_result",
          "data": {
            "text/plain": [
              "   sepal length  sepal width  petal length  petal width      species\n",
              "0           5.1          3.5           1.4          0.2  Iris-setosa\n",
              "1           4.9          3.0           1.4          0.2  Iris-setosa\n",
              "2           4.7          3.2           1.3          0.2  Iris-setosa\n",
              "3           4.6          3.1           1.5          0.2  Iris-setosa\n",
              "4           5.0          3.6           1.4          0.2  Iris-setosa"
            ],
            "text/html": [
              "\n",
              "  <div id=\"df-6170e0ed-1e34-4e77-84ed-f6f59182bde5\">\n",
              "    <div class=\"colab-df-container\">\n",
              "      <div>\n",
              "<style scoped>\n",
              "    .dataframe tbody tr th:only-of-type {\n",
              "        vertical-align: middle;\n",
              "    }\n",
              "\n",
              "    .dataframe tbody tr th {\n",
              "        vertical-align: top;\n",
              "    }\n",
              "\n",
              "    .dataframe thead th {\n",
              "        text-align: right;\n",
              "    }\n",
              "</style>\n",
              "<table border=\"1\" class=\"dataframe\">\n",
              "  <thead>\n",
              "    <tr style=\"text-align: right;\">\n",
              "      <th></th>\n",
              "      <th>sepal length</th>\n",
              "      <th>sepal width</th>\n",
              "      <th>petal length</th>\n",
              "      <th>petal width</th>\n",
              "      <th>species</th>\n",
              "    </tr>\n",
              "  </thead>\n",
              "  <tbody>\n",
              "    <tr>\n",
              "      <th>0</th>\n",
              "      <td>5.1</td>\n",
              "      <td>3.5</td>\n",
              "      <td>1.4</td>\n",
              "      <td>0.2</td>\n",
              "      <td>Iris-setosa</td>\n",
              "    </tr>\n",
              "    <tr>\n",
              "      <th>1</th>\n",
              "      <td>4.9</td>\n",
              "      <td>3.0</td>\n",
              "      <td>1.4</td>\n",
              "      <td>0.2</td>\n",
              "      <td>Iris-setosa</td>\n",
              "    </tr>\n",
              "    <tr>\n",
              "      <th>2</th>\n",
              "      <td>4.7</td>\n",
              "      <td>3.2</td>\n",
              "      <td>1.3</td>\n",
              "      <td>0.2</td>\n",
              "      <td>Iris-setosa</td>\n",
              "    </tr>\n",
              "    <tr>\n",
              "      <th>3</th>\n",
              "      <td>4.6</td>\n",
              "      <td>3.1</td>\n",
              "      <td>1.5</td>\n",
              "      <td>0.2</td>\n",
              "      <td>Iris-setosa</td>\n",
              "    </tr>\n",
              "    <tr>\n",
              "      <th>4</th>\n",
              "      <td>5.0</td>\n",
              "      <td>3.6</td>\n",
              "      <td>1.4</td>\n",
              "      <td>0.2</td>\n",
              "      <td>Iris-setosa</td>\n",
              "    </tr>\n",
              "  </tbody>\n",
              "</table>\n",
              "</div>\n",
              "      <button class=\"colab-df-convert\" onclick=\"convertToInteractive('df-6170e0ed-1e34-4e77-84ed-f6f59182bde5')\"\n",
              "              title=\"Convert this dataframe to an interactive table.\"\n",
              "              style=\"display:none;\">\n",
              "        \n",
              "  <svg xmlns=\"http://www.w3.org/2000/svg\" height=\"24px\"viewBox=\"0 0 24 24\"\n",
              "       width=\"24px\">\n",
              "    <path d=\"M0 0h24v24H0V0z\" fill=\"none\"/>\n",
              "    <path d=\"M18.56 5.44l.94 2.06.94-2.06 2.06-.94-2.06-.94-.94-2.06-.94 2.06-2.06.94zm-11 1L8.5 8.5l.94-2.06 2.06-.94-2.06-.94L8.5 2.5l-.94 2.06-2.06.94zm10 10l.94 2.06.94-2.06 2.06-.94-2.06-.94-.94-2.06-.94 2.06-2.06.94z\"/><path d=\"M17.41 7.96l-1.37-1.37c-.4-.4-.92-.59-1.43-.59-.52 0-1.04.2-1.43.59L10.3 9.45l-7.72 7.72c-.78.78-.78 2.05 0 2.83L4 21.41c.39.39.9.59 1.41.59.51 0 1.02-.2 1.41-.59l7.78-7.78 2.81-2.81c.8-.78.8-2.07 0-2.86zM5.41 20L4 18.59l7.72-7.72 1.47 1.35L5.41 20z\"/>\n",
              "  </svg>\n",
              "      </button>\n",
              "      \n",
              "  <style>\n",
              "    .colab-df-container {\n",
              "      display:flex;\n",
              "      flex-wrap:wrap;\n",
              "      gap: 12px;\n",
              "    }\n",
              "\n",
              "    .colab-df-convert {\n",
              "      background-color: #E8F0FE;\n",
              "      border: none;\n",
              "      border-radius: 50%;\n",
              "      cursor: pointer;\n",
              "      display: none;\n",
              "      fill: #1967D2;\n",
              "      height: 32px;\n",
              "      padding: 0 0 0 0;\n",
              "      width: 32px;\n",
              "    }\n",
              "\n",
              "    .colab-df-convert:hover {\n",
              "      background-color: #E2EBFA;\n",
              "      box-shadow: 0px 1px 2px rgba(60, 64, 67, 0.3), 0px 1px 3px 1px rgba(60, 64, 67, 0.15);\n",
              "      fill: #174EA6;\n",
              "    }\n",
              "\n",
              "    [theme=dark] .colab-df-convert {\n",
              "      background-color: #3B4455;\n",
              "      fill: #D2E3FC;\n",
              "    }\n",
              "\n",
              "    [theme=dark] .colab-df-convert:hover {\n",
              "      background-color: #434B5C;\n",
              "      box-shadow: 0px 1px 3px 1px rgba(0, 0, 0, 0.15);\n",
              "      filter: drop-shadow(0px 1px 2px rgba(0, 0, 0, 0.3));\n",
              "      fill: #FFFFFF;\n",
              "    }\n",
              "  </style>\n",
              "\n",
              "      <script>\n",
              "        const buttonEl =\n",
              "          document.querySelector('#df-6170e0ed-1e34-4e77-84ed-f6f59182bde5 button.colab-df-convert');\n",
              "        buttonEl.style.display =\n",
              "          google.colab.kernel.accessAllowed ? 'block' : 'none';\n",
              "\n",
              "        async function convertToInteractive(key) {\n",
              "          const element = document.querySelector('#df-6170e0ed-1e34-4e77-84ed-f6f59182bde5');\n",
              "          const dataTable =\n",
              "            await google.colab.kernel.invokeFunction('convertToInteractive',\n",
              "                                                     [key], {});\n",
              "          if (!dataTable) return;\n",
              "\n",
              "          const docLinkHtml = 'Like what you see? Visit the ' +\n",
              "            '<a target=\"_blank\" href=https://colab.research.google.com/notebooks/data_table.ipynb>data table notebook</a>'\n",
              "            + ' to learn more about interactive tables.';\n",
              "          element.innerHTML = '';\n",
              "          dataTable['output_type'] = 'display_data';\n",
              "          await google.colab.output.renderOutput(dataTable, element);\n",
              "          const docLink = document.createElement('div');\n",
              "          docLink.innerHTML = docLinkHtml;\n",
              "          element.appendChild(docLink);\n",
              "        }\n",
              "      </script>\n",
              "    </div>\n",
              "  </div>\n",
              "  "
            ]
          },
          "metadata": {},
          "execution_count": 4
        }
      ],
      "source": [
        "#import the data:\n",
        "#make sure the path on the line below corresponds to the path where you put your dataset.\n",
        "import pandas as pd\n",
        "import numpy as np\n",
        "path = '/content/drive/MyDrive/irisData.csv' #'/content/drive/MyDrive/CS167/datasets/irisData.csv'\n",
        "iris= pd.read_csv(path)\n",
        "iris.head()"
      ]
    },
    {
      "cell_type": "markdown",
      "metadata": {
        "id": "HyPn9isKpaRa"
      },
      "source": [
        "## Quick Review:\n"
      ]
    },
    {
      "cell_type": "markdown",
      "metadata": {
        "id": "spba5vTCpaRb"
      },
      "source": [
        "# Remember our kNN function?"
      ]
    },
    {
      "cell_type": "code",
      "execution_count": 5,
      "metadata": {
        "id": "GYDAmefdpaRb"
      },
      "outputs": [],
      "source": [
        "def kNN(specimen, data, k):\n",
        "    # write your code in here to make this function work\n",
        "    # 1. calculate distances\n",
        "    data['distance_to_new'] = np.sqrt(\n",
        "    (specimen['petal length'] - data['petal length'])**2 \n",
        "    +(specimen['sepal length'] - data['sepal length'])**2 \n",
        "    +(specimen['petal width'] - data['petal width'])**2\n",
        "    +(specimen['sepal width'] - data['sepal width'])**2)\n",
        "\n",
        "    # 2. sort\n",
        "    data.sort_values(['distance_to_new'], inplace=True)\n",
        "    \n",
        "    # 3. predict\n",
        "    prediction = data.iloc[0:k]['species'].mode()\n",
        "\n",
        "    return prediction.iloc[0]"
      ]
    },
    {
      "cell_type": "code",
      "execution_count": 6,
      "metadata": {
        "id": "-Ftg4lmxpaRc",
        "outputId": "c6660e2a-8ac5-49f1-bb8e-ab62a7c29919",
        "colab": {
          "base_uri": "https://localhost:8080/",
          "height": 37
        }
      },
      "outputs": [
        {
          "output_type": "execute_result",
          "data": {
            "text/plain": [
              "'Iris-versicolor'"
            ],
            "application/vnd.google.colaboratory.intrinsic+json": {
              "type": "string"
            }
          },
          "metadata": {},
          "execution_count": 6
        }
      ],
      "source": [
        "new_iris = {}\n",
        "new_iris['petal length'] = 5.1\n",
        "new_iris['sepal length'] = 7.2\n",
        "new_iris['petal width'] = 1.5\n",
        "new_iris['sepal width'] = 2.5\n",
        "\n",
        "kNN(new_iris, iris, 3)"
      ]
    },
    {
      "cell_type": "markdown",
      "metadata": {
        "id": "z06LcaOIpaRc"
      },
      "source": [
        "# Where we left off: "
      ]
    },
    {
      "cell_type": "markdown",
      "metadata": {
        "id": "VzNn0jJgpaRd"
      },
      "source": [
        "## Let's see how accurate our kNN model is:\n",
        "\n",
        "Start with loading the data and setting up some cross-validation:"
      ]
    },
    {
      "cell_type": "code",
      "execution_count": 8,
      "metadata": {
        "id": "tXTDq2ZupaRd"
      },
      "outputs": [],
      "source": [
        "import pandas\n",
        "#path = '/content/drive/MyDrive/CS167/datasets/irisData.csv'\n",
        "path = '/content/drive/MyDrive/irisData.csv' #change this line to point to your data\n",
        "data = pandas.read_csv(path) \n",
        "#shuffle the data - \"sampling\" the full set in random order\n",
        "shuffled_data = data.sample(frac=1, random_state=41)\n",
        "\n",
        "#cross-validation\n",
        "#use the first 20 rows in the shuffled set as testing data #train with the rest\n",
        "test_data = shuffled_data.iloc[0:20]\n",
        "train_data = shuffled_data.iloc[20:]"
      ]
    },
    {
      "cell_type": "markdown",
      "metadata": {
        "id": "AM1GApsupaRd"
      },
      "source": [
        "Then, let's bring in our `kNN()` function--here I'm calling it `classify_kNN()` becuase it uses `mode()` to return the prediction which only works for classifcation."
      ]
    },
    {
      "cell_type": "code",
      "execution_count": 9,
      "metadata": {
        "id": "e4i20InypaRe"
      },
      "outputs": [],
      "source": [
        "def classify_kNN(new_example,train_data,k):\n",
        "    #getting a copy of the training set just so we don't\n",
        "    #mess up the original\n",
        "    train_data_copy = train_data.copy()\n",
        "    train_data_copy['distance_to_new'] = numpy.sqrt(\n",
        "        (new_example['petal length']-train_data_copy['petal length'])**2\n",
        "        +(new_example['sepal length']-train_data_copy['sepal length'])**2\n",
        "        +(new_example['petal width']-train_data_copy['petal width'])**2\n",
        "        +(new_example['sepal width']-train_data_copy['sepal width'])**2)\n",
        "    \n",
        "    sorted_data = train_data_copy.sort_values(['distance_to_new'])\n",
        "    #mode to get most common thing in the first k examples in the sorted dataframe\n",
        "    #iloc to get the actual string, mode will return the string inside of a pandas Series\n",
        "    prediction = sorted_data.iloc[0:k]['species'].mode().iloc[0] \n",
        "    return prediction"
      ]
    },
    {
      "cell_type": "markdown",
      "metadata": {
        "id": "KE87CT5JpaRe"
      },
      "source": [
        "Now, let's write a function `classify_all_kNN(test_data, train_data,k):` that:\n",
        "- goes through each example in the `test_data`, and gets the prediction using our `kNN()` function\n",
        "- It will return a pandas `Series` that has the predictions for each row in `test_data`.\n",
        "\n",
        "It should look something like this:"
      ]
    },
    {
      "cell_type": "code",
      "execution_count": 10,
      "metadata": {
        "id": "g_ith2x5paRe"
      },
      "outputs": [],
      "source": [
        "def classify_all_kNN(test_data,train_data,k):\n",
        "    #apply the classify_kNN function to each item in the test data with the train\n",
        "    #data and k passed as the other two arguments. The result will be a series of \n",
        "    #the individual results.\n",
        "    \n",
        "    results = []\n",
        "    \n",
        "    for i in range(len(test_data)):\n",
        "        prediction = classify_kNN(test_data.iloc[i], train_data,k)\n",
        "        results.append(prediction)\n",
        "    \n",
        "    return pandas.Series(results)"
      ]
    },
    {
      "cell_type": "markdown",
      "metadata": {
        "id": "4ddZ5Mm0paRe"
      },
      "source": [
        "Now, let's pull it all together and see how our kNN does:"
      ]
    },
    {
      "cell_type": "code",
      "execution_count": 11,
      "metadata": {
        "id": "syEIhLnJpaRe",
        "outputId": "216ad0c1-3661-460b-cf4d-3f64cfe7a65f",
        "colab": {
          "base_uri": "https://localhost:8080/"
        }
      },
      "outputs": [
        {
          "output_type": "stream",
          "name": "stdout",
          "text": [
            "ACTUAL\t\tPREDICTIONS\n",
            "Iris-virginica    Iris-virginica\n",
            "Iris-virginica    Iris-virginica\n",
            "Iris-virginica    Iris-virginica\n",
            "Iris-versicolor    Iris-versicolor\n",
            "Iris-virginica    Iris-virginica\n",
            "Iris-versicolor    Iris-versicolor\n",
            "Iris-virginica    Iris-virginica\n",
            "Iris-versicolor    Iris-versicolor\n",
            "Iris-virginica    Iris-virginica\n",
            "Iris-virginica    Iris-virginica\n",
            "Iris-virginica    Iris-virginica\n",
            "Iris-setosa    Iris-setosa\n",
            "Iris-setosa    Iris-setosa\n",
            "Iris-versicolor    Iris-versicolor\n",
            "Iris-setosa    Iris-setosa\n",
            "Iris-virginica    Iris-versicolor\n",
            "Iris-setosa    Iris-setosa\n",
            "Iris-versicolor    Iris-virginica\n",
            "Iris-setosa    Iris-setosa\n",
            "Iris-setosa    Iris-setosa\n",
            "accuracy: 0.9\n"
          ]
        }
      ],
      "source": [
        "import numpy\n",
        "from sklearn.metrics import accuracy_score\n",
        "\n",
        "predictions5NN = classify_all_kNN(test_data,train_data,5)\n",
        "\n",
        "\n",
        "#this will print out our predictions so we can see:\n",
        "print('ACTUAL\\t\\tPREDICTIONS')\n",
        "for i in range(20):\n",
        "    print(test_data['species'].iloc[i], \"  \", predictions5NN.iloc[i] )\n",
        "\n",
        "#acc = accuracy(test_data['species'],predictions5NN)\n",
        "\n",
        "acc = accuracy_score(test_data['species'], predictions5NN)\n",
        "print(\"accuracy:\", acc)"
      ]
    },
    {
      "cell_type": "code",
      "execution_count": 14,
      "metadata": {
        "scrolled": true,
        "id": "zaGbbtXOpaRf",
        "outputId": "98a69ab9-06e5-4d20-d648-b5ccd43695e2",
        "colab": {
          "base_uri": "https://localhost:8080/",
          "height": 308
        }
      },
      "outputs": [
        {
          "output_type": "display_data",
          "data": {
            "text/plain": [
              "<Figure size 432x288 with 1 Axes>"
            ],
            "image/png": "[encoded data removed]"
          },
          "metadata": {
            "needs_background": "light"
          }
        }
      ],
      "source": [
        "import matplotlib.pyplot as plt\n",
        "%matplotlib inline\n",
        "import pandas\n",
        "\n",
        "path = '/content/drive/MyDrive/irisData.csv'\n",
        "#path = 'datasets/irisData.csv'\n",
        "\n",
        "#reload the data\n",
        "data = pandas.read_csv(path)\n",
        "\n",
        "shuffled_data = data.sample(frac=1, random_state = 41)\n",
        "\n",
        "test_data = shuffled_data.iloc[0:20]\n",
        "train_data = shuffled_data.iloc[20:]\n",
        "\n",
        "\n",
        "k_vals = [1,3,5,9,15,21,31,51,101,129] #130 rows in training set\n",
        "kNN_accuracies = []\n",
        "\n",
        "for k in k_vals:\n",
        "    predictions = classify_all_kNN(test_data,train_data,k)\n",
        "    current_accuracy = accuracy_score(test_data['species'],predictions)\n",
        "    kNN_accuracies.append(current_accuracy)\n",
        "\n",
        "\n",
        "plt.suptitle('Iris Data k-NN Experiment',fontsize=18)\n",
        "plt.xlabel('k')\n",
        "plt.ylabel('accuracy')\n",
        "plt.plot(k_vals,kNN_accuracies,'ro-',label='k-NN')\n",
        "plt.legend(loc='lower left', shadow=True)\n",
        "plt.axis([0,130,0,1])\n",
        "\n",
        "plt.show()"
      ]
    },
    {
      "cell_type": "markdown",
      "metadata": {
        "id": "_DPVK3I7paRf"
      },
      "source": [
        "## Cross-Validation Metrics:\n",
        "\n",
        "When doing cross-validation, how do we tell how well our model performed?\n",
        "\n",
        "How can we measure it?"
      ]
    },
    {
      "cell_type": "markdown",
      "metadata": {
        "id": "wDK2taetpaRf"
      },
      "source": [
        "| **Type of ML** | **Metric**                | **Description**                                                                                              |\n",
        "|----------------|---------------------------|:--------------------------------------------------------------------------------------------------------------|\n",
        "| Classification | Accuracy                  | Number correct examples divided by total number                                                              |\n",
        "| Classification | Confusion Matrix          | Detailed table of where our model got confused. |\n",
        "| Regression     | Mean Absolute Error (MAE) | The average absolute distance from the target variable                                                       |\n",
        "| Regression     | Mean Squared Error (MSE)  | The average squared distance from the target variable                                                        |\n",
        "| Regression     | $R^2$                     | 1: perfectly fit data<br>0: same performance as guessing the mean of the target variable<br>-1: really bad.  |"
      ]
    },
    {
      "cell_type": "markdown",
      "metadata": {
        "id": "WAiyniDFpaRg"
      },
      "source": [
        "#  🙋 Poll Everywhere Review Question:"
      ]
    },
    {
      "cell_type": "markdown",
      "metadata": {
        "id": "Tq1zQrJCpaRg"
      },
      "source": [
        "## 💬 Group Exercise:\n",
        "\n",
        "Write a function that takes in two Series and returns the Mean Absolute Error:\n",
        "\n",
        "__Mean Absolute Error (MAE)__: the average difference between the actual and predicted target values. \n",
        "\n",
        "<div>\n",
        "<img src=\"https://github.com/merriekay/S23-CS167-Notes/blob/main/images/day04_mae.png?raw=1\", width=400/>\n",
        "</div>\n",
        "\n",
        "> How can you test your code to make sure it's working correctly?\n"
      ]
    },
    {
      "cell_type": "code",
      "execution_count": 18,
      "metadata": {
        "id": "kL23X51_paRg"
      },
      "outputs": [],
      "source": [
        "import numpy as np\n",
        "np.absolute(-19)\n",
        "series1= pandas.Series([1,2,5.3,2])\n",
        "series2= pandas.Series([1,2,5.3,2])"
      ]
    },
    {
      "cell_type": "code",
      "execution_count": 23,
      "metadata": {
        "id": "XX73KMikpaRg",
        "outputId": "bc267401-6c34-4571-fa53-7154db20b434",
        "colab": {
          "base_uri": "https://localhost:8080/"
        }
      },
      "outputs": [
        {
          "output_type": "execute_result",
          "data": {
            "text/plain": [
              "0.0"
            ]
          },
          "metadata": {},
          "execution_count": 23
        }
      ],
      "source": [
        "def mae(actual, predicted):\n",
        "    \"\"\"\n",
        "    takes in two Series of the same length, and returns the mean absolute error between the two series\n",
        "    Hint: It's a lot simpler than you may think. \n",
        "    \"\"\"\n",
        "    #your code here\n",
        "    mean_absolute_error = np.absolute(actual-predicted).mean()\n",
        "    \n",
        "    return mean_absolute_error\n",
        "\n",
        "mae(series1, series2)\n",
        "    "
      ]
    },
    {
      "cell_type": "markdown",
      "metadata": {
        "id": "i3kFzQ8BpaRg"
      },
      "source": [
        "# [Notebook #3: Wine Quality 🍷](https://classroom.github.com/a/2Jc4k7Pe)\n",
        "\n",
        "Wines are typically rated (scored) on a range from 0-10.\n",
        "\n",
        "Is there anything scientific or predictable to wine ratings?\n",
        "\n",
        "Given measurable qualities of wine, can they predict the rating.\n",
        "\n",
        "If I meaure, say 1600 white wines for alcohol, pH, citric acid, sulphates, etc, and then am given some random wine, can we _predict_ it's rating?"
      ]
    },
    {
      "cell_type": "code",
      "execution_count": 24,
      "metadata": {
        "id": "PRygvUkXpaRh",
        "outputId": "9931eca0-aaf9-482e-dcd1-18f1f0e2963d",
        "colab": {
          "base_uri": "https://localhost:8080/",
          "height": 265
        }
      },
      "outputs": [
        {
          "output_type": "execute_result",
          "data": {
            "text/plain": [
              "   fixed acidity  volatile acidity  citric acid  residual sugar  chlorides  \\\n",
              "0            7.4              0.70         0.00             1.9      0.076   \n",
              "1            7.8              0.88         0.00             2.6      0.098   \n",
              "2            7.8              0.76         0.04             2.3      0.092   \n",
              "3           11.2              0.28         0.56             1.9      0.075   \n",
              "4            7.4              0.70         0.00             1.9      0.076   \n",
              "\n",
              "   free sulfur dioxide  total sulfur dioxide  density    pH  sulphates  \\\n",
              "0                 11.0                  34.0   0.9978  3.51       0.56   \n",
              "1                 25.0                  67.0   0.9968  3.20       0.68   \n",
              "2                 15.0                  54.0   0.9970  3.26       0.65   \n",
              "3                 17.0                  60.0   0.9980  3.16       0.58   \n",
              "4                 11.0                  34.0   0.9978  3.51       0.56   \n",
              "\n",
              "   alcohol  quality  \n",
              "0      9.4        5  \n",
              "1      9.8        5  \n",
              "2      9.8        5  \n",
              "3      9.8        6  \n",
              "4      9.4        5  "
            ],
            "text/html": [
              "\n",
              "  <div id=\"df-bae5298a-6a84-401f-86f2-07d0533c45a0\">\n",
              "    <div class=\"colab-df-container\">\n",
              "      <div>\n",
              "<style scoped>\n",
              "    .dataframe tbody tr th:only-of-type {\n",
              "        vertical-align: middle;\n",
              "    }\n",
              "\n",
              "    .dataframe tbody tr th {\n",
              "        vertical-align: top;\n",
              "    }\n",
              "\n",
              "    .dataframe thead th {\n",
              "        text-align: right;\n",
              "    }\n",
              "</style>\n",
              "<table border=\"1\" class=\"dataframe\">\n",
              "  <thead>\n",
              "    <tr style=\"text-align: right;\">\n",
              "      <th></th>\n",
              "      <th>fixed acidity</th>\n",
              "      <th>volatile acidity</th>\n",
              "      <th>citric acid</th>\n",
              "      <th>residual sugar</th>\n",
              "      <th>chlorides</th>\n",
              "      <th>free sulfur dioxide</th>\n",
              "      <th>total sulfur dioxide</th>\n",
              "      <th>density</th>\n",
              "      <th>pH</th>\n",
              "      <th>sulphates</th>\n",
              "      <th>alcohol</th>\n",
              "      <th>quality</th>\n",
              "    </tr>\n",
              "  </thead>\n",
              "  <tbody>\n",
              "    <tr>\n",
              "      <th>0</th>\n",
              "      <td>7.4</td>\n",
              "      <td>0.70</td>\n",
              "      <td>0.00</td>\n",
              "      <td>1.9</td>\n",
              "      <td>0.076</td>\n",
              "      <td>11.0</td>\n",
              "      <td>34.0</td>\n",
              "      <td>0.9978</td>\n",
              "      <td>3.51</td>\n",
              "      <td>0.56</td>\n",
              "      <td>9.4</td>\n",
              "      <td>5</td>\n",
              "    </tr>\n",
              "    <tr>\n",
              "      <th>1</th>\n",
              "      <td>7.8</td>\n",
              "      <td>0.88</td>\n",
              "      <td>0.00</td>\n",
              "      <td>2.6</td>\n",
              "      <td>0.098</td>\n",
              "      <td>25.0</td>\n",
              "      <td>67.0</td>\n",
              "      <td>0.9968</td>\n",
              "      <td>3.20</td>\n",
              "      <td>0.68</td>\n",
              "      <td>9.8</td>\n",
              "      <td>5</td>\n",
              "    </tr>\n",
              "    <tr>\n",
              "      <th>2</th>\n",
              "      <td>7.8</td>\n",
              "      <td>0.76</td>\n",
              "      <td>0.04</td>\n",
              "      <td>2.3</td>\n",
              "      <td>0.092</td>\n",
              "      <td>15.0</td>\n",
              "      <td>54.0</td>\n",
              "      <td>0.9970</td>\n",
              "      <td>3.26</td>\n",
              "      <td>0.65</td>\n",
              "      <td>9.8</td>\n",
              "      <td>5</td>\n",
              "    </tr>\n",
              "    <tr>\n",
              "      <th>3</th>\n",
              "      <td>11.2</td>\n",
              "      <td>0.28</td>\n",
              "      <td>0.56</td>\n",
              "      <td>1.9</td>\n",
              "      <td>0.075</td>\n",
              "      <td>17.0</td>\n",
              "      <td>60.0</td>\n",
              "      <td>0.9980</td>\n",
              "      <td>3.16</td>\n",
              "      <td>0.58</td>\n",
              "      <td>9.8</td>\n",
              "      <td>6</td>\n",
              "    </tr>\n",
              "    <tr>\n",
              "      <th>4</th>\n",
              "      <td>7.4</td>\n",
              "      <td>0.70</td>\n",
              "      <td>0.00</td>\n",
              "      <td>1.9</td>\n",
              "      <td>0.076</td>\n",
              "      <td>11.0</td>\n",
              "      <td>34.0</td>\n",
              "      <td>0.9978</td>\n",
              "      <td>3.51</td>\n",
              "      <td>0.56</td>\n",
              "      <td>9.4</td>\n",
              "      <td>5</td>\n",
              "    </tr>\n",
              "  </tbody>\n",
              "</table>\n",
              "</div>\n",
              "      <button class=\"colab-df-convert\" onclick=\"convertToInteractive('df-bae5298a-6a84-401f-86f2-07d0533c45a0')\"\n",
              "              title=\"Convert this dataframe to an interactive table.\"\n",
              "              style=\"display:none;\">\n",
              "        \n",
              "  <svg xmlns=\"http://www.w3.org/2000/svg\" height=\"24px\"viewBox=\"0 0 24 24\"\n",
              "       width=\"24px\">\n",
              "    <path d=\"M0 0h24v24H0V0z\" fill=\"none\"/>\n",
              "    <path d=\"M18.56 5.44l.94 2.06.94-2.06 2.06-.94-2.06-.94-.94-2.06-.94 2.06-2.06.94zm-11 1L8.5 8.5l.94-2.06 2.06-.94-2.06-.94L8.5 2.5l-.94 2.06-2.06.94zm10 10l.94 2.06.94-2.06 2.06-.94-2.06-.94-.94-2.06-.94 2.06-2.06.94z\"/><path d=\"M17.41 7.96l-1.37-1.37c-.4-.4-.92-.59-1.43-.59-.52 0-1.04.2-1.43.59L10.3 9.45l-7.72 7.72c-.78.78-.78 2.05 0 2.83L4 21.41c.39.39.9.59 1.41.59.51 0 1.02-.2 1.41-.59l7.78-7.78 2.81-2.81c.8-.78.8-2.07 0-2.86zM5.41 20L4 18.59l7.72-7.72 1.47 1.35L5.41 20z\"/>\n",
              "  </svg>\n",
              "      </button>\n",
              "      \n",
              "  <style>\n",
              "    .colab-df-container {\n",
              "      display:flex;\n",
              "      flex-wrap:wrap;\n",
              "      gap: 12px;\n",
              "    }\n",
              "\n",
              "    .colab-df-convert {\n",
              "      background-color: #E8F0FE;\n",
              "      border: none;\n",
              "      border-radius: 50%;\n",
              "      cursor: pointer;\n",
              "      display: none;\n",
              "      fill: #1967D2;\n",
              "      height: 32px;\n",
              "      padding: 0 0 0 0;\n",
              "      width: 32px;\n",
              "    }\n",
              "\n",
              "    .colab-df-convert:hover {\n",
              "      background-color: #E2EBFA;\n",
              "      box-shadow: 0px 1px 2px rgba(60, 64, 67, 0.3), 0px 1px 3px 1px rgba(60, 64, 67, 0.15);\n",
              "      fill: #174EA6;\n",
              "    }\n",
              "\n",
              "    [theme=dark] .colab-df-convert {\n",
              "      background-color: #3B4455;\n",
              "      fill: #D2E3FC;\n",
              "    }\n",
              "\n",
              "    [theme=dark] .colab-df-convert:hover {\n",
              "      background-color: #434B5C;\n",
              "      box-shadow: 0px 1px 3px 1px rgba(0, 0, 0, 0.15);\n",
              "      filter: drop-shadow(0px 1px 2px rgba(0, 0, 0, 0.3));\n",
              "      fill: #FFFFFF;\n",
              "    }\n",
              "  </style>\n",
              "\n",
              "      <script>\n",
              "        const buttonEl =\n",
              "          document.querySelector('#df-bae5298a-6a84-401f-86f2-07d0533c45a0 button.colab-df-convert');\n",
              "        buttonEl.style.display =\n",
              "          google.colab.kernel.accessAllowed ? 'block' : 'none';\n",
              "\n",
              "        async function convertToInteractive(key) {\n",
              "          const element = document.querySelector('#df-bae5298a-6a84-401f-86f2-07d0533c45a0');\n",
              "          const dataTable =\n",
              "            await google.colab.kernel.invokeFunction('convertToInteractive',\n",
              "                                                     [key], {});\n",
              "          if (!dataTable) return;\n",
              "\n",
              "          const docLinkHtml = 'Like what you see? Visit the ' +\n",
              "            '<a target=\"_blank\" href=https://colab.research.google.com/notebooks/data_table.ipynb>data table notebook</a>'\n",
              "            + ' to learn more about interactive tables.';\n",
              "          element.innerHTML = '';\n",
              "          dataTable['output_type'] = 'display_data';\n",
              "          await google.colab.output.renderOutput(dataTable, element);\n",
              "          const docLink = document.createElement('div');\n",
              "          docLink.innerHTML = docLinkHtml;\n",
              "          element.appendChild(docLink);\n",
              "        }\n",
              "      </script>\n",
              "    </div>\n",
              "  </div>\n",
              "  "
            ]
          },
          "metadata": {},
          "execution_count": 24
        }
      ],
      "source": [
        "import pandas as pd\n",
        "import numpy as np\n",
        "#path = 'datasets/winequality-white.csv'\n",
        "path = '/content/drive/MyDrive/winequality-white.csv'\n",
        "wine= pd.read_csv(path)\n",
        "wine.head()"
      ]
    },
    {
      "cell_type": "markdown",
      "metadata": {
        "id": "pPvjc0MSpaRh"
      },
      "source": [
        "## Exercise #1\n",
        "\n",
        "1. Implement mean squared error (mse) algorithm and test it:"
      ]
    },
    {
      "cell_type": "code",
      "execution_count": 25,
      "metadata": {
        "id": "Eo-yHx_XpaRh"
      },
      "outputs": [],
      "source": [
        "def mse(actual, predicted):\n",
        "    \"\"\"\n",
        "    Input: \n",
        "        actual, a list of values\n",
        "        predicted, a list of values\n",
        "        (assume actual and predicted are the same len)\n",
        "    Output: \n",
        "        the mean squared error between the actual and predicted values\n",
        "    \"\"\"\n",
        "    print(\"Your code goes here\")"
      ]
    },
    {
      "cell_type": "markdown",
      "metadata": {
        "id": "Hdaz1dA2paRh"
      },
      "source": [
        "## Exercise #2\n",
        "\n",
        "2. Implement cross validation--create training and testing data. Use approximately the first 320 rows in the shuffled set as testing data. "
      ]
    },
    {
      "cell_type": "code",
      "execution_count": 26,
      "metadata": {
        "id": "mZclGhF4paRh",
        "outputId": "bbd4de53-77ab-4a5a-cfa5-64251f21e9e1",
        "colab": {
          "base_uri": "https://localhost:8080/",
          "height": 358
        }
      },
      "outputs": [
        {
          "output_type": "error",
          "ename": "FileNotFoundError",
          "evalue": "ignored",
          "traceback": [
            "\u001b[0;31m---------------------------------------------------------------------------\u001b[0m",
            "\u001b[0;31mFileNotFoundError\u001b[0m                         Traceback (most recent call last)",
            "\u001b[0;32m<ipython-input-26-d0d16baf808e>\u001b[0m in \u001b[0;36m<module>\u001b[0;34m\u001b[0m\n\u001b[0;32m----> 1\u001b[0;31m \u001b[0mwine_data\u001b[0m \u001b[0;34m=\u001b[0m \u001b[0mpd\u001b[0m\u001b[0;34m.\u001b[0m\u001b[0mread_csv\u001b[0m\u001b[0;34m(\u001b[0m\u001b[0;34m'/content/drive/MyDrive/CS167/datasets/winequality-white.csv'\u001b[0m\u001b[0;34m)\u001b[0m\u001b[0;34m\u001b[0m\u001b[0;34m\u001b[0m\u001b[0m\n\u001b[0m\u001b[1;32m      2\u001b[0m \u001b[0;34m\u001b[0m\u001b[0m\n\u001b[1;32m      3\u001b[0m \u001b[0;31m#establish test_data and train_data here\u001b[0m\u001b[0;34m\u001b[0m\u001b[0;34m\u001b[0m\u001b[0;34m\u001b[0m\u001b[0m\n",
            "\u001b[0;32m/usr/local/lib/python3.8/dist-packages/pandas/util/_decorators.py\u001b[0m in \u001b[0;36mwrapper\u001b[0;34m(*args, **kwargs)\u001b[0m\n\u001b[1;32m    309\u001b[0m                     \u001b[0mstacklevel\u001b[0m\u001b[0;34m=\u001b[0m\u001b[0mstacklevel\u001b[0m\u001b[0;34m,\u001b[0m\u001b[0;34m\u001b[0m\u001b[0;34m\u001b[0m\u001b[0m\n\u001b[1;32m    310\u001b[0m                 )\n\u001b[0;32m--> 311\u001b[0;31m             \u001b[0;32mreturn\u001b[0m \u001b[0mfunc\u001b[0m\u001b[0;34m(\u001b[0m\u001b[0;34m*\u001b[0m\u001b[0margs\u001b[0m\u001b[0;34m,\u001b[0m \u001b[0;34m**\u001b[0m\u001b[0mkwargs\u001b[0m\u001b[0;34m)\u001b[0m\u001b[0;34m\u001b[0m\u001b[0;34m\u001b[0m\u001b[0m\n\u001b[0m\u001b[1;32m    312\u001b[0m \u001b[0;34m\u001b[0m\u001b[0m\n\u001b[1;32m    313\u001b[0m         \u001b[0;32mreturn\u001b[0m \u001b[0mwrapper\u001b[0m\u001b[0;34m\u001b[0m\u001b[0;34m\u001b[0m\u001b[0m\n",
            "\u001b[0;32m/usr/local/lib/python3.8/dist-packages/pandas/io/parsers/readers.py\u001b[0m in \u001b[0;36mread_csv\u001b[0;34m(filepath_or_buffer, sep, delimiter, header, names, index_col, usecols, squeeze, prefix, mangle_dupe_cols, dtype, engine, converters, true_values, false_values, skipinitialspace, skiprows, skipfooter, nrows, na_values, keep_default_na, na_filter, verbose, skip_blank_lines, parse_dates, infer_datetime_format, keep_date_col, date_parser, dayfirst, cache_dates, iterator, chunksize, compression, thousands, decimal, lineterminator, quotechar, quoting, doublequote, escapechar, comment, encoding, encoding_errors, dialect, error_bad_lines, warn_bad_lines, on_bad_lines, delim_whitespace, low_memory, memory_map, float_precision, storage_options)\u001b[0m\n\u001b[1;32m    584\u001b[0m     \u001b[0mkwds\u001b[0m\u001b[0;34m.\u001b[0m\u001b[0mupdate\u001b[0m\u001b[0;34m(\u001b[0m\u001b[0mkwds_defaults\u001b[0m\u001b[0;34m)\u001b[0m\u001b[0;34m\u001b[0m\u001b[0;34m\u001b[0m\u001b[0m\n\u001b[1;32m    585\u001b[0m \u001b[0;34m\u001b[0m\u001b[0m\n\u001b[0;32m--> 586\u001b[0;31m     \u001b[0;32mreturn\u001b[0m \u001b[0m_read\u001b[0m\u001b[0;34m(\u001b[0m\u001b[0mfilepath_or_buffer\u001b[0m\u001b[0;34m,\u001b[0m \u001b[0mkwds\u001b[0m\u001b[0;34m)\u001b[0m\u001b[0;34m\u001b[0m\u001b[0;34m\u001b[0m\u001b[0m\n\u001b[0m\u001b[1;32m    587\u001b[0m \u001b[0;34m\u001b[0m\u001b[0m\n\u001b[1;32m    588\u001b[0m \u001b[0;34m\u001b[0m\u001b[0m\n",
            "\u001b[0;32m/usr/local/lib/python3.8/dist-packages/pandas/io/parsers/readers.py\u001b[0m in \u001b[0;36m_read\u001b[0;34m(filepath_or_buffer, kwds)\u001b[0m\n\u001b[1;32m    480\u001b[0m \u001b[0;34m\u001b[0m\u001b[0m\n\u001b[1;32m    481\u001b[0m     \u001b[0;31m# Create the parser.\u001b[0m\u001b[0;34m\u001b[0m\u001b[0;34m\u001b[0m\u001b[0;34m\u001b[0m\u001b[0m\n\u001b[0;32m--> 482\u001b[0;31m     \u001b[0mparser\u001b[0m \u001b[0;34m=\u001b[0m \u001b[0mTextFileReader\u001b[0m\u001b[0;34m(\u001b[0m\u001b[0mfilepath_or_buffer\u001b[0m\u001b[0;34m,\u001b[0m \u001b[0;34m**\u001b[0m\u001b[0mkwds\u001b[0m\u001b[0;34m)\u001b[0m\u001b[0;34m\u001b[0m\u001b[0;34m\u001b[0m\u001b[0m\n\u001b[0m\u001b[1;32m    483\u001b[0m \u001b[0;34m\u001b[0m\u001b[0m\n\u001b[1;32m    484\u001b[0m     \u001b[0;32mif\u001b[0m \u001b[0mchunksize\u001b[0m \u001b[0;32mor\u001b[0m \u001b[0miterator\u001b[0m\u001b[0;34m:\u001b[0m\u001b[0;34m\u001b[0m\u001b[0;34m\u001b[0m\u001b[0m\n",
            "\u001b[0;32m/usr/local/lib/python3.8/dist-packages/pandas/io/parsers/readers.py\u001b[0m in \u001b[0;36m__init__\u001b[0;34m(self, f, engine, **kwds)\u001b[0m\n\u001b[1;32m    809\u001b[0m             \u001b[0mself\u001b[0m\u001b[0;34m.\u001b[0m\u001b[0moptions\u001b[0m\u001b[0;34m[\u001b[0m\u001b[0;34m\"has_index_names\"\u001b[0m\u001b[0;34m]\u001b[0m \u001b[0;34m=\u001b[0m \u001b[0mkwds\u001b[0m\u001b[0;34m[\u001b[0m\u001b[0;34m\"has_index_names\"\u001b[0m\u001b[0;34m]\u001b[0m\u001b[0;34m\u001b[0m\u001b[0;34m\u001b[0m\u001b[0m\n\u001b[1;32m    810\u001b[0m \u001b[0;34m\u001b[0m\u001b[0m\n\u001b[0;32m--> 811\u001b[0;31m         \u001b[0mself\u001b[0m\u001b[0;34m.\u001b[0m\u001b[0m_engine\u001b[0m \u001b[0;34m=\u001b[0m \u001b[0mself\u001b[0m\u001b[0;34m.\u001b[0m\u001b[0m_make_engine\u001b[0m\u001b[0;34m(\u001b[0m\u001b[0mself\u001b[0m\u001b[0;34m.\u001b[0m\u001b[0mengine\u001b[0m\u001b[0;34m)\u001b[0m\u001b[0;34m\u001b[0m\u001b[0;34m\u001b[0m\u001b[0m\n\u001b[0m\u001b[1;32m    812\u001b[0m \u001b[0;34m\u001b[0m\u001b[0m\n\u001b[1;32m    813\u001b[0m     \u001b[0;32mdef\u001b[0m \u001b[0mclose\u001b[0m\u001b[0;34m(\u001b[0m\u001b[0mself\u001b[0m\u001b[0;34m)\u001b[0m\u001b[0;34m:\u001b[0m\u001b[0;34m\u001b[0m\u001b[0;34m\u001b[0m\u001b[0m\n",
            "\u001b[0;32m/usr/local/lib/python3.8/dist-packages/pandas/io/parsers/readers.py\u001b[0m in \u001b[0;36m_make_engine\u001b[0;34m(self, engine)\u001b[0m\n\u001b[1;32m   1038\u001b[0m             )\n\u001b[1;32m   1039\u001b[0m         \u001b[0;31m# error: Too many arguments for \"ParserBase\"\u001b[0m\u001b[0;34m\u001b[0m\u001b[0;34m\u001b[0m\u001b[0;34m\u001b[0m\u001b[0m\n\u001b[0;32m-> 1040\u001b[0;31m         \u001b[0;32mreturn\u001b[0m \u001b[0mmapping\u001b[0m\u001b[0;34m[\u001b[0m\u001b[0mengine\u001b[0m\u001b[0;34m]\u001b[0m\u001b[0;34m(\u001b[0m\u001b[0mself\u001b[0m\u001b[0;34m.\u001b[0m\u001b[0mf\u001b[0m\u001b[0;34m,\u001b[0m \u001b[0;34m**\u001b[0m\u001b[0mself\u001b[0m\u001b[0;34m.\u001b[0m\u001b[0moptions\u001b[0m\u001b[0;34m)\u001b[0m  \u001b[0;31m# type: ignore[call-arg]\u001b[0m\u001b[0;34m\u001b[0m\u001b[0;34m\u001b[0m\u001b[0m\n\u001b[0m\u001b[1;32m   1041\u001b[0m \u001b[0;34m\u001b[0m\u001b[0m\n\u001b[1;32m   1042\u001b[0m     \u001b[0;32mdef\u001b[0m \u001b[0m_failover_to_python\u001b[0m\u001b[0;34m(\u001b[0m\u001b[0mself\u001b[0m\u001b[0;34m)\u001b[0m\u001b[0;34m:\u001b[0m\u001b[0;34m\u001b[0m\u001b[0;34m\u001b[0m\u001b[0m\n",
            "\u001b[0;32m/usr/local/lib/python3.8/dist-packages/pandas/io/parsers/c_parser_wrapper.py\u001b[0m in \u001b[0;36m__init__\u001b[0;34m(self, src, **kwds)\u001b[0m\n\u001b[1;32m     49\u001b[0m \u001b[0;34m\u001b[0m\u001b[0m\n\u001b[1;32m     50\u001b[0m         \u001b[0;31m# open handles\u001b[0m\u001b[0;34m\u001b[0m\u001b[0;34m\u001b[0m\u001b[0;34m\u001b[0m\u001b[0m\n\u001b[0;32m---> 51\u001b[0;31m         \u001b[0mself\u001b[0m\u001b[0;34m.\u001b[0m\u001b[0m_open_handles\u001b[0m\u001b[0;34m(\u001b[0m\u001b[0msrc\u001b[0m\u001b[0;34m,\u001b[0m \u001b[0mkwds\u001b[0m\u001b[0;34m)\u001b[0m\u001b[0;34m\u001b[0m\u001b[0;34m\u001b[0m\u001b[0m\n\u001b[0m\u001b[1;32m     52\u001b[0m         \u001b[0;32massert\u001b[0m \u001b[0mself\u001b[0m\u001b[0;34m.\u001b[0m\u001b[0mhandles\u001b[0m \u001b[0;32mis\u001b[0m \u001b[0;32mnot\u001b[0m \u001b[0;32mNone\u001b[0m\u001b[0;34m\u001b[0m\u001b[0;34m\u001b[0m\u001b[0m\n\u001b[1;32m     53\u001b[0m \u001b[0;34m\u001b[0m\u001b[0m\n",
            "\u001b[0;32m/usr/local/lib/python3.8/dist-packages/pandas/io/parsers/base_parser.py\u001b[0m in \u001b[0;36m_open_handles\u001b[0;34m(self, src, kwds)\u001b[0m\n\u001b[1;32m    220\u001b[0m         \u001b[0mLet\u001b[0m \u001b[0mthe\u001b[0m \u001b[0mreaders\u001b[0m \u001b[0mopen\u001b[0m \u001b[0mIOHandles\u001b[0m \u001b[0mafter\u001b[0m \u001b[0mthey\u001b[0m \u001b[0mare\u001b[0m \u001b[0mdone\u001b[0m \u001b[0;32mwith\u001b[0m \u001b[0mtheir\u001b[0m \u001b[0mpotential\u001b[0m \u001b[0mraises\u001b[0m\u001b[0;34m.\u001b[0m\u001b[0;34m\u001b[0m\u001b[0;34m\u001b[0m\u001b[0m\n\u001b[1;32m    221\u001b[0m         \"\"\"\n\u001b[0;32m--> 222\u001b[0;31m         self.handles = get_handle(\n\u001b[0m\u001b[1;32m    223\u001b[0m             \u001b[0msrc\u001b[0m\u001b[0;34m,\u001b[0m\u001b[0;34m\u001b[0m\u001b[0;34m\u001b[0m\u001b[0m\n\u001b[1;32m    224\u001b[0m             \u001b[0;34m\"r\"\u001b[0m\u001b[0;34m,\u001b[0m\u001b[0;34m\u001b[0m\u001b[0;34m\u001b[0m\u001b[0m\n",
            "\u001b[0;32m/usr/local/lib/python3.8/dist-packages/pandas/io/common.py\u001b[0m in \u001b[0;36mget_handle\u001b[0;34m(path_or_buf, mode, encoding, compression, memory_map, is_text, errors, storage_options)\u001b[0m\n\u001b[1;32m    700\u001b[0m         \u001b[0;32mif\u001b[0m \u001b[0mioargs\u001b[0m\u001b[0;34m.\u001b[0m\u001b[0mencoding\u001b[0m \u001b[0;32mand\u001b[0m \u001b[0;34m\"b\"\u001b[0m \u001b[0;32mnot\u001b[0m \u001b[0;32min\u001b[0m \u001b[0mioargs\u001b[0m\u001b[0;34m.\u001b[0m\u001b[0mmode\u001b[0m\u001b[0;34m:\u001b[0m\u001b[0;34m\u001b[0m\u001b[0;34m\u001b[0m\u001b[0m\n\u001b[1;32m    701\u001b[0m             \u001b[0;31m# Encoding\u001b[0m\u001b[0;34m\u001b[0m\u001b[0;34m\u001b[0m\u001b[0;34m\u001b[0m\u001b[0m\n\u001b[0;32m--> 702\u001b[0;31m             handle = open(\n\u001b[0m\u001b[1;32m    703\u001b[0m                 \u001b[0mhandle\u001b[0m\u001b[0;34m,\u001b[0m\u001b[0;34m\u001b[0m\u001b[0;34m\u001b[0m\u001b[0m\n\u001b[1;32m    704\u001b[0m                 \u001b[0mioargs\u001b[0m\u001b[0;34m.\u001b[0m\u001b[0mmode\u001b[0m\u001b[0;34m,\u001b[0m\u001b[0;34m\u001b[0m\u001b[0;34m\u001b[0m\u001b[0m\n",
            "\u001b[0;31mFileNotFoundError\u001b[0m: [Errno 2] No such file or directory: '/content/drive/MyDrive/CS167/datasets/winequality-white.csv'"
          ]
        }
      ],
      "source": [
        "wine_data = pd.read_csv('/content/drive/MyDrive/CS167/datasets/winequality-white.csv')\n",
        "\n",
        "#establish test_data and train_data here"
      ]
    },
    {
      "cell_type": "markdown",
      "metadata": {
        "id": "NRJOqZaCpaRh"
      },
      "source": [
        "## Exercise #3\n",
        "\n",
        "3. Use the kNN implementation and the other code provided below to normalize your data. Test your model using several different values of k and __graphically show__ the results using your implmentation of __MSE__. "
      ]
    },
    {
      "cell_type": "markdown",
      "metadata": {
        "id": "PJZZkL7epaRi"
      },
      "source": [
        "## Exercise #4\n",
        "\n",
        "4. Repeat the experiment and __graphically show the results__ using __$R^2$__. "
      ]
    },
    {
      "cell_type": "markdown",
      "metadata": {
        "id": "5DCgv7-hpaRi"
      },
      "source": [
        "## Exercise #5\n",
        "\n",
        "5. Describe your findings. What conclusions can you draw about the best number for k for the kNN algorithm for this dataset? __Explain why__. Use a markdown cell to explain your conclusions. "
      ]
    },
    {
      "cell_type": "markdown",
      "metadata": {
        "id": "3Cj2J3URpaRi"
      },
      "source": [
        "# ✨ New Material: "
      ]
    },
    {
      "cell_type": "markdown",
      "metadata": {
        "id": "hLCqgIeopaRi"
      },
      "source": [
        "# Decision Trees 🌳"
      ]
    },
    {
      "cell_type": "markdown",
      "metadata": {
        "id": "AYidtqLBpaRi"
      },
      "source": [
        "### What is a tree in computer science?"
      ]
    },
    {
      "cell_type": "markdown",
      "metadata": {
        "id": "7LbUucC0paRi"
      },
      "source": [
        "__Tree__: a common data structure that simulates a hierarchical tree structure, with a root value and subtrees of children with a parent node, represented as a set of liked nodes. \n",
        "\n",
        "Where is a common place we interact with a tree datastructue on a daily basis?"
      ]
    },
    {
      "cell_type": "markdown",
      "metadata": {
        "id": "f2Vu7X15paRi"
      },
      "source": [
        "<div>\n",
        "<img src=\"https://github.com/merriekay/S23-CS167-Notes/blob/main/images/day05_decision_tree.png?raw=1\" width=250/>\n",
        "</div>"
      ]
    },
    {
      "cell_type": "markdown",
      "metadata": {
        "id": "ZItHMvDNpaRi"
      },
      "source": [
        "## What is a decision tree?\n",
        "<div>\n",
        "<img src=\"https://github.com/merriekay/S23-CS167-Notes/blob/main/images/day05_dt_ex1.png?raw=1\" width=800/>\n",
        "</div>"
      ]
    },
    {
      "cell_type": "markdown",
      "metadata": {
        "id": "i7emmILkpaRj"
      },
      "source": [
        "## What is a decision tree?\n",
        "<div>\n",
        "<img src=\"https://github.com/merriekay/S23-CS167-Notes/blob/main/images/day05_dt_ex2.png?raw=1\" width=900/>\n",
        "</div>"
      ]
    },
    {
      "cell_type": "markdown",
      "metadata": {
        "id": "sy5Pnh2XpaRj"
      },
      "source": [
        "# Decision Tree Examples\n",
        "\n",
        "We're going to switch to Google Slides here: [Decision Tree Example Slides](https://docs.google.com/presentation/d/1mQxycmE2gjC5i-Iwphpd_KAsaFxVDzJXkg_C2EBFGUQ/edit?usp=sharing)"
      ]
    },
    {
      "cell_type": "code",
      "execution_count": 27,
      "metadata": {
        "id": "JLzMsHYgpaRj",
        "outputId": "f18f822a-47e3-4a4c-cc27-77bd5f550759",
        "colab": {
          "base_uri": "https://localhost:8080/",
          "height": 821
        }
      },
      "outputs": [
        {
          "output_type": "execute_result",
          "data": {
            "text/plain": [
              "<IPython.lib.display.IFrame at 0x7f672a8922e0>"
            ],
            "text/html": [
              "\n",
              "        <iframe\n",
              "            width=\"1200\"\n",
              "            height=\"800\"\n",
              "            src=\"https://analytics.drake.edu/~moore/Day05_Decision_Trees.pdf\"\n",
              "            frameborder=\"0\"\n",
              "            allowfullscreen\n",
              "        ></iframe>\n",
              "        "
            ]
          },
          "metadata": {},
          "execution_count": 27
        }
      ],
      "source": [
        "from IPython.display import IFrame\n",
        "IFrame(\"https://analytics.drake.edu/~moore/Day05_Decision_Trees.pdf\", 1200,800)"
      ]
    },
    {
      "cell_type": "markdown",
      "metadata": {
        "id": "npTZ_uEKpaRj"
      },
      "source": [
        "## 🚨 Terminology Alert 🚨: `consistent` and `generalize`\n",
        "\n",
        "Is this tree __consistent__ with the training examples?\n",
        "- do all of the training examples get categorized appropriately?\n",
        "\n",
        "Will this tree __generalize__ well to new examples?\n",
        "- how well will new examples (test set) perform?"
      ]
    },
    {
      "cell_type": "markdown",
      "metadata": {
        "id": "fO-tXJCJpaRj"
      },
      "source": [
        "## Great, now how do I build (grow) a tree?\n",
        "\n",
        "One algorithm that builds a decision tree is called the __ID3 Decision Tree Learning Algorithm__."
      ]
    },
    {
      "cell_type": "markdown",
      "metadata": {
        "id": "iAvrNOqFpaRj"
      },
      "source": [
        "It goes like this: \n",
        "    \n",
        "__Main ID3 Loop__:\n",
        "1. Assign A to be the _best_ decision feature for the next node.\n",
        "2. Assign A as decision feature for the node\n",
        "3. For each possible attribute of A, create a new descendant of node\n",
        "4. Sort training examples to leaf nodes\n",
        "5. If Training examples are perfectly classified, the STOP, Else, iterate over new leaf nodes."
      ]
    },
    {
      "cell_type": "markdown",
      "metadata": {
        "id": "xmNO4ON6paRk"
      },
      "source": [
        "### What does 'best' mean? How can we tell which node is *best*?"
      ]
    },
    {
      "cell_type": "markdown",
      "metadata": {
        "id": "bbqU5LsppaRk"
      },
      "source": [
        "## Selecting a feature: Polleverywhere\n",
        "\n",
        "<div>\n",
        "<img src=\"https://github.com/merriekay/S23-CS167-Notes/blob/main/images/day05_selecting_feature.png?raw=1\" width=600/>\n",
        "</div>"
      ]
    },
    {
      "cell_type": "markdown",
      "metadata": {
        "id": "GwUU9ezZpaRk"
      },
      "source": [
        "## Selecting a feature:\n",
        "__idea__: a good feature splits the examples into __subsets that are as pure as possible__ (ideally) 'all positive' or 'all negative'\n",
        "\n",
        "> patrons is a better choice--it gives more information about the classification."
      ]
    },
    {
      "cell_type": "markdown",
      "metadata": {
        "id": "521pQMhYpaRk"
      },
      "source": [
        "## 🚨 Terminology Alert 🚨 `entropy`\n",
        "\n",
        "__Entropy__: measure of impurity/randomness\n",
        "- __high entropy__: more evenly split classes - highly unpredictable\n",
        "- __low entropy__: mostly one class - highly predictable\n",
        "\n",
        "<div>\n",
        "<img src=\"https://github.com/merriekay/S23-CS167-Notes/blob/main/images/day05_entropy.png?raw=1\" width=600/>\n",
        "</div>"
      ]
    },
    {
      "cell_type": "markdown",
      "metadata": {
        "id": "NbV_A7bmpaRk"
      },
      "source": [
        "## Calculating Entropy Prior\n",
        "\n",
        "__Prior Probability__:aka the 'prior'\n",
        "- the split of the examples\n",
        "- if I have 9 positive examples and 5 negative examples, my prior is:\n",
        "\n",
        "$\\langle 9/14, 5/14 \\rangle \\approx \\langle 0.64, 0.36 \\rangle$\n",
        "> the prior probabilities must sum to 1"
      ]
    },
    {
      "cell_type": "markdown",
      "metadata": {
        "id": "Y5TJnfPzpaRk"
      },
      "source": [
        "## Calculating Entropy:\n",
        "\n",
        "Calculating the entropy when prior is $\\langle P_1, ..., P_c\\rangle$\n",
        "\n",
        "<div>\n",
        "<img src=\"https://github.com/merriekay/S23-CS167-Notes/blob/main/images/day05_entropy_calc.png?raw=1\" width=600/>\n",
        "</div>"
      ]
    },
    {
      "cell_type": "markdown",
      "metadata": {
        "id": "a_LltGi0paRk"
      },
      "source": [
        "- entropy of prior $\\langle 0.5, 0.5 \\rangle$ is $-0.5 \\log_{2}(0.5) -0.5 \\log_{2}(0.5)  = 1$"
      ]
    },
    {
      "cell_type": "markdown",
      "metadata": {
        "id": "yI4im5N-paRl"
      },
      "source": [
        "- entropy of prior $\\langle 0.9, 0.1 \\rangle$ is $-0.9 \\log_{2}(0.9)-0.1 \\log_{2}(0.1) \\approx 0.47$"
      ]
    },
    {
      "cell_type": "markdown",
      "metadata": {
        "id": "yyEeBP4opaRl"
      },
      "source": [
        "- entropy of prior $\\langle 0.64, 0.36 \\rangle$ is $-0.64 \\log_{2}(0.64)-0.36 \\log_{2}(0.36) \\approx 0.94$"
      ]
    },
    {
      "cell_type": "markdown",
      "metadata": {
        "id": "4W_vPvi4paRl"
      },
      "source": [
        "- entropy of prior $\\langle 0.25, 0.25, 0.5 \\rangle$ is $-0.25 \\log_{2}(0.25)-0.25 \\log_{2}(0.25)-0.5 \\log_{2}(0.5) \\approx 1.5 $\n",
        "\n",
        "> The maximum entropy is $\\log_{2}(k)$ where $k$ is the number of categories. It is not always bounded by 0 and 1"
      ]
    },
    {
      "cell_type": "code",
      "execution_count": null,
      "metadata": {
        "id": "tkfp1LI0paRl"
      },
      "outputs": [],
      "source": [
        "import math\n",
        "math.log(3, 2) # log base 2 of 3"
      ]
    },
    {
      "cell_type": "markdown",
      "metadata": {
        "id": "0qRhZMUUpaRl"
      },
      "source": [
        "## Code for Entropy:"
      ]
    },
    {
      "cell_type": "code",
      "execution_count": null,
      "metadata": {
        "id": "m1sU9bgwpaRl"
      },
      "outputs": [],
      "source": [
        "import math\n",
        "# here's the syntax for a log(Base 2)\n",
        "for i in [.5,1,2,4,8,16,32,64]:\n",
        "    print(\"log base 2 of\", i, \"is\", math.log2(i))"
      ]
    },
    {
      "cell_type": "code",
      "execution_count": null,
      "metadata": {
        "id": "sMmzX7KOpaRm"
      },
      "outputs": [],
      "source": [
        "import math\n",
        "def entropy(percentage_list):\n",
        "    #input: percentage_list consists of float values that sum to 1.0 \n",
        "    #return: calculation of entropy for input percentages\n",
        "    result = 0\n",
        "    for percentage in percentage_list:\n",
        "        if percentage != 0:\n",
        "            result += -percentage*math.log2(percentage)\n",
        "    return result"
      ]
    },
    {
      "cell_type": "code",
      "execution_count": null,
      "metadata": {
        "id": "RxB3DfO8paRm"
      },
      "outputs": [],
      "source": [
        "#example of a calculation of entropy\n",
        "entropy([2/6,4/6])"
      ]
    },
    {
      "cell_type": "code",
      "execution_count": null,
      "metadata": {
        "id": "8QxETGJTpaRm"
      },
      "outputs": [],
      "source": [
        "entropy([1/4, 1/4, 2/4])"
      ]
    },
    {
      "cell_type": "code",
      "execution_count": null,
      "metadata": {
        "id": "_aSfyilTpaRm"
      },
      "outputs": [],
      "source": [
        "import pandas\n",
        "import numpy\n",
        "from google.colab import drive\n",
        "drive.mount('/content/drive')"
      ]
    },
    {
      "cell_type": "code",
      "execution_count": null,
      "metadata": {
        "id": "0ok_ZrKhpaRm"
      },
      "outputs": [],
      "source": [
        "path = 'datasets/restaurant.csv'  #'/content/drive/MyDrive/CS167/Datasets/restaurant.csv'\n",
        "restaurant = pd.read_csv(path)\n",
        "\n",
        "restaurant.head()"
      ]
    },
    {
      "cell_type": "markdown",
      "metadata": {
        "id": "hL1cugeupaRn"
      },
      "source": [
        "## Example: Step 1\n",
        "\n",
        "Start by calculating the entropy of the example __before__ picking a feature:\n",
        "- $\\langle 0.5, 0.5 \\rangle = 1$\n",
        "<div>\n",
        "<img src=\"https://github.com/merriekay/S23-CS167-Notes/blob/main/images/day05_patrons_entropy.png?raw=1\" width=600/>\n",
        "</div>"
      ]
    },
    {
      "cell_type": "markdown",
      "metadata": {
        "id": "LT9XvYn8paRn"
      },
      "source": [
        "## Example: Step 1\n",
        "\n",
        "\n",
        "<div>\n",
        "<img src=\"https://github.com/merriekay/S23-CS167-Notes/blob/main/images/day05_patrons_entropy2.png?raw=1\" width=600/>\n",
        "</div>"
      ]
    },
    {
      "cell_type": "code",
      "execution_count": null,
      "metadata": {
        "id": "cG0ibN-UpaRn"
      },
      "outputs": [],
      "source": [
        "#Patrons expected entropy\n",
        "restaurant[['pat', 'target']].sort_values(['pat','target'])"
      ]
    },
    {
      "cell_type": "code",
      "execution_count": null,
      "metadata": {
        "id": "D3rNQqbPpaRn"
      },
      "outputs": [],
      "source": [
        "#calculate entropy\n",
        "entropy_patrons_full = entropy([4/6,2/6]) # 4/6 was No; 2/6 was Yes\n",
        "entropy_patrons_none = entropy([2/2,0/2])\n",
        "entropy_patrons_some = entropy([0/4,4/4])\n",
        "print(entropy_patrons_full, entropy_patrons_none, entropy_patrons_some)"
      ]
    },
    {
      "cell_type": "markdown",
      "metadata": {
        "id": "X-CjPdyypaRn"
      },
      "source": [
        "## Expected Entropy\n",
        "\n",
        "The __expected entropy__ for a feature is defined as the weighted sum of the entropies multiplied by the fraction of samples that belong to each set:\n",
        "\n",
        "Example:\n",
        "\n",
        "<div>\n",
        "<img src=\"https://github.com/merriekay/S23-CS167-Notes/blob/main/images/day05_expected_entropy.png?raw=1\" width=600/>\n",
        "</div>"
      ]
    },
    {
      "cell_type": "code",
      "execution_count": null,
      "metadata": {
        "id": "iQmnwIalpaRn"
      },
      "outputs": [],
      "source": [
        "# calculate expected_entropy (weighted average)\n",
        "expected_entropy_patrons = 6/12*entropy_patrons_full + 2/12*entropy_patrons_none + 4/12*entropy_patrons_some\n",
        "expected_entropy_patrons"
      ]
    },
    {
      "cell_type": "markdown",
      "metadata": {
        "id": "REDXV3J9paRn"
      },
      "source": [
        "## Information Gain:\n",
        "\n",
        "The __information gain__ is *difference* between the entropy before the test and the expected entropy after the test. \n",
        "\n",
        "$Gain() = Entropy(before) - Expected Entropy (after)$\n",
        "\n",
        "<div>\n",
        "<img src=\"https://github.com/merriekay/S23-CS167-Notes/blob/main/images/day05_IG_calc.png?raw=1\" width=600/>\n",
        "</div>"
      ]
    },
    {
      "cell_type": "code",
      "execution_count": null,
      "metadata": {
        "id": "QdLGVmQ-paRo"
      },
      "outputs": [],
      "source": [
        "#calculate information gain (prior entropy - expected entropy)\n",
        "information_gain_patrons = 1.0 - expected_entropy_patrons\n",
        "information_gain_patrons"
      ]
    },
    {
      "cell_type": "markdown",
      "metadata": {
        "id": "nirnM49mpaRo"
      },
      "source": [
        "# 💬 Group Exercise:\n",
        "\n",
        "Calculate the __Information Gain__ for `hun` and `est`:"
      ]
    },
    {
      "cell_type": "code",
      "execution_count": null,
      "metadata": {
        "id": "2apNbzr7paRo"
      },
      "outputs": [],
      "source": [
        "restaurant[['est', 'target']].sort_values(['est','target'])"
      ]
    },
    {
      "cell_type": "code",
      "execution_count": null,
      "metadata": {
        "id": "43Iz8t2opaRo"
      },
      "outputs": [],
      "source": [
        "expected_entr_hun =  ((7/12)*entropy([2/7, 5/7]) + (5/12)*entropy([4/5, 1/5]))\n",
        "ig_hun = 1-expected_entr_hun\n",
        "print(expected_entr_hun)\n",
        "print(ig_hun)\n",
        "\n",
        "expected_entr_est = (6/12)*entropy([2/6, 4/6])+ (2/12)*1 + (2/12)*1 + 0\n",
        "expected_entr_est\n",
        "# hun = 0.196\n",
        "# est = 0.208"
      ]
    },
    {
      "cell_type": "code",
      "execution_count": null,
      "metadata": {
        "id": "es0hQGDZpaRo"
      },
      "outputs": [],
      "source": [
        "starting_entr = entropy([3/5, 2/5])\n",
        "starting_entr"
      ]
    },
    {
      "cell_type": "code",
      "execution_count": null,
      "metadata": {
        "id": "PApY9OScpaRo"
      },
      "outputs": [],
      "source": [
        "ee_b3 = (4/5)*entropy([1/4, 3/4])\n",
        "ee_b3"
      ]
    },
    {
      "cell_type": "code",
      "execution_count": null,
      "metadata": {
        "id": "hZNNrvSGpaRp"
      },
      "outputs": [],
      "source": [
        "ig_b3 = starting_entr - ee_b3\n",
        "ig_b3"
      ]
    }
  ],
  "metadata": {
    "celltoolbar": "Slideshow",
    "kernelspec": {
      "display_name": "Python 3",
      "language": "python",
      "name": "python3"
    },
    "language_info": {
      "codemirror_mode": {
        "name": "ipython",
        "version": 3
      },
      "file_extension": ".py",
      "mimetype": "text/x-python",
      "name": "python",
      "nbconvert_exporter": "python",
      "pygments_lexer": "ipython3",
      "version": "3.8.3"
    },
    "colab": {
      "provenance": [],
      "include_colab_link": true
    }
  },
  "nbformat": 4,
  "nbformat_minor": 0
}