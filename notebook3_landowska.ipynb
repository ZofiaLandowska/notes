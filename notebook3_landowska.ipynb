{
  "nbformat": 4,
  "nbformat_minor": 0,
  "metadata": {
    "colab": {
      "provenance": [],
      "include_colab_link": true
    },
    "kernelspec": {
      "name": "python3",
      "display_name": "Python 3"
    },
    "language_info": {
      "name": "python"
    }
  },
  "cells": [
    {
      "cell_type": "markdown",
      "metadata": {
        "id": "view-in-github",
        "colab_type": "text"
      },
      "source": [
        "<a href=\"https://colab.research.google.com/github/ZofiaLandowska/notes/blob/main/notebook3_landowska.ipynb\" target=\"_parent\"><img src=\"https://colab.research.google.com/assets/colab-badge.svg\" alt=\"Open In Colab\"/></a>"
      ]
    },
    {
      "cell_type": "markdown",
      "source": [
        "# Notebook #3: Cross Validation with kNN and Wine Ratings\n",
        "**Name: Zofia Landowska**\n"
      ],
      "metadata": {
        "id": "6p6Gf9wQNv_f"
      }
    },
    {
      "cell_type": "markdown",
      "source": [
        "Prepare the data"
      ],
      "metadata": {
        "id": "diNiU6_kN5se"
      }
    },
    {
      "cell_type": "code",
      "source": [
        "import pandas\n",
        "import numpy\n",
        "from google.colab import drive \n",
        "drive.mount('/content/drive')"
      ],
      "metadata": {
        "id": "kf1k35nmN15u",
        "outputId": "cb93bdd7-9044-46f7-8080-4e694b0182bb",
        "colab": {
          "base_uri": "https://localhost:8080/"
        }
      },
      "execution_count": 15,
      "outputs": [
        {
          "output_type": "stream",
          "name": "stdout",
          "text": [
            "Drive already mounted at /content/drive; to attempt to forcibly remount, call drive.mount(\"/content/drive\", force_remount=True).\n"
          ]
        }
      ]
    },
    {
      "cell_type": "code",
      "source": [
        "# change the path so to access the data on your drive \n",
        "wine_data = pandas.read_csv('/content/drive/MyDrive/winequality-white.csv')"
      ],
      "metadata": {
        "id": "NU2OlQdUN7hg"
      },
      "execution_count": 27,
      "outputs": []
    },
    {
      "cell_type": "markdown",
      "source": [
        "# Exercise #1. \n",
        "Implement mean squared error (mse) algorithm"
      ],
      "metadata": {
        "id": "y0y8sj-TOwlA"
      }
    },
    {
      "cell_type": "code",
      "source": [
        "def mse(actual,predicted):\n",
        "    # INPUT: \n",
        "    #   actual: a list of values\n",
        "    #   predicted: a list of value\n",
        "    #   (we assume that number of elements in actual and predicted match)\n",
        "    # OUTPUT: \n",
        "    #   the mean squared error between the actual and predicted values\n",
        "    mean_squared_error = np.squared(actual-predicted)\n",
        "    return mean_squared_error"
      ],
      "metadata": {
        "id": "lKq5w184O8Zc"
      },
      "execution_count": 17,
      "outputs": []
    },
    {
      "cell_type": "markdown",
      "source": [
        "# Exercise #2\n",
        "Implement the testing and training data. Use the approximately the first 320 rows in the shuffled set as testing data. "
      ],
      "metadata": {
        "id": "mvJxkj41PkIf"
      }
    },
    {
      "cell_type": "code",
      "source": [
        "# change the path so to access the data on your drive \n",
        "wine_data = pandas.read_csv('/content/drive/MyDrive/winequality-white.csv')\n",
        "\n",
        "# establish test_data and train_data here\n",
        "shuffled_data = wine_data.sample(frac=1)\n",
        "test_data = shuffled_data.iloc[0:320]\n",
        "train_data = shuffled_data.iloc[320:]\n"
      ],
      "metadata": {
        "id": "oyoxRCKmPtE4"
      },
      "execution_count": 18,
      "outputs": []
    },
    {
      "cell_type": "markdown",
      "source": [
        "# Exercise #3\n",
        "Use the kNN implementation and the other code provided below to normalize your data. Test your model using several different values of k and **graphically show** the results using your implementation of **mse**."
      ],
      "metadata": {
        "id": "tiwDvnNgP_0C"
      }
    },
    {
      "cell_type": "code",
      "source": [
        "import numpy as np\n",
        "import pandas as pd\n",
        "\n",
        "def regression_kNN(specimen, data, k):\n",
        "  data_copy = data.copy()\n",
        "  data_copy['distance_to_new'] = numpy.sqrt(\n",
        "    (specimen['fixed acidity']-data['fixed acidity'])**2\n",
        "    +(specimen['volatile acidity']-data['volatile acidity'])**2\n",
        "    +(specimen['citric acid']-data['citric acid'])**2\n",
        "    +(specimen['residual sugar']-data['residual sugar'])**2\n",
        "    +(specimen['chlorides']-data['chlorides'])**2\n",
        "    +(specimen['free sulfur dioxide']-data['free sulfur dioxide'])**2\n",
        "    +(specimen['total sulfur dioxide']-data['total sulfur dioxide'])**2\n",
        "    +(specimen['density']-data['density'])**2\n",
        "    +(specimen['pH']-data['pH'])**2\n",
        "    +(specimen['sulphates']-data['sulphates'])**2\n",
        "    +(specimen['alcohol']-data['alcohol'])**2\n",
        "    )\n",
        "  sorted_data = data_copy.sort_values(['distance_to_new']) \n",
        "  return sorted_data.iloc[0:k]['quality'].mean()"
      ],
      "metadata": {
        "id": "WLhN_9bWQFu3"
      },
      "execution_count": 50,
      "outputs": []
    },
    {
      "cell_type": "code",
      "source": [
        "def regressions_all_kNN(test_data,train_data,k):\n",
        "    #apply the regression_kNN function to each item in the test data with the train\n",
        "    #data and k passed as the other two arguments. The result will be a series of \n",
        "    #the individual results.\n",
        "    results = []\n",
        "    for i in range(len(test_data)):\n",
        "      prediction = regression_kNN(test_data.iloc[i], train_data,k)\n",
        "      results.append(prediction)\n",
        "    return pandas.Series(results)"
      ],
      "metadata": {
        "id": "1KClR8Z2QsyC"
      },
      "execution_count": 51,
      "outputs": []
    },
    {
      "cell_type": "code",
      "source": [
        "# normalize the data (part 1) -- calculate the mean and standard deviation values for the predictor columns\n",
        "fixed_acidity_mean = train_data['fixed acidity'].mean()\n",
        "fixed_acidity_std = train_data['fixed acidity'].std()\n",
        "volatile_acidity_mean = train_data['volatile acidity'].mean()\n",
        "volatile_acidity_std = train_data['volatile acidity'].std()\n",
        "citric_acid_mean = train_data['citric acid'].mean()\n",
        "citric_acid_std = train_data['citric acid'].std()\n",
        "residual_sugar_mean = train_data['residual sugar'].mean()\n",
        "residual_sugar_std = train_data['residual sugar'].std()\n",
        "chlorides_mean = train_data['chlorides'].mean()\n",
        "chlorides_std = train_data['chlorides'].std()\n",
        "free_sulfur_dioxide_mean = train_data['free sulfur dioxide'].mean()\n",
        "free_sulfur_dioxide_std = train_data['free sulfur dioxide'].std()\n",
        "total_sulfur_dioxide_mean = train_data['total sulfur dioxide'].mean()\n",
        "total_sulfur_dioxide_std = train_data['total sulfur dioxide'].std()\n",
        "density_mean = train_data['density'].mean()\n",
        "density_std = train_data['density'].std()\n",
        "pH_mean = train_data['pH'].mean()\n",
        "pH_std = train_data['pH'].std()\n",
        "sulphates_mean = train_data['sulphates'].mean()\n",
        "sulphates_std = train_data['sulphates'].std()\n",
        "alcohol_mean = train_data['alcohol'].mean()\n",
        "alcohol_std = train_data['alcohol'].std()\n"
      ],
      "metadata": {
        "id": "ZbpecOIJQxMv"
      },
      "execution_count": 52,
      "outputs": []
    },
    {
      "cell_type": "code",
      "source": [
        " # normalize the data (part 1) -- normalize both the training and testing data frames\n",
        "train_norm_data = train_data.copy()\n",
        "test_norm_data = test_data.copy()\n",
        "\n",
        "# update the columns in train_norm_data \n",
        "train_norm_data['fixed acidity'] = (train_data['fixed acidity'] - fixed_acidity_mean)/fixed_acidity_std\n",
        "train_norm_data['volatile acidity'] = (train_data['volatile acidity'] - volatile_acidity_mean)/volatile_acidity_std\n",
        "train_norm_data['citric acid'] = (train_data['citric acid'] - citric_acid_mean)/citric_acid_std\n",
        "train_norm_data['residual sugar'] = (train_data['residual sugar'] - residual_sugar_mean)/residual_sugar_std\n",
        "train_norm_data['chlorides'] = (train_data['chlorides'] - chlorides_mean)/chlorides_std\n",
        "train_norm_data['free sulfur dioxide'] = (train_data['free sulfur dioxide'] - free_sulfur_dioxide_mean)/free_sulfur_dioxide_std\n",
        "train_norm_data['total sulfur dioxide'] = (train_data['total sulfur dioxide'] - total_sulfur_dioxide_mean)/total_sulfur_dioxide_std\n",
        "train_norm_data['density'] = (train_data['density'] - density_mean)/density_std\n",
        "train_norm_data['pH'] = (train_data['pH'] - pH_mean)/pH_std\n",
        "train_norm_data['sulphates'] = (train_data['sulphates'] - sulphates_mean)/sulphates_std\n",
        "train_norm_data['alcohol'] = (train_data['alcohol'] - alcohol_mean)/alcohol_std\n",
        "\n",
        "# update the columns in test_norm_data \n",
        "test_norm_data['fixed acidity'] = (test_data['fixed acidity'] - fixed_acidity_mean)/fixed_acidity_std\n",
        "test_norm_data['volatile acidity'] = (test_data['volatile acidity'] - volatile_acidity_mean)/volatile_acidity_std\n",
        "test_norm_data['citric acid'] = (test_data['citric acid'] - citric_acid_mean)/citric_acid_std\n",
        "test_norm_data['residual sugar'] = (test_data['residual sugar'] - residual_sugar_mean)/residual_sugar_std\n",
        "test_norm_data['chlorides'] = (test_data['chlorides'] - chlorides_mean)/chlorides_std\n",
        "test_norm_data['free sulfur dioxide'] = (test_data['free sulfur dioxide'] - free_sulfur_dioxide_mean)/free_sulfur_dioxide_std\n",
        "test_norm_data['total sulfur dioxide'] = (test_data['total sulfur dioxide'] - total_sulfur_dioxide_mean)/total_sulfur_dioxide_std\n",
        "test_norm_data['density'] = (test_data['density'] - density_mean)/density_std\n",
        "test_norm_data['pH'] = (test_data['pH'] - pH_mean)/pH_std\n",
        "test_norm_data['sulphates'] = (test_data['sulphates'] - sulphates_mean)/sulphates_std\n",
        "test_norm_data['alcohol'] = (test_data['alcohol'] - alcohol_mean)/alcohol_std\n"
      ],
      "metadata": {
        "id": "usRm6g4-Q_uS"
      },
      "execution_count": 53,
      "outputs": []
    },
    {
      "cell_type": "code",
      "source": [
        "import matplotlib.pyplot as plt\n",
        "%matplotlib inline\n",
        "from sklearn.metrics import accuracy_score\n",
        "\n",
        "k_vals = [1,13,25,39,555,721,931,1151,1201,1429]\n",
        "kNN_accuracies = []\n",
        "\n",
        "for k in k_vals:\n",
        "    predictions = regressions_all_kNN(test_norm_data,train_norm_data,k)\n",
        "    current_accuracy = accuracy_score(test_norm_data['quality'],predictions)\n",
        "    kNN_accuracies.append(current_accuracy)\n",
        "\n",
        "\n",
        "plt.suptitle('Wine Quality Data k-NN Experiment',fontsize=18)\n",
        "plt.xlabel('k')\n",
        "plt.ylabel('accuracy')\n",
        "plt.plot(k_vals,kNN_accuracies,'ro-',label='k-NN')\n",
        "plt.legend(loc='lower left', shadow=True)\n",
        "plt.axis([0,1500,0,1])\n",
        "\n",
        "plt.show()"
      ],
      "metadata": {
        "id": "NSYXoGCu9AaE",
        "outputId": "50ea29b8-694a-4a17-cc0a-4ae98f415396",
        "colab": {
          "base_uri": "https://localhost:8080/",
          "height": 375
        }
      },
      "execution_count": 55,
      "outputs": [
        {
          "output_type": "error",
          "ename": "ValueError",
          "evalue": "ignored",
          "traceback": [
            "\u001b[0;31m---------------------------------------------------------------------------\u001b[0m",
            "\u001b[0;31mValueError\u001b[0m                                Traceback (most recent call last)",
            "\u001b[0;32m<ipython-input-55-c4f68a306527>\u001b[0m in \u001b[0;36m<module>\u001b[0;34m\u001b[0m\n\u001b[1;32m      8\u001b[0m \u001b[0;32mfor\u001b[0m \u001b[0mk\u001b[0m \u001b[0;32min\u001b[0m \u001b[0mk_vals\u001b[0m\u001b[0;34m:\u001b[0m\u001b[0;34m\u001b[0m\u001b[0;34m\u001b[0m\u001b[0m\n\u001b[1;32m      9\u001b[0m     \u001b[0mpredictions\u001b[0m \u001b[0;34m=\u001b[0m \u001b[0mregressions_all_kNN\u001b[0m\u001b[0;34m(\u001b[0m\u001b[0mtest_norm_data\u001b[0m\u001b[0;34m,\u001b[0m\u001b[0mtrain_norm_data\u001b[0m\u001b[0;34m,\u001b[0m\u001b[0mk\u001b[0m\u001b[0;34m)\u001b[0m\u001b[0;34m\u001b[0m\u001b[0;34m\u001b[0m\u001b[0m\n\u001b[0;32m---> 10\u001b[0;31m     \u001b[0mcurrent_accuracy\u001b[0m \u001b[0;34m=\u001b[0m \u001b[0maccuracy_score\u001b[0m\u001b[0;34m(\u001b[0m\u001b[0mtest_norm_data\u001b[0m\u001b[0;34m[\u001b[0m\u001b[0;34m'quality'\u001b[0m\u001b[0;34m]\u001b[0m\u001b[0;34m,\u001b[0m\u001b[0mpredictions\u001b[0m\u001b[0;34m)\u001b[0m\u001b[0;34m\u001b[0m\u001b[0;34m\u001b[0m\u001b[0m\n\u001b[0m\u001b[1;32m     11\u001b[0m     \u001b[0mkNN_accuracies\u001b[0m\u001b[0;34m.\u001b[0m\u001b[0mappend\u001b[0m\u001b[0;34m(\u001b[0m\u001b[0mcurrent_accuracy\u001b[0m\u001b[0;34m)\u001b[0m\u001b[0;34m\u001b[0m\u001b[0;34m\u001b[0m\u001b[0m\n\u001b[1;32m     12\u001b[0m \u001b[0;34m\u001b[0m\u001b[0m\n",
            "\u001b[0;32m/usr/local/lib/python3.8/dist-packages/sklearn/metrics/_classification.py\u001b[0m in \u001b[0;36maccuracy_score\u001b[0;34m(y_true, y_pred, normalize, sample_weight)\u001b[0m\n\u001b[1;32m    209\u001b[0m \u001b[0;34m\u001b[0m\u001b[0m\n\u001b[1;32m    210\u001b[0m     \u001b[0;31m# Compute accuracy for each possible representation\u001b[0m\u001b[0;34m\u001b[0m\u001b[0;34m\u001b[0m\u001b[0;34m\u001b[0m\u001b[0m\n\u001b[0;32m--> 211\u001b[0;31m     \u001b[0my_type\u001b[0m\u001b[0;34m,\u001b[0m \u001b[0my_true\u001b[0m\u001b[0;34m,\u001b[0m \u001b[0my_pred\u001b[0m \u001b[0;34m=\u001b[0m \u001b[0m_check_targets\u001b[0m\u001b[0;34m(\u001b[0m\u001b[0my_true\u001b[0m\u001b[0;34m,\u001b[0m \u001b[0my_pred\u001b[0m\u001b[0;34m)\u001b[0m\u001b[0;34m\u001b[0m\u001b[0;34m\u001b[0m\u001b[0m\n\u001b[0m\u001b[1;32m    212\u001b[0m     \u001b[0mcheck_consistent_length\u001b[0m\u001b[0;34m(\u001b[0m\u001b[0my_true\u001b[0m\u001b[0;34m,\u001b[0m \u001b[0my_pred\u001b[0m\u001b[0;34m,\u001b[0m \u001b[0msample_weight\u001b[0m\u001b[0;34m)\u001b[0m\u001b[0;34m\u001b[0m\u001b[0;34m\u001b[0m\u001b[0m\n\u001b[1;32m    213\u001b[0m     \u001b[0;32mif\u001b[0m \u001b[0my_type\u001b[0m\u001b[0;34m.\u001b[0m\u001b[0mstartswith\u001b[0m\u001b[0;34m(\u001b[0m\u001b[0;34m\"multilabel\"\u001b[0m\u001b[0;34m)\u001b[0m\u001b[0;34m:\u001b[0m\u001b[0;34m\u001b[0m\u001b[0;34m\u001b[0m\u001b[0m\n",
            "\u001b[0;32m/usr/local/lib/python3.8/dist-packages/sklearn/metrics/_classification.py\u001b[0m in \u001b[0;36m_check_targets\u001b[0;34m(y_true, y_pred)\u001b[0m\n\u001b[1;32m     91\u001b[0m \u001b[0;34m\u001b[0m\u001b[0m\n\u001b[1;32m     92\u001b[0m     \u001b[0;32mif\u001b[0m \u001b[0mlen\u001b[0m\u001b[0;34m(\u001b[0m\u001b[0my_type\u001b[0m\u001b[0;34m)\u001b[0m \u001b[0;34m>\u001b[0m \u001b[0;36m1\u001b[0m\u001b[0;34m:\u001b[0m\u001b[0;34m\u001b[0m\u001b[0;34m\u001b[0m\u001b[0m\n\u001b[0;32m---> 93\u001b[0;31m         raise ValueError(\n\u001b[0m\u001b[1;32m     94\u001b[0m             \"Classification metrics can't handle a mix of {0} and {1} targets\".format(\n\u001b[1;32m     95\u001b[0m                 \u001b[0mtype_true\u001b[0m\u001b[0;34m,\u001b[0m \u001b[0mtype_pred\u001b[0m\u001b[0;34m\u001b[0m\u001b[0;34m\u001b[0m\u001b[0m\n",
            "\u001b[0;31mValueError\u001b[0m: Classification metrics can't handle a mix of multiclass and continuous targets"
          ]
        }
      ]
    },
    {
      "cell_type": "markdown",
      "source": [
        "# Exercise #4\n",
        "Repeat the experiment and **graphically show the results** using r^2."
      ],
      "metadata": {
        "id": "_Bgql4RdR8ta"
      }
    },
    {
      "cell_type": "code",
      "source": [
        "from sklearn.metrics import r2_score\n",
        "\n",
        "k_vals = [1,13,25,39,555,721,931,1151,1201,1429]\n",
        "kNN_accuracies = []\n",
        "\n",
        "for k in k_vals:\n",
        "    predictions = regressions_all_kNN(test_norm_data,train_norm_data,k)\n",
        "    current_accuracy = r2_score(test_norm_data['quality'],predictions)\n",
        "    kNN_accuracies.append(current_accuracy)\n",
        "\n",
        "\n",
        "plt.suptitle('Wine Quality Data k-NN Experiment',fontsize=18)\n",
        "plt.xlabel('k')\n",
        "plt.ylabel('accuracy')\n",
        "plt.plot(k_vals,kNN_accuracies,'ro-',label='k-NN')\n",
        "plt.legend(loc='lower left', shadow=True)\n",
        "plt.axis([0,1500,0,1])\n",
        "\n",
        "plt.show()\n"
      ],
      "metadata": {
        "id": "-MJ4trOIG8zi",
        "outputId": "65a092a0-43c2-4417-e090-e90842df7fcc",
        "colab": {
          "base_uri": "https://localhost:8080/",
          "height": 308
        }
      },
      "execution_count": 31,
      "outputs": [
        {
          "output_type": "display_data",
          "data": {
            "text/plain": [
              "<Figure size 432x288 with 1 Axes>"
            ],
            "image/png": "[encoded data removed]"
          },
          "metadata": {
            "needs_background": "light"
          }
        }
      ]
    },
    {
      "cell_type": "markdown",
      "source": [
        "# Exercise #5. \n",
        "Describe your findings. What conclusions can you draw about the best number for k for the k-NN algorithm for this data set? **Explain why.** Use a markdown cell to explain your conclusions."
      ],
      "metadata": {
        "id": "j0_mN_MpTscx"
      }
    }
  ]
}