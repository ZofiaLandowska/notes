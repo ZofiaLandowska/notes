{
  "nbformat": 4,
  "nbformat_minor": 0,
  "metadata": {
    "colab": {
      "name": "Project1_starter.ipynb",
      "provenance": [],
      "include_colab_link": true
    },
    "kernelspec": {
      "name": "python3",
      "display_name": "Python 3"
    }
  },
  "cells": [
    {
      "cell_type": "markdown",
      "metadata": {
        "id": "view-in-github",
        "colab_type": "text"
      },
      "source": [
        "<a href=\"https://colab.research.google.com/github/ZofiaLandowska/notes/blob/main/project1_landowska.ipynb\" target=\"_parent\"><img src=\"https://colab.research.google.com/assets/colab-badge.svg\" alt=\"Open In Colab\"/></a>"
      ]
    },
    {
      "cell_type": "markdown",
      "metadata": {
        "id": "F9AOhxuO9Vt7"
      },
      "source": [
        "# Project \\#1 Starter Code: \n",
        "Your first step is to decide which dataset you would like to work with for this project. \n",
        "\n",
        "For this project, you will get to choose what dataset you use. The ones we've used in class (other than Iris/Titanic as they're pretty small) are all fair game (wine quality, breast cancer, spotify). \n",
        "\n",
        "Here are some other possibilities--Kaggle has many many more. It might be a good idea to double check with me before grabbing a dataset that's not listed here:\n",
        "- 🥑 [Avocado Prices](https://www.kaggle.com/datasets/neuromusic/avocado-prices)\n",
        "- 🎟️ [Admission to University](https://www.kaggle.com/datasets/akshaydattatraykhare/data-for-admission-in-the-university)\n",
        "- 🏎️ [Speed Dating](https://www.kaggle.com/datasets/whenamancodes/speed-dating)\n",
        "- 🎓 [World University Ranking](https://www.kaggle.com/datasets/whenamancodes/world-university-ranking-2022-2023)\n",
        "- 📸 [Top Instagram Influencers](https://www.kaggle.com/datasets/whenamancodes/top-200-influencers-crushing-on-instagram)\n",
        "- 🌦️ [Weather Prediction](https://www.kaggle.com/datasets/thedevastator/weather-prediction)\n",
        "- 🤑 [Student Monthly Expenses](https://www.kaggle.com/datasets/shariful07/nice-work-thanks-for-share)\n",
        "- 🍺 [Student Alcohol Consumption](https://www.kaggle.com/datasets/uciml/student-alcohol-consumption)\n",
        "- 🏫 [College Score Card](https://www.kaggle.com/datasets/thedevastator/u-s-department-of-education-college-scorecard-da)\n",
        "- 🎮 [IMDB Video Games](https://www.kaggle.com/datasets/muhammadadiltalay/imdb-video-games)\n",
        "- 🎵 [Spotify Recommendation](https://www.kaggle.com/datasets/bricevergnou/spotify-recommendation)"
      ]
    },
    {
      "cell_type": "markdown",
      "source": [
        "# Self-Evaluation:\n",
        "\n",
        "| **Description/Writing** | **I think I deserve** |\n",
        "|-------------------------|-----------------------|\n",
        "| 1: Problem              | /2                    |\n",
        "| 2: Data Prep            | /2                    |\n",
        "| 3: Research             | /10                   |\n",
        "| 4: Analysis             | /10                   |\n",
        "| 5: Bumps in the Road.   | /1                    |\n",
        "| Total                   | /25                   |"
      ],
      "metadata": {
        "id": "qbd3DvcpK6pD"
      }
    },
    {
      "cell_type": "markdown",
      "source": [
        "# 1. Problem:\n",
        "State the problem you are trying to solve with this machine learning experiment. Include a description of the data, where you got the data, and what you're trying to predict.."
      ],
      "metadata": {
        "id": "WAD00FUzJweA"
      }
    },
    {
      "cell_type": "markdown",
      "source": [
        "I will be using the Avocado Prices in my project, which I downloaded form Kaggle. This dataset includes information about the avocado market.\n",
        "\n",
        "The table represents weekly 2018 retail scan data for National retail volume (units) and price. Retail scan data comes directly from retailers’ cash registers based on actual retail sales of Hass avocados. Starting in 2013, the table below reflects an expanded, multi-outlet retail data set. Multi-outlet reporting includes an aggregation of the following channels: grocery, mass, club, drug, dollar and military. The Average Price (of avocados) in the table reflects a per unit (per avocado) cost, even when multiple units (avocados) are sold in bags. The Product Lookup codes (PLU’s) in the table are only for Hass avocados. Other varieties of avocados (e.g. greenskins) are not included in this table.\n",
        "\n",
        "Some relevant columns in the dataset:\n",
        "* Date - The date of the observation\n",
        "* AveragePrice - the average price of a single avocado\n",
        "* type - conventional or organic\n",
        "* year - the year\n",
        "* Region - the city or region of the observation\n",
        "* Total Volume - Total number of avocados sold\n",
        "* 4046 - Total number of avocados with PLU 4046 sold\n",
        "* 4225 - Total number of avocados with PLU 4225 sold\n",
        "* 4770 - Total number of avocados with PLU 4770 sold\n",
        "\n",
        "The purpose of this project is to predict the region the avocado is from based on its price, the number of avocados sold, and the year."
      ],
      "metadata": {
        "id": "G1jpZYKEJ1Ao"
      }
    },
    {
      "cell_type": "markdown",
      "source": [
        "# 2. Data Preparation\n",
        "Explain your data preparation. What did you have to do to get your data in shape for your experiments? Why are you certain that you data is clean and prepared for use in your algorithms?"
      ],
      "metadata": {
        "id": "JwzF076lJ3mA"
      }
    },
    {
      "cell_type": "markdown",
      "source": [
        "*your answer here*"
      ],
      "metadata": {
        "id": "81CTRbswJ_XJ"
      }
    },
    {
      "cell_type": "code",
      "source": [
        "from google.colab import drive\n",
        "drive.mount('/content/drive')"
      ],
      "metadata": {
        "id": "-9-094iio-64",
        "outputId": "5b6dee6b-3e55-4235-f7aa-66af286ac5c7",
        "colab": {
          "base_uri": "https://localhost:8080/"
        }
      },
      "execution_count": 20,
      "outputs": [
        {
          "output_type": "stream",
          "name": "stdout",
          "text": [
            "Drive already mounted at /content/drive; to attempt to forcibly remount, call drive.mount(\"/content/drive\", force_remount=True).\n"
          ]
        }
      ]
    },
    {
      "cell_type": "code",
      "source": [
        "import sklearn\n",
        "import pandas as pd\n",
        "import numpy as np\n",
        "from sklearn import tree\n",
        "from sklearn.model_selection import train_test_split\n",
        "from sklearn import metrics\n",
        "from sklearn import neighbors\n",
        "from sklearn import ensemble\n",
        "from sklearn.preprocessing import StandardScaler\n",
        "import matplotlib.pyplot as plt\n",
        "%matplotlib inline"
      ],
      "metadata": {
        "id": "olnudZoip-Zj"
      },
      "execution_count": 21,
      "outputs": []
    },
    {
      "cell_type": "code",
      "source": [
        "# load and preapre your data here:\n",
        "path = '/content/drive/MyDrive/avocado.csv'\n",
        "data = pd.read_csv(path)\n",
        "\n",
        "data.isna().any()\n",
        "np.unique(data.type)\n",
        "np.unique(data.year)\n",
        "data.head()"
      ],
      "metadata": {
        "id": "vv2-3tJlKBCd",
        "outputId": "e6b98ef9-712b-426a-8262-413e57f00fb6",
        "colab": {
          "base_uri": "https://localhost:8080/",
          "height": 204
        }
      },
      "execution_count": 22,
      "outputs": [
        {
          "output_type": "execute_result",
          "data": {
            "text/plain": [
              "   Unnamed: 0        Date  AveragePrice  Total Volume     4046       4225  \\\n",
              "0           0  2015-12-27          1.33      64236.62  1036.74   54454.85   \n",
              "1           1  2015-12-20          1.35      54876.98   674.28   44638.81   \n",
              "2           2  2015-12-13          0.93     118220.22   794.70  109149.67   \n",
              "3           3  2015-12-06          1.08      78992.15  1132.00   71976.41   \n",
              "4           4  2015-11-29          1.28      51039.60   941.48   43838.39   \n",
              "\n",
              "     4770  Total Bags  Small Bags  Large Bags  XLarge Bags          type  \\\n",
              "0   48.16     8696.87     8603.62       93.25          0.0  conventional   \n",
              "1   58.33     9505.56     9408.07       97.49          0.0  conventional   \n",
              "2  130.50     8145.35     8042.21      103.14          0.0  conventional   \n",
              "3   72.58     5811.16     5677.40      133.76          0.0  conventional   \n",
              "4   75.78     6183.95     5986.26      197.69          0.0  conventional   \n",
              "\n",
              "   year  region  \n",
              "0  2015  Albany  \n",
              "1  2015  Albany  \n",
              "2  2015  Albany  \n",
              "3  2015  Albany  \n",
              "4  2015  Albany  "
            ],
            "text/html": [
              "\n",
              "  <div id=\"df-eca27c6c-31cb-4b34-9e0e-436161d31ac3\">\n",
              "    <div class=\"colab-df-container\">\n",
              "      <div>\n",
              "<style scoped>\n",
              "    .dataframe tbody tr th:only-of-type {\n",
              "        vertical-align: middle;\n",
              "    }\n",
              "\n",
              "    .dataframe tbody tr th {\n",
              "        vertical-align: top;\n",
              "    }\n",
              "\n",
              "    .dataframe thead th {\n",
              "        text-align: right;\n",
              "    }\n",
              "</style>\n",
              "<table border=\"1\" class=\"dataframe\">\n",
              "  <thead>\n",
              "    <tr style=\"text-align: right;\">\n",
              "      <th></th>\n",
              "      <th>Unnamed: 0</th>\n",
              "      <th>Date</th>\n",
              "      <th>AveragePrice</th>\n",
              "      <th>Total Volume</th>\n",
              "      <th>4046</th>\n",
              "      <th>4225</th>\n",
              "      <th>4770</th>\n",
              "      <th>Total Bags</th>\n",
              "      <th>Small Bags</th>\n",
              "      <th>Large Bags</th>\n",
              "      <th>XLarge Bags</th>\n",
              "      <th>type</th>\n",
              "      <th>year</th>\n",
              "      <th>region</th>\n",
              "    </tr>\n",
              "  </thead>\n",
              "  <tbody>\n",
              "    <tr>\n",
              "      <th>0</th>\n",
              "      <td>0</td>\n",
              "      <td>2015-12-27</td>\n",
              "      <td>1.33</td>\n",
              "      <td>64236.62</td>\n",
              "      <td>1036.74</td>\n",
              "      <td>54454.85</td>\n",
              "      <td>48.16</td>\n",
              "      <td>8696.87</td>\n",
              "      <td>8603.62</td>\n",
              "      <td>93.25</td>\n",
              "      <td>0.0</td>\n",
              "      <td>conventional</td>\n",
              "      <td>2015</td>\n",
              "      <td>Albany</td>\n",
              "    </tr>\n",
              "    <tr>\n",
              "      <th>1</th>\n",
              "      <td>1</td>\n",
              "      <td>2015-12-20</td>\n",
              "      <td>1.35</td>\n",
              "      <td>54876.98</td>\n",
              "      <td>674.28</td>\n",
              "      <td>44638.81</td>\n",
              "      <td>58.33</td>\n",
              "      <td>9505.56</td>\n",
              "      <td>9408.07</td>\n",
              "      <td>97.49</td>\n",
              "      <td>0.0</td>\n",
              "      <td>conventional</td>\n",
              "      <td>2015</td>\n",
              "      <td>Albany</td>\n",
              "    </tr>\n",
              "    <tr>\n",
              "      <th>2</th>\n",
              "      <td>2</td>\n",
              "      <td>2015-12-13</td>\n",
              "      <td>0.93</td>\n",
              "      <td>118220.22</td>\n",
              "      <td>794.70</td>\n",
              "      <td>109149.67</td>\n",
              "      <td>130.50</td>\n",
              "      <td>8145.35</td>\n",
              "      <td>8042.21</td>\n",
              "      <td>103.14</td>\n",
              "      <td>0.0</td>\n",
              "      <td>conventional</td>\n",
              "      <td>2015</td>\n",
              "      <td>Albany</td>\n",
              "    </tr>\n",
              "    <tr>\n",
              "      <th>3</th>\n",
              "      <td>3</td>\n",
              "      <td>2015-12-06</td>\n",
              "      <td>1.08</td>\n",
              "      <td>78992.15</td>\n",
              "      <td>1132.00</td>\n",
              "      <td>71976.41</td>\n",
              "      <td>72.58</td>\n",
              "      <td>5811.16</td>\n",
              "      <td>5677.40</td>\n",
              "      <td>133.76</td>\n",
              "      <td>0.0</td>\n",
              "      <td>conventional</td>\n",
              "      <td>2015</td>\n",
              "      <td>Albany</td>\n",
              "    </tr>\n",
              "    <tr>\n",
              "      <th>4</th>\n",
              "      <td>4</td>\n",
              "      <td>2015-11-29</td>\n",
              "      <td>1.28</td>\n",
              "      <td>51039.60</td>\n",
              "      <td>941.48</td>\n",
              "      <td>43838.39</td>\n",
              "      <td>75.78</td>\n",
              "      <td>6183.95</td>\n",
              "      <td>5986.26</td>\n",
              "      <td>197.69</td>\n",
              "      <td>0.0</td>\n",
              "      <td>conventional</td>\n",
              "      <td>2015</td>\n",
              "      <td>Albany</td>\n",
              "    </tr>\n",
              "  </tbody>\n",
              "</table>\n",
              "</div>\n",
              "      <button class=\"colab-df-convert\" onclick=\"convertToInteractive('df-eca27c6c-31cb-4b34-9e0e-436161d31ac3')\"\n",
              "              title=\"Convert this dataframe to an interactive table.\"\n",
              "              style=\"display:none;\">\n",
              "        \n",
              "  <svg xmlns=\"http://www.w3.org/2000/svg\" height=\"24px\"viewBox=\"0 0 24 24\"\n",
              "       width=\"24px\">\n",
              "    <path d=\"M0 0h24v24H0V0z\" fill=\"none\"/>\n",
              "    <path d=\"M18.56 5.44l.94 2.06.94-2.06 2.06-.94-2.06-.94-.94-2.06-.94 2.06-2.06.94zm-11 1L8.5 8.5l.94-2.06 2.06-.94-2.06-.94L8.5 2.5l-.94 2.06-2.06.94zm10 10l.94 2.06.94-2.06 2.06-.94-2.06-.94-.94-2.06-.94 2.06-2.06.94z\"/><path d=\"M17.41 7.96l-1.37-1.37c-.4-.4-.92-.59-1.43-.59-.52 0-1.04.2-1.43.59L10.3 9.45l-7.72 7.72c-.78.78-.78 2.05 0 2.83L4 21.41c.39.39.9.59 1.41.59.51 0 1.02-.2 1.41-.59l7.78-7.78 2.81-2.81c.8-.78.8-2.07 0-2.86zM5.41 20L4 18.59l7.72-7.72 1.47 1.35L5.41 20z\"/>\n",
              "  </svg>\n",
              "      </button>\n",
              "      \n",
              "  <style>\n",
              "    .colab-df-container {\n",
              "      display:flex;\n",
              "      flex-wrap:wrap;\n",
              "      gap: 12px;\n",
              "    }\n",
              "\n",
              "    .colab-df-convert {\n",
              "      background-color: #E8F0FE;\n",
              "      border: none;\n",
              "      border-radius: 50%;\n",
              "      cursor: pointer;\n",
              "      display: none;\n",
              "      fill: #1967D2;\n",
              "      height: 32px;\n",
              "      padding: 0 0 0 0;\n",
              "      width: 32px;\n",
              "    }\n",
              "\n",
              "    .colab-df-convert:hover {\n",
              "      background-color: #E2EBFA;\n",
              "      box-shadow: 0px 1px 2px rgba(60, 64, 67, 0.3), 0px 1px 3px 1px rgba(60, 64, 67, 0.15);\n",
              "      fill: #174EA6;\n",
              "    }\n",
              "\n",
              "    [theme=dark] .colab-df-convert {\n",
              "      background-color: #3B4455;\n",
              "      fill: #D2E3FC;\n",
              "    }\n",
              "\n",
              "    [theme=dark] .colab-df-convert:hover {\n",
              "      background-color: #434B5C;\n",
              "      box-shadow: 0px 1px 3px 1px rgba(0, 0, 0, 0.15);\n",
              "      filter: drop-shadow(0px 1px 2px rgba(0, 0, 0, 0.3));\n",
              "      fill: #FFFFFF;\n",
              "    }\n",
              "  </style>\n",
              "\n",
              "      <script>\n",
              "        const buttonEl =\n",
              "          document.querySelector('#df-eca27c6c-31cb-4b34-9e0e-436161d31ac3 button.colab-df-convert');\n",
              "        buttonEl.style.display =\n",
              "          google.colab.kernel.accessAllowed ? 'block' : 'none';\n",
              "\n",
              "        async function convertToInteractive(key) {\n",
              "          const element = document.querySelector('#df-eca27c6c-31cb-4b34-9e0e-436161d31ac3');\n",
              "          const dataTable =\n",
              "            await google.colab.kernel.invokeFunction('convertToInteractive',\n",
              "                                                     [key], {});\n",
              "          if (!dataTable) return;\n",
              "\n",
              "          const docLinkHtml = 'Like what you see? Visit the ' +\n",
              "            '<a target=\"_blank\" href=https://colab.research.google.com/notebooks/data_table.ipynb>data table notebook</a>'\n",
              "            + ' to learn more about interactive tables.';\n",
              "          element.innerHTML = '';\n",
              "          dataTable['output_type'] = 'display_data';\n",
              "          await google.colab.output.renderOutput(dataTable, element);\n",
              "          const docLink = document.createElement('div');\n",
              "          docLink.innerHTML = docLinkHtml;\n",
              "          element.appendChild(docLink);\n",
              "        }\n",
              "      </script>\n",
              "    </div>\n",
              "  </div>\n",
              "  "
            ]
          },
          "metadata": {},
          "execution_count": 22
        }
      ]
    },
    {
      "cell_type": "markdown",
      "metadata": {
        "id": "7SfueFgsNdNt"
      },
      "source": [
        "# 3. Research\n",
        "\n",
        "Put your code and your experiments here.\n",
        "\n",
        "For full credit, your experiments should include the following models:\n",
        "- __k Nearest Neighbors__\n",
        "- __weighted k Nearest Neighbors__\n",
        "- __decision tree__\n",
        "- __random forest__ \n",
        "\n",
        "You need to demonstrate the performance of these models on both __normalized__ and __non-normalized__ data. \n",
        "\n",
        "For each of the above models, you need to include a __graph of at least 1 tuned parameter__. \n"
      ]
    },
    {
      "cell_type": "code",
      "source": [
        "# code goes here... don't forget to include graphs. Professor Moore loves graphs.\n",
        "target= 'region'\n",
        "predictors = ['AveragePrice', 'Total Volume', '4046', '4225', '4770', 'Total Bags', 'Small Bags', 'Large Bags', 'XLarge Bags', 'year']\n",
        "train_data, test_data, train_sln, test_sln = train_test_split(data[predictors], data[target], test_size = 0.2, random_state=41)\n",
        "train_data.head()"
      ],
      "metadata": {
        "id": "Z7Wxh3O0KHvo",
        "outputId": "03ab251f-74dc-4e2e-c36b-e25ede317b29",
        "colab": {
          "base_uri": "https://localhost:8080/",
          "height": 204
        }
      },
      "execution_count": 23,
      "outputs": [
        {
          "output_type": "execute_result",
          "data": {
            "text/plain": [
              "       AveragePrice  Total Volume        4046       4225       4770  \\\n",
              "10353          1.51       2285.46        3.69    1340.14       0.00   \n",
              "3979           0.90    3237847.21  1322109.94  593238.74  114307.31   \n",
              "5134           1.05     340564.79   150247.08   97713.54    6435.41   \n",
              "12598          0.74     100571.11    17624.22   12791.08      53.10   \n",
              "11798          1.00     625259.00   170184.00  269330.00    6905.00   \n",
              "\n",
              "       Total Bags  Small Bags  Large Bags  XLarge Bags  year  \n",
              "10353      941.63      438.45      503.18         0.00  2015  \n",
              "3979   1208191.22  1102265.57    80776.26     25149.39  2016  \n",
              "5134     86168.76    63628.30    22540.46         0.00  2016  \n",
              "12598    70102.71    16189.63    53913.08         0.00  2016  \n",
              "11798   178838.00   126058.00    52779.00         0.00  2015  "
            ],
            "text/html": [
              "\n",
              "  <div id=\"df-32cf2095-b7b6-4900-9d2a-7a150cf5258f\">\n",
              "    <div class=\"colab-df-container\">\n",
              "      <div>\n",
              "<style scoped>\n",
              "    .dataframe tbody tr th:only-of-type {\n",
              "        vertical-align: middle;\n",
              "    }\n",
              "\n",
              "    .dataframe tbody tr th {\n",
              "        vertical-align: top;\n",
              "    }\n",
              "\n",
              "    .dataframe thead th {\n",
              "        text-align: right;\n",
              "    }\n",
              "</style>\n",
              "<table border=\"1\" class=\"dataframe\">\n",
              "  <thead>\n",
              "    <tr style=\"text-align: right;\">\n",
              "      <th></th>\n",
              "      <th>AveragePrice</th>\n",
              "      <th>Total Volume</th>\n",
              "      <th>4046</th>\n",
              "      <th>4225</th>\n",
              "      <th>4770</th>\n",
              "      <th>Total Bags</th>\n",
              "      <th>Small Bags</th>\n",
              "      <th>Large Bags</th>\n",
              "      <th>XLarge Bags</th>\n",
              "      <th>year</th>\n",
              "    </tr>\n",
              "  </thead>\n",
              "  <tbody>\n",
              "    <tr>\n",
              "      <th>10353</th>\n",
              "      <td>1.51</td>\n",
              "      <td>2285.46</td>\n",
              "      <td>3.69</td>\n",
              "      <td>1340.14</td>\n",
              "      <td>0.00</td>\n",
              "      <td>941.63</td>\n",
              "      <td>438.45</td>\n",
              "      <td>503.18</td>\n",
              "      <td>0.00</td>\n",
              "      <td>2015</td>\n",
              "    </tr>\n",
              "    <tr>\n",
              "      <th>3979</th>\n",
              "      <td>0.90</td>\n",
              "      <td>3237847.21</td>\n",
              "      <td>1322109.94</td>\n",
              "      <td>593238.74</td>\n",
              "      <td>114307.31</td>\n",
              "      <td>1208191.22</td>\n",
              "      <td>1102265.57</td>\n",
              "      <td>80776.26</td>\n",
              "      <td>25149.39</td>\n",
              "      <td>2016</td>\n",
              "    </tr>\n",
              "    <tr>\n",
              "      <th>5134</th>\n",
              "      <td>1.05</td>\n",
              "      <td>340564.79</td>\n",
              "      <td>150247.08</td>\n",
              "      <td>97713.54</td>\n",
              "      <td>6435.41</td>\n",
              "      <td>86168.76</td>\n",
              "      <td>63628.30</td>\n",
              "      <td>22540.46</td>\n",
              "      <td>0.00</td>\n",
              "      <td>2016</td>\n",
              "    </tr>\n",
              "    <tr>\n",
              "      <th>12598</th>\n",
              "      <td>0.74</td>\n",
              "      <td>100571.11</td>\n",
              "      <td>17624.22</td>\n",
              "      <td>12791.08</td>\n",
              "      <td>53.10</td>\n",
              "      <td>70102.71</td>\n",
              "      <td>16189.63</td>\n",
              "      <td>53913.08</td>\n",
              "      <td>0.00</td>\n",
              "      <td>2016</td>\n",
              "    </tr>\n",
              "    <tr>\n",
              "      <th>11798</th>\n",
              "      <td>1.00</td>\n",
              "      <td>625259.00</td>\n",
              "      <td>170184.00</td>\n",
              "      <td>269330.00</td>\n",
              "      <td>6905.00</td>\n",
              "      <td>178838.00</td>\n",
              "      <td>126058.00</td>\n",
              "      <td>52779.00</td>\n",
              "      <td>0.00</td>\n",
              "      <td>2015</td>\n",
              "    </tr>\n",
              "  </tbody>\n",
              "</table>\n",
              "</div>\n",
              "      <button class=\"colab-df-convert\" onclick=\"convertToInteractive('df-32cf2095-b7b6-4900-9d2a-7a150cf5258f')\"\n",
              "              title=\"Convert this dataframe to an interactive table.\"\n",
              "              style=\"display:none;\">\n",
              "        \n",
              "  <svg xmlns=\"http://www.w3.org/2000/svg\" height=\"24px\"viewBox=\"0 0 24 24\"\n",
              "       width=\"24px\">\n",
              "    <path d=\"M0 0h24v24H0V0z\" fill=\"none\"/>\n",
              "    <path d=\"M18.56 5.44l.94 2.06.94-2.06 2.06-.94-2.06-.94-.94-2.06-.94 2.06-2.06.94zm-11 1L8.5 8.5l.94-2.06 2.06-.94-2.06-.94L8.5 2.5l-.94 2.06-2.06.94zm10 10l.94 2.06.94-2.06 2.06-.94-2.06-.94-.94-2.06-.94 2.06-2.06.94z\"/><path d=\"M17.41 7.96l-1.37-1.37c-.4-.4-.92-.59-1.43-.59-.52 0-1.04.2-1.43.59L10.3 9.45l-7.72 7.72c-.78.78-.78 2.05 0 2.83L4 21.41c.39.39.9.59 1.41.59.51 0 1.02-.2 1.41-.59l7.78-7.78 2.81-2.81c.8-.78.8-2.07 0-2.86zM5.41 20L4 18.59l7.72-7.72 1.47 1.35L5.41 20z\"/>\n",
              "  </svg>\n",
              "      </button>\n",
              "      \n",
              "  <style>\n",
              "    .colab-df-container {\n",
              "      display:flex;\n",
              "      flex-wrap:wrap;\n",
              "      gap: 12px;\n",
              "    }\n",
              "\n",
              "    .colab-df-convert {\n",
              "      background-color: #E8F0FE;\n",
              "      border: none;\n",
              "      border-radius: 50%;\n",
              "      cursor: pointer;\n",
              "      display: none;\n",
              "      fill: #1967D2;\n",
              "      height: 32px;\n",
              "      padding: 0 0 0 0;\n",
              "      width: 32px;\n",
              "    }\n",
              "\n",
              "    .colab-df-convert:hover {\n",
              "      background-color: #E2EBFA;\n",
              "      box-shadow: 0px 1px 2px rgba(60, 64, 67, 0.3), 0px 1px 3px 1px rgba(60, 64, 67, 0.15);\n",
              "      fill: #174EA6;\n",
              "    }\n",
              "\n",
              "    [theme=dark] .colab-df-convert {\n",
              "      background-color: #3B4455;\n",
              "      fill: #D2E3FC;\n",
              "    }\n",
              "\n",
              "    [theme=dark] .colab-df-convert:hover {\n",
              "      background-color: #434B5C;\n",
              "      box-shadow: 0px 1px 3px 1px rgba(0, 0, 0, 0.15);\n",
              "      filter: drop-shadow(0px 1px 2px rgba(0, 0, 0, 0.3));\n",
              "      fill: #FFFFFF;\n",
              "    }\n",
              "  </style>\n",
              "\n",
              "      <script>\n",
              "        const buttonEl =\n",
              "          document.querySelector('#df-32cf2095-b7b6-4900-9d2a-7a150cf5258f button.colab-df-convert');\n",
              "        buttonEl.style.display =\n",
              "          google.colab.kernel.accessAllowed ? 'block' : 'none';\n",
              "\n",
              "        async function convertToInteractive(key) {\n",
              "          const element = document.querySelector('#df-32cf2095-b7b6-4900-9d2a-7a150cf5258f');\n",
              "          const dataTable =\n",
              "            await google.colab.kernel.invokeFunction('convertToInteractive',\n",
              "                                                     [key], {});\n",
              "          if (!dataTable) return;\n",
              "\n",
              "          const docLinkHtml = 'Like what you see? Visit the ' +\n",
              "            '<a target=\"_blank\" href=https://colab.research.google.com/notebooks/data_table.ipynb>data table notebook</a>'\n",
              "            + ' to learn more about interactive tables.';\n",
              "          element.innerHTML = '';\n",
              "          dataTable['output_type'] = 'display_data';\n",
              "          await google.colab.output.renderOutput(dataTable, element);\n",
              "          const docLink = document.createElement('div');\n",
              "          docLink.innerHTML = docLinkHtml;\n",
              "          element.appendChild(docLink);\n",
              "        }\n",
              "      </script>\n",
              "    </div>\n",
              "  </div>\n",
              "  "
            ]
          },
          "metadata": {},
          "execution_count": 23
        }
      ]
    },
    {
      "cell_type": "code",
      "source": [
        "# normalize the data\n",
        "scaler = StandardScaler()\n",
        "scaler.fit(train_data)\n",
        "train_data_normalized = scaler.transform(train_data)\n",
        "test_data_normalized = scaler.transform(test_data)"
      ],
      "metadata": {
        "id": "5TwbE6O2JHQT"
      },
      "execution_count": 24,
      "outputs": []
    },
    {
      "cell_type": "markdown",
      "source": [
        "__k Nearest Neighbors__"
      ],
      "metadata": {
        "id": "NwyxrYboHVAU"
      }
    },
    {
      "cell_type": "code",
      "source": [
        "knn = neighbors.KNeighborsClassifier()\n",
        "knn.fit(train_data, train_sln)\n",
        "predictions = knn.predict(test_data)\n",
        "print(\"Accuracy:\", metrics.accuracy_score(test_sln,predictions))"
      ],
      "metadata": {
        "id": "xQKftFm0E75E",
        "outputId": "678f5bdd-5123-4464-dd98-099bd83530d3",
        "colab": {
          "base_uri": "https://localhost:8080/"
        }
      },
      "execution_count": 25,
      "outputs": [
        {
          "output_type": "stream",
          "name": "stdout",
          "text": [
            "Accuracy: 0.6504109589041096\n"
          ]
        }
      ]
    },
    {
      "cell_type": "code",
      "source": [
        "knn = neighbors.KNeighborsClassifier()\n",
        "knn.fit(train_data_normalized, train_sln)\n",
        "predictions = knn.predict(test_data_normalized)\n",
        "print(\"Accuracy:\", metrics.accuracy_score(test_sln,predictions))"
      ],
      "metadata": {
        "id": "2NF706jsKMzh",
        "outputId": "b1272c58-a675-4007-d231-5b22f384f7a9",
        "colab": {
          "base_uri": "https://localhost:8080/"
        }
      },
      "execution_count": 26,
      "outputs": [
        {
          "output_type": "stream",
          "name": "stdout",
          "text": [
            "Accuracy: 0.47863013698630136\n"
          ]
        }
      ]
    },
    {
      "cell_type": "code",
      "source": [
        "knn = neighbors.KNeighborsClassifier(n_neighbors=50)\n",
        "knn.fit(train_data, train_sln)\n",
        "predictions = knn.predict(test_data)\n",
        "print(\"Accuracy:\", metrics.accuracy_score(test_sln,predictions))"
      ],
      "metadata": {
        "id": "s9ZzR7cNE-L6",
        "outputId": "ffad85a3-31b1-4634-a07d-d7a38b077149",
        "colab": {
          "base_uri": "https://localhost:8080/"
        }
      },
      "execution_count": 27,
      "outputs": [
        {
          "output_type": "stream",
          "name": "stdout",
          "text": [
            "Accuracy: 0.5523287671232877\n"
          ]
        }
      ]
    },
    {
      "cell_type": "code",
      "source": [
        "n_neighbors_vals = [1,5, 15,25, 55, 95, 120, 150, 190, 220, 260]\n",
        "knn_predictions = []\n",
        "\n",
        "for n in n_neighbors_vals:\n",
        "    knn = neighbors.KNeighborsClassifier(n_neighbors=n)\n",
        "    knn.fit(train_data, train_sln)\n",
        "    predictions = knn.predict(test_data)\n",
        "    current_accuracy = metrics.accuracy_score(test_sln,predictions)\n",
        "    knn_predictions.append(current_accuracy)\n",
        "\n",
        "\n",
        "plt.suptitle('k Nearest Neighbors',fontsize=18)\n",
        "plt.xlabel('number of neighbors')\n",
        "plt.ylabel('accuracy')\n",
        "plt.plot(n_neighbors_vals,knn_predictions,'ro-',label='k-NN')\n",
        "plt.legend(loc='lower left', shadow=True)\n",
        "plt.axis([0,300,0,1])\n",
        "\n",
        "plt.show()"
      ],
      "metadata": {
        "id": "zHveqqrNIel1",
        "outputId": "6392705e-cc97-49ee-f15c-1c2e7c14b06d",
        "colab": {
          "base_uri": "https://localhost:8080/",
          "height": 308
        }
      },
      "execution_count": 28,
      "outputs": [
        {
          "output_type": "display_data",
          "data": {
            "text/plain": [
              "<Figure size 432x288 with 1 Axes>"
            ],
            "image/png": "[encoded data removed]"
          },
          "metadata": {
            "needs_background": "light"
          }
        }
      ]
    },
    {
      "cell_type": "markdown",
      "source": [
        "__weighted k Nearest Neighbors__"
      ],
      "metadata": {
        "id": "JCm2BEAVOPFW"
      }
    },
    {
      "cell_type": "code",
      "source": [
        "wknn = neighbors.KNeighborsClassifier(weights='distance')\n",
        "wknn.fit(train_data, train_sln)\n",
        "predictions = wknn.predict(test_data)\n",
        "print(\"Accuracy:\", metrics.accuracy_score(test_sln,predictions))"
      ],
      "metadata": {
        "id": "GusOJTEYOP1w",
        "outputId": "3bea39c0-e0cf-4355-ed31-4b45b85d3b6c",
        "colab": {
          "base_uri": "https://localhost:8080/"
        }
      },
      "execution_count": 29,
      "outputs": [
        {
          "output_type": "stream",
          "name": "stdout",
          "text": [
            "Accuracy: 0.670958904109589\n"
          ]
        }
      ]
    },
    {
      "cell_type": "code",
      "source": [
        "wknn = neighbors.KNeighborsClassifier(weights='distance')\n",
        "wknn.fit(train_data_normalized, train_sln)\n",
        "predictions = wknn.predict(test_data_normalized)\n",
        "print(\"Accuracy:\", metrics.accuracy_score(test_sln,predictions))"
      ],
      "metadata": {
        "id": "BNpomFvbOTn9",
        "outputId": "39ce3b84-b5ab-4b30-c273-34472118b537",
        "colab": {
          "base_uri": "https://localhost:8080/"
        }
      },
      "execution_count": 30,
      "outputs": [
        {
          "output_type": "stream",
          "name": "stdout",
          "text": [
            "Accuracy: 0.5501369863013699\n"
          ]
        }
      ]
    },
    {
      "cell_type": "code",
      "source": [
        "wknn = neighbors.KNeighborsClassifier(weights='distance', n_neighbors=50)\n",
        "wknn.fit(train_data, train_sln)\n",
        "predictions = wknn.predict(test_data)\n",
        "print(\"Accuracy:\", metrics.accuracy_score(test_sln,predictions))"
      ],
      "metadata": {
        "id": "S8HGIFP2OVCC",
        "outputId": "82045a72-eba8-4f70-e634-adbabf7b7637",
        "colab": {
          "base_uri": "https://localhost:8080/"
        }
      },
      "execution_count": 31,
      "outputs": [
        {
          "output_type": "stream",
          "name": "stdout",
          "text": [
            "Accuracy: 0.6065753424657534\n"
          ]
        }
      ]
    },
    {
      "cell_type": "code",
      "source": [
        "n_neighbors_vals = [1,5, 15,25, 55, 95, 120, 150, 190, 220, 260]\n",
        "wknn_predictions = []\n",
        "\n",
        "for n in n_neighbors_vals:\n",
        "    wknn = neighbors.KNeighborsClassifier(weights='distance', n_neighbors=n)\n",
        "    wknn.fit(train_data, train_sln)\n",
        "    predictions = wknn.predict(test_data)\n",
        "    current_accuracy = metrics.accuracy_score(test_sln,predictions)\n",
        "    wknn_predictions.append(current_accuracy)\n",
        "\n",
        "\n",
        "plt.suptitle('weighted k Nearest Neighbors',fontsize=18)\n",
        "plt.xlabel('number of neighbors')\n",
        "plt.ylabel('accuracy')\n",
        "plt.plot(n_neighbors_vals,wknn_predictions,'ro-',label='wk-NN')\n",
        "plt.legend(loc='lower left', shadow=True)\n",
        "plt.axis([0,300,0,1])\n",
        "\n",
        "plt.show()"
      ],
      "metadata": {
        "id": "3CmwDsCZJijv",
        "outputId": "dd91f7c4-f017-4931-e019-bd1261939370",
        "colab": {
          "base_uri": "https://localhost:8080/",
          "height": 308
        }
      },
      "execution_count": 32,
      "outputs": [
        {
          "output_type": "display_data",
          "data": {
            "text/plain": [
              "<Figure size 432x288 with 1 Axes>"
            ],
            "image/png": "[encoded data removed]"
          },
          "metadata": {
            "needs_background": "light"
          }
        }
      ]
    },
    {
      "cell_type": "markdown",
      "source": [
        "__decision tree__"
      ],
      "metadata": {
        "id": "Q45Fht_iHcGQ"
      }
    },
    {
      "cell_type": "code",
      "source": [
        "dt = tree.DecisionTreeClassifier()\n",
        "dt.fit(train_data, train_sln)\n",
        "dt_predictions = dt.predict(test_data)\n",
        "print(\"Accuracy:\", metrics.accuracy_score(test_sln,dt_predictions))"
      ],
      "metadata": {
        "id": "USHI1CAXFAAV",
        "outputId": "3547742d-68b7-486e-ed24-43d34f89c850",
        "colab": {
          "base_uri": "https://localhost:8080/"
        }
      },
      "execution_count": 33,
      "outputs": [
        {
          "output_type": "stream",
          "name": "stdout",
          "text": [
            "Accuracy: 0.7819178082191781\n"
          ]
        }
      ]
    },
    {
      "cell_type": "code",
      "source": [
        "dt = tree.DecisionTreeClassifier()\n",
        "dt.fit(train_data_normalized, train_sln)\n",
        "dt_predictions = dt.predict(test_data_normalized)\n",
        "print(\"Accuracy:\", metrics.accuracy_score(test_sln,dt_predictions))"
      ],
      "metadata": {
        "id": "Zzjaqo9rK58y",
        "outputId": "d5fa237b-a807-41c2-cb5d-1c4f836932e5",
        "colab": {
          "base_uri": "https://localhost:8080/"
        }
      },
      "execution_count": 34,
      "outputs": [
        {
          "output_type": "stream",
          "name": "stdout",
          "text": [
            "Accuracy: 0.7865753424657534\n"
          ]
        }
      ]
    },
    {
      "cell_type": "code",
      "source": [
        "dt = tree.DecisionTreeClassifier(max_features=5)\n",
        "dt.fit(train_data, train_sln)\n",
        "dt_predictions = dt.predict(test_data)\n",
        "print(\"Accuracy:\", metrics.accuracy_score(test_sln,dt_predictions))"
      ],
      "metadata": {
        "id": "CB0W3UnGFB2B",
        "outputId": "49a5b3e0-4a9a-49a3-fe62-98b63a838db1",
        "colab": {
          "base_uri": "https://localhost:8080/"
        }
      },
      "execution_count": 35,
      "outputs": [
        {
          "output_type": "stream",
          "name": "stdout",
          "text": [
            "Accuracy: 0.7745205479452055\n"
          ]
        }
      ]
    },
    {
      "cell_type": "code",
      "source": [
        "max_features_vals = [1,5,7,10,15,20,25,40,77,99]\n",
        "dt_predictions = []\n",
        "\n",
        "for n in max_features_vals:\n",
        "    dt = tree.DecisionTreeClassifier(max_features=n)\n",
        "    dt.fit(train_data, train_sln)\n",
        "    predictions = dt.predict(test_data)\n",
        "    current_accuracy = metrics.accuracy_score(test_sln,predictions)\n",
        "    dt_predictions.append(current_accuracy)\n",
        "\n",
        "\n",
        "plt.suptitle('Decision Tree',fontsize=18)\n",
        "plt.xlabel('number of features to consider when looking for the best split')\n",
        "plt.ylabel('accuracy')\n",
        "plt.plot(max_features_vals,dt_predictions,'ro-',label='dt')\n",
        "plt.legend(loc='lower left', shadow=True)\n",
        "plt.axis([0,100,0,1])\n",
        "\n",
        "plt.show()"
      ],
      "metadata": {
        "id": "LQEOil-CJje9",
        "outputId": "b218ba5f-ef03-4bbf-fc72-d6c792d93ca0",
        "colab": {
          "base_uri": "https://localhost:8080/",
          "height": 308
        }
      },
      "execution_count": 36,
      "outputs": [
        {
          "output_type": "display_data",
          "data": {
            "text/plain": [
              "<Figure size 432x288 with 1 Axes>"
            ],
            "image/png": "[encoded data removed]"
          },
          "metadata": {
            "needs_background": "light"
          }
        }
      ]
    },
    {
      "cell_type": "markdown",
      "source": [
        "__random forest__ "
      ],
      "metadata": {
        "id": "NlwVDewlHewk"
      }
    },
    {
      "cell_type": "code",
      "source": [
        "rf = ensemble.RandomForestClassifier()\n",
        "rf.fit(train_data, train_sln)\n",
        "rf_predictions = rf.predict(test_data)\n",
        "print(\"Accuracy:\", metrics.accuracy_score(test_sln,rf_predictions))"
      ],
      "metadata": {
        "id": "P-Ilq5xvFD14",
        "outputId": "1af60f1f-7e4b-4fbf-82b4-ba568c694752",
        "colab": {
          "base_uri": "https://localhost:8080/"
        }
      },
      "execution_count": 37,
      "outputs": [
        {
          "output_type": "stream",
          "name": "stdout",
          "text": [
            "Accuracy: 0.8978082191780822\n"
          ]
        }
      ]
    },
    {
      "cell_type": "code",
      "source": [
        "rf = ensemble.RandomForestClassifier()\n",
        "rf.fit(train_data_normalized, train_sln)\n",
        "rf_predictions = rf.predict(test_data_normalized)\n",
        "print(\"Accuracy:\", metrics.accuracy_score(test_sln,rf_predictions))"
      ],
      "metadata": {
        "id": "FfgCvX5ALee1",
        "outputId": "469bc352-091f-4c1d-9fbe-0014ce29f5a7",
        "colab": {
          "base_uri": "https://localhost:8080/"
        }
      },
      "execution_count": 38,
      "outputs": [
        {
          "output_type": "stream",
          "name": "stdout",
          "text": [
            "Accuracy: 0.9002739726027398\n"
          ]
        }
      ]
    },
    {
      "cell_type": "code",
      "source": [
        "rf = ensemble.RandomForestClassifier(n_estimators=10)\n",
        "rf.fit(train_data, train_sln)\n",
        "rf_predictions = rf.predict(test_data)\n",
        "print(\"Accuracy:\", metrics.accuracy_score(test_sln,rf_predictions))"
      ],
      "metadata": {
        "id": "ybeIyL9tFFdl",
        "outputId": "68a7b933-734d-413f-d0f6-aed574aaa304",
        "colab": {
          "base_uri": "https://localhost:8080/"
        }
      },
      "execution_count": 39,
      "outputs": [
        {
          "output_type": "stream",
          "name": "stdout",
          "text": [
            "Accuracy: 0.8720547945205479\n"
          ]
        }
      ]
    },
    {
      "cell_type": "code",
      "source": [
        "n_estimators_vals = [1,5,10, 25, 30, 55, 77, 99, 120, 150]\n",
        "rf_predictions = []\n",
        "\n",
        "for n in n_estimators_vals:\n",
        "    rf = ensemble.RandomForestClassifier(n_estimators=n)\n",
        "    rf.fit(train_data, train_sln)\n",
        "    predictions = rf.predict(test_data)\n",
        "    current_accuracy = metrics.accuracy_score(test_sln,predictions)\n",
        "    rf_predictions.append(current_accuracy)\n",
        "\n",
        "\n",
        "plt.suptitle('Rendom Forest',fontsize=18)\n",
        "plt.xlabel('number of trees in the forest')\n",
        "plt.ylabel('accuracy')\n",
        "plt.plot(n_estimators_vals,rf_predictions,'ro-',label='rf')\n",
        "plt.legend(loc='lower left', shadow=True)\n",
        "plt.axis([0,150,0,1])\n",
        "\n",
        "plt.show()"
      ],
      "metadata": {
        "id": "ezYWlgXcJka3",
        "outputId": "1cea2404-98a0-4719-a6a5-78fd8821eb7e",
        "colab": {
          "base_uri": "https://localhost:8080/",
          "height": 308
        }
      },
      "execution_count": 40,
      "outputs": [
        {
          "output_type": "display_data",
          "data": {
            "text/plain": [
              "<Figure size 432x288 with 1 Axes>"
            ],
            "image/png": "[encoded data removed]"
          },
          "metadata": {
            "needs_background": "light"
          }
        }
      ]
    },
    {
      "cell_type": "markdown",
      "source": [
        "#4. Analysis\n",
        "\n",
        "What did you discover? What insights/recommendations do you have? What did you find that was interesting? Which model was your best model, which models didn't work well? Why do you think this is? In general, I want a discussion of your experiment, the results, and what they mean.\n",
        "\n",
        "This chart might help organize your results:\n",
        "\n",
        "| **Model**     | **Non-Normalized** | **Normalized** | **Parameter Tuned** |\n",
        "|---------------|--------------------|----------------|---------------------|\n",
        "| kNN           |  Accuracy: 0.65    | Accuracy: 0.48 | n_neighbors Accuracy: 0.55|\n",
        "| w-kNN         |  Accuracy: 0.67    | Accuracy: 0.55 | n_neighbors Accuracy: 0.61|\n",
        "| decision tree |  Accuracy: 0.78    | Accuracy: 0.79 | max_features Accuracy: 0.77|\n",
        "| random forest |  Accuracy: 0.8978  | Accuracy: 0.9  | n_estimators Accuracy: 0.87|"
      ],
      "metadata": {
        "id": "3n4WI2CiTbSC"
      }
    },
    {
      "cell_type": "markdown",
      "source": [
        "The best performing model was Randm Forest as it had the highest acccuracy and it was the most consistent in its correct predictions regardless wheter the parameters were normalized or not. "
      ],
      "metadata": {
        "id": "6-hRqIl9KL9L"
      }
    },
    {
      "cell_type": "markdown",
      "source": [
        "# 5. Bumps in the Road\n",
        "What challenges did you encounter? How did you overcome these challenges?"
      ],
      "metadata": {
        "id": "sQYL8y5UKO9G"
      }
    },
    {
      "cell_type": "markdown",
      "source": [
        "The dataset I chose for my project was alredy clean so the data prepearation process was not as difficult as the mere process of finding an interesting dataset. \n",
        "\n",
        "I found choosing which parameters to use in my experiments quite challenging.\n",
        "\n",
        "I also had toruble creating the graphs but I used code from notebook #3. "
      ],
      "metadata": {
        "id": "4XPFALubKQPZ"
      }
    }
  ]
}