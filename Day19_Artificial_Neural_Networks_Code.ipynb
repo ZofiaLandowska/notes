{
  "cells": [
    {
      "cell_type": "markdown",
      "metadata": {
        "id": "view-in-github",
        "colab_type": "text"
      },
      "source": [
        "<a href=\"https://colab.research.google.com/github/ZofiaLandowska/notes/blob/main/Day19_Artificial_Neural_Networks_Code.ipynb\" target=\"_parent\"><img src=\"https://colab.research.google.com/assets/colab-badge.svg\" alt=\"Open In Colab\"/></a>"
      ]
    },
    {
      "cell_type": "markdown",
      "metadata": {
        "id": "ao9TkdPgNfP4"
      },
      "source": [
        "# CS167: Day\n",
        "## Aritificial Neural Networks (Code)\n",
        "\n",
        "#### CS167: Machine Learning, Spring 2023\n",
        "\n",
        "Thursday, April 6th, 2023\n",
        "\n",
        "📆 [Course Schedule](https://docs.google.com/spreadsheets/d/e/2PACX-1vSvFV5Mz0_YZE1d5r3gQ8IMktE4cBAsJIlP30cl2GhEpSO0J-YWV62QokSDz-OcOCsEmxMuKpY0kVlR/pubhtml?gid=0&single=true) | 🙋[PollEverywhere](https://pollev.com/meredithmoore011) | 📜 [Syllabus](https://analytics.drake.edu/~moore/cs167_s23_syllabus.html) | 📬 [CodePost Login](https://codepost.io/login)"
      ]
    },
    {
      "cell_type": "markdown",
      "metadata": {
        "id": "Ch_Y-xYvNfP8"
      },
      "source": [
        "# Admin Stuff"
      ]
    },
    {
      "cell_type": "markdown",
      "metadata": {
        "id": "VjV44nyTNfP8"
      },
      "source": [
        "You should be working on:\n",
        "- Quiz #2--now due Thursday, April 6th by 11:59pm.\n",
        "- [Notebook #5](https://classroom.github.com/a/fwi3w_xb) due Thursday April 6th, by 11:59pm."
      ]
    },
    {
      "cell_type": "markdown",
      "metadata": {
        "id": "Ob27bf2MNfP9"
      },
      "source": [
        "## Load your data:"
      ]
    },
    {
      "cell_type": "code",
      "execution_count": 3,
      "metadata": {
        "id": "r3GYp5FPNfP9",
        "outputId": "45e0304a-4f79-4005-dcde-ba1997e1eaa2",
        "colab": {
          "base_uri": "https://localhost:8080/"
        }
      },
      "outputs": [
        {
          "output_type": "stream",
          "name": "stdout",
          "text": [
            "Mounted at /content/drive\n"
          ]
        }
      ],
      "source": [
        "from google.colab import drive\n",
        "drive.mount('/content/drive')"
      ]
    },
    {
      "cell_type": "code",
      "execution_count": 4,
      "metadata": {
        "id": "RJdw8lqVNfP-"
      },
      "outputs": [],
      "source": [
        "import pandas\n",
        "#path = 'datasets/irisData.csv'\n",
        "path = '/content/drive/MyDrive/irisData.csv'\n",
        "data = pandas.read_csv(path)"
      ]
    },
    {
      "cell_type": "markdown",
      "metadata": {
        "id": "R33GJUF4NfP_"
      },
      "source": [
        "## Quick Review:"
      ]
    },
    {
      "cell_type": "markdown",
      "metadata": {
        "id": "KLdjQpVlNfP_"
      },
      "source": [
        "# Deep Learning\n",
        "\n",
        "Up until this point, every model that we've talked about (knn, decision trees, random forests, support vector machines, principal component analysis, etc) are often referred to as _traditional_ machine learning modles. \n",
        "\n",
        "__Deep Learning__: is a subset of machine learning that relies primarily on neural networks, and most of what is considered AI today is accomplished with deep learning. Examples:\n",
        "- recognizing objects\n",
        "- speech transaltion\n",
        "- generating art and music\n",
        "- recommendation algorithms\n",
        "- and many many more"
      ]
    },
    {
      "cell_type": "markdown",
      "metadata": {
        "id": "g6-eGnGxNfQA"
      },
      "source": [
        "## Multilayer Perceptrons\n",
        "\n",
        "Neural networks come in many varieties:\n",
        "- __Convolutional Neural Networks (CNNs)__ are particularly good at computer-vision tasks such as the one we just talked about\n",
        "- __Recurrent Neural Networks (RNNS)__ are great at working with time-series data--speech recognition, natural language processing, etc.\n",
        "- __Generative Adversarial Networks (GANs)__ are great at generating new things--art, music, etc. \n",
        "\n",
        "The first step in understading these awesome neural networks is understanding the simplest neural network, a __multilayer perceptron__."
      ]
    },
    {
      "cell_type": "markdown",
      "metadata": {
        "id": "eHz4WVYHNfQA"
      },
      "source": [
        "# A Simple Neural Network:\n",
        "\n",
        "A __multilayer perceptron__ is the simplest type of neural network. It consists of perceptrons (aka nodes, neurons) arranged in layers. \n",
        "\n",
        "State of the art neural networks often contain >100 layers, hence, the term __deep learning__.\n",
        "\n",
        "<div>\n",
        "<img src=\"https://github.com/merriekay/S23-CS167-Notes/blob/main/images/day18_mlp1.png?raw=1\" width=500/>\n",
        "</div>\n",
        "\n",
        "[image source](https://github.com/jeffprosise/Applied-Machine-Learning/blob/main/Chapter%208/Multilayer%20Perceptron.ipynb)"
      ]
    },
    {
      "cell_type": "markdown",
      "metadata": {
        "id": "MpnQwA0tNfQB"
      },
      "source": [
        "## 🚨🚨Terminology Alert 🚨🚨\n",
        "- the __depth__ of the network is the number of layers\n",
        "- the __width__ of the network is the number of neurons in each layer, which can be different for every layer.\n",
        "- the first layer is the __input layer__\n",
        "- the last layer is the __output layer__\n",
        "- all the layers in between are called the __hidden layers__\n",
        "\n",
        "<div>\n",
        "<img src=\"https://github.com/merriekay/S23-CS167-Notes/blob/main/images/day18_mlp1.png?raw=1\" width=500/>\n",
        "</div>"
      ]
    },
    {
      "cell_type": "markdown",
      "metadata": {
        "id": "R_DJKyy3NfQB"
      },
      "source": [
        "## Final output node: \n",
        "\n",
        "| **Activation Function**   | **Function**                                       | **Lower bound** | **Upper bound** | **Type of Machine Learning**               |\n",
        "|---------------------------|----------------------------------------------------|-----------------|-----------------|--------------------------------------------|\n",
        "| Linear                    | $f(z) = az$                                        | $-\\infty$       | $\\infty$        | regression where results can be negative   |\n",
        "| Rectified Linear Unit     | $relu(z) = max(0,z)$                               | 0               | $\\infty$        | regression where results can't be negative |\n",
        "| Hyperbolic Tangent (tanh) | $tanh(z) = \\frac{e^x - e^{-x}}{e^x + e^{-x}}$      | -1              | 1               | binary classification                      |\n",
        "| Sigmoid                   | $sigmoid(z) = \\frac{1}{1 + e^{-z}}$                | 0               | 1               | binary classification                      |\n",
        "| Softmax                   | $softmax(z_i) = \\frac{exp(z_i)}{\\sum_{j} exp(z_j)}$ | 0               | 1               | multiclass classification                  |"
      ]
    },
    {
      "cell_type": "markdown",
      "metadata": {
        "id": "wuzRe3e-NfQC"
      },
      "source": [
        "## 🙋 PollEverywhere "
      ]
    },
    {
      "cell_type": "markdown",
      "metadata": {
        "id": "scrTK-2bNfQC"
      },
      "source": [
        "<div>\n",
        "<img src=\"https://github.com/merriekay/S23-CS167-Notes/blob/main/images/day19_ann_iris.png?raw=1\" width=800/>\n",
        "</div>\n",
        "\n",
        "Questions:\n",
        "- what kind of machine learning is happening here? classification or regression? If classification, what kind? -> classification \n",
        "- What is the width of each of the hidden layers? h1, h2, h3 -> 6 ; 6 ; 4\n",
        "- What is the depth of this neural network? (how many hidden layers are there?) -> 3 layers\n",
        "- How many nodes are in the input layer? Why? -> 4 (features)\n",
        "- How many nodes are in the output layer? Why? -> 3 (classes)\n",
        "- What should the activation function be for the output layer? Why? -> softmax\n",
        "- What should the activation function be for the rest of the layers? Why? -> relu\n",
        "- How do you know what species of iris is predicted from this model? -> the highest weight / probability "
      ]
    },
    {
      "cell_type": "markdown",
      "metadata": {
        "id": "emmTgh32NfQC"
      },
      "source": [
        "<div>\n",
        "<img src=\"https://github.com/merriekay/S23-CS167-Notes/blob/main/images/day19_ann_titanic.png?raw=1\" width=800/>\n",
        "</div>\n",
        "\n",
        "Questions:\n",
        "- What kind of machine learning is going on here? classification or regression? How do we know? -> binary classification\n",
        "- How many nodes are in the input layer? Why? -> 3 (input features)\n",
        "- How many nodes are in the output layer? Why? -> 1 (binary classification)\n",
        "- What should the activation function be for the output layer? Why? -> sigmoid\n",
        "- What should the activation function be for the rest of the layers? Why? -> relu"
      ]
    },
    {
      "cell_type": "markdown",
      "metadata": {
        "id": "fYcEhVS1NfQD"
      },
      "source": [
        "<div>\n",
        "<img src=\"https://github.com/merriekay/S23-CS167-Notes/blob/main/images/day19_ann_vehicles.png?raw=1\" width=800/>\n",
        "</div>\n",
        "\n",
        "Questions:\n",
        "- What kind of machine learning is going on here? classification or regression? How do we know? -> regression \n",
        "- How many nodes are in the input layer? Why? -> 3\n",
        "- How many nodes are in the output layer? Why? -> 1\n",
        "- What should the activation function be for the output layer? Why? -> relu\n",
        "- What should the activation function be for the rest of the layers? Why? -> relu"
      ]
    },
    {
      "cell_type": "markdown",
      "metadata": {
        "id": "cTDmy30bNfQD"
      },
      "source": [
        "# ✨ New Material"
      ]
    },
    {
      "cell_type": "markdown",
      "metadata": {
        "id": "yPJJRWZWNfQD"
      },
      "source": [
        "| **Hyperparameter**         | **Typical Value**                                             |\n",
        "|:----------------------------|:---------------------------------------------------------------|\n",
        "| # input neurons            | one per input feature                                         |\n",
        "| # hidden layers            | depends on the complexity of the problem, but generally 1-5    |\n",
        "| # neurons per hidden layer | depends on the problem, ,but typically 10-100                  |\n",
        "| # output neurons           | 1 per prediction dimension                                    |\n",
        "| hidden activation          | generally ReLU                                                |\n",
        "| output activation          | depends on the type of problem, see activation function table |\n",
        "| loss function              | MSE                                                           |\n",
        "\n",
        "[ch 10: Hands on ML with sklearn, Keras and Tensorflow](https://www.oreilly.com/library/view/hands-on-machine-learning/9781491962282/)"
      ]
    },
    {
      "cell_type": "markdown",
      "metadata": {
        "id": "tXWoXNFSNfQD"
      },
      "source": [
        "## 🚨🚨Terminology Alert 🚨🚨\n",
        "The process of computing the outputs of training examples is called __forward propagation__ (aka the forward step).\n",
        "\n",
        "The process of refining the weights of a neural network over the course of many epochs is called __backpropagation__.\n",
        "\n",
        "__feedforward neural network__: A neural network where information only flows from input to output--there are no loops or parts that flow backwards (this is not always the case)\n",
        "\n",
        "__fully connected neural network__: (aka __dense network__)  a neural network where all of the nodes in one layer are connected to all of the nodes in both the previous and next layer (this is not always the case)."
      ]
    },
    {
      "cell_type": "markdown",
      "metadata": {
        "id": "LDwRewFPNfQE"
      },
      "source": [
        "# How are Neural Networks Trained?\n",
        "\n",
        "__Weights__ $(w_0, w_1, ... w_n)$\n",
        "- trainable parameters\n",
        "- learned from the training data\n",
        "\n",
        "The goal is to __minimize the error__ predicted by the model. "
      ]
    },
    {
      "cell_type": "markdown",
      "metadata": {
        "id": "flYVA-V2NfQE"
      },
      "source": [
        "After given an initial set of weights, how can we update the weights in the 'right direction'?\n",
        "- take the _derivative_ of the error function and use the derivative in the update rule to update the set of weights in the next epoch."
      ]
    },
    {
      "cell_type": "markdown",
      "metadata": {
        "id": "UEY2cm_kNfQE"
      },
      "source": [
        "Recall: \n",
        "- Perceptron training rule:\n",
        "\n",
        "<div>\n",
        "<img src=\"https://github.com/merriekay/S23-CS167-Notes/blob/main/images/day16_updaterule.png?raw=1\" width=400/>\n",
        "</div>\n",
        "\n",
        "For multilayer peceptrons, our update rule becomes:\n",
        "$$w \\leftarrow w - \\eta \\frac{\\partial E}{\\partial w}$$\n",
        "\n",
        "Where $\\eta$ is the learning rate, $E$ is the Error function, and $w$ is the weights."
      ]
    },
    {
      "cell_type": "markdown",
      "metadata": {
        "id": "w5l2RhUeNfQE"
      },
      "source": [
        "# Backpropagation:\n",
        "\n",
        "__backpropagation__ tunes the weights over a neural network using __gradient descent__ to iteratively reduce the error in the network.\n",
        "\n",
        "![backprop gif](https://thumbs.gfycat.com/BitesizedWeeBlacklemur-max-1mb.gif)\n",
        "\n",
        "[image source](https://gfycat.com/gifs/search/backpropagation)"
      ]
    },
    {
      "cell_type": "markdown",
      "metadata": {
        "id": "W6DksHdENfQE"
      },
      "source": [
        "![backprop gif2](https://miro.medium.com/proxy/1*mTTmfdMcFlPtyu8__vRHOQ.gif)\n",
        "\n",
        "[image source](https://www.kdnuggets.com/2019/10/introduction-artificial-neural-networks.html)"
      ]
    },
    {
      "cell_type": "markdown",
      "metadata": {
        "id": "FbSx2s4XNfQE"
      },
      "source": [
        "## Overfitting\n",
        "\n",
        "Neural networks, like many machine learning models, are suceptible to __overfitting__.\n",
        "\n",
        "How can we recognize overfitting?\n",
        "\n",
        "Given the graph below, at what point do you think our model started overfitting? -> around 10000 (starts memorazinng the data isted of learing it; that's where you stop the training)\n",
        "\n",
        "<div>\n",
        "<img src=\"https://github.com/merriekay/S23-CS167-Notes/blob/main/images/day18_overfit.png?raw=1\" width=800/>\n",
        "</div>\n"
      ]
    },
    {
      "cell_type": "markdown",
      "metadata": {
        "id": "iMCweF_KNfQF"
      },
      "source": [
        "## Overfitting\n",
        "\n",
        "__overfitting__ happens when the _training set error_ continues to improve, but the _validation (testing) set error_ starts to worsen (increase). \n",
        "\n",
        "So... how do we know when to stop training our model to avoid overfitting?"
      ]
    },
    {
      "cell_type": "markdown",
      "metadata": {
        "id": "PxYD8HWSNfQF"
      },
      "source": [
        "## Overfitting\n",
        "\n",
        "<div>\n",
        "<img src=\"https://github.com/merriekay/S23-CS167-Notes/blob/main/images/day18_overfit2.png?raw=1\" width=800/>\n",
        "</div>\n"
      ]
    },
    {
      "cell_type": "markdown",
      "metadata": {
        "id": "JnegGRohNfQF"
      },
      "source": [
        "# Neural Network Summary\n",
        "\n",
        "Neural Networks are effective in __finding non-linear patterns__ in the training data.\n",
        "- can be applied to __regression__ or __classification__.\n",
        "- __backpropagation__ tunes the weights over a neural network using __gradient descent__ to iteratively reduce the error in the network. \n",
        "- __Overfitting__ the training data is common and is important to avoid.\n",
        "- The following parameters shoudl be tuned when using neural networks:\n",
        "    - number of epochs\n",
        "    - structure of the network (depth, width)\n",
        "    - activation function\n",
        "    - eta (learning rate)\n"
      ]
    },
    {
      "cell_type": "markdown",
      "metadata": {
        "id": "-G2TF270NfQF"
      },
      "source": [
        "## MLP Code\n",
        "\n",
        "Last thing we'll use from `sklearn`. "
      ]
    },
    {
      "cell_type": "code",
      "execution_count": 5,
      "metadata": {
        "id": "bVN7H2M4NfQF",
        "outputId": "510d7d92-bc10-4c59-f7e5-1930a2a2646a",
        "colab": {
          "base_uri": "https://localhost:8080/"
        }
      },
      "outputs": [
        {
          "output_type": "stream",
          "name": "stdout",
          "text": [
            "Drive already mounted at /content/drive; to attempt to forcibly remount, call drive.mount(\"/content/drive\", force_remount=True).\n"
          ]
        }
      ],
      "source": [
        "from google.colab import drive\n",
        "import pandas\n",
        "drive.mount('/content/drive')"
      ]
    },
    {
      "cell_type": "code",
      "execution_count": 6,
      "metadata": {
        "id": "eQIzUG3HNfQG",
        "outputId": "3ff728e4-d7ea-458a-e22c-1d2816041538",
        "colab": {
          "base_uri": "https://localhost:8080/",
          "height": 204
        }
      },
      "outputs": [
        {
          "output_type": "execute_result",
          "data": {
            "text/plain": [
              "   sepal length  sepal width  petal length  petal width      species\n",
              "0           5.1          3.5           1.4          0.2  Iris-setosa\n",
              "1           4.9          3.0           1.4          0.2  Iris-setosa\n",
              "2           4.7          3.2           1.3          0.2  Iris-setosa\n",
              "3           4.6          3.1           1.5          0.2  Iris-setosa\n",
              "4           5.0          3.6           1.4          0.2  Iris-setosa"
            ],
            "text/html": [
              "\n",
              "  <div id=\"df-3a39c552-18ba-4c2a-8a6e-f5b5b9dd53e9\">\n",
              "    <div class=\"colab-df-container\">\n",
              "      <div>\n",
              "<style scoped>\n",
              "    .dataframe tbody tr th:only-of-type {\n",
              "        vertical-align: middle;\n",
              "    }\n",
              "\n",
              "    .dataframe tbody tr th {\n",
              "        vertical-align: top;\n",
              "    }\n",
              "\n",
              "    .dataframe thead th {\n",
              "        text-align: right;\n",
              "    }\n",
              "</style>\n",
              "<table border=\"1\" class=\"dataframe\">\n",
              "  <thead>\n",
              "    <tr style=\"text-align: right;\">\n",
              "      <th></th>\n",
              "      <th>sepal length</th>\n",
              "      <th>sepal width</th>\n",
              "      <th>petal length</th>\n",
              "      <th>petal width</th>\n",
              "      <th>species</th>\n",
              "    </tr>\n",
              "  </thead>\n",
              "  <tbody>\n",
              "    <tr>\n",
              "      <th>0</th>\n",
              "      <td>5.1</td>\n",
              "      <td>3.5</td>\n",
              "      <td>1.4</td>\n",
              "      <td>0.2</td>\n",
              "      <td>Iris-setosa</td>\n",
              "    </tr>\n",
              "    <tr>\n",
              "      <th>1</th>\n",
              "      <td>4.9</td>\n",
              "      <td>3.0</td>\n",
              "      <td>1.4</td>\n",
              "      <td>0.2</td>\n",
              "      <td>Iris-setosa</td>\n",
              "    </tr>\n",
              "    <tr>\n",
              "      <th>2</th>\n",
              "      <td>4.7</td>\n",
              "      <td>3.2</td>\n",
              "      <td>1.3</td>\n",
              "      <td>0.2</td>\n",
              "      <td>Iris-setosa</td>\n",
              "    </tr>\n",
              "    <tr>\n",
              "      <th>3</th>\n",
              "      <td>4.6</td>\n",
              "      <td>3.1</td>\n",
              "      <td>1.5</td>\n",
              "      <td>0.2</td>\n",
              "      <td>Iris-setosa</td>\n",
              "    </tr>\n",
              "    <tr>\n",
              "      <th>4</th>\n",
              "      <td>5.0</td>\n",
              "      <td>3.6</td>\n",
              "      <td>1.4</td>\n",
              "      <td>0.2</td>\n",
              "      <td>Iris-setosa</td>\n",
              "    </tr>\n",
              "  </tbody>\n",
              "</table>\n",
              "</div>\n",
              "      <button class=\"colab-df-convert\" onclick=\"convertToInteractive('df-3a39c552-18ba-4c2a-8a6e-f5b5b9dd53e9')\"\n",
              "              title=\"Convert this dataframe to an interactive table.\"\n",
              "              style=\"display:none;\">\n",
              "        \n",
              "  <svg xmlns=\"http://www.w3.org/2000/svg\" height=\"24px\"viewBox=\"0 0 24 24\"\n",
              "       width=\"24px\">\n",
              "    <path d=\"M0 0h24v24H0V0z\" fill=\"none\"/>\n",
              "    <path d=\"M18.56 5.44l.94 2.06.94-2.06 2.06-.94-2.06-.94-.94-2.06-.94 2.06-2.06.94zm-11 1L8.5 8.5l.94-2.06 2.06-.94-2.06-.94L8.5 2.5l-.94 2.06-2.06.94zm10 10l.94 2.06.94-2.06 2.06-.94-2.06-.94-.94-2.06-.94 2.06-2.06.94z\"/><path d=\"M17.41 7.96l-1.37-1.37c-.4-.4-.92-.59-1.43-.59-.52 0-1.04.2-1.43.59L10.3 9.45l-7.72 7.72c-.78.78-.78 2.05 0 2.83L4 21.41c.39.39.9.59 1.41.59.51 0 1.02-.2 1.41-.59l7.78-7.78 2.81-2.81c.8-.78.8-2.07 0-2.86zM5.41 20L4 18.59l7.72-7.72 1.47 1.35L5.41 20z\"/>\n",
              "  </svg>\n",
              "      </button>\n",
              "      \n",
              "  <style>\n",
              "    .colab-df-container {\n",
              "      display:flex;\n",
              "      flex-wrap:wrap;\n",
              "      gap: 12px;\n",
              "    }\n",
              "\n",
              "    .colab-df-convert {\n",
              "      background-color: #E8F0FE;\n",
              "      border: none;\n",
              "      border-radius: 50%;\n",
              "      cursor: pointer;\n",
              "      display: none;\n",
              "      fill: #1967D2;\n",
              "      height: 32px;\n",
              "      padding: 0 0 0 0;\n",
              "      width: 32px;\n",
              "    }\n",
              "\n",
              "    .colab-df-convert:hover {\n",
              "      background-color: #E2EBFA;\n",
              "      box-shadow: 0px 1px 2px rgba(60, 64, 67, 0.3), 0px 1px 3px 1px rgba(60, 64, 67, 0.15);\n",
              "      fill: #174EA6;\n",
              "    }\n",
              "\n",
              "    [theme=dark] .colab-df-convert {\n",
              "      background-color: #3B4455;\n",
              "      fill: #D2E3FC;\n",
              "    }\n",
              "\n",
              "    [theme=dark] .colab-df-convert:hover {\n",
              "      background-color: #434B5C;\n",
              "      box-shadow: 0px 1px 3px 1px rgba(0, 0, 0, 0.15);\n",
              "      filter: drop-shadow(0px 1px 2px rgba(0, 0, 0, 0.3));\n",
              "      fill: #FFFFFF;\n",
              "    }\n",
              "  </style>\n",
              "\n",
              "      <script>\n",
              "        const buttonEl =\n",
              "          document.querySelector('#df-3a39c552-18ba-4c2a-8a6e-f5b5b9dd53e9 button.colab-df-convert');\n",
              "        buttonEl.style.display =\n",
              "          google.colab.kernel.accessAllowed ? 'block' : 'none';\n",
              "\n",
              "        async function convertToInteractive(key) {\n",
              "          const element = document.querySelector('#df-3a39c552-18ba-4c2a-8a6e-f5b5b9dd53e9');\n",
              "          const dataTable =\n",
              "            await google.colab.kernel.invokeFunction('convertToInteractive',\n",
              "                                                     [key], {});\n",
              "          if (!dataTable) return;\n",
              "\n",
              "          const docLinkHtml = 'Like what you see? Visit the ' +\n",
              "            '<a target=\"_blank\" href=https://colab.research.google.com/notebooks/data_table.ipynb>data table notebook</a>'\n",
              "            + ' to learn more about interactive tables.';\n",
              "          element.innerHTML = '';\n",
              "          dataTable['output_type'] = 'display_data';\n",
              "          await google.colab.output.renderOutput(dataTable, element);\n",
              "          const docLink = document.createElement('div');\n",
              "          docLink.innerHTML = docLinkHtml;\n",
              "          element.appendChild(docLink);\n",
              "        }\n",
              "      </script>\n",
              "    </div>\n",
              "  </div>\n",
              "  "
            ]
          },
          "metadata": {},
          "execution_count": 6
        }
      ],
      "source": [
        "import pandas\n",
        "#path = 'datasets/irisData.csv'\n",
        "path = '/content/drive/MyDrive/irisData.csv'\n",
        "data = pandas.read_csv(path)\n",
        "data.head()"
      ]
    },
    {
      "cell_type": "code",
      "execution_count": 7,
      "metadata": {
        "id": "BeACKPZuNfQG"
      },
      "outputs": [],
      "source": [
        "import pandas\n",
        "import numpy\n",
        "from sklearn.model_selection import train_test_split\n",
        "\n",
        "#Split the dataset\n",
        "predictors = data.columns.drop('species')\n",
        "target = \"species\"\n",
        "train_data, test_data, train_sln, test_sln = train_test_split(data[predictors], data[target], test_size = 0.2, random_state=41)\n",
        "\n",
        "#Normalize Data\n",
        "from sklearn.preprocessing import StandardScaler\n",
        "scaler = StandardScaler()\n",
        "scaler.fit(train_data)\n",
        "train_data_norm = scaler.transform(train_data)\n",
        "test_data_norm = scaler.transform(test_data)"
      ]
    },
    {
      "cell_type": "markdown",
      "metadata": {
        "id": "uqKz9WD4NfQH"
      },
      "source": [
        "## Build a MLP using `sklearn`"
      ]
    },
    {
      "cell_type": "code",
      "execution_count": 8,
      "metadata": {
        "id": "lizlzwGvNfQH",
        "outputId": "0ecc56a6-67a3-4667-fb93-5850e09faa5e",
        "colab": {
          "base_uri": "https://localhost:8080/",
          "height": 472
        }
      },
      "outputs": [
        {
          "output_type": "stream",
          "name": "stdout",
          "text": [
            "Accuracy:  0.9\n"
          ]
        },
        {
          "output_type": "display_data",
          "data": {
            "text/plain": [
              "<Figure size 640x480 with 2 Axes>"
            ],
            "image/png": "[encoded data removed]"
          },
          "metadata": {}
        }
      ],
      "source": [
        "# Set up MLP\n",
        "from sklearn.neural_network import MLPClassifier\n",
        "from sklearn import metrics\n",
        "from sklearn.metrics import confusion_matrix, ConfusionMatrixDisplay\n",
        "import matplotlib.pyplot as plt\n",
        "\n",
        "mlp = MLPClassifier(random_state=0,hidden_layer_sizes = (100,), max_iter = 800)\n",
        "mlp.fit(train_data_norm,train_sln)\n",
        "predictions = mlp.predict(test_data_norm)\n",
        "\n",
        "print(\"Accuracy: \", metrics.accuracy_score(test_sln,predictions))\n",
        "\n",
        "# Confusion Matrix\n",
        "vals = data[target].unique() ## possible classification values (species)\n",
        "conf_mat = metrics.confusion_matrix(test_sln, predictions, labels=vals)\n",
        "\n",
        "#print(pandas.DataFrame(conf_mat, index = \"True \" + vals, columns = \"Pre \" + vals))\n",
        "\n",
        "disp = ConfusionMatrixDisplay(confusion_matrix=conf_mat,display_labels=mlp.classes_)\n",
        "disp.plot()\n",
        "plt.show()"
      ]
    },
    {
      "cell_type": "markdown",
      "metadata": {
        "id": "AmWFiRzJNfQH"
      },
      "source": [
        "# 💬 Goup Exercise:\n",
        "## In-Class Exercise #1:\n",
        "\n",
        "1. Read in the Boston Housing dataset\n",
        "2. Normalize your data\n",
        "3. Use a [`MLPRegressor`](https://scikit-learn.org/stable/modules/generated/sklearn.neural_network.MLPRegressor.html) to predict the price of a house 'MEDV'\n",
        "4. Play around with changing the parameters, see what the best R2 score you can get is. \n"
      ]
    },
    {
      "cell_type": "code",
      "execution_count": 9,
      "metadata": {
        "id": "GmSe0gZFNfQH"
      },
      "outputs": [],
      "source": [
        "# Your code goes here for the In-Class Exercise\n",
        "# 1. Read in the Boston Housing dataset\n",
        "import pandas\n",
        "#path = 'datasets/boston_housing.csv' \n",
        "path = '/content/drive/MyDrive/boston_housing.csv'\n",
        "housing_data = pandas.read_csv(path) \n",
        "\n",
        "# clean the data\n",
        "housing_data['CRIM'].fillna(housing_data['CRIM'].mean(),inplace=True)\n",
        "housing_data['ZN'].fillna(housing_data['ZN'].mean(),inplace=True)\n",
        "housing_data['INDUS'].fillna(housing_data['INDUS'].mean(),inplace=True)\n",
        "housing_data['CHAS'].fillna(housing_data['CHAS'].mean(),inplace=True)\n",
        "housing_data['AGE'].fillna(housing_data['AGE'].mean(),inplace=True)\n",
        "housing_data['LSTAT'].fillna(housing_data['LSTAT'].mean(),inplace=True)\n",
        "\n",
        "#Split the dataset\n",
        "predictors = housing_data.columns.drop('MEDV')\n",
        "target = \"MEDV\"\n",
        "train_data, test_data, train_sln, test_sln = train_test_split(housing_data[predictors], housing_data[target], test_size = 0.2, random_state=0)\n"
      ]
    },
    {
      "cell_type": "code",
      "execution_count": 10,
      "metadata": {
        "id": "qfmn38leNfQH"
      },
      "outputs": [],
      "source": [
        "#2. Normalize the data\n",
        "from sklearn.preprocessing import StandardScaler\n",
        "scaler = StandardScaler()\n",
        "scaler.fit(train_data)\n",
        "train_data_norm = scaler.transform(train_data)\n",
        "test_data_norm = scaler.transform(test_data)\n"
      ]
    },
    {
      "cell_type": "code",
      "execution_count": 11,
      "metadata": {
        "id": "GjZwELA1NfQI",
        "outputId": "b464faeb-5d3b-49ac-cd1d-a5c5a8bbf919",
        "colab": {
          "base_uri": "https://localhost:8080/"
        }
      },
      "outputs": [
        {
          "output_type": "stream",
          "name": "stdout",
          "text": [
            "R2 score:  0.6981778639733168\n"
          ]
        }
      ],
      "source": [
        "#3. Use a MLPRegressor to predict the price of a house 'MEDV'\n",
        "from sklearn.neural_network import MLPRegressor\n",
        "from sklearn import metrics\n",
        "\n",
        "mlp = MLPRegressor(random_state=0,hidden_layer_sizes = (100,), max_iter = 800)\n",
        "mlp.fit(train_data_norm,train_sln)\n",
        "predictions = mlp.predict(test_data_norm)\n",
        "\n",
        "print(\"R2 score: \", metrics.r2_score(test_sln,predictions))\n"
      ]
    },
    {
      "cell_type": "code",
      "execution_count": 12,
      "metadata": {
        "id": "gu6IH1iwNfQI",
        "outputId": "702f4751-1189-478e-99ba-652de2b7ca50",
        "colab": {
          "base_uri": "https://localhost:8080/"
        }
      },
      "outputs": [
        {
          "output_type": "stream",
          "name": "stdout",
          "text": [
            "R2 score:  0.7304195310541088\n"
          ]
        }
      ],
      "source": [
        "#4. Play around with the parameters\n",
        "mlp = MLPRegressor(random_state=0,hidden_layer_sizes = (500,), max_iter = 800)\n",
        "mlp.fit(train_data_norm,train_sln)\n",
        "predictions = mlp.predict(test_data_norm)\n",
        "\n",
        "print(\"R2 score: \", metrics.r2_score(test_sln,predictions))"
      ]
    },
    {
      "cell_type": "markdown",
      "metadata": {
        "id": "ZFwJIQnlNfQI"
      },
      "source": [
        "# Introducing Deep Learning Frameworks\n",
        "\n",
        "Deep Learning Frameworks: libraries that make implementing deep learning easier--building models, training them, visualizing the data and training process, saving/loading models, utilizing GPU, etc.\n",
        "- Tensorflow, Keras\n",
        "- PyTorch\n",
        "- Jax\n",
        "- MXNet\n",
        "- Matlab\n",
        "\n"
      ]
    },
    {
      "cell_type": "markdown",
      "metadata": {
        "id": "c_ouWDq-NfQI"
      },
      "source": [
        "## Common DL Frameworks:\n",
        "\n",
        "<div>\n",
        "<img src=\"https://github.com/merriekay/S23-CS167-Notes/blob/main/images/day19_dl_frameworks.png?raw=1\" width=800/>\n",
        "</div>\n",
        "\n",
        "[image source](https://www.kaggle.com/getting-started/156399)"
      ]
    },
    {
      "cell_type": "markdown",
      "metadata": {
        "id": "oVmRGps3NfQI"
      },
      "source": [
        "# Building Neural Networks with Keras and Tensorflow:\n",
        "\n",
        "For this class, we'll be using Tensorflow, and the library that is built to make Tensorflow simpler--Keras.\n",
        "\n",
        "To build a neural network using Keras, we'll use the [`Sequential`](https://keras.io/api/models/sequential/) API. It looks something like this:\n",
        "1. Create an instance of the `Sequential` class\n",
        "2. call `add` on the `Sequential` object to add layers. \n",
        "    - The layers are instances of classes such as [`Dense`](https://keras.io/api/layers/core_layers/dense/), which represents a fully connected layer with a specified number of neurons."
      ]
    },
    {
      "cell_type": "code",
      "execution_count": 13,
      "metadata": {
        "id": "nPmXwK4WNfQI"
      },
      "outputs": [],
      "source": [
        "from sklearn.datasets import load_iris\n",
        "from tensorflow.keras.models import Sequential\n",
        "from tensorflow.keras.layers import Dense\n",
        "\n",
        "# step 1: create an instance of the sequential class\n",
        "model = Sequential()\n",
        "\n",
        "#step 2:  call add on the sequential object to add layers\n",
        "model.add(Dense(3, activation='relu', input_dim=2)) #regression\n",
        "model.add(Dense(1))"
      ]
    },
    {
      "cell_type": "markdown",
      "metadata": {
        "id": "r_afX9l3NfQJ"
      },
      "source": [
        "This model contains the following:\n",
        "- an input layer with 2 neurons\n",
        "- a hidden layer with three neurons\n",
        "- an output layer with one neuron. \n",
        "\n",
        "Values passed from the hidden layer to the output layer are transformed by the ReLu activation function, which turns negative numbers onto 0s, and heps the model fit to nonlinear datasets.\n",
        "\n",
        "> Notice that you don't have to add the input layer explicitly, the `input_dim=2` parameter in the first hidden layer implicitly creates an input layer with 2 neurons."
      ]
    },
    {
      "cell_type": "code",
      "execution_count": 14,
      "metadata": {
        "id": "gmpCasI9NfQJ",
        "outputId": "01d983b1-b9b5-432c-aa1f-c3936b10b450",
        "colab": {
          "base_uri": "https://localhost:8080/"
        }
      },
      "outputs": [
        {
          "output_type": "stream",
          "name": "stdout",
          "text": [
            "Model: \"sequential\"\n",
            "_________________________________________________________________\n",
            " Layer (type)                Output Shape              Param #   \n",
            "=================================================================\n",
            " dense (Dense)               (None, 3)                 9         \n",
            "                                                                 \n",
            " dense_1 (Dense)             (None, 1)                 4         \n",
            "                                                                 \n",
            "=================================================================\n",
            "Total params: 13\n",
            "Trainable params: 13\n",
            "Non-trainable params: 0\n",
            "_________________________________________________________________\n"
          ]
        }
      ],
      "source": [
        "model.summary()"
      ]
    },
    {
      "cell_type": "markdown",
      "metadata": {
        "id": "rXZDX_H7NfQJ"
      },
      "source": [
        "## Compiling your model:\n",
        "\n",
        "Once you've built your model, your next step is to call `compile` and specify important attributes such as which optimizer and loss function to use during training.\n",
        "\n",
        "Here's an example:"
      ]
    },
    {
      "cell_type": "code",
      "execution_count": 15,
      "metadata": {
        "id": "5Y0FhujiNfQJ"
      },
      "outputs": [],
      "source": [
        "model.compile(optimizer='adam', loss='mae', metrics=['mae'])"
      ]
    },
    {
      "cell_type": "markdown",
      "metadata": {
        "id": "L6Mz16HtNfQJ"
      },
      "source": [
        "Let's walk through these parameters:\n",
        "- `optimizer= 'adam'` : this tells Keras that we will use the [`Adam`](https://keras.io/api/optimizers/adam/) optimizer to adjust weights and biases in each backpropagation pass during training. Adam is one of [eight optimizers built into Keras](https://keras.io/api/optimizers/) and is a pretty good choice to start."
      ]
    },
    {
      "cell_type": "markdown",
      "metadata": {
        "id": "w0Mg-9SwNfQJ"
      },
      "source": [
        "- `loss = 'mae'`: tells Keras to use the mean absolute error (MAE) to measure how well our model is doing (as the loss function). This is common for neural networks intended to solve regresion problems. Another commmon option here is `loss='mse'` for mean squared error (MSE)"
      ]
    },
    {
      "cell_type": "markdown",
      "metadata": {
        "id": "3vcM3KSqNfQK"
      },
      "source": [
        "- `metrics = ['mae']`: tells Keras to capture MAE values as the network is trained. This information is used after training is complete to judge the efficacy of the training."
      ]
    },
    {
      "cell_type": "markdown",
      "metadata": {
        "id": "P5JhMvntNfQK"
      },
      "source": [
        "## Next Step:\n",
        "Inside the `compile` method, Keras builds a TensorFlow object graph to speed up execution. Once the network is compiled, you can train it by calling `fit`. "
      ]
    },
    {
      "cell_type": "code",
      "execution_count": 16,
      "metadata": {
        "id": "4ZGesnEqNfQK",
        "outputId": "c10a1851-0747-4c17-f9a4-80a31fa27273",
        "colab": {
          "base_uri": "https://localhost:8080/",
          "height": 181
        }
      },
      "outputs": [
        {
          "output_type": "error",
          "ename": "NameError",
          "evalue": "ignored",
          "traceback": [
            "\u001b[0;31m---------------------------------------------------------------------------\u001b[0m",
            "\u001b[0;31mNameError\u001b[0m                                 Traceback (most recent call last)",
            "\u001b[0;32m<ipython-input-16-778df5f2c76a>\u001b[0m in \u001b[0;36m<cell line: 2>\u001b[0;34m()\u001b[0m\n\u001b[1;32m      1\u001b[0m \u001b[0;31m#this will give an error because we didn't load data ahead of time.\u001b[0m\u001b[0;34m\u001b[0m\u001b[0;34m\u001b[0m\u001b[0m\n\u001b[0;32m----> 2\u001b[0;31m \u001b[0mhist\u001b[0m \u001b[0;34m=\u001b[0m \u001b[0mmodel\u001b[0m\u001b[0;34m.\u001b[0m\u001b[0mfit\u001b[0m\u001b[0;34m(\u001b[0m\u001b[0mx\u001b[0m\u001b[0;34m,\u001b[0m\u001b[0my\u001b[0m\u001b[0;34m,\u001b[0m \u001b[0mepochs\u001b[0m\u001b[0;34m=\u001b[0m\u001b[0;36m100\u001b[0m\u001b[0;34m,\u001b[0m \u001b[0mbatch_size\u001b[0m\u001b[0;34m=\u001b[0m\u001b[0;36m100\u001b[0m\u001b[0;34m,\u001b[0m \u001b[0mvalidation_split\u001b[0m\u001b[0;34m=\u001b[0m\u001b[0;36m0.2\u001b[0m\u001b[0;34m)\u001b[0m\u001b[0;34m\u001b[0m\u001b[0;34m\u001b[0m\u001b[0m\n\u001b[0m",
            "\u001b[0;31mNameError\u001b[0m: name 'x' is not defined"
          ]
        }
      ],
      "source": [
        "#this will give an error because we didn't load data ahead of time.\n",
        "hist = model.fit(x,y, epochs=100, batch_size=100, validation_split=0.2)"
      ]
    },
    {
      "cell_type": "markdown",
      "metadata": {
        "id": "CIqKaHOYNfQK"
      },
      "source": [
        "The `fit` method accepts many parameters, Here are the ones used above:\n",
        "- `x`, the dataset's feature columns.\n",
        "- `y`, the dataset's label column--the one containing th values the network will attempt to predict.\n",
        "- `epochs=100`, tells keras to train the network for 100 iterations\n",
        "- `batch_size=100`, tells keras to pass 100 training samples through the network before making a backpropagation pass to adjust the weights and biases.\n",
        "- `validation_split=0.2`, tells keras that in each epoch, it should train with 80% of the rows in the dataset and validate the networks accuracy with the remaining 20%. "
      ]
    },
    {
      "cell_type": "markdown",
      "metadata": {
        "id": "UaojxCY-NfQK"
      },
      "source": [
        "## Get Predictions\n",
        "\n",
        "Once a neural network is trained, you call it's `predict` method to make a prediction:"
      ]
    },
    {
      "cell_type": "code",
      "execution_count": null,
      "metadata": {
        "id": "BfsoMBefNfQK"
      },
      "outputs": [],
      "source": [
        "prediction = model.predict(np.array[[2,2]])"
      ]
    },
    {
      "cell_type": "markdown",
      "metadata": {
        "id": "iMO3GOqvNfQK"
      },
      "source": [
        "In this example, the network accepts two floating-point values as input and returns a single floating-point value as output. The value returned by `predict` is that output."
      ]
    },
    {
      "cell_type": "markdown",
      "metadata": {
        "id": "sPxENGSmNfQL"
      },
      "source": [
        "## Using the GPU in Google Colab:\n",
        "\n",
        "Go ahead and go up to 'Runtime', and select 'change runtime type' from the dropdown list, select 'GPU'. If you complete this step correctly, the following code should say `Found GPU at: /device:GPU:0` or something similar."
      ]
    },
    {
      "cell_type": "code",
      "execution_count": 17,
      "metadata": {
        "id": "-BGfvwcbNfQL",
        "outputId": "bfe7bfd9-e021-4376-ec7f-7235cc0e775e",
        "colab": {
          "base_uri": "https://localhost:8080/"
        }
      },
      "outputs": [
        {
          "output_type": "stream",
          "name": "stdout",
          "text": [
            "Found GPU at: /device:GPU:0\n"
          ]
        }
      ],
      "source": [
        "import tensorflow as tf\n",
        "device_name = tf.test.gpu_device_name()\n",
        "if device_name != '/device:GPU:0':\n",
        "  raise SystemError('GPU device not found')\n",
        "print('Found GPU at: {}'.format(device_name))"
      ]
    },
    {
      "cell_type": "markdown",
      "metadata": {
        "id": "ypnskqInNfQL"
      },
      "source": [
        "# Training a Neural Network to Predict Taxi Fares:\n",
        "\n",
        "Download `taxi-fares.csv` from Blackboard and put it in your Google Drive. This data is from the New York City Taxi and LImousine Commision and includes data about taxi fares.\n",
        "\n",
        "Let's start by loading in our dataset and doing some pre-processing."
      ]
    },
    {
      "cell_type": "code",
      "execution_count": 18,
      "metadata": {
        "id": "suXUQ1-FNfQL",
        "outputId": "db769da6-2e28-4415-b68e-053b21742d4e",
        "colab": {
          "base_uri": "https://localhost:8080/",
          "height": 204
        }
      },
      "outputs": [
        {
          "output_type": "execute_result",
          "data": {
            "text/plain": [
              "                             key  fare_amount           pickup_datetime  \\\n",
              "0  2014-06-15 17:11:00.000000107          7.0 2014-06-15 17:11:00+00:00   \n",
              "1   2011-03-14 22:43:00.00000095          4.9 2011-03-14 22:43:00+00:00   \n",
              "2   2011-02-14 15:14:00.00000067          6.1 2011-02-14 15:14:00+00:00   \n",
              "3   2009-10-29 11:29:00.00000040          6.9 2009-10-29 11:29:00+00:00   \n",
              "4   2011-07-02 10:38:00.00000028         10.5 2011-07-02 10:38:00+00:00   \n",
              "\n",
              "   pickup_longitude  pickup_latitude  dropoff_longitude  dropoff_latitude  \\\n",
              "0        -73.995420        40.759662         -73.987607         40.751247   \n",
              "1        -73.993552        40.731110         -73.998497         40.737200   \n",
              "2        -73.972380        40.749527         -73.990638         40.745328   \n",
              "3        -73.973703        40.763542         -73.984253         40.758603   \n",
              "4        -73.921262        40.743615         -73.967383         40.765162   \n",
              "\n",
              "   passenger_count  \n",
              "0                1  \n",
              "1                5  \n",
              "2                1  \n",
              "3                5  \n",
              "4                1  "
            ],
            "text/html": [
              "\n",
              "  <div id=\"df-007dca72-ff73-4d59-a095-ed96e6759c23\">\n",
              "    <div class=\"colab-df-container\">\n",
              "      <div>\n",
              "<style scoped>\n",
              "    .dataframe tbody tr th:only-of-type {\n",
              "        vertical-align: middle;\n",
              "    }\n",
              "\n",
              "    .dataframe tbody tr th {\n",
              "        vertical-align: top;\n",
              "    }\n",
              "\n",
              "    .dataframe thead th {\n",
              "        text-align: right;\n",
              "    }\n",
              "</style>\n",
              "<table border=\"1\" class=\"dataframe\">\n",
              "  <thead>\n",
              "    <tr style=\"text-align: right;\">\n",
              "      <th></th>\n",
              "      <th>key</th>\n",
              "      <th>fare_amount</th>\n",
              "      <th>pickup_datetime</th>\n",
              "      <th>pickup_longitude</th>\n",
              "      <th>pickup_latitude</th>\n",
              "      <th>dropoff_longitude</th>\n",
              "      <th>dropoff_latitude</th>\n",
              "      <th>passenger_count</th>\n",
              "    </tr>\n",
              "  </thead>\n",
              "  <tbody>\n",
              "    <tr>\n",
              "      <th>0</th>\n",
              "      <td>2014-06-15 17:11:00.000000107</td>\n",
              "      <td>7.0</td>\n",
              "      <td>2014-06-15 17:11:00+00:00</td>\n",
              "      <td>-73.995420</td>\n",
              "      <td>40.759662</td>\n",
              "      <td>-73.987607</td>\n",
              "      <td>40.751247</td>\n",
              "      <td>1</td>\n",
              "    </tr>\n",
              "    <tr>\n",
              "      <th>1</th>\n",
              "      <td>2011-03-14 22:43:00.00000095</td>\n",
              "      <td>4.9</td>\n",
              "      <td>2011-03-14 22:43:00+00:00</td>\n",
              "      <td>-73.993552</td>\n",
              "      <td>40.731110</td>\n",
              "      <td>-73.998497</td>\n",
              "      <td>40.737200</td>\n",
              "      <td>5</td>\n",
              "    </tr>\n",
              "    <tr>\n",
              "      <th>2</th>\n",
              "      <td>2011-02-14 15:14:00.00000067</td>\n",
              "      <td>6.1</td>\n",
              "      <td>2011-02-14 15:14:00+00:00</td>\n",
              "      <td>-73.972380</td>\n",
              "      <td>40.749527</td>\n",
              "      <td>-73.990638</td>\n",
              "      <td>40.745328</td>\n",
              "      <td>1</td>\n",
              "    </tr>\n",
              "    <tr>\n",
              "      <th>3</th>\n",
              "      <td>2009-10-29 11:29:00.00000040</td>\n",
              "      <td>6.9</td>\n",
              "      <td>2009-10-29 11:29:00+00:00</td>\n",
              "      <td>-73.973703</td>\n",
              "      <td>40.763542</td>\n",
              "      <td>-73.984253</td>\n",
              "      <td>40.758603</td>\n",
              "      <td>5</td>\n",
              "    </tr>\n",
              "    <tr>\n",
              "      <th>4</th>\n",
              "      <td>2011-07-02 10:38:00.00000028</td>\n",
              "      <td>10.5</td>\n",
              "      <td>2011-07-02 10:38:00+00:00</td>\n",
              "      <td>-73.921262</td>\n",
              "      <td>40.743615</td>\n",
              "      <td>-73.967383</td>\n",
              "      <td>40.765162</td>\n",
              "      <td>1</td>\n",
              "    </tr>\n",
              "  </tbody>\n",
              "</table>\n",
              "</div>\n",
              "      <button class=\"colab-df-convert\" onclick=\"convertToInteractive('df-007dca72-ff73-4d59-a095-ed96e6759c23')\"\n",
              "              title=\"Convert this dataframe to an interactive table.\"\n",
              "              style=\"display:none;\">\n",
              "        \n",
              "  <svg xmlns=\"http://www.w3.org/2000/svg\" height=\"24px\"viewBox=\"0 0 24 24\"\n",
              "       width=\"24px\">\n",
              "    <path d=\"M0 0h24v24H0V0z\" fill=\"none\"/>\n",
              "    <path d=\"M18.56 5.44l.94 2.06.94-2.06 2.06-.94-2.06-.94-.94-2.06-.94 2.06-2.06.94zm-11 1L8.5 8.5l.94-2.06 2.06-.94-2.06-.94L8.5 2.5l-.94 2.06-2.06.94zm10 10l.94 2.06.94-2.06 2.06-.94-2.06-.94-.94-2.06-.94 2.06-2.06.94z\"/><path d=\"M17.41 7.96l-1.37-1.37c-.4-.4-.92-.59-1.43-.59-.52 0-1.04.2-1.43.59L10.3 9.45l-7.72 7.72c-.78.78-.78 2.05 0 2.83L4 21.41c.39.39.9.59 1.41.59.51 0 1.02-.2 1.41-.59l7.78-7.78 2.81-2.81c.8-.78.8-2.07 0-2.86zM5.41 20L4 18.59l7.72-7.72 1.47 1.35L5.41 20z\"/>\n",
              "  </svg>\n",
              "      </button>\n",
              "      \n",
              "  <style>\n",
              "    .colab-df-container {\n",
              "      display:flex;\n",
              "      flex-wrap:wrap;\n",
              "      gap: 12px;\n",
              "    }\n",
              "\n",
              "    .colab-df-convert {\n",
              "      background-color: #E8F0FE;\n",
              "      border: none;\n",
              "      border-radius: 50%;\n",
              "      cursor: pointer;\n",
              "      display: none;\n",
              "      fill: #1967D2;\n",
              "      height: 32px;\n",
              "      padding: 0 0 0 0;\n",
              "      width: 32px;\n",
              "    }\n",
              "\n",
              "    .colab-df-convert:hover {\n",
              "      background-color: #E2EBFA;\n",
              "      box-shadow: 0px 1px 2px rgba(60, 64, 67, 0.3), 0px 1px 3px 1px rgba(60, 64, 67, 0.15);\n",
              "      fill: #174EA6;\n",
              "    }\n",
              "\n",
              "    [theme=dark] .colab-df-convert {\n",
              "      background-color: #3B4455;\n",
              "      fill: #D2E3FC;\n",
              "    }\n",
              "\n",
              "    [theme=dark] .colab-df-convert:hover {\n",
              "      background-color: #434B5C;\n",
              "      box-shadow: 0px 1px 3px 1px rgba(0, 0, 0, 0.15);\n",
              "      filter: drop-shadow(0px 1px 2px rgba(0, 0, 0, 0.3));\n",
              "      fill: #FFFFFF;\n",
              "    }\n",
              "  </style>\n",
              "\n",
              "      <script>\n",
              "        const buttonEl =\n",
              "          document.querySelector('#df-007dca72-ff73-4d59-a095-ed96e6759c23 button.colab-df-convert');\n",
              "        buttonEl.style.display =\n",
              "          google.colab.kernel.accessAllowed ? 'block' : 'none';\n",
              "\n",
              "        async function convertToInteractive(key) {\n",
              "          const element = document.querySelector('#df-007dca72-ff73-4d59-a095-ed96e6759c23');\n",
              "          const dataTable =\n",
              "            await google.colab.kernel.invokeFunction('convertToInteractive',\n",
              "                                                     [key], {});\n",
              "          if (!dataTable) return;\n",
              "\n",
              "          const docLinkHtml = 'Like what you see? Visit the ' +\n",
              "            '<a target=\"_blank\" href=https://colab.research.google.com/notebooks/data_table.ipynb>data table notebook</a>'\n",
              "            + ' to learn more about interactive tables.';\n",
              "          element.innerHTML = '';\n",
              "          dataTable['output_type'] = 'display_data';\n",
              "          await google.colab.output.renderOutput(dataTable, element);\n",
              "          const docLink = document.createElement('div');\n",
              "          docLink.innerHTML = docLinkHtml;\n",
              "          element.appendChild(docLink);\n",
              "        }\n",
              "      </script>\n",
              "    </div>\n",
              "  </div>\n",
              "  "
            ]
          },
          "metadata": {},
          "execution_count": 18
        }
      ],
      "source": [
        "import pandas as pd\n",
        "#path = 'datasets/taxi-fares.csv'\n",
        "path = '/content/drive/MyDrive/taxi-fares.csv'\n",
        "df = pd.read_csv(path, parse_dates=['pickup_datetime'])\n",
        "df.head()"
      ]
    },
    {
      "cell_type": "markdown",
      "metadata": {
        "id": "YrXQdvtcNfQL"
      },
      "source": [
        "## Data Prep:\n",
        "\n",
        "For a full explanation, [see here](https://github.com/jeffprosise/Applied-Machine-Learning/blob/main/Chapter%202/Regression%20(Taxi%20Fares).ipynb)"
      ]
    },
    {
      "cell_type": "code",
      "execution_count": 19,
      "metadata": {
        "id": "IH_Li_ULNfQL",
        "outputId": "0883c62a-a309-4fa0-bd3c-6a625b3a9cc8",
        "colab": {
          "base_uri": "https://localhost:8080/",
          "height": 204
        }
      },
      "outputs": [
        {
          "output_type": "execute_result",
          "data": {
            "text/plain": [
              "   fare_amount  day_of_week  pickup_time  distance\n",
              "2          6.1          0.0         15.0  1.038136\n",
              "4         10.5          5.0         10.0  2.924341\n",
              "5         15.3          4.0         20.0  4.862893\n",
              "8          7.7          5.0          1.0  2.603493\n",
              "9          8.9          3.0         16.0  1.365739"
            ],
            "text/html": [
              "\n",
              "  <div id=\"df-44cb781c-8916-4508-818a-5184092009c8\">\n",
              "    <div class=\"colab-df-container\">\n",
              "      <div>\n",
              "<style scoped>\n",
              "    .dataframe tbody tr th:only-of-type {\n",
              "        vertical-align: middle;\n",
              "    }\n",
              "\n",
              "    .dataframe tbody tr th {\n",
              "        vertical-align: top;\n",
              "    }\n",
              "\n",
              "    .dataframe thead th {\n",
              "        text-align: right;\n",
              "    }\n",
              "</style>\n",
              "<table border=\"1\" class=\"dataframe\">\n",
              "  <thead>\n",
              "    <tr style=\"text-align: right;\">\n",
              "      <th></th>\n",
              "      <th>fare_amount</th>\n",
              "      <th>day_of_week</th>\n",
              "      <th>pickup_time</th>\n",
              "      <th>distance</th>\n",
              "    </tr>\n",
              "  </thead>\n",
              "  <tbody>\n",
              "    <tr>\n",
              "      <th>2</th>\n",
              "      <td>6.1</td>\n",
              "      <td>0.0</td>\n",
              "      <td>15.0</td>\n",
              "      <td>1.038136</td>\n",
              "    </tr>\n",
              "    <tr>\n",
              "      <th>4</th>\n",
              "      <td>10.5</td>\n",
              "      <td>5.0</td>\n",
              "      <td>10.0</td>\n",
              "      <td>2.924341</td>\n",
              "    </tr>\n",
              "    <tr>\n",
              "      <th>5</th>\n",
              "      <td>15.3</td>\n",
              "      <td>4.0</td>\n",
              "      <td>20.0</td>\n",
              "      <td>4.862893</td>\n",
              "    </tr>\n",
              "    <tr>\n",
              "      <th>8</th>\n",
              "      <td>7.7</td>\n",
              "      <td>5.0</td>\n",
              "      <td>1.0</td>\n",
              "      <td>2.603493</td>\n",
              "    </tr>\n",
              "    <tr>\n",
              "      <th>9</th>\n",
              "      <td>8.9</td>\n",
              "      <td>3.0</td>\n",
              "      <td>16.0</td>\n",
              "      <td>1.365739</td>\n",
              "    </tr>\n",
              "  </tbody>\n",
              "</table>\n",
              "</div>\n",
              "      <button class=\"colab-df-convert\" onclick=\"convertToInteractive('df-44cb781c-8916-4508-818a-5184092009c8')\"\n",
              "              title=\"Convert this dataframe to an interactive table.\"\n",
              "              style=\"display:none;\">\n",
              "        \n",
              "  <svg xmlns=\"http://www.w3.org/2000/svg\" height=\"24px\"viewBox=\"0 0 24 24\"\n",
              "       width=\"24px\">\n",
              "    <path d=\"M0 0h24v24H0V0z\" fill=\"none\"/>\n",
              "    <path d=\"M18.56 5.44l.94 2.06.94-2.06 2.06-.94-2.06-.94-.94-2.06-.94 2.06-2.06.94zm-11 1L8.5 8.5l.94-2.06 2.06-.94-2.06-.94L8.5 2.5l-.94 2.06-2.06.94zm10 10l.94 2.06.94-2.06 2.06-.94-2.06-.94-.94-2.06-.94 2.06-2.06.94z\"/><path d=\"M17.41 7.96l-1.37-1.37c-.4-.4-.92-.59-1.43-.59-.52 0-1.04.2-1.43.59L10.3 9.45l-7.72 7.72c-.78.78-.78 2.05 0 2.83L4 21.41c.39.39.9.59 1.41.59.51 0 1.02-.2 1.41-.59l7.78-7.78 2.81-2.81c.8-.78.8-2.07 0-2.86zM5.41 20L4 18.59l7.72-7.72 1.47 1.35L5.41 20z\"/>\n",
              "  </svg>\n",
              "      </button>\n",
              "      \n",
              "  <style>\n",
              "    .colab-df-container {\n",
              "      display:flex;\n",
              "      flex-wrap:wrap;\n",
              "      gap: 12px;\n",
              "    }\n",
              "\n",
              "    .colab-df-convert {\n",
              "      background-color: #E8F0FE;\n",
              "      border: none;\n",
              "      border-radius: 50%;\n",
              "      cursor: pointer;\n",
              "      display: none;\n",
              "      fill: #1967D2;\n",
              "      height: 32px;\n",
              "      padding: 0 0 0 0;\n",
              "      width: 32px;\n",
              "    }\n",
              "\n",
              "    .colab-df-convert:hover {\n",
              "      background-color: #E2EBFA;\n",
              "      box-shadow: 0px 1px 2px rgba(60, 64, 67, 0.3), 0px 1px 3px 1px rgba(60, 64, 67, 0.15);\n",
              "      fill: #174EA6;\n",
              "    }\n",
              "\n",
              "    [theme=dark] .colab-df-convert {\n",
              "      background-color: #3B4455;\n",
              "      fill: #D2E3FC;\n",
              "    }\n",
              "\n",
              "    [theme=dark] .colab-df-convert:hover {\n",
              "      background-color: #434B5C;\n",
              "      box-shadow: 0px 1px 3px 1px rgba(0, 0, 0, 0.15);\n",
              "      filter: drop-shadow(0px 1px 2px rgba(0, 0, 0, 0.3));\n",
              "      fill: #FFFFFF;\n",
              "    }\n",
              "  </style>\n",
              "\n",
              "      <script>\n",
              "        const buttonEl =\n",
              "          document.querySelector('#df-44cb781c-8916-4508-818a-5184092009c8 button.colab-df-convert');\n",
              "        buttonEl.style.display =\n",
              "          google.colab.kernel.accessAllowed ? 'block' : 'none';\n",
              "\n",
              "        async function convertToInteractive(key) {\n",
              "          const element = document.querySelector('#df-44cb781c-8916-4508-818a-5184092009c8');\n",
              "          const dataTable =\n",
              "            await google.colab.kernel.invokeFunction('convertToInteractive',\n",
              "                                                     [key], {});\n",
              "          if (!dataTable) return;\n",
              "\n",
              "          const docLinkHtml = 'Like what you see? Visit the ' +\n",
              "            '<a target=\"_blank\" href=https://colab.research.google.com/notebooks/data_table.ipynb>data table notebook</a>'\n",
              "            + ' to learn more about interactive tables.';\n",
              "          element.innerHTML = '';\n",
              "          dataTable['output_type'] = 'display_data';\n",
              "          await google.colab.output.renderOutput(dataTable, element);\n",
              "          const docLink = document.createElement('div');\n",
              "          docLink.innerHTML = docLinkHtml;\n",
              "          element.appendChild(docLink);\n",
              "        }\n",
              "      </script>\n",
              "    </div>\n",
              "  </div>\n",
              "  "
            ]
          },
          "metadata": {},
          "execution_count": 19
        }
      ],
      "source": [
        "from math import sqrt\n",
        " \n",
        "df = df[df['passenger_count'] == 1]\n",
        "df = df.drop(['key', 'passenger_count'], axis=1)\n",
        " \n",
        "for i, row in df.iterrows():\n",
        "    dt = row['pickup_datetime']\n",
        "    df.at[i, 'day_of_week'] = dt.weekday()\n",
        "    df.at[i, 'pickup_time'] = dt.hour\n",
        "    x = (row['dropoff_longitude'] - row['pickup_longitude']) * 54.6\n",
        "    y = (row['dropoff_latitude'] - row['pickup_latitude']) * 69.0\n",
        "    distance = sqrt(x**2 + y**2)\n",
        "    df.at[i, 'distance'] = distance\n",
        " \n",
        "df.drop(['pickup_datetime', 'pickup_longitude', 'pickup_latitude',\n",
        "         'dropoff_longitude', 'dropoff_latitude'], axis=1, inplace=True)\n",
        " \n",
        "df = df[(df['distance'] > 1.0) & (df['distance'] < 10.0)]\n",
        "df = df[(df['fare_amount'] > 0.0) & (df['fare_amount'] < 50.0)]\n",
        "df.head()"
      ]
    },
    {
      "cell_type": "markdown",
      "metadata": {
        "id": "7XUOTP00NfQM"
      },
      "source": [
        "## Build our model:\n",
        "Things to consider:\n",
        "- What should the `input_dim` be?\n",
        "- How many hidden layers?\n",
        "- How many neurons per layer?\n",
        "- What activation to use for hidden layers?\n",
        "- How many output neurons?\n",
        "- What activation for the output layer?\n"
      ]
    },
    {
      "cell_type": "code",
      "execution_count": 20,
      "metadata": {
        "id": "R0mmWexwNfQM",
        "outputId": "4629992a-b063-4389-9427-d3490d71f094",
        "colab": {
          "base_uri": "https://localhost:8080/",
          "height": 204
        }
      },
      "outputs": [
        {
          "output_type": "execute_result",
          "data": {
            "text/plain": [
              "   fare_amount  day_of_week  pickup_time  distance\n",
              "2          6.1          0.0         15.0  1.038136\n",
              "4         10.5          5.0         10.0  2.924341\n",
              "5         15.3          4.0         20.0  4.862893\n",
              "8          7.7          5.0          1.0  2.603493\n",
              "9          8.9          3.0         16.0  1.365739"
            ],
            "text/html": [
              "\n",
              "  <div id=\"df-5e904794-a0ac-4980-ab50-790885e33b29\">\n",
              "    <div class=\"colab-df-container\">\n",
              "      <div>\n",
              "<style scoped>\n",
              "    .dataframe tbody tr th:only-of-type {\n",
              "        vertical-align: middle;\n",
              "    }\n",
              "\n",
              "    .dataframe tbody tr th {\n",
              "        vertical-align: top;\n",
              "    }\n",
              "\n",
              "    .dataframe thead th {\n",
              "        text-align: right;\n",
              "    }\n",
              "</style>\n",
              "<table border=\"1\" class=\"dataframe\">\n",
              "  <thead>\n",
              "    <tr style=\"text-align: right;\">\n",
              "      <th></th>\n",
              "      <th>fare_amount</th>\n",
              "      <th>day_of_week</th>\n",
              "      <th>pickup_time</th>\n",
              "      <th>distance</th>\n",
              "    </tr>\n",
              "  </thead>\n",
              "  <tbody>\n",
              "    <tr>\n",
              "      <th>2</th>\n",
              "      <td>6.1</td>\n",
              "      <td>0.0</td>\n",
              "      <td>15.0</td>\n",
              "      <td>1.038136</td>\n",
              "    </tr>\n",
              "    <tr>\n",
              "      <th>4</th>\n",
              "      <td>10.5</td>\n",
              "      <td>5.0</td>\n",
              "      <td>10.0</td>\n",
              "      <td>2.924341</td>\n",
              "    </tr>\n",
              "    <tr>\n",
              "      <th>5</th>\n",
              "      <td>15.3</td>\n",
              "      <td>4.0</td>\n",
              "      <td>20.0</td>\n",
              "      <td>4.862893</td>\n",
              "    </tr>\n",
              "    <tr>\n",
              "      <th>8</th>\n",
              "      <td>7.7</td>\n",
              "      <td>5.0</td>\n",
              "      <td>1.0</td>\n",
              "      <td>2.603493</td>\n",
              "    </tr>\n",
              "    <tr>\n",
              "      <th>9</th>\n",
              "      <td>8.9</td>\n",
              "      <td>3.0</td>\n",
              "      <td>16.0</td>\n",
              "      <td>1.365739</td>\n",
              "    </tr>\n",
              "  </tbody>\n",
              "</table>\n",
              "</div>\n",
              "      <button class=\"colab-df-convert\" onclick=\"convertToInteractive('df-5e904794-a0ac-4980-ab50-790885e33b29')\"\n",
              "              title=\"Convert this dataframe to an interactive table.\"\n",
              "              style=\"display:none;\">\n",
              "        \n",
              "  <svg xmlns=\"http://www.w3.org/2000/svg\" height=\"24px\"viewBox=\"0 0 24 24\"\n",
              "       width=\"24px\">\n",
              "    <path d=\"M0 0h24v24H0V0z\" fill=\"none\"/>\n",
              "    <path d=\"M18.56 5.44l.94 2.06.94-2.06 2.06-.94-2.06-.94-.94-2.06-.94 2.06-2.06.94zm-11 1L8.5 8.5l.94-2.06 2.06-.94-2.06-.94L8.5 2.5l-.94 2.06-2.06.94zm10 10l.94 2.06.94-2.06 2.06-.94-2.06-.94-.94-2.06-.94 2.06-2.06.94z\"/><path d=\"M17.41 7.96l-1.37-1.37c-.4-.4-.92-.59-1.43-.59-.52 0-1.04.2-1.43.59L10.3 9.45l-7.72 7.72c-.78.78-.78 2.05 0 2.83L4 21.41c.39.39.9.59 1.41.59.51 0 1.02-.2 1.41-.59l7.78-7.78 2.81-2.81c.8-.78.8-2.07 0-2.86zM5.41 20L4 18.59l7.72-7.72 1.47 1.35L5.41 20z\"/>\n",
              "  </svg>\n",
              "      </button>\n",
              "      \n",
              "  <style>\n",
              "    .colab-df-container {\n",
              "      display:flex;\n",
              "      flex-wrap:wrap;\n",
              "      gap: 12px;\n",
              "    }\n",
              "\n",
              "    .colab-df-convert {\n",
              "      background-color: #E8F0FE;\n",
              "      border: none;\n",
              "      border-radius: 50%;\n",
              "      cursor: pointer;\n",
              "      display: none;\n",
              "      fill: #1967D2;\n",
              "      height: 32px;\n",
              "      padding: 0 0 0 0;\n",
              "      width: 32px;\n",
              "    }\n",
              "\n",
              "    .colab-df-convert:hover {\n",
              "      background-color: #E2EBFA;\n",
              "      box-shadow: 0px 1px 2px rgba(60, 64, 67, 0.3), 0px 1px 3px 1px rgba(60, 64, 67, 0.15);\n",
              "      fill: #174EA6;\n",
              "    }\n",
              "\n",
              "    [theme=dark] .colab-df-convert {\n",
              "      background-color: #3B4455;\n",
              "      fill: #D2E3FC;\n",
              "    }\n",
              "\n",
              "    [theme=dark] .colab-df-convert:hover {\n",
              "      background-color: #434B5C;\n",
              "      box-shadow: 0px 1px 3px 1px rgba(0, 0, 0, 0.15);\n",
              "      filter: drop-shadow(0px 1px 2px rgba(0, 0, 0, 0.3));\n",
              "      fill: #FFFFFF;\n",
              "    }\n",
              "  </style>\n",
              "\n",
              "      <script>\n",
              "        const buttonEl =\n",
              "          document.querySelector('#df-5e904794-a0ac-4980-ab50-790885e33b29 button.colab-df-convert');\n",
              "        buttonEl.style.display =\n",
              "          google.colab.kernel.accessAllowed ? 'block' : 'none';\n",
              "\n",
              "        async function convertToInteractive(key) {\n",
              "          const element = document.querySelector('#df-5e904794-a0ac-4980-ab50-790885e33b29');\n",
              "          const dataTable =\n",
              "            await google.colab.kernel.invokeFunction('convertToInteractive',\n",
              "                                                     [key], {});\n",
              "          if (!dataTable) return;\n",
              "\n",
              "          const docLinkHtml = 'Like what you see? Visit the ' +\n",
              "            '<a target=\"_blank\" href=https://colab.research.google.com/notebooks/data_table.ipynb>data table notebook</a>'\n",
              "            + ' to learn more about interactive tables.';\n",
              "          element.innerHTML = '';\n",
              "          dataTable['output_type'] = 'display_data';\n",
              "          await google.colab.output.renderOutput(dataTable, element);\n",
              "          const docLink = document.createElement('div');\n",
              "          docLink.innerHTML = docLinkHtml;\n",
              "          element.appendChild(docLink);\n",
              "        }\n",
              "      </script>\n",
              "    </div>\n",
              "  </div>\n",
              "  "
            ]
          },
          "metadata": {},
          "execution_count": 20
        }
      ],
      "source": [
        "df.head()"
      ]
    },
    {
      "cell_type": "markdown",
      "source": [
        "input size: 3\n",
        "output size: 1 \n",
        "output activation function: relu"
      ],
      "metadata": {
        "id": "wTk473iNjJZP"
      }
    },
    {
      "cell_type": "code",
      "execution_count": 21,
      "metadata": {
        "id": "65wpUeSmNfQM",
        "outputId": "16321416-9dac-47a7-92ec-b38537622a49",
        "colab": {
          "base_uri": "https://localhost:8080/"
        }
      },
      "outputs": [
        {
          "output_type": "stream",
          "name": "stdout",
          "text": [
            "Model: \"sequential_1\"\n",
            "_________________________________________________________________\n",
            " Layer (type)                Output Shape              Param #   \n",
            "=================================================================\n",
            " dense_2 (Dense)             (None, 512)               2048      \n",
            "                                                                 \n",
            " dense_3 (Dense)             (None, 512)               262656    \n",
            "                                                                 \n",
            " dense_4 (Dense)             (None, 1)                 513       \n",
            "                                                                 \n",
            "=================================================================\n",
            "Total params: 265,217\n",
            "Trainable params: 265,217\n",
            "Non-trainable params: 0\n",
            "_________________________________________________________________\n"
          ]
        }
      ],
      "source": [
        "from tensorflow.keras.models import Sequential\n",
        "from tensorflow.keras.layers import Dense\n",
        " \n",
        "model = Sequential()\n",
        "model.add(Dense(512, activation='relu', input_dim=3))\n",
        "model.add(Dense(512, activation='relu'))\n",
        "model.add(Dense(1))\n",
        "model.compile(optimizer='adam', loss='mae', metrics=['mae'])\n",
        "model.summary()"
      ]
    },
    {
      "cell_type": "markdown",
      "metadata": {
        "id": "-ow8L7w9NfQM"
      },
      "source": [
        "## Now, let's train our model:"
      ]
    },
    {
      "cell_type": "code",
      "execution_count": 22,
      "metadata": {
        "id": "CLyIYNt7NfQM",
        "outputId": "bc3868f4-3fd5-44f9-b2c3-05fbaa146567",
        "colab": {
          "base_uri": "https://localhost:8080/"
        }
      },
      "outputs": [
        {
          "output_type": "stream",
          "name": "stdout",
          "text": [
            "Epoch 1/100\n",
            "187/187 [==============================] - 7s 8ms/step - loss: 2.9639 - mae: 2.9639 - val_loss: 2.5001 - val_mae: 2.5001\n",
            "Epoch 2/100\n",
            "187/187 [==============================] - 1s 5ms/step - loss: 2.3925 - mae: 2.3925 - val_loss: 2.4248 - val_mae: 2.4248\n",
            "Epoch 3/100\n",
            "187/187 [==============================] - 1s 6ms/step - loss: 2.3719 - mae: 2.3719 - val_loss: 2.3934 - val_mae: 2.3934\n",
            "Epoch 4/100\n",
            "187/187 [==============================] - 1s 4ms/step - loss: 2.3686 - mae: 2.3686 - val_loss: 2.3516 - val_mae: 2.3516\n",
            "Epoch 5/100\n",
            "187/187 [==============================] - 1s 4ms/step - loss: 2.3614 - mae: 2.3614 - val_loss: 2.3816 - val_mae: 2.3816\n",
            "Epoch 6/100\n",
            "187/187 [==============================] - 1s 3ms/step - loss: 2.3615 - mae: 2.3615 - val_loss: 2.3504 - val_mae: 2.3504\n",
            "Epoch 7/100\n",
            "187/187 [==============================] - 1s 4ms/step - loss: 2.3699 - mae: 2.3699 - val_loss: 2.3438 - val_mae: 2.3438\n",
            "Epoch 8/100\n",
            "187/187 [==============================] - 1s 4ms/step - loss: 2.3567 - mae: 2.3567 - val_loss: 2.3663 - val_mae: 2.3663\n",
            "Epoch 9/100\n",
            "187/187 [==============================] - 1s 4ms/step - loss: 2.3561 - mae: 2.3561 - val_loss: 2.4180 - val_mae: 2.4180\n",
            "Epoch 10/100\n",
            "187/187 [==============================] - 1s 4ms/step - loss: 2.3428 - mae: 2.3428 - val_loss: 2.3415 - val_mae: 2.3415\n",
            "Epoch 11/100\n",
            "187/187 [==============================] - 1s 3ms/step - loss: 2.3463 - mae: 2.3463 - val_loss: 2.3361 - val_mae: 2.3361\n",
            "Epoch 12/100\n",
            "187/187 [==============================] - 1s 4ms/step - loss: 2.3475 - mae: 2.3475 - val_loss: 2.3450 - val_mae: 2.3450\n",
            "Epoch 13/100\n",
            "187/187 [==============================] - 1s 4ms/step - loss: 2.3385 - mae: 2.3385 - val_loss: 2.3241 - val_mae: 2.3241\n",
            "Epoch 14/100\n",
            "187/187 [==============================] - 1s 3ms/step - loss: 2.3491 - mae: 2.3491 - val_loss: 2.3361 - val_mae: 2.3361\n",
            "Epoch 15/100\n",
            "187/187 [==============================] - 1s 5ms/step - loss: 2.3361 - mae: 2.3361 - val_loss: 2.3203 - val_mae: 2.3203\n",
            "Epoch 16/100\n",
            "187/187 [==============================] - 1s 5ms/step - loss: 2.3560 - mae: 2.3560 - val_loss: 2.4118 - val_mae: 2.4118\n",
            "Epoch 17/100\n",
            "187/187 [==============================] - 1s 5ms/step - loss: 2.3428 - mae: 2.3428 - val_loss: 2.3306 - val_mae: 2.3306\n",
            "Epoch 18/100\n",
            "187/187 [==============================] - 1s 4ms/step - loss: 2.3391 - mae: 2.3391 - val_loss: 2.3121 - val_mae: 2.3121\n",
            "Epoch 19/100\n",
            "187/187 [==============================] - 1s 3ms/step - loss: 2.3312 - mae: 2.3312 - val_loss: 2.3419 - val_mae: 2.3419\n",
            "Epoch 20/100\n",
            "187/187 [==============================] - 1s 4ms/step - loss: 2.3363 - mae: 2.3363 - val_loss: 2.3208 - val_mae: 2.3208\n",
            "Epoch 21/100\n",
            "187/187 [==============================] - 1s 3ms/step - loss: 2.3521 - mae: 2.3521 - val_loss: 2.3316 - val_mae: 2.3316\n",
            "Epoch 22/100\n",
            "187/187 [==============================] - 1s 3ms/step - loss: 2.3366 - mae: 2.3366 - val_loss: 2.3730 - val_mae: 2.3730\n",
            "Epoch 23/100\n",
            "187/187 [==============================] - 1s 3ms/step - loss: 2.3351 - mae: 2.3351 - val_loss: 2.3193 - val_mae: 2.3193\n",
            "Epoch 24/100\n",
            "187/187 [==============================] - 1s 4ms/step - loss: 2.3372 - mae: 2.3372 - val_loss: 2.3073 - val_mae: 2.3073\n",
            "Epoch 25/100\n",
            "187/187 [==============================] - 1s 3ms/step - loss: 2.3289 - mae: 2.3289 - val_loss: 2.4307 - val_mae: 2.4307\n",
            "Epoch 26/100\n",
            "187/187 [==============================] - 1s 3ms/step - loss: 2.3322 - mae: 2.3322 - val_loss: 2.3654 - val_mae: 2.3654\n",
            "Epoch 27/100\n",
            "187/187 [==============================] - 1s 4ms/step - loss: 2.3190 - mae: 2.3190 - val_loss: 2.3985 - val_mae: 2.3985\n",
            "Epoch 28/100\n",
            "187/187 [==============================] - 1s 3ms/step - loss: 2.3235 - mae: 2.3235 - val_loss: 2.3483 - val_mae: 2.3483\n",
            "Epoch 29/100\n",
            "187/187 [==============================] - 1s 3ms/step - loss: 2.3319 - mae: 2.3319 - val_loss: 2.3293 - val_mae: 2.3293\n",
            "Epoch 30/100\n",
            "187/187 [==============================] - 1s 3ms/step - loss: 2.3230 - mae: 2.3230 - val_loss: 2.3002 - val_mae: 2.3002\n",
            "Epoch 31/100\n",
            "187/187 [==============================] - 1s 3ms/step - loss: 2.3132 - mae: 2.3132 - val_loss: 2.3166 - val_mae: 2.3166\n",
            "Epoch 32/100\n",
            "187/187 [==============================] - 1s 4ms/step - loss: 2.3101 - mae: 2.3101 - val_loss: 2.2865 - val_mae: 2.2866\n",
            "Epoch 33/100\n",
            "187/187 [==============================] - 1s 4ms/step - loss: 2.3107 - mae: 2.3107 - val_loss: 2.4101 - val_mae: 2.4101\n",
            "Epoch 34/100\n",
            "187/187 [==============================] - 1s 5ms/step - loss: 2.3268 - mae: 2.3268 - val_loss: 2.3156 - val_mae: 2.3156\n",
            "Epoch 35/100\n",
            "187/187 [==============================] - 1s 5ms/step - loss: 2.3108 - mae: 2.3108 - val_loss: 2.3142 - val_mae: 2.3142\n",
            "Epoch 36/100\n",
            "187/187 [==============================] - 1s 5ms/step - loss: 2.3208 - mae: 2.3208 - val_loss: 2.2940 - val_mae: 2.2940\n",
            "Epoch 37/100\n",
            "187/187 [==============================] - 1s 4ms/step - loss: 2.3146 - mae: 2.3146 - val_loss: 2.2943 - val_mae: 2.2943\n",
            "Epoch 38/100\n",
            "187/187 [==============================] - 1s 4ms/step - loss: 2.3087 - mae: 2.3087 - val_loss: 2.2957 - val_mae: 2.2957\n",
            "Epoch 39/100\n",
            "187/187 [==============================] - 1s 3ms/step - loss: 2.3106 - mae: 2.3106 - val_loss: 2.3001 - val_mae: 2.3001\n",
            "Epoch 40/100\n",
            "187/187 [==============================] - 1s 3ms/step - loss: 2.3030 - mae: 2.3030 - val_loss: 2.3136 - val_mae: 2.3136\n",
            "Epoch 41/100\n",
            "187/187 [==============================] - 1s 4ms/step - loss: 2.3004 - mae: 2.3004 - val_loss: 2.2840 - val_mae: 2.2840\n",
            "Epoch 42/100\n",
            "187/187 [==============================] - 1s 3ms/step - loss: 2.3042 - mae: 2.3042 - val_loss: 2.2698 - val_mae: 2.2698\n",
            "Epoch 43/100\n",
            "187/187 [==============================] - 1s 4ms/step - loss: 2.2982 - mae: 2.2982 - val_loss: 2.2735 - val_mae: 2.2735\n",
            "Epoch 44/100\n",
            "187/187 [==============================] - 1s 3ms/step - loss: 2.2916 - mae: 2.2916 - val_loss: 2.2686 - val_mae: 2.2686\n",
            "Epoch 45/100\n",
            "187/187 [==============================] - 1s 4ms/step - loss: 2.3034 - mae: 2.3034 - val_loss: 2.3666 - val_mae: 2.3666\n",
            "Epoch 46/100\n",
            "187/187 [==============================] - 1s 4ms/step - loss: 2.2934 - mae: 2.2934 - val_loss: 2.3520 - val_mae: 2.3520\n",
            "Epoch 47/100\n",
            "187/187 [==============================] - 1s 4ms/step - loss: 2.3021 - mae: 2.3021 - val_loss: 2.3457 - val_mae: 2.3457\n",
            "Epoch 48/100\n",
            "187/187 [==============================] - 1s 4ms/step - loss: 2.2978 - mae: 2.2978 - val_loss: 2.3038 - val_mae: 2.3038\n",
            "Epoch 49/100\n",
            "187/187 [==============================] - 1s 4ms/step - loss: 2.2902 - mae: 2.2902 - val_loss: 2.3185 - val_mae: 2.3185\n",
            "Epoch 50/100\n",
            "187/187 [==============================] - 1s 4ms/step - loss: 2.3094 - mae: 2.3094 - val_loss: 2.2666 - val_mae: 2.2666\n",
            "Epoch 51/100\n",
            "187/187 [==============================] - 1s 4ms/step - loss: 2.2893 - mae: 2.2893 - val_loss: 2.2568 - val_mae: 2.2568\n",
            "Epoch 52/100\n",
            "187/187 [==============================] - 1s 5ms/step - loss: 2.2896 - mae: 2.2896 - val_loss: 2.2595 - val_mae: 2.2595\n",
            "Epoch 53/100\n",
            "187/187 [==============================] - 1s 5ms/step - loss: 2.2935 - mae: 2.2935 - val_loss: 2.2733 - val_mae: 2.2733\n",
            "Epoch 54/100\n",
            "187/187 [==============================] - 1s 5ms/step - loss: 2.2890 - mae: 2.2890 - val_loss: 2.2743 - val_mae: 2.2743\n",
            "Epoch 55/100\n",
            "187/187 [==============================] - 1s 4ms/step - loss: 2.2857 - mae: 2.2857 - val_loss: 2.2798 - val_mae: 2.2798\n",
            "Epoch 56/100\n",
            "187/187 [==============================] - 1s 3ms/step - loss: 2.2865 - mae: 2.2865 - val_loss: 2.2789 - val_mae: 2.2789\n",
            "Epoch 57/100\n",
            "187/187 [==============================] - 1s 3ms/step - loss: 2.2921 - mae: 2.2921 - val_loss: 2.2903 - val_mae: 2.2903\n",
            "Epoch 58/100\n",
            "187/187 [==============================] - 1s 3ms/step - loss: 2.2814 - mae: 2.2814 - val_loss: 2.2666 - val_mae: 2.2666\n",
            "Epoch 59/100\n",
            "187/187 [==============================] - 1s 4ms/step - loss: 2.2832 - mae: 2.2832 - val_loss: 2.2654 - val_mae: 2.2654\n",
            "Epoch 60/100\n",
            "187/187 [==============================] - 1s 3ms/step - loss: 2.2921 - mae: 2.2921 - val_loss: 2.2681 - val_mae: 2.2681\n",
            "Epoch 61/100\n",
            "187/187 [==============================] - 1s 4ms/step - loss: 2.2863 - mae: 2.2863 - val_loss: 2.2573 - val_mae: 2.2573\n",
            "Epoch 62/100\n",
            "187/187 [==============================] - 1s 3ms/step - loss: 2.2836 - mae: 2.2836 - val_loss: 2.2687 - val_mae: 2.2687\n",
            "Epoch 63/100\n",
            "187/187 [==============================] - 1s 3ms/step - loss: 2.2877 - mae: 2.2877 - val_loss: 2.3163 - val_mae: 2.3163\n",
            "Epoch 64/100\n",
            "187/187 [==============================] - 1s 3ms/step - loss: 2.2840 - mae: 2.2840 - val_loss: 2.3169 - val_mae: 2.3169\n",
            "Epoch 65/100\n",
            "187/187 [==============================] - 1s 3ms/step - loss: 2.2892 - mae: 2.2892 - val_loss: 2.2686 - val_mae: 2.2686\n",
            "Epoch 66/100\n",
            "187/187 [==============================] - 1s 4ms/step - loss: 2.2846 - mae: 2.2846 - val_loss: 2.2863 - val_mae: 2.2863\n",
            "Epoch 67/100\n",
            "187/187 [==============================] - 1s 3ms/step - loss: 2.2869 - mae: 2.2869 - val_loss: 2.2832 - val_mae: 2.2832\n",
            "Epoch 68/100\n",
            "187/187 [==============================] - 1s 4ms/step - loss: 2.2794 - mae: 2.2794 - val_loss: 2.2569 - val_mae: 2.2569\n",
            "Epoch 69/100\n",
            "187/187 [==============================] - 1s 4ms/step - loss: 2.2828 - mae: 2.2828 - val_loss: 2.2793 - val_mae: 2.2793\n",
            "Epoch 70/100\n",
            "187/187 [==============================] - 1s 5ms/step - loss: 2.2850 - mae: 2.2850 - val_loss: 2.2679 - val_mae: 2.2679\n",
            "Epoch 71/100\n",
            "187/187 [==============================] - 1s 5ms/step - loss: 2.2856 - mae: 2.2856 - val_loss: 2.2727 - val_mae: 2.2727\n",
            "Epoch 72/100\n",
            "187/187 [==============================] - 1s 5ms/step - loss: 2.2821 - mae: 2.2821 - val_loss: 2.2726 - val_mae: 2.2726\n",
            "Epoch 73/100\n",
            "187/187 [==============================] - 1s 5ms/step - loss: 2.2772 - mae: 2.2772 - val_loss: 2.2677 - val_mae: 2.2677\n",
            "Epoch 74/100\n",
            "187/187 [==============================] - 1s 3ms/step - loss: 2.2883 - mae: 2.2883 - val_loss: 2.2745 - val_mae: 2.2745\n",
            "Epoch 75/100\n",
            "187/187 [==============================] - 1s 4ms/step - loss: 2.2795 - mae: 2.2795 - val_loss: 2.3038 - val_mae: 2.3038\n",
            "Epoch 76/100\n",
            "187/187 [==============================] - 1s 4ms/step - loss: 2.2870 - mae: 2.2870 - val_loss: 2.2905 - val_mae: 2.2905\n",
            "Epoch 77/100\n",
            "187/187 [==============================] - 1s 3ms/step - loss: 2.2819 - mae: 2.2819 - val_loss: 2.2666 - val_mae: 2.2666\n",
            "Epoch 78/100\n",
            "187/187 [==============================] - 1s 3ms/step - loss: 2.2705 - mae: 2.2705 - val_loss: 2.2847 - val_mae: 2.2847\n",
            "Epoch 79/100\n",
            "187/187 [==============================] - 1s 4ms/step - loss: 2.2954 - mae: 2.2954 - val_loss: 2.2748 - val_mae: 2.2748\n",
            "Epoch 80/100\n",
            "187/187 [==============================] - 1s 4ms/step - loss: 2.2832 - mae: 2.2832 - val_loss: 2.2666 - val_mae: 2.2666\n",
            "Epoch 81/100\n",
            "187/187 [==============================] - 1s 3ms/step - loss: 2.2712 - mae: 2.2712 - val_loss: 2.2714 - val_mae: 2.2714\n",
            "Epoch 82/100\n",
            "187/187 [==============================] - 1s 4ms/step - loss: 2.2756 - mae: 2.2756 - val_loss: 2.2833 - val_mae: 2.2833\n",
            "Epoch 83/100\n",
            "187/187 [==============================] - 1s 4ms/step - loss: 2.2716 - mae: 2.2716 - val_loss: 2.2589 - val_mae: 2.2589\n",
            "Epoch 84/100\n",
            "187/187 [==============================] - 1s 3ms/step - loss: 2.2795 - mae: 2.2795 - val_loss: 2.2596 - val_mae: 2.2596\n",
            "Epoch 85/100\n",
            "187/187 [==============================] - 1s 4ms/step - loss: 2.2661 - mae: 2.2661 - val_loss: 2.2783 - val_mae: 2.2783\n",
            "Epoch 86/100\n",
            "187/187 [==============================] - 1s 3ms/step - loss: 2.2821 - mae: 2.2821 - val_loss: 2.2620 - val_mae: 2.2620\n",
            "Epoch 87/100\n",
            "187/187 [==============================] - 1s 4ms/step - loss: 2.2827 - mae: 2.2827 - val_loss: 2.2730 - val_mae: 2.2730\n",
            "Epoch 88/100\n",
            "187/187 [==============================] - 1s 4ms/step - loss: 2.2785 - mae: 2.2785 - val_loss: 2.2549 - val_mae: 2.2549\n",
            "Epoch 89/100\n",
            "187/187 [==============================] - 1s 5ms/step - loss: 2.2747 - mae: 2.2747 - val_loss: 2.2637 - val_mae: 2.2637\n",
            "Epoch 90/100\n",
            "187/187 [==============================] - 1s 5ms/step - loss: 2.2734 - mae: 2.2734 - val_loss: 2.2533 - val_mae: 2.2533\n",
            "Epoch 91/100\n",
            "187/187 [==============================] - 1s 5ms/step - loss: 2.2821 - mae: 2.2821 - val_loss: 2.2645 - val_mae: 2.2645\n",
            "Epoch 92/100\n",
            "187/187 [==============================] - 1s 4ms/step - loss: 2.2759 - mae: 2.2759 - val_loss: 2.2745 - val_mae: 2.2745\n",
            "Epoch 93/100\n",
            "187/187 [==============================] - 1s 3ms/step - loss: 2.2825 - mae: 2.2825 - val_loss: 2.3087 - val_mae: 2.3087\n",
            "Epoch 94/100\n",
            "187/187 [==============================] - 1s 4ms/step - loss: 2.2846 - mae: 2.2846 - val_loss: 2.3148 - val_mae: 2.3148\n",
            "Epoch 95/100\n",
            "187/187 [==============================] - 1s 4ms/step - loss: 2.2767 - mae: 2.2767 - val_loss: 2.3455 - val_mae: 2.3455\n",
            "Epoch 96/100\n",
            "187/187 [==============================] - 1s 4ms/step - loss: 2.2911 - mae: 2.2911 - val_loss: 2.2628 - val_mae: 2.2628\n",
            "Epoch 97/100\n",
            "187/187 [==============================] - 1s 4ms/step - loss: 2.2718 - mae: 2.2718 - val_loss: 2.2501 - val_mae: 2.2501\n",
            "Epoch 98/100\n",
            "187/187 [==============================] - 1s 4ms/step - loss: 2.2677 - mae: 2.2677 - val_loss: 2.2568 - val_mae: 2.2568\n",
            "Epoch 99/100\n",
            "187/187 [==============================] - 1s 4ms/step - loss: 2.2776 - mae: 2.2776 - val_loss: 2.2717 - val_mae: 2.2717\n",
            "Epoch 100/100\n",
            "187/187 [==============================] - 1s 3ms/step - loss: 2.2843 - mae: 2.2843 - val_loss: 2.2524 - val_mae: 2.2524\n"
          ]
        }
      ],
      "source": [
        "x = df.drop('fare_amount', axis=1)\n",
        "y = df['fare_amount']\n",
        "\n",
        "hist = model.fit(x, y, validation_split=0.2, epochs=100, batch_size=100)"
      ]
    },
    {
      "cell_type": "code",
      "execution_count": 23,
      "metadata": {
        "id": "e_9xA_bqNfQN",
        "outputId": "4d4865ab-7ce3-4bc8-f9df-a7a7ce8a3e9a",
        "colab": {
          "base_uri": "https://localhost:8080/",
          "height": 497
        }
      },
      "outputs": [
        {
          "output_type": "execute_result",
          "data": {
            "text/plain": [
              "[]"
            ]
          },
          "metadata": {},
          "execution_count": 23
        },
        {
          "output_type": "display_data",
          "data": {
            "text/plain": [
              "<Figure size 640x480 with 1 Axes>"
            ],
            "image/png": "[encoded data removed]"
          },
          "metadata": {}
        }
      ],
      "source": [
        "%matplotlib inline\n",
        "import matplotlib.pyplot as plt\n",
        "import seaborn as sns\n",
        "sns.set()\n",
        "\n",
        "err = hist.history['mae']\n",
        "val_err = hist.history['val_mae']\n",
        "epochs = range(1, len(err) + 1)\n",
        "\n",
        "plt.plot(epochs, err, '-', label='Training MAE')\n",
        "plt.plot(epochs, val_err, ':', label='Validation MAE')\n",
        "plt.title('Training and Validation Accuracy')\n",
        "plt.xlabel('Epoch')\n",
        "plt.ylabel('Mean Absolute Error')\n",
        "plt.legend(loc='upper right')\n",
        "plt.plot()"
      ]
    },
    {
      "cell_type": "markdown",
      "metadata": {
        "id": "uoMuqoELNfQN"
      },
      "source": [
        "## Make some predictions:\n",
        "\n",
        "Take a look at the $r^2$ score for our dataset:"
      ]
    },
    {
      "cell_type": "code",
      "execution_count": 24,
      "metadata": {
        "id": "VZDMG8P_NfQN",
        "outputId": "27cd5679-68b4-483e-b424-4a54f467d8a2",
        "colab": {
          "base_uri": "https://localhost:8080/"
        }
      },
      "outputs": [
        {
          "output_type": "stream",
          "name": "stdout",
          "text": [
            "729/729 [==============================] - 1s 1ms/step\n"
          ]
        },
        {
          "output_type": "execute_result",
          "data": {
            "text/plain": [
              "0.7464336515831762"
            ]
          },
          "metadata": {},
          "execution_count": 24
        }
      ],
      "source": [
        "from sklearn.metrics import r2_score\n",
        "\n",
        "r2_score(y, model.predict(x))"
      ]
    },
    {
      "cell_type": "markdown",
      "metadata": {
        "id": "n93VyqOnNfQN"
      },
      "source": [
        "Estimate what it will cost to hire a taxi for a 2-mile trip at 5:00pm on a Friday afternoon:\n",
        "- day of the week `[ Monday:0, Tuesday:1, Wednesday:2, Thursday:3, Friday:4, Saturday:5, Sunday:6]`\n",
        "- time, military time\n",
        "- distance in miles"
      ]
    },
    {
      "cell_type": "code",
      "execution_count": 25,
      "metadata": {
        "id": "pCB7oy1WNfQN",
        "outputId": "d9570d1c-f6ea-4f5b-db0d-a902b4daa77a",
        "colab": {
          "base_uri": "https://localhost:8080/"
        }
      },
      "outputs": [
        {
          "output_type": "stream",
          "name": "stdout",
          "text": [
            "1/1 [==============================] - 0s 49ms/step\n"
          ]
        },
        {
          "output_type": "execute_result",
          "data": {
            "text/plain": [
              "array([[10.437191]], dtype=float32)"
            ]
          },
          "metadata": {},
          "execution_count": 25
        }
      ],
      "source": [
        "import numpy as np\n",
        "\n",
        "# day of the week, time, and distance\n",
        "model.predict(np.array([[4, 17, 2.0]]))"
      ]
    },
    {
      "cell_type": "markdown",
      "metadata": {
        "id": "mWqBmWqKNfQO"
      },
      "source": [
        "What about the same 20mile trip at 5pm on a Saturday?"
      ]
    },
    {
      "cell_type": "code",
      "execution_count": 26,
      "metadata": {
        "id": "SFG6tcoENfQO",
        "outputId": "c33cff0d-b073-44ff-b87d-4fcc0a6f08cb",
        "colab": {
          "base_uri": "https://localhost:8080/"
        }
      },
      "outputs": [
        {
          "output_type": "stream",
          "name": "stdout",
          "text": [
            "1/1 [==============================] - 0s 18ms/step\n"
          ]
        },
        {
          "output_type": "execute_result",
          "data": {
            "text/plain": [
              "array([[10.253813]], dtype=float32)"
            ]
          },
          "metadata": {},
          "execution_count": 26
        }
      ],
      "source": [
        "model.predict(np.array([[5, 17, 2.0]]))"
      ]
    },
    {
      "cell_type": "markdown",
      "metadata": {
        "id": "J1CaSpTnNfQO"
      },
      "source": [
        "# Iris Dataset with Keras"
      ]
    },
    {
      "cell_type": "code",
      "execution_count": 1,
      "metadata": {
        "id": "yUVDDeIeNfQO"
      },
      "outputs": [],
      "source": [
        "import warnings\n",
        "warnings.simplefilter(action='ignore', category=FutureWarning)\n",
        "warnings.simplefilter(action='ignore', category=DeprecationWarning)\n",
        "\n",
        "from keras.models import Sequential\n",
        "from keras.layers import Dense\n",
        "\n",
        "from sklearn.datasets import load_iris\n",
        "from sklearn.model_selection import train_test_split\n",
        "from sklearn.preprocessing import OneHotEncoder, StandardScaler\n",
        "import numpy\n",
        "\n",
        "# we're going to use the iris dataset, but load it from sklearn \n",
        "iris = load_iris()\n",
        "X = iris['data']\n",
        "y = iris['target']\n",
        "names = iris['target_names']\n",
        "feature_names = iris['feature_names']\n",
        "\n",
        "# One hot encoding\n",
        "enc = OneHotEncoder()\n",
        "Y = enc.fit_transform(y[:, numpy.newaxis]).toarray()\n",
        "\n",
        "# Split the data set into training and testing\n",
        "X_train, X_test, Y_train, Y_test = train_test_split(X, Y, test_size=0.2, random_state=2)\n",
        "\n",
        "#normalize the data\n",
        "scaler = StandardScaler()\n",
        "scaler.fit(X_train)\n",
        "X_train_norm = scaler.transform(X_train)\n",
        "X_test_norm = scaler.transform(X_test)"
      ]
    },
    {
      "cell_type": "code",
      "execution_count": 2,
      "metadata": {
        "id": "3zm2E4RgNfQO",
        "outputId": "95407e2e-343f-4120-c6e3-c0d9247d00a0",
        "colab": {
          "base_uri": "https://localhost:8080/"
        }
      },
      "outputs": [
        {
          "output_type": "stream",
          "name": "stdout",
          "text": [
            "[ 0.37346331 -0.58519388  0.54075378  0.74234434]\n",
            "[0. 0. 1.]\n"
          ]
        }
      ],
      "source": [
        "# display a row of data\n",
        "print(X_train_norm[0,:])\n",
        "print(Y_train[0,:])"
      ]
    },
    {
      "cell_type": "code",
      "execution_count": 3,
      "metadata": {
        "id": "zU2guseYNfQP",
        "outputId": "acca3d3f-f299-4cbb-b746-2d2a698570fd",
        "colab": {
          "base_uri": "https://localhost:8080/"
        }
      },
      "outputs": [
        {
          "output_type": "stream",
          "name": "stdout",
          "text": [
            "Model: \"iris_1\"\n",
            "_________________________________________________________________\n",
            " Layer (type)                Output Shape              Param #   \n",
            "=================================================================\n",
            " dense (Dense)               (None, 6)                 30        \n",
            "                                                                 \n",
            " dense_1 (Dense)             (None, 6)                 42        \n",
            "                                                                 \n",
            " dense_2 (Dense)             (None, 4)                 28        \n",
            "                                                                 \n",
            " dense_3 (Dense)             (None, 3)                 15        \n",
            "                                                                 \n",
            "=================================================================\n",
            "Total params: 115\n",
            "Trainable params: 115\n",
            "Non-trainable params: 0\n",
            "_________________________________________________________________\n"
          ]
        }
      ],
      "source": [
        "#build our neural network model\n",
        "n_features = X.shape[1] #X generally stands for our predictors\n",
        "n_classes = Y.shape[1] #Y generally stands for our target\n",
        "\n",
        "model = Sequential(name='iris_1')\n",
        "model.add(Dense(6, input_dim=n_features, activation='relu'))\n",
        "model.add(Dense(6, activation='relu'))\n",
        "model.add(Dense(4, activation='relu'))\n",
        "model.add(Dense(n_classes, activation='softmax'))\n",
        "\n",
        "from sklearn.metrics import r2_score\n",
        "\n",
        "# Compile model\n",
        "model.compile(loss='mean_squared_error',\n",
        "              optimizer='sgd', \n",
        "              metrics=['accuracy'])\n",
        "model.summary()"
      ]
    },
    {
      "cell_type": "code",
      "execution_count": 4,
      "metadata": {
        "id": "mgpFungbNfQP",
        "outputId": "34ff32be-4c53-45ab-f3f4-3e249e0a228a",
        "colab": {
          "base_uri": "https://localhost:8080/",
          "height": 1000
        }
      },
      "outputs": [
        {
          "output_type": "stream",
          "name": "stdout",
          "text": [
            "Epoch 1/100\n",
            "7/7 [==============================] - 11s 116ms/step - loss: 0.2432 - accuracy: 0.0000e+00 - val_loss: 0.2392 - val_accuracy: 0.0000e+00\n",
            "Epoch 2/100\n",
            "7/7 [==============================] - 0s 36ms/step - loss: 0.2424 - accuracy: 0.0000e+00 - val_loss: 0.2388 - val_accuracy: 0.0000e+00\n",
            "Epoch 3/100\n",
            "7/7 [==============================] - 0s 31ms/step - loss: 0.2417 - accuracy: 0.0000e+00 - val_loss: 0.2383 - val_accuracy: 0.0000e+00\n",
            "Epoch 4/100\n",
            "7/7 [==============================] - 0s 29ms/step - loss: 0.2410 - accuracy: 0.0000e+00 - val_loss: 0.2379 - val_accuracy: 0.0000e+00\n",
            "Epoch 5/100\n",
            "7/7 [==============================] - 0s 24ms/step - loss: 0.2403 - accuracy: 0.0000e+00 - val_loss: 0.2375 - val_accuracy: 0.0000e+00\n",
            "Epoch 6/100\n",
            "7/7 [==============================] - 0s 16ms/step - loss: 0.2397 - accuracy: 0.0000e+00 - val_loss: 0.2371 - val_accuracy: 0.0000e+00\n",
            "Epoch 7/100\n",
            "7/7 [==============================] - 0s 25ms/step - loss: 0.2390 - accuracy: 0.0000e+00 - val_loss: 0.2367 - val_accuracy: 0.0000e+00\n",
            "Epoch 8/100\n",
            "7/7 [==============================] - 0s 23ms/step - loss: 0.2384 - accuracy: 0.0000e+00 - val_loss: 0.2364 - val_accuracy: 0.0000e+00\n",
            "Epoch 9/100\n",
            "7/7 [==============================] - 0s 32ms/step - loss: 0.2378 - accuracy: 0.0000e+00 - val_loss: 0.2360 - val_accuracy: 0.0000e+00\n",
            "Epoch 10/100\n",
            "7/7 [==============================] - 0s 28ms/step - loss: 0.2372 - accuracy: 0.0000e+00 - val_loss: 0.2357 - val_accuracy: 0.0000e+00\n",
            "Epoch 11/100\n",
            "7/7 [==============================] - 0s 25ms/step - loss: 0.2367 - accuracy: 0.0208 - val_loss: 0.2354 - val_accuracy: 0.0000e+00\n",
            "Epoch 12/100\n",
            "7/7 [==============================] - 0s 18ms/step - loss: 0.2362 - accuracy: 0.0208 - val_loss: 0.2351 - val_accuracy: 0.0000e+00\n",
            "Epoch 13/100\n",
            "7/7 [==============================] - 0s 18ms/step - loss: 0.2357 - accuracy: 0.0208 - val_loss: 0.2348 - val_accuracy: 0.0000e+00\n",
            "Epoch 14/100\n",
            "7/7 [==============================] - 0s 24ms/step - loss: 0.2352 - accuracy: 0.0208 - val_loss: 0.2345 - val_accuracy: 0.0417\n",
            "Epoch 15/100\n",
            "7/7 [==============================] - 0s 20ms/step - loss: 0.2347 - accuracy: 0.0312 - val_loss: 0.2342 - val_accuracy: 0.0417\n",
            "Epoch 16/100\n",
            "7/7 [==============================] - 0s 29ms/step - loss: 0.2342 - accuracy: 0.0417 - val_loss: 0.2339 - val_accuracy: 0.0833\n",
            "Epoch 17/100\n",
            "7/7 [==============================] - 0s 20ms/step - loss: 0.2337 - accuracy: 0.0625 - val_loss: 0.2337 - val_accuracy: 0.0833\n",
            "Epoch 18/100\n",
            "7/7 [==============================] - 0s 17ms/step - loss: 0.2333 - accuracy: 0.0729 - val_loss: 0.2334 - val_accuracy: 0.0833\n",
            "Epoch 19/100\n",
            "7/7 [==============================] - 0s 25ms/step - loss: 0.2329 - accuracy: 0.0729 - val_loss: 0.2332 - val_accuracy: 0.1667\n",
            "Epoch 20/100\n",
            "7/7 [==============================] - 0s 16ms/step - loss: 0.2325 - accuracy: 0.1042 - val_loss: 0.2330 - val_accuracy: 0.1667\n",
            "Epoch 21/100\n",
            "7/7 [==============================] - 0s 28ms/step - loss: 0.2321 - accuracy: 0.1042 - val_loss: 0.2328 - val_accuracy: 0.1667\n",
            "Epoch 22/100\n",
            "7/7 [==============================] - 0s 12ms/step - loss: 0.2317 - accuracy: 0.1146 - val_loss: 0.2326 - val_accuracy: 0.2083\n",
            "Epoch 23/100\n",
            "7/7 [==============================] - 0s 22ms/step - loss: 0.2314 - accuracy: 0.1354 - val_loss: 0.2324 - val_accuracy: 0.2083\n",
            "Epoch 24/100\n",
            "7/7 [==============================] - 0s 27ms/step - loss: 0.2310 - accuracy: 0.1458 - val_loss: 0.2322 - val_accuracy: 0.2083\n",
            "Epoch 25/100\n",
            "7/7 [==============================] - 0s 26ms/step - loss: 0.2307 - accuracy: 0.1771 - val_loss: 0.2320 - val_accuracy: 0.2083\n",
            "Epoch 26/100\n",
            "7/7 [==============================] - 0s 29ms/step - loss: 0.2303 - accuracy: 0.2188 - val_loss: 0.2319 - val_accuracy: 0.2083\n",
            "Epoch 27/100\n",
            "3/7 [===========>..................] - ETA: 0s - loss: 0.2312 - accuracy: 0.1778"
          ]
        },
        {
          "output_type": "error",
          "ename": "KeyboardInterrupt",
          "evalue": "ignored",
          "traceback": [
            "\u001b[0;31m---------------------------------------------------------------------------\u001b[0m",
            "\u001b[0;31mKeyboardInterrupt\u001b[0m                         Traceback (most recent call last)",
            "\u001b[0;32m<ipython-input-4-d2710b4960b9>\u001b[0m in \u001b[0;36m<cell line: 2>\u001b[0;34m()\u001b[0m\n\u001b[1;32m      1\u001b[0m \u001b[0;31m# train the model\u001b[0m\u001b[0;34m\u001b[0m\u001b[0;34m\u001b[0m\u001b[0m\n\u001b[0;32m----> 2\u001b[0;31m \u001b[0mhistory\u001b[0m \u001b[0;34m=\u001b[0m \u001b[0mmodel\u001b[0m\u001b[0;34m.\u001b[0m\u001b[0mfit\u001b[0m\u001b[0;34m(\u001b[0m\u001b[0mX_train_norm\u001b[0m\u001b[0;34m,\u001b[0m \u001b[0mY_train\u001b[0m\u001b[0;34m,\u001b[0m \u001b[0mvalidation_split\u001b[0m\u001b[0;34m=\u001b[0m\u001b[0;36m0.2\u001b[0m\u001b[0;34m,\u001b[0m \u001b[0mbatch_size\u001b[0m\u001b[0;34m=\u001b[0m\u001b[0;36m15\u001b[0m\u001b[0;34m,\u001b[0m \u001b[0mepochs\u001b[0m\u001b[0;34m=\u001b[0m\u001b[0;36m100\u001b[0m\u001b[0;34m)\u001b[0m \u001b[0;31m#add verbose = 0 to make output minimal\u001b[0m\u001b[0;34m\u001b[0m\u001b[0;34m\u001b[0m\u001b[0m\n\u001b[0m\u001b[1;32m      3\u001b[0m \u001b[0;34m\u001b[0m\u001b[0m\n\u001b[1;32m      4\u001b[0m \u001b[0;31m# cross-validation; make predictions and get error\u001b[0m\u001b[0;34m\u001b[0m\u001b[0;34m\u001b[0m\u001b[0m\n\u001b[1;32m      5\u001b[0m \u001b[0mprint\u001b[0m\u001b[0;34m(\u001b[0m\u001b[0;34m\"----\"\u001b[0m\u001b[0;34m*\u001b[0m\u001b[0;36m30\u001b[0m\u001b[0;34m)\u001b[0m\u001b[0;34m\u001b[0m\u001b[0;34m\u001b[0m\u001b[0m\n",
            "\u001b[0;32m/usr/local/lib/python3.9/dist-packages/keras/utils/traceback_utils.py\u001b[0m in \u001b[0;36merror_handler\u001b[0;34m(*args, **kwargs)\u001b[0m\n\u001b[1;32m     63\u001b[0m         \u001b[0mfiltered_tb\u001b[0m \u001b[0;34m=\u001b[0m \u001b[0;32mNone\u001b[0m\u001b[0;34m\u001b[0m\u001b[0;34m\u001b[0m\u001b[0m\n\u001b[1;32m     64\u001b[0m         \u001b[0;32mtry\u001b[0m\u001b[0;34m:\u001b[0m\u001b[0;34m\u001b[0m\u001b[0;34m\u001b[0m\u001b[0m\n\u001b[0;32m---> 65\u001b[0;31m             \u001b[0;32mreturn\u001b[0m \u001b[0mfn\u001b[0m\u001b[0;34m(\u001b[0m\u001b[0;34m*\u001b[0m\u001b[0margs\u001b[0m\u001b[0;34m,\u001b[0m \u001b[0;34m**\u001b[0m\u001b[0mkwargs\u001b[0m\u001b[0;34m)\u001b[0m\u001b[0;34m\u001b[0m\u001b[0;34m\u001b[0m\u001b[0m\n\u001b[0m\u001b[1;32m     66\u001b[0m         \u001b[0;32mexcept\u001b[0m \u001b[0mException\u001b[0m \u001b[0;32mas\u001b[0m \u001b[0me\u001b[0m\u001b[0;34m:\u001b[0m\u001b[0;34m\u001b[0m\u001b[0;34m\u001b[0m\u001b[0m\n\u001b[1;32m     67\u001b[0m             \u001b[0mfiltered_tb\u001b[0m \u001b[0;34m=\u001b[0m \u001b[0m_process_traceback_frames\u001b[0m\u001b[0;34m(\u001b[0m\u001b[0me\u001b[0m\u001b[0;34m.\u001b[0m\u001b[0m__traceback__\u001b[0m\u001b[0;34m)\u001b[0m\u001b[0;34m\u001b[0m\u001b[0;34m\u001b[0m\u001b[0m\n",
            "\u001b[0;32m/usr/local/lib/python3.9/dist-packages/keras/engine/training.py\u001b[0m in \u001b[0;36mfit\u001b[0;34m(self, x, y, batch_size, epochs, verbose, callbacks, validation_split, validation_data, shuffle, class_weight, sample_weight, initial_epoch, steps_per_epoch, validation_steps, validation_batch_size, validation_freq, max_queue_size, workers, use_multiprocessing)\u001b[0m\n\u001b[1;32m   1683\u001b[0m                         ):\n\u001b[1;32m   1684\u001b[0m                             \u001b[0mcallbacks\u001b[0m\u001b[0;34m.\u001b[0m\u001b[0mon_train_batch_begin\u001b[0m\u001b[0;34m(\u001b[0m\u001b[0mstep\u001b[0m\u001b[0;34m)\u001b[0m\u001b[0;34m\u001b[0m\u001b[0;34m\u001b[0m\u001b[0m\n\u001b[0;32m-> 1685\u001b[0;31m                             \u001b[0mtmp_logs\u001b[0m \u001b[0;34m=\u001b[0m \u001b[0mself\u001b[0m\u001b[0;34m.\u001b[0m\u001b[0mtrain_function\u001b[0m\u001b[0;34m(\u001b[0m\u001b[0miterator\u001b[0m\u001b[0;34m)\u001b[0m\u001b[0;34m\u001b[0m\u001b[0;34m\u001b[0m\u001b[0m\n\u001b[0m\u001b[1;32m   1686\u001b[0m                             \u001b[0;32mif\u001b[0m \u001b[0mdata_handler\u001b[0m\u001b[0;34m.\u001b[0m\u001b[0mshould_sync\u001b[0m\u001b[0;34m:\u001b[0m\u001b[0;34m\u001b[0m\u001b[0;34m\u001b[0m\u001b[0m\n\u001b[1;32m   1687\u001b[0m                                 \u001b[0mcontext\u001b[0m\u001b[0;34m.\u001b[0m\u001b[0masync_wait\u001b[0m\u001b[0;34m(\u001b[0m\u001b[0;34m)\u001b[0m\u001b[0;34m\u001b[0m\u001b[0;34m\u001b[0m\u001b[0m\n",
            "\u001b[0;32m/usr/local/lib/python3.9/dist-packages/tensorflow/python/util/traceback_utils.py\u001b[0m in \u001b[0;36merror_handler\u001b[0;34m(*args, **kwargs)\u001b[0m\n\u001b[1;32m    148\u001b[0m     \u001b[0mfiltered_tb\u001b[0m \u001b[0;34m=\u001b[0m \u001b[0;32mNone\u001b[0m\u001b[0;34m\u001b[0m\u001b[0;34m\u001b[0m\u001b[0m\n\u001b[1;32m    149\u001b[0m     \u001b[0;32mtry\u001b[0m\u001b[0;34m:\u001b[0m\u001b[0;34m\u001b[0m\u001b[0;34m\u001b[0m\u001b[0m\n\u001b[0;32m--> 150\u001b[0;31m       \u001b[0;32mreturn\u001b[0m \u001b[0mfn\u001b[0m\u001b[0;34m(\u001b[0m\u001b[0;34m*\u001b[0m\u001b[0margs\u001b[0m\u001b[0;34m,\u001b[0m \u001b[0;34m**\u001b[0m\u001b[0mkwargs\u001b[0m\u001b[0;34m)\u001b[0m\u001b[0;34m\u001b[0m\u001b[0;34m\u001b[0m\u001b[0m\n\u001b[0m\u001b[1;32m    151\u001b[0m     \u001b[0;32mexcept\u001b[0m \u001b[0mException\u001b[0m \u001b[0;32mas\u001b[0m \u001b[0me\u001b[0m\u001b[0;34m:\u001b[0m\u001b[0;34m\u001b[0m\u001b[0;34m\u001b[0m\u001b[0m\n\u001b[1;32m    152\u001b[0m       \u001b[0mfiltered_tb\u001b[0m \u001b[0;34m=\u001b[0m \u001b[0m_process_traceback_frames\u001b[0m\u001b[0;34m(\u001b[0m\u001b[0me\u001b[0m\u001b[0;34m.\u001b[0m\u001b[0m__traceback__\u001b[0m\u001b[0;34m)\u001b[0m\u001b[0;34m\u001b[0m\u001b[0;34m\u001b[0m\u001b[0m\n",
            "\u001b[0;32m/usr/local/lib/python3.9/dist-packages/tensorflow/python/eager/polymorphic_function/polymorphic_function.py\u001b[0m in \u001b[0;36m__call__\u001b[0;34m(self, *args, **kwds)\u001b[0m\n\u001b[1;32m    892\u001b[0m \u001b[0;34m\u001b[0m\u001b[0m\n\u001b[1;32m    893\u001b[0m       \u001b[0;32mwith\u001b[0m \u001b[0mOptionalXlaContext\u001b[0m\u001b[0;34m(\u001b[0m\u001b[0mself\u001b[0m\u001b[0;34m.\u001b[0m\u001b[0m_jit_compile\u001b[0m\u001b[0;34m)\u001b[0m\u001b[0;34m:\u001b[0m\u001b[0;34m\u001b[0m\u001b[0;34m\u001b[0m\u001b[0m\n\u001b[0;32m--> 894\u001b[0;31m         \u001b[0mresult\u001b[0m \u001b[0;34m=\u001b[0m \u001b[0mself\u001b[0m\u001b[0;34m.\u001b[0m\u001b[0m_call\u001b[0m\u001b[0;34m(\u001b[0m\u001b[0;34m*\u001b[0m\u001b[0margs\u001b[0m\u001b[0;34m,\u001b[0m \u001b[0;34m**\u001b[0m\u001b[0mkwds\u001b[0m\u001b[0;34m)\u001b[0m\u001b[0;34m\u001b[0m\u001b[0;34m\u001b[0m\u001b[0m\n\u001b[0m\u001b[1;32m    895\u001b[0m \u001b[0;34m\u001b[0m\u001b[0m\n\u001b[1;32m    896\u001b[0m       \u001b[0mnew_tracing_count\u001b[0m \u001b[0;34m=\u001b[0m \u001b[0mself\u001b[0m\u001b[0;34m.\u001b[0m\u001b[0mexperimental_get_tracing_count\u001b[0m\u001b[0;34m(\u001b[0m\u001b[0;34m)\u001b[0m\u001b[0;34m\u001b[0m\u001b[0;34m\u001b[0m\u001b[0m\n",
            "\u001b[0;32m/usr/local/lib/python3.9/dist-packages/tensorflow/python/eager/polymorphic_function/polymorphic_function.py\u001b[0m in \u001b[0;36m_call\u001b[0;34m(self, *args, **kwds)\u001b[0m\n\u001b[1;32m    924\u001b[0m       \u001b[0;31m# In this case we have created variables on the first call, so we run the\u001b[0m\u001b[0;34m\u001b[0m\u001b[0;34m\u001b[0m\u001b[0m\n\u001b[1;32m    925\u001b[0m       \u001b[0;31m# defunned version which is guaranteed to never create variables.\u001b[0m\u001b[0;34m\u001b[0m\u001b[0;34m\u001b[0m\u001b[0m\n\u001b[0;32m--> 926\u001b[0;31m       \u001b[0;32mreturn\u001b[0m \u001b[0mself\u001b[0m\u001b[0;34m.\u001b[0m\u001b[0m_no_variable_creation_fn\u001b[0m\u001b[0;34m(\u001b[0m\u001b[0;34m*\u001b[0m\u001b[0margs\u001b[0m\u001b[0;34m,\u001b[0m \u001b[0;34m**\u001b[0m\u001b[0mkwds\u001b[0m\u001b[0;34m)\u001b[0m  \u001b[0;31m# pylint: disable=not-callable\u001b[0m\u001b[0;34m\u001b[0m\u001b[0;34m\u001b[0m\u001b[0m\n\u001b[0m\u001b[1;32m    927\u001b[0m     \u001b[0;32melif\u001b[0m \u001b[0mself\u001b[0m\u001b[0;34m.\u001b[0m\u001b[0m_variable_creation_fn\u001b[0m \u001b[0;32mis\u001b[0m \u001b[0;32mnot\u001b[0m \u001b[0;32mNone\u001b[0m\u001b[0;34m:\u001b[0m\u001b[0;34m\u001b[0m\u001b[0;34m\u001b[0m\u001b[0m\n\u001b[1;32m    928\u001b[0m       \u001b[0;31m# Release the lock early so that multiple threads can perform the call\u001b[0m\u001b[0;34m\u001b[0m\u001b[0;34m\u001b[0m\u001b[0m\n",
            "\u001b[0;32m/usr/local/lib/python3.9/dist-packages/tensorflow/python/eager/polymorphic_function/tracing_compiler.py\u001b[0m in \u001b[0;36m__call__\u001b[0;34m(self, *args, **kwargs)\u001b[0m\n\u001b[1;32m    140\u001b[0m     \u001b[0;32mwith\u001b[0m \u001b[0mself\u001b[0m\u001b[0;34m.\u001b[0m\u001b[0m_lock\u001b[0m\u001b[0;34m:\u001b[0m\u001b[0;34m\u001b[0m\u001b[0;34m\u001b[0m\u001b[0m\n\u001b[1;32m    141\u001b[0m       (concrete_function,\n\u001b[0;32m--> 142\u001b[0;31m        filtered_flat_args) = self._maybe_define_function(args, kwargs)\n\u001b[0m\u001b[1;32m    143\u001b[0m     return concrete_function._call_flat(\n\u001b[1;32m    144\u001b[0m         filtered_flat_args, captured_inputs=concrete_function.captured_inputs)  # pylint: disable=protected-access\n",
            "\u001b[0;32m/usr/local/lib/python3.9/dist-packages/tensorflow/python/eager/polymorphic_function/tracing_compiler.py\u001b[0m in \u001b[0;36m_maybe_define_function\u001b[0;34m(self, args, kwargs)\u001b[0m\n\u001b[1;32m    356\u001b[0m         self._function_spec.make_canonicalized_monomorphic_type(\n\u001b[1;32m    357\u001b[0m             args, kwargs, captures))\n\u001b[0;32m--> 358\u001b[0;31m     concrete_function = self._function_cache.lookup(current_func_context,\n\u001b[0m\u001b[1;32m    359\u001b[0m                                                     lookup_func_type)\n\u001b[1;32m    360\u001b[0m     \u001b[0;32mif\u001b[0m \u001b[0mconcrete_function\u001b[0m \u001b[0;32mis\u001b[0m \u001b[0;32mnot\u001b[0m \u001b[0;32mNone\u001b[0m\u001b[0;34m:\u001b[0m\u001b[0;34m\u001b[0m\u001b[0;34m\u001b[0m\u001b[0m\n",
            "\u001b[0;32m/usr/local/lib/python3.9/dist-packages/tensorflow/core/function/polymorphism/function_cache.py\u001b[0m in \u001b[0;36mlookup\u001b[0;34m(self, context, function_type)\u001b[0m\n\u001b[1;32m     50\u001b[0m       \u001b[0mdispatch_type\u001b[0m \u001b[0;34m=\u001b[0m \u001b[0mself\u001b[0m\u001b[0;34m.\u001b[0m\u001b[0m_dispatch_dict\u001b[0m\u001b[0;34m[\u001b[0m\u001b[0mcontext\u001b[0m\u001b[0;34m]\u001b[0m\u001b[0;34m.\u001b[0m\u001b[0mdispatch\u001b[0m\u001b[0;34m(\u001b[0m\u001b[0mfunction_type\u001b[0m\u001b[0;34m)\u001b[0m\u001b[0;34m\u001b[0m\u001b[0;34m\u001b[0m\u001b[0m\n\u001b[1;32m     51\u001b[0m       \u001b[0;32mif\u001b[0m \u001b[0mdispatch_type\u001b[0m\u001b[0;34m:\u001b[0m\u001b[0;34m\u001b[0m\u001b[0;34m\u001b[0m\u001b[0m\n\u001b[0;32m---> 52\u001b[0;31m         \u001b[0;32mreturn\u001b[0m \u001b[0mself\u001b[0m\u001b[0;34m.\u001b[0m\u001b[0m_primary\u001b[0m\u001b[0;34m[\u001b[0m\u001b[0;34m(\u001b[0m\u001b[0mcontext\u001b[0m\u001b[0;34m,\u001b[0m \u001b[0mdispatch_type\u001b[0m\u001b[0;34m)\u001b[0m\u001b[0;34m]\u001b[0m\u001b[0;34m\u001b[0m\u001b[0;34m\u001b[0m\u001b[0m\n\u001b[0m\u001b[1;32m     53\u001b[0m \u001b[0;34m\u001b[0m\u001b[0m\n\u001b[1;32m     54\u001b[0m     \u001b[0;32mreturn\u001b[0m \u001b[0;32mNone\u001b[0m\u001b[0;34m\u001b[0m\u001b[0;34m\u001b[0m\u001b[0m\n",
            "\u001b[0;32m/usr/local/lib/python3.9/dist-packages/tensorflow/core/function/polymorphism/function_type.py\u001b[0m in \u001b[0;36m__hash__\u001b[0;34m(self)\u001b[0m\n\u001b[1;32m    312\u001b[0m \u001b[0;34m\u001b[0m\u001b[0m\n\u001b[1;32m    313\u001b[0m   \u001b[0;32mdef\u001b[0m \u001b[0m__hash__\u001b[0m\u001b[0;34m(\u001b[0m\u001b[0mself\u001b[0m\u001b[0;34m)\u001b[0m \u001b[0;34m->\u001b[0m \u001b[0mint\u001b[0m\u001b[0;34m:\u001b[0m\u001b[0;34m\u001b[0m\u001b[0;34m\u001b[0m\u001b[0m\n\u001b[0;32m--> 314\u001b[0;31m     \u001b[0;32mreturn\u001b[0m \u001b[0mhash\u001b[0m\u001b[0;34m(\u001b[0m\u001b[0;34m(\u001b[0m\u001b[0mtuple\u001b[0m\u001b[0;34m(\u001b[0m\u001b[0mself\u001b[0m\u001b[0;34m.\u001b[0m\u001b[0mparameters\u001b[0m\u001b[0;34m.\u001b[0m\u001b[0mitems\u001b[0m\u001b[0;34m(\u001b[0m\u001b[0;34m)\u001b[0m\u001b[0;34m)\u001b[0m\u001b[0;34m,\u001b[0m \u001b[0mtuple\u001b[0m\u001b[0;34m(\u001b[0m\u001b[0mself\u001b[0m\u001b[0;34m.\u001b[0m\u001b[0mcaptures\u001b[0m\u001b[0;34m.\u001b[0m\u001b[0mitems\u001b[0m\u001b[0;34m(\u001b[0m\u001b[0;34m)\u001b[0m\u001b[0;34m)\u001b[0m\u001b[0;34m)\u001b[0m\u001b[0;34m)\u001b[0m\u001b[0;34m\u001b[0m\u001b[0;34m\u001b[0m\u001b[0m\n\u001b[0m\u001b[1;32m    315\u001b[0m \u001b[0;34m\u001b[0m\u001b[0m\n\u001b[1;32m    316\u001b[0m   \u001b[0;32mdef\u001b[0m \u001b[0m__repr__\u001b[0m\u001b[0;34m(\u001b[0m\u001b[0mself\u001b[0m\u001b[0;34m)\u001b[0m\u001b[0;34m:\u001b[0m\u001b[0;34m\u001b[0m\u001b[0;34m\u001b[0m\u001b[0m\n",
            "\u001b[0;32m/usr/local/lib/python3.9/dist-packages/tensorflow/core/function/polymorphism/function_type.py\u001b[0m in \u001b[0;36mparameters\u001b[0;34m(self)\u001b[0m\n\u001b[1;32m    166\u001b[0m   \u001b[0;34m@\u001b[0m\u001b[0mproperty\u001b[0m\u001b[0;34m\u001b[0m\u001b[0;34m\u001b[0m\u001b[0m\n\u001b[1;32m    167\u001b[0m   \u001b[0;32mdef\u001b[0m \u001b[0mparameters\u001b[0m\u001b[0;34m(\u001b[0m\u001b[0mself\u001b[0m\u001b[0;34m)\u001b[0m \u001b[0;34m->\u001b[0m \u001b[0mMapping\u001b[0m\u001b[0;34m[\u001b[0m\u001b[0mstr\u001b[0m\u001b[0;34m,\u001b[0m \u001b[0mAny\u001b[0m\u001b[0;34m]\u001b[0m\u001b[0;34m:\u001b[0m\u001b[0;34m\u001b[0m\u001b[0;34m\u001b[0m\u001b[0m\n\u001b[0;32m--> 168\u001b[0;31m     \u001b[0;32mreturn\u001b[0m \u001b[0msuper\u001b[0m\u001b[0;34m(\u001b[0m\u001b[0;34m)\u001b[0m\u001b[0;34m.\u001b[0m\u001b[0mparameters\u001b[0m\u001b[0;34m\u001b[0m\u001b[0;34m\u001b[0m\u001b[0m\n\u001b[0m\u001b[1;32m    169\u001b[0m \u001b[0;34m\u001b[0m\u001b[0m\n\u001b[1;32m    170\u001b[0m   \u001b[0;34m@\u001b[0m\u001b[0mproperty\u001b[0m\u001b[0;34m\u001b[0m\u001b[0;34m\u001b[0m\u001b[0m\n",
            "\u001b[0;32m/usr/lib/python3.9/inspect.py\u001b[0m in \u001b[0;36mparameters\u001b[0;34m(self)\u001b[0m\n\u001b[1;32m   2863\u001b[0m                                         follow_wrapper_chains=follow_wrapped)\n\u001b[1;32m   2864\u001b[0m \u001b[0;34m\u001b[0m\u001b[0m\n\u001b[0;32m-> 2865\u001b[0;31m     \u001b[0;34m@\u001b[0m\u001b[0mproperty\u001b[0m\u001b[0;34m\u001b[0m\u001b[0;34m\u001b[0m\u001b[0m\n\u001b[0m\u001b[1;32m   2866\u001b[0m     \u001b[0;32mdef\u001b[0m \u001b[0mparameters\u001b[0m\u001b[0;34m(\u001b[0m\u001b[0mself\u001b[0m\u001b[0;34m)\u001b[0m\u001b[0;34m:\u001b[0m\u001b[0;34m\u001b[0m\u001b[0;34m\u001b[0m\u001b[0m\n\u001b[1;32m   2867\u001b[0m         \u001b[0;32mreturn\u001b[0m \u001b[0mself\u001b[0m\u001b[0;34m.\u001b[0m\u001b[0m_parameters\u001b[0m\u001b[0;34m\u001b[0m\u001b[0;34m\u001b[0m\u001b[0m\n",
            "\u001b[0;31mKeyboardInterrupt\u001b[0m: "
          ]
        }
      ],
      "source": [
        "# train the model\n",
        "history = model.fit(X_train_norm, Y_train, validation_split=0.2, batch_size=15, epochs=100) #add verbose = 0 to make output minimal\n",
        "\n",
        "# cross-validation; make predictions and get error\n",
        "print(\"----\"*30)\n",
        "mse, acc =  model.evaluate(X_test_norm, Y_test)\n",
        "print('Mean Squared Error:',mse)\n",
        "print('Test accuracy:', acc)"
      ]
    },
    {
      "cell_type": "markdown",
      "metadata": {
        "id": "qjwNKquxNfQP"
      },
      "source": [
        "## 👀 Take a closer look: "
      ]
    },
    {
      "cell_type": "code",
      "execution_count": null,
      "metadata": {
        "id": "-U7KDH3uNfQP"
      },
      "outputs": [],
      "source": [
        "import keras\n",
        "from matplotlib import pyplot as plt\n",
        "plt.plot(history.history['accuracy'])\n",
        "plt.plot(history.history['val_accuracy'])\n",
        "plt.title('model accuracy')\n",
        "plt.ylabel('accuracy')\n",
        "plt.xlabel('epoch')\n",
        "plt.legend(['train', 'val'])\n",
        "plt.show()"
      ]
    },
    {
      "cell_type": "code",
      "execution_count": null,
      "metadata": {
        "id": "W2uziRTHNfQP"
      },
      "outputs": [],
      "source": [
        "plt.plot(history.history['loss'])\n",
        "plt.plot(history.history['val_loss'])\n",
        "plt.title('model loss')\n",
        "plt.ylabel('loss')\n",
        "plt.xlabel('epoch')\n",
        "plt.legend(['train', 'val'])\n",
        "plt.show()"
      ]
    },
    {
      "cell_type": "markdown",
      "metadata": {
        "id": "pdrjlSXYNfQQ"
      },
      "source": [
        "# Boston Housing Dataset with Keras"
      ]
    },
    {
      "cell_type": "code",
      "execution_count": null,
      "metadata": {
        "id": "okMZybSSNfQQ"
      },
      "outputs": [],
      "source": [
        "from keras.datasets import boston_housing\n",
        "\n",
        "# we're going to use the Bosting housing dataset, but load it from keras \n",
        "housing_data = boston_housing.load_data(test_split=0.2) #it comes with it's own test/train split :) \n",
        "(X_train, Y_train), (X_test, Y_test) = housing_data"
      ]
    },
    {
      "cell_type": "code",
      "execution_count": null,
      "metadata": {
        "id": "GpTLJdwiNfQQ"
      },
      "outputs": [],
      "source": [
        "# normalize the data\n",
        "scaler = StandardScaler()\n",
        "scaler.fit(X_train)\n",
        "X_train_norm = scaler.transform(X_train)\n",
        "X_test_norm = scaler.transform(X_test)"
      ]
    },
    {
      "cell_type": "code",
      "execution_count": null,
      "metadata": {
        "id": "UjqnPJC1NfQQ"
      },
      "outputs": [],
      "source": [
        "### need to execute this to get access to RSquare function\n",
        "!pip3 install tensorflow_addons"
      ]
    },
    {
      "cell_type": "code",
      "execution_count": null,
      "metadata": {
        "id": "udyCgDwCNfQQ"
      },
      "outputs": [],
      "source": [
        "from keras import models\n",
        "from keras import layers\n",
        "from tensorflow.keras.losses import MeanSquaredError\n",
        "\n",
        "#from tensorflow_addons.metrics import RSquare\n",
        "\n",
        "#build our model\n",
        "n_features = X_train.shape[1] # get the number of input values for the input layer\n",
        "\n",
        "model = Sequential(name='boston_housing1')   #initialize the model\n",
        "\n",
        "#add some layers. Dense is a fully connected layer\n",
        "model.add(layers.Dense(64, input_dim= n_features, activation='relu'))\n",
        "model.add(layers.Dense(64, activation='relu'))\n",
        "\n",
        "#Since we are doing a regressions, we only want one value as an ouput, so our last layer has a Dense layer with 1 neuron.\n",
        "model.add(layers.Dense(1)) #default activation function is \"linear\"\n",
        "\n",
        "from sklearn.metrics import r2_score\n",
        "# Compile model\n",
        "model.compile(loss='mean_squared_error',\n",
        "              optimizer='sgd', \n",
        "              metrics= [MeanSquaredError()])\n",
        "model.summary()"
      ]
    },
    {
      "cell_type": "code",
      "execution_count": null,
      "metadata": {
        "id": "sqB4F83YNfQQ"
      },
      "outputs": [],
      "source": [
        "# train the model\n",
        "history = model.fit(X_train_norm, Y_train, epochs=50, validation_split=0.1, batch_size=15, verbose=1)\n",
        "\n",
        "print(\"----\"*30)\n",
        "\n",
        "# cross-validation; make predictions and get error\n",
        "test_mse_score, test_r2_score = model.evaluate(X_test_norm, Y_test)\n",
        "print('MSE:', test_mse_score)\n",
        "print('Train MSE:', test_r2_score)"
      ]
    },
    {
      "cell_type": "code",
      "execution_count": null,
      "metadata": {
        "id": "KiGPENc8NfQQ"
      },
      "outputs": [],
      "source": [
        "history.history #this will show you what was saved in the history variable"
      ]
    },
    {
      "cell_type": "code",
      "execution_count": null,
      "metadata": {
        "id": "x6NW7MONNfQR"
      },
      "outputs": [],
      "source": [
        "import pandas\n",
        "#pandas.DataFrame(history.history).plot(figsize=(8,5), title='Boston Housing')\n",
        "#plt.show()\n",
        "\n",
        "import keras\n",
        "from matplotlib import pyplot as plt\n",
        "plt.plot(history.history['loss'])\n",
        "plt.plot(history.history['val_loss'])\n",
        "plt.title('model loss')\n",
        "plt.ylabel('MSE')\n",
        "plt.xlabel('epoch')\n",
        "plt.legend(['train', 'val'])\n",
        "plt.show()"
      ]
    },
    {
      "cell_type": "code",
      "execution_count": null,
      "metadata": {
        "id": "MwrhvE3mNfQR"
      },
      "outputs": [],
      "source": [
        "import keras\n",
        "from matplotlib import pyplot as plt\n",
        "plt.plot(history.history['mean_squared_error'])\n",
        "plt.plot(history.history['val_mean_squared_error'])\n",
        "plt.title('model error')\n",
        "plt.ylabel('MSE')\n",
        "plt.xlabel('epoch')\n",
        "plt.legend(['train', 'val'])\n",
        "plt.show()"
      ]
    },
    {
      "cell_type": "markdown",
      "metadata": {
        "id": "1Q1mFeIbNfQR"
      },
      "source": [
        "# 💬 Goup Exercise #2\n",
        "What parameters from the models above do you think you can/should change? \n",
        "\n",
        "\n",
        "Try these\n",
        "- Change the number of neurons in each layer.  \n",
        "- Add a layer to the model.\n",
        "- Change the activation function of the model, [here is the documentation](https://keras.io/api/layers/activations/)\n",
        "- Change the optimizer, [here is the documentation](https://keras.io/api/optimizers/) with a list of options\n",
        "- look at the [metrics](https://keras.io/api/metrics/) try adding another metric."
      ]
    },
    {
      "cell_type": "code",
      "execution_count": null,
      "metadata": {
        "id": "PKa3q-_CNfQR"
      },
      "outputs": [],
      "source": []
    },
    {
      "cell_type": "markdown",
      "metadata": {
        "id": "wIIpSjWTNfQR"
      },
      "source": [
        "# 💬 Goup Exercise #3\n",
        "\n",
        "Try building the following model:\n",
        "<div>\n",
        "<img src=\"https://github.com/merriekay/S23-CS167-Notes/blob/main/images/day19_ann_titanic.png?raw=1\" width=800/>\n",
        "</div>\n",
        "\n"
      ]
    },
    {
      "cell_type": "code",
      "execution_count": null,
      "metadata": {
        "id": "KH0LD2fWNfQR"
      },
      "outputs": [],
      "source": [
        "# load in titanic.csv, and take a subset of the columns ['age', 'sex', 'deck', and 'survived']"
      ]
    },
    {
      "cell_type": "code",
      "execution_count": null,
      "metadata": {
        "id": "HDGNHcD-NfQR"
      },
      "outputs": [],
      "source": [
        "# build your model"
      ]
    },
    {
      "cell_type": "code",
      "execution_count": null,
      "metadata": {
        "id": "bAnri7KONfQS"
      },
      "outputs": [],
      "source": [
        "# train your model"
      ]
    },
    {
      "cell_type": "code",
      "execution_count": null,
      "metadata": {
        "id": "9rAyhWaYNfQS"
      },
      "outputs": [],
      "source": [
        "# make some predictions"
      ]
    }
  ],
  "metadata": {
    "celltoolbar": "Slideshow",
    "kernelspec": {
      "display_name": "Python 3",
      "language": "python",
      "name": "python3"
    },
    "language_info": {
      "codemirror_mode": {
        "name": "ipython",
        "version": 3
      },
      "file_extension": ".py",
      "mimetype": "text/x-python",
      "name": "python",
      "nbconvert_exporter": "python",
      "pygments_lexer": "ipython3",
      "version": "3.6.12"
    },
    "colab": {
      "provenance": [],
      "include_colab_link": true
    },
    "accelerator": "GPU",
    "gpuClass": "standard"
  },
  "nbformat": 4,
  "nbformat_minor": 0
}